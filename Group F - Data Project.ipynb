{
 "cells": [
  {
   "cell_type": "code",
   "execution_count": 0,
   "metadata": {
    "application/vnd.databricks.v1+cell": {
     "cellMetadata": {
      "byteLimit": 2048000,
      "rowLimit": 10000
     },
     "inputWidgets": {},
     "nuid": "cebfee2f-d2b0-465e-8950-8899405766c8",
     "showTitle": false,
     "title": ""
    }
   },
   "outputs": [
    {
     "output_type": "stream",
     "name": "stdout",
     "output_type": "stream",
     "text": [
      "Python interpreter will be restarted.\nCollecting lyricsgenius\n  Downloading lyricsgenius-3.0.1-py3-none-any.whl (59 kB)\nRequirement already satisfied: requests>=2.20.0 in /databricks/python3/lib/python3.9/site-packages (from lyricsgenius) (2.27.1)\nRequirement already satisfied: beautifulsoup4>=4.6.0 in /databricks/python3/lib/python3.9/site-packages (from lyricsgenius) (4.11.1)\nRequirement already satisfied: soupsieve>1.2 in /databricks/python3/lib/python3.9/site-packages (from beautifulsoup4>=4.6.0->lyricsgenius) (2.3.1)\nRequirement already satisfied: idna<4,>=2.5 in /databricks/python3/lib/python3.9/site-packages (from requests>=2.20.0->lyricsgenius) (3.3)\nRequirement already satisfied: charset-normalizer~=2.0.0 in /databricks/python3/lib/python3.9/site-packages (from requests>=2.20.0->lyricsgenius) (2.0.4)\nRequirement already satisfied: urllib3<1.27,>=1.21.1 in /databricks/python3/lib/python3.9/site-packages (from requests>=2.20.0->lyricsgenius) (1.26.9)\nRequirement already satisfied: certifi>=2017.4.17 in /databricks/python3/lib/python3.9/site-packages (from requests>=2.20.0->lyricsgenius) (2021.10.8)\nInstalling collected packages: lyricsgenius\nSuccessfully installed lyricsgenius-3.0.1\nPython interpreter will be restarted.\n"
     ]
    }
   ],
   "source": [
    "%pip install lyricsgenius"
   ]
  },
  {
   "cell_type": "code",
   "execution_count": 0,
   "metadata": {
    "application/vnd.databricks.v1+cell": {
     "cellMetadata": {
      "byteLimit": 2048000,
      "rowLimit": 10000
     },
     "inputWidgets": {},
     "nuid": "bbcaba83-da0d-47e0-9000-d49143951002",
     "showTitle": false,
     "title": ""
    }
   },
   "outputs": [],
   "source": [
    "import pyspark\n",
    "from pyspark.sql import SparkSession\n",
    "from pyspark.sql.types import StructType,StructField, StringType, IntegerType, FloatType, BooleanType\n",
    "from pyspark import SparkFiles"
   ]
  },
  {
   "cell_type": "code",
   "execution_count": 0,
   "metadata": {
    "application/vnd.databricks.v1+cell": {
     "cellMetadata": {
      "byteLimit": 2048000,
      "rowLimit": 10000
     },
     "inputWidgets": {},
     "nuid": "52e6effc-92c3-4f96-a5c0-101f282f62bb",
     "showTitle": false,
     "title": ""
    }
   },
   "outputs": [],
   "source": [
    "# Access token to access the Genius API\n",
    "genius_access_token = \"_uAHk5SWEsiQ-m07ZfEkAINUaD8Qlu497ipRp3MUD-fDVw1MpfEPeY5nx3kg08pB\"\n",
    "\n",
    "from lyricsgenius import Genius\n",
    "\n",
    "# Re-usable object to search and save lyrics.\n",
    "genius = Genius(genius_access_token)\n"
   ]
  },
  {
   "cell_type": "code",
   "execution_count": 0,
   "metadata": {
    "application/vnd.databricks.v1+cell": {
     "cellMetadata": {
      "byteLimit": 2048000,
      "rowLimit": 10000
     },
     "inputWidgets": {},
     "nuid": "420078cc-ca77-4e4f-a5fb-48ded4183219",
     "showTitle": false,
     "title": ""
    }
   },
   "outputs": [
    {
     "output_type": "stream",
     "name": "stdout",
     "output_type": "stream",
     "text": [
      "Searching for \"Hey, Ma\" by Bon Iver...\nDone.\n57 ContributorsHey, Ma Lyrics[Verse 1]\nI waited outside\nI took it remote\nI wanted a bath\n\"Tell the story or he goes\"\n\"Tell the story or he goes\"\n\n[Chorus]\nFull time, you talk your money up\nWhile it's living in a coal mine\nTall time to call your Ma\nHey Ma, hey Ma\nTall vote, you know you mope it up\nWell, you wanted it your whole life\nYou're back and forth with light\n\n[Verse 2]\nI waited outside\nI was tokin' on dope\nI hoped it all wunt go in a minute\nWith the past that you know\nI wanted all that mind sugar\nI want it all mine\nI had a heavy mind, sugar\nI took it, it was right\nYou might also like[Chorus]\nFull time, you talk your money up\nWhile it's living in a coal mine\nTall time to call your Ma\nHey Ma, hey Ma\nTall vote, you know you mope it up\nWell, you wanted it your whole life\nYou're back and forth with light\n\n[Interlude]\nYou're back and forth\nYou're back and forth\nYou go back and forth\nAnd then you're back and forth\nAnd back and forth\n\n[Verse 3]\nI waited outside\nThen you took me in the room\nAnd you offered up the truth\nMy eyes crawling up the window to the wall\nFrom dusk 'til dawn\nLet me talk to 'em\nLet me talk to 'em all\n\n[Chorus]\nFull time, you talk your money up\nWhile it's living in a coal mine\nTall time to call your Ma\nHey Ma, hey Ma\nTall vote, you know you mope it up\nWell, you wanted it your whole life\nYou're back and forth with light12Embed\n"
     ]
    }
   ],
   "source": [
    "# Let's try the Genius API to see if it works as expected:\n",
    "song = genius.search_song('Hey, Ma', 'Bon Iver')\n",
    "print(song.lyrics)"
   ]
  },
  {
   "cell_type": "code",
   "execution_count": 0,
   "metadata": {
    "application/vnd.databricks.v1+cell": {
     "cellMetadata": {
      "byteLimit": 2048000,
      "rowLimit": 10000
     },
     "inputWidgets": {},
     "nuid": "27a01b61-a29a-44a9-949c-adeb5a82823f",
     "showTitle": false,
     "title": ""
    }
   },
   "outputs": [],
   "source": [
    "# Let's store the file in dbfs, if it's not there, fetch it and save it to dbfs\n",
    "def getGrammyData():\n",
    "    file_location = \"/FileStore/tables/the_grammy_awards.csv\"\n",
    "\n",
    "    try:\n",
    "        f = dbutils.fs.ls(file_location)\n",
    "    except:\n",
    "        url = \"https://raw.githubusercontent.com/mackrauss/3252-BigData-Group-F/main/the_grammy_awards.csv\"\n",
    "        spark.sparkContext.addFile(url)\n",
    "        dbutils.fs.cp('file://'+SparkFiles.get('the_grammy_awards.csv'), file_location)\n",
    "        print('Moved file to tables')\n",
    "    \n",
    "    return file_location"
   ]
  },
  {
   "cell_type": "code",
   "execution_count": 0,
   "metadata": {
    "application/vnd.databricks.v1+cell": {
     "cellMetadata": {
      "byteLimit": 2048000,
      "rowLimit": 10000
     },
     "inputWidgets": {},
     "nuid": "41f3504a-6b5e-4d3d-98a6-e513990e368b",
     "showTitle": false,
     "title": ""
    }
   },
   "outputs": [],
   "source": [
    "file_location = getGrammyData()\n",
    "\n",
    "file_type = \"csv\"\n",
    "\n",
    "# CSV options\n",
    "infer_schema = \"false\"\n",
    "first_row_is_header = \"true\"\n",
    "delimiter = \",\"\n",
    "\n",
    "# Adding 'escape' option to change escape character from \\ to \" - not we need to escape the \" inside the\n",
    "# see https://stackoverflow.com/questions/40413526/reading-csv-files-with-quoted-fields-containing-embedded-commas\n",
    "df = spark.read.format(file_type) \\\n",
    "  .option(\"inferSchema\", infer_schema) \\\n",
    "  .option(\"header\", first_row_is_header) \\\n",
    "  .option(\"sep\", delimiter) \\\n",
    "  .option(\"escape\", \"\\\"\") \\\n",
    "  .load(file_location)"
   ]
  },
  {
   "cell_type": "code",
   "execution_count": 0,
   "metadata": {
    "application/vnd.databricks.v1+cell": {
     "cellMetadata": {
      "byteLimit": 2048000,
      "rowLimit": 10000
     },
     "inputWidgets": {},
     "nuid": "e9a7f2ff-cd96-44c8-9cbe-0df201f62b26",
     "showTitle": false,
     "title": ""
    }
   },
   "outputs": [],
   "source": [
    "# pull file via HTTP/S using Spark tools\n",
    "# from pyspark import SparkFiles\n",
    "\n",
    "# url = \"https://raw.githubusercontent.com/mackrauss/3252-BigData-Group-F/main/the_grammy_awards.csv\"\n",
    "# spark.sparkContext.addFile(url)\n",
    "\n",
    "# df = spark.read.csv(\"file://\"+SparkFiles.get(\"the_grammy_awards.csv\"), header=True, inferSchema= True)\n"
   ]
  },
  {
   "cell_type": "code",
   "execution_count": 0,
   "metadata": {
    "application/vnd.databricks.v1+cell": {
     "cellMetadata": {
      "byteLimit": 2048000,
      "rowLimit": 10000
     },
     "inputWidgets": {},
     "nuid": "4ea4f8ae-13f8-40d7-ae4b-cd472fa13378",
     "showTitle": false,
     "title": ""
    }
   },
   "outputs": [
    {
     "output_type": "display_data",
     "data": {
      "text/html": [
       "<style scoped>\n",
       "  .table-result-container {\n",
       "    max-height: 300px;\n",
       "    overflow: auto;\n",
       "  }\n",
       "  table, th, td {\n",
       "    border: 1px solid black;\n",
       "    border-collapse: collapse;\n",
       "  }\n",
       "  th, td {\n",
       "    padding: 5px;\n",
       "  }\n",
       "  th {\n",
       "    text-align: left;\n",
       "  }\n",
       "</style><div class='table-result-container'><table class='table-result'><thead style='background-color: white'><tr><th>year</th><th>title</th><th>published_at</th><th>updated_at</th><th>category</th><th>nominee</th><th>artist</th><th>workers</th><th>img</th><th>winner</th></tr></thead><tbody><tr><td>2019</td><td>62nd Annual GRAMMY Awards  (2019)</td><td>2020-05-19T05:10:28-07:00</td><td>2020-05-19T05:10:28-07:00</td><td>Record Of The Year</td><td>Bad Guy</td><td>Billie Eilish</td><td>Finneas O'Connell, producer; Rob Kinelski & Finneas O'Connell, engineers/mixers; John Greenham, mastering engineer</td><td>https://www.grammy.com/sites/com/files/styles/artist_circle/public/muzooka/Billie%2BEilish/Billie%2520Eilish_1_1_1594138954.jpg?itok=3-71Dfxh</td><td>True</td></tr><tr><td>2019</td><td>62nd Annual GRAMMY Awards  (2019)</td><td>2020-05-19T05:10:28-07:00</td><td>2020-05-19T05:10:28-07:00</td><td>Record Of The Year</td><td>Hey, Ma</td><td>Bon Iver</td><td>BJ Burton, Brad Cook, Chris Messina & Justin Vernon, producers; BJ Burton, Zach Hanson & Chris Messina, engineers/mixers; Greg Calbi, mastering engineer</td><td>https://www.grammy.com/sites/com/files/styles/artist_circle/public/muzooka/Bon%2BIver/Bon%2520Iver_1_1_1578385181.jpg?itok=_M1hc5Ux</td><td>True</td></tr><tr><td>2019</td><td>62nd Annual GRAMMY Awards  (2019)</td><td>2020-05-19T05:10:28-07:00</td><td>2020-05-19T05:10:28-07:00</td><td>Record Of The Year</td><td>7 rings</td><td>Ariana Grande</td><td>Charles Anderson, Tommy Brown, Michael Foster & Victoria Monet, producers; Serban Ghenea, John Hanes, Billy Hickey & Brendan Morawski, engineers/mixers; Randy Merrill, mastering engineer</td><td>https://www.grammy.com/sites/com/files/styles/artist_circle/public/muzooka/Ariana%2BGrande/Ariana%2520Grande_1_1_1578384678.jpg?itok=Amj90j13</td><td>True</td></tr><tr><td>2019</td><td>62nd Annual GRAMMY Awards  (2019)</td><td>2020-05-19T05:10:28-07:00</td><td>2020-05-19T05:10:28-07:00</td><td>Record Of The Year</td><td>Hard Place</td><td>H.E.R.</td><td>Rodney “Darkchild” Jerkins, producer; Joseph Hurtado, Jaycen Joshua, Derek Keota & Miki Tsutsumi, engineers/mixers; Colin Leonard, mastering engineer</td><td>https://www.grammy.com/sites/com/files/styles/artist_circle/public/muzooka/H.E.R./H.E.R._1_1_1594631035.jpg?itok=ClJe-2MN</td><td>True</td></tr><tr><td>2019</td><td>62nd Annual GRAMMY Awards  (2019)</td><td>2020-05-19T05:10:28-07:00</td><td>2020-05-19T05:10:28-07:00</td><td>Record Of The Year</td><td>Talk</td><td>Khalid</td><td>Disclosure & Denis Kosiak, producers; Ingmar Carlson, Jon Castelli, Josh Deguzman, John Kercy, Denis Kosiak, Guy Lawrence & Michael Romero, engineers/mixers; Dale Becker, mastering engineer</td><td>https://www.grammy.com/sites/com/files/styles/artist_circle/public/muzooka/Khalid/Khalid_1_1_1594578772.jpg?itok=2HxjAT-X</td><td>True</td></tr></tbody></table></div>"
      ]
     },
     "metadata": {
      "application/vnd.databricks.v1+output": {
       "addedWidgets": {},
       "aggData": [],
       "aggError": "",
       "aggOverflow": false,
       "aggSchema": [],
       "aggSeriesLimitReached": false,
       "aggType": "",
       "arguments": {},
       "columnCustomDisplayInfos": {},
       "data": [
        [
         "2019",
         "62nd Annual GRAMMY Awards  (2019)",
         "2020-05-19T05:10:28-07:00",
         "2020-05-19T05:10:28-07:00",
         "Record Of The Year",
         "Bad Guy",
         "Billie Eilish",
         "Finneas O'Connell, producer; Rob Kinelski & Finneas O'Connell, engineers/mixers; John Greenham, mastering engineer",
         "https://www.grammy.com/sites/com/files/styles/artist_circle/public/muzooka/Billie%2BEilish/Billie%2520Eilish_1_1_1594138954.jpg?itok=3-71Dfxh",
         "True"
        ],
        [
         "2019",
         "62nd Annual GRAMMY Awards  (2019)",
         "2020-05-19T05:10:28-07:00",
         "2020-05-19T05:10:28-07:00",
         "Record Of The Year",
         "Hey, Ma",
         "Bon Iver",
         "BJ Burton, Brad Cook, Chris Messina & Justin Vernon, producers; BJ Burton, Zach Hanson & Chris Messina, engineers/mixers; Greg Calbi, mastering engineer",
         "https://www.grammy.com/sites/com/files/styles/artist_circle/public/muzooka/Bon%2BIver/Bon%2520Iver_1_1_1578385181.jpg?itok=_M1hc5Ux",
         "True"
        ],
        [
         "2019",
         "62nd Annual GRAMMY Awards  (2019)",
         "2020-05-19T05:10:28-07:00",
         "2020-05-19T05:10:28-07:00",
         "Record Of The Year",
         "7 rings",
         "Ariana Grande",
         "Charles Anderson, Tommy Brown, Michael Foster & Victoria Monet, producers; Serban Ghenea, John Hanes, Billy Hickey & Brendan Morawski, engineers/mixers; Randy Merrill, mastering engineer",
         "https://www.grammy.com/sites/com/files/styles/artist_circle/public/muzooka/Ariana%2BGrande/Ariana%2520Grande_1_1_1578384678.jpg?itok=Amj90j13",
         "True"
        ],
        [
         "2019",
         "62nd Annual GRAMMY Awards  (2019)",
         "2020-05-19T05:10:28-07:00",
         "2020-05-19T05:10:28-07:00",
         "Record Of The Year",
         "Hard Place",
         "H.E.R.",
         "Rodney “Darkchild” Jerkins, producer; Joseph Hurtado, Jaycen Joshua, Derek Keota & Miki Tsutsumi, engineers/mixers; Colin Leonard, mastering engineer",
         "https://www.grammy.com/sites/com/files/styles/artist_circle/public/muzooka/H.E.R./H.E.R._1_1_1594631035.jpg?itok=ClJe-2MN",
         "True"
        ],
        [
         "2019",
         "62nd Annual GRAMMY Awards  (2019)",
         "2020-05-19T05:10:28-07:00",
         "2020-05-19T05:10:28-07:00",
         "Record Of The Year",
         "Talk",
         "Khalid",
         "Disclosure & Denis Kosiak, producers; Ingmar Carlson, Jon Castelli, Josh Deguzman, John Kercy, Denis Kosiak, Guy Lawrence & Michael Romero, engineers/mixers; Dale Becker, mastering engineer",
         "https://www.grammy.com/sites/com/files/styles/artist_circle/public/muzooka/Khalid/Khalid_1_1_1594578772.jpg?itok=2HxjAT-X",
         "True"
        ]
       ],
       "datasetInfos": [],
       "dbfsResultPath": null,
       "isJsonSchema": true,
       "metadata": {},
       "overflow": false,
       "plotOptions": {
        "customPlotOptions": {},
        "displayType": "table",
        "pivotAggregation": null,
        "pivotColumns": null,
        "xColumns": null,
        "yColumns": null
       },
       "removedWidgets": [],
       "schema": [
        {
         "metadata": "{}",
         "name": "year",
         "type": "\"string\""
        },
        {
         "metadata": "{}",
         "name": "title",
         "type": "\"string\""
        },
        {
         "metadata": "{}",
         "name": "published_at",
         "type": "\"string\""
        },
        {
         "metadata": "{}",
         "name": "updated_at",
         "type": "\"string\""
        },
        {
         "metadata": "{}",
         "name": "category",
         "type": "\"string\""
        },
        {
         "metadata": "{}",
         "name": "nominee",
         "type": "\"string\""
        },
        {
         "metadata": "{}",
         "name": "artist",
         "type": "\"string\""
        },
        {
         "metadata": "{}",
         "name": "workers",
         "type": "\"string\""
        },
        {
         "metadata": "{}",
         "name": "img",
         "type": "\"string\""
        },
        {
         "metadata": "{}",
         "name": "winner",
         "type": "\"string\""
        }
       ],
       "type": "table"
      }
     },
     "output_type": "display_data"
    }
   ],
   "source": [
    "display(df.head(5))"
   ]
  },
  {
   "cell_type": "code",
   "execution_count": 0,
   "metadata": {
    "application/vnd.databricks.v1+cell": {
     "cellMetadata": {
      "byteLimit": 2048000,
      "rowLimit": 10000
     },
     "inputWidgets": {},
     "nuid": "d6dfa6f4-582c-43c6-8f0d-dd56d1f8437f",
     "showTitle": false,
     "title": ""
    }
   },
   "outputs": [],
   "source": [
    "# Create a view or table to allow SQL usage\n",
    "\n",
    "temp_table_name = \"grammy_awards\"\n",
    "\n",
    "df.createOrReplaceTempView(temp_table_name)"
   ]
  },
  {
   "cell_type": "code",
   "execution_count": 0,
   "metadata": {
    "application/vnd.databricks.v1+cell": {
     "cellMetadata": {
      "byteLimit": 2048000,
      "implicitDf": true,
      "rowLimit": 10000
     },
     "inputWidgets": {},
     "nuid": "2ff98e88-502c-4d2e-8751-991890558b94",
     "showTitle": false,
     "title": ""
    }
   },
   "outputs": [
    {
     "output_type": "stream",
     "name": "stdout",
     "output_type": "stream",
     "text": [
      "+----+\n|year|\n+----+\n|2019|\n|2018|\n|2017|\n|2016|\n|2015|\n|2014|\n|2013|\n|2012|\n|2011|\n|2010|\n|2009|\n|2008|\n|2007|\n|2006|\n|2005|\n|2004|\n|2003|\n|2002|\n|2001|\n|2000|\n+----+\nonly showing top 20 rows\n\n"
     ]
    }
   ],
   "source": [
    "# Show all years in the record\n",
    "df.select(\"year\").distinct().orderBy(df.year.desc()).show() "
   ]
  },
  {
   "cell_type": "code",
   "execution_count": 0,
   "metadata": {
    "application/vnd.databricks.v1+cell": {
     "cellMetadata": {
      "byteLimit": 2048000,
      "rowLimit": 10000
     },
     "inputWidgets": {},
     "nuid": "5b61aae2-17a3-48e3-aaf2-4e25ce28451e",
     "showTitle": false,
     "title": ""
    }
   },
   "outputs": [
    {
     "output_type": "stream",
     "name": "stdout",
     "output_type": "stream",
     "text": [
      "Out[10]: 62"
     ]
    }
   ],
   "source": [
    "# Count number of years recorded\n",
    "df.select(\"year\").distinct().count()"
   ]
  },
  {
   "cell_type": "code",
   "execution_count": 0,
   "metadata": {
    "application/vnd.databricks.v1+cell": {
     "cellMetadata": {
      "byteLimit": 2048000,
      "implicitDf": true,
      "rowLimit": 10000
     },
     "inputWidgets": {},
     "nuid": "16afc600-ca80-475f-ba80-dca44fd34b78",
     "showTitle": false,
     "title": ""
    }
   },
   "outputs": [
    {
     "output_type": "display_data",
     "data": {
      "text/html": [
       "<style scoped>\n",
       "  .table-result-container {\n",
       "    max-height: 300px;\n",
       "    overflow: auto;\n",
       "  }\n",
       "  table, th, td {\n",
       "    border: 1px solid black;\n",
       "    border-collapse: collapse;\n",
       "  }\n",
       "  th, td {\n",
       "    padding: 5px;\n",
       "  }\n",
       "  th {\n",
       "    text-align: left;\n",
       "  }\n",
       "</style><div class='table-result-container'><table class='table-result'><thead style='background-color: white'><tr><th># years recorded</th></tr></thead><tbody><tr><td>62</td></tr></tbody></table></div>"
      ]
     },
     "metadata": {
      "application/vnd.databricks.v1+output": {
       "addedWidgets": {},
       "aggData": [],
       "aggError": "",
       "aggOverflow": false,
       "aggSchema": [],
       "aggSeriesLimitReached": false,
       "aggType": "",
       "arguments": {},
       "columnCustomDisplayInfos": {},
       "data": [
        [
         62
        ]
       ],
       "datasetInfos": [],
       "dbfsResultPath": null,
       "isJsonSchema": true,
       "metadata": {},
       "overflow": false,
       "plotOptions": {
        "customPlotOptions": {},
        "displayType": "table",
        "pivotAggregation": null,
        "pivotColumns": null,
        "xColumns": null,
        "yColumns": null
       },
       "removedWidgets": [],
       "schema": [
        {
         "metadata": "{}",
         "name": "# years recorded",
         "type": "\"long\""
        }
       ],
       "type": "table"
      }
     },
     "output_type": "display_data"
    }
   ],
   "source": [
    "%sql\n",
    "-- count number of years\n",
    "select count(distinct year) AS `# years recorded`\n",
    "from `grammy_awards`"
   ]
  },
  {
   "cell_type": "code",
   "execution_count": 0,
   "metadata": {
    "application/vnd.databricks.v1+cell": {
     "cellMetadata": {
      "byteLimit": 2048000,
      "implicitDf": true,
      "rowLimit": 10000
     },
     "inputWidgets": {},
     "nuid": "59432ecc-0f7d-4886-8514-5738b433dd6e",
     "showTitle": false,
     "title": ""
    }
   },
   "outputs": [
    {
     "output_type": "display_data",
     "data": {
      "text/html": [
       "<style scoped>\n",
       "  .table-result-container {\n",
       "    max-height: 300px;\n",
       "    overflow: auto;\n",
       "  }\n",
       "  table, th, td {\n",
       "    border: 1px solid black;\n",
       "    border-collapse: collapse;\n",
       "  }\n",
       "  th, td {\n",
       "    padding: 5px;\n",
       "  }\n",
       "  th {\n",
       "    text-align: left;\n",
       "  }\n",
       "</style><div class='table-result-container'><table class='table-result'><thead style='background-color: white'><tr><th># of categories</th></tr></thead><tbody><tr><td>638</td></tr></tbody></table></div>"
      ]
     },
     "metadata": {
      "application/vnd.databricks.v1+output": {
       "addedWidgets": {},
       "aggData": [],
       "aggError": "",
       "aggOverflow": false,
       "aggSchema": [],
       "aggSeriesLimitReached": false,
       "aggType": "",
       "arguments": {},
       "columnCustomDisplayInfos": {},
       "data": [
        [
         638
        ]
       ],
       "datasetInfos": [],
       "dbfsResultPath": null,
       "isJsonSchema": true,
       "metadata": {},
       "overflow": false,
       "plotOptions": {
        "customPlotOptions": {},
        "displayType": "table",
        "pivotAggregation": null,
        "pivotColumns": null,
        "xColumns": null,
        "yColumns": null
       },
       "removedWidgets": [],
       "schema": [
        {
         "metadata": "{}",
         "name": "# of categories",
         "type": "\"long\""
        }
       ],
       "type": "table"
      }
     },
     "output_type": "display_data"
    }
   ],
   "source": [
    "%sql\n",
    "-- count number of categories\n",
    "select count(distinct category) `# of categories`\n",
    "from `grammy_awards`"
   ]
  },
  {
   "cell_type": "code",
   "execution_count": 0,
   "metadata": {
    "application/vnd.databricks.v1+cell": {
     "cellMetadata": {
      "byteLimit": 2048000,
      "implicitDf": true,
      "rowLimit": 10000
     },
     "inputWidgets": {},
     "nuid": "948b07d8-84b4-4e85-868c-7a2ecd0f2e59",
     "showTitle": false,
     "title": ""
    }
   },
   "outputs": [
    {
     "output_type": "display_data",
     "data": {
      "text/html": [
       "<style scoped>\n",
       "  .table-result-container {\n",
       "    max-height: 300px;\n",
       "    overflow: auto;\n",
       "  }\n",
       "  table, th, td {\n",
       "    border: 1px solid black;\n",
       "    border-collapse: collapse;\n",
       "  }\n",
       "  th, td {\n",
       "    padding: 5px;\n",
       "  }\n",
       "  th {\n",
       "    text-align: left;\n",
       "  }\n",
       "</style><div class='table-result-container'><table class='table-result'><thead style='background-color: white'><tr><th>Years with Record of the Year recorded</th></tr></thead><tbody><tr><td>62</td></tr></tbody></table></div>"
      ]
     },
     "metadata": {
      "application/vnd.databricks.v1+output": {
       "addedWidgets": {},
       "aggData": [],
       "aggError": "",
       "aggOverflow": false,
       "aggSchema": [],
       "aggSeriesLimitReached": false,
       "aggType": "",
       "arguments": {},
       "columnCustomDisplayInfos": {},
       "data": [
        [
         62
        ]
       ],
       "datasetInfos": [],
       "dbfsResultPath": null,
       "isJsonSchema": true,
       "metadata": {},
       "overflow": false,
       "plotOptions": {
        "customPlotOptions": {},
        "displayType": "table",
        "pivotAggregation": null,
        "pivotColumns": null,
        "xColumns": null,
        "yColumns": null
       },
       "removedWidgets": [],
       "schema": [
        {
         "metadata": "{}",
         "name": "Years with Record of the Year recorded",
         "type": "\"long\""
        }
       ],
       "type": "table"
      }
     },
     "output_type": "display_data"
    }
   ],
   "source": [
    "%sql\n",
    "-- ensure we have 'Record Of The Year' data for each year\n",
    "select count(distinct year) as `Years with Record of the Year recorded`\n",
    "from `grammy_awards`\n",
    "where category like 'Record Of The Year'\n"
   ]
  },
  {
   "cell_type": "code",
   "execution_count": 0,
   "metadata": {
    "application/vnd.databricks.v1+cell": {
     "cellMetadata": {
      "byteLimit": 2048000,
      "rowLimit": 10000
     },
     "inputWidgets": {},
     "nuid": "a133109f-96b0-4ab6-a0c0-adb148c4ccfc",
     "showTitle": false,
     "title": ""
    }
   },
   "outputs": [
    {
     "output_type": "display_data",
     "data": {
      "text/html": [
       "<style scoped>\n",
       "  .table-result-container {\n",
       "    max-height: 300px;\n",
       "    overflow: auto;\n",
       "  }\n",
       "  table, th, td {\n",
       "    border: 1px solid black;\n",
       "    border-collapse: collapse;\n",
       "  }\n",
       "  th, td {\n",
       "    padding: 5px;\n",
       "  }\n",
       "  th {\n",
       "    text-align: left;\n",
       "  }\n",
       "</style><div class='table-result-container'><table class='table-result'><thead style='background-color: white'><tr><th>year</th><th>title</th><th>category</th><th>nominee</th><th>artist</th><th>workers</th><th>img</th><th>winner</th></tr></thead><tbody><tr><td>2019</td><td>62nd Annual GRAMMY Awards  (2019)</td><td>Record Of The Year</td><td>Bad Guy</td><td>Billie Eilish</td><td>Finneas O'Connell, producer; Rob Kinelski & Finneas O'Connell, engineers/mixers; John Greenham, mastering engineer</td><td>https://www.grammy.com/sites/com/files/styles/artist_circle/public/muzooka/Billie%2BEilish/Billie%2520Eilish_1_1_1594138954.jpg?itok=3-71Dfxh</td><td>True</td></tr><tr><td>2019</td><td>62nd Annual GRAMMY Awards  (2019)</td><td>Record Of The Year</td><td>Hey, Ma</td><td>Bon Iver</td><td>BJ Burton, Brad Cook, Chris Messina & Justin Vernon, producers; BJ Burton, Zach Hanson & Chris Messina, engineers/mixers; Greg Calbi, mastering engineer</td><td>https://www.grammy.com/sites/com/files/styles/artist_circle/public/muzooka/Bon%2BIver/Bon%2520Iver_1_1_1578385181.jpg?itok=_M1hc5Ux</td><td>True</td></tr><tr><td>2019</td><td>62nd Annual GRAMMY Awards  (2019)</td><td>Record Of The Year</td><td>7 rings</td><td>Ariana Grande</td><td>Charles Anderson, Tommy Brown, Michael Foster & Victoria Monet, producers; Serban Ghenea, John Hanes, Billy Hickey & Brendan Morawski, engineers/mixers; Randy Merrill, mastering engineer</td><td>https://www.grammy.com/sites/com/files/styles/artist_circle/public/muzooka/Ariana%2BGrande/Ariana%2520Grande_1_1_1578384678.jpg?itok=Amj90j13</td><td>True</td></tr><tr><td>2019</td><td>62nd Annual GRAMMY Awards  (2019)</td><td>Record Of The Year</td><td>Hard Place</td><td>H.E.R.</td><td>Rodney “Darkchild” Jerkins, producer; Joseph Hurtado, Jaycen Joshua, Derek Keota & Miki Tsutsumi, engineers/mixers; Colin Leonard, mastering engineer</td><td>https://www.grammy.com/sites/com/files/styles/artist_circle/public/muzooka/H.E.R./H.E.R._1_1_1594631035.jpg?itok=ClJe-2MN</td><td>True</td></tr><tr><td>2019</td><td>62nd Annual GRAMMY Awards  (2019)</td><td>Record Of The Year</td><td>Talk</td><td>Khalid</td><td>Disclosure & Denis Kosiak, producers; Ingmar Carlson, Jon Castelli, Josh Deguzman, John Kercy, Denis Kosiak, Guy Lawrence & Michael Romero, engineers/mixers; Dale Becker, mastering engineer</td><td>https://www.grammy.com/sites/com/files/styles/artist_circle/public/muzooka/Khalid/Khalid_1_1_1594578772.jpg?itok=2HxjAT-X</td><td>True</td></tr></tbody></table></div>"
      ]
     },
     "metadata": {
      "application/vnd.databricks.v1+output": {
       "addedWidgets": {},
       "aggData": [],
       "aggError": "",
       "aggOverflow": false,
       "aggSchema": [],
       "aggSeriesLimitReached": false,
       "aggType": "",
       "arguments": {},
       "columnCustomDisplayInfos": {},
       "data": [
        [
         "2019",
         "62nd Annual GRAMMY Awards  (2019)",
         "Record Of The Year",
         "Bad Guy",
         "Billie Eilish",
         "Finneas O'Connell, producer; Rob Kinelski & Finneas O'Connell, engineers/mixers; John Greenham, mastering engineer",
         "https://www.grammy.com/sites/com/files/styles/artist_circle/public/muzooka/Billie%2BEilish/Billie%2520Eilish_1_1_1594138954.jpg?itok=3-71Dfxh",
         "True"
        ],
        [
         "2019",
         "62nd Annual GRAMMY Awards  (2019)",
         "Record Of The Year",
         "Hey, Ma",
         "Bon Iver",
         "BJ Burton, Brad Cook, Chris Messina & Justin Vernon, producers; BJ Burton, Zach Hanson & Chris Messina, engineers/mixers; Greg Calbi, mastering engineer",
         "https://www.grammy.com/sites/com/files/styles/artist_circle/public/muzooka/Bon%2BIver/Bon%2520Iver_1_1_1578385181.jpg?itok=_M1hc5Ux",
         "True"
        ],
        [
         "2019",
         "62nd Annual GRAMMY Awards  (2019)",
         "Record Of The Year",
         "7 rings",
         "Ariana Grande",
         "Charles Anderson, Tommy Brown, Michael Foster & Victoria Monet, producers; Serban Ghenea, John Hanes, Billy Hickey & Brendan Morawski, engineers/mixers; Randy Merrill, mastering engineer",
         "https://www.grammy.com/sites/com/files/styles/artist_circle/public/muzooka/Ariana%2BGrande/Ariana%2520Grande_1_1_1578384678.jpg?itok=Amj90j13",
         "True"
        ],
        [
         "2019",
         "62nd Annual GRAMMY Awards  (2019)",
         "Record Of The Year",
         "Hard Place",
         "H.E.R.",
         "Rodney “Darkchild” Jerkins, producer; Joseph Hurtado, Jaycen Joshua, Derek Keota & Miki Tsutsumi, engineers/mixers; Colin Leonard, mastering engineer",
         "https://www.grammy.com/sites/com/files/styles/artist_circle/public/muzooka/H.E.R./H.E.R._1_1_1594631035.jpg?itok=ClJe-2MN",
         "True"
        ],
        [
         "2019",
         "62nd Annual GRAMMY Awards  (2019)",
         "Record Of The Year",
         "Talk",
         "Khalid",
         "Disclosure & Denis Kosiak, producers; Ingmar Carlson, Jon Castelli, Josh Deguzman, John Kercy, Denis Kosiak, Guy Lawrence & Michael Romero, engineers/mixers; Dale Becker, mastering engineer",
         "https://www.grammy.com/sites/com/files/styles/artist_circle/public/muzooka/Khalid/Khalid_1_1_1594578772.jpg?itok=2HxjAT-X",
         "True"
        ]
       ],
       "datasetInfos": [],
       "dbfsResultPath": null,
       "isJsonSchema": true,
       "metadata": {},
       "overflow": false,
       "plotOptions": {
        "customPlotOptions": {},
        "displayType": "table",
        "pivotAggregation": null,
        "pivotColumns": null,
        "xColumns": null,
        "yColumns": null
       },
       "removedWidgets": [],
       "schema": [
        {
         "metadata": "{}",
         "name": "year",
         "type": "\"string\""
        },
        {
         "metadata": "{}",
         "name": "title",
         "type": "\"string\""
        },
        {
         "metadata": "{}",
         "name": "category",
         "type": "\"string\""
        },
        {
         "metadata": "{}",
         "name": "nominee",
         "type": "\"string\""
        },
        {
         "metadata": "{}",
         "name": "artist",
         "type": "\"string\""
        },
        {
         "metadata": "{}",
         "name": "workers",
         "type": "\"string\""
        },
        {
         "metadata": "{}",
         "name": "img",
         "type": "\"string\""
        },
        {
         "metadata": "{}",
         "name": "winner",
         "type": "\"string\""
        }
       ],
       "type": "table"
      }
     },
     "output_type": "display_data"
    }
   ],
   "source": [
    "# Create a new DataFrame that only contains the 'Record Of The Year' category data\n",
    "df_record = df.select('year','title','category','nominee','artist','workers','img','winner').where(df.category == \"Record Of The Year\")\n",
    "display(df_record.head(5))"
   ]
  },
  {
   "cell_type": "code",
   "execution_count": 0,
   "metadata": {
    "application/vnd.databricks.v1+cell": {
     "cellMetadata": {
      "byteLimit": 2048000,
      "rowLimit": 10000
     },
     "inputWidgets": {},
     "nuid": "7be510f8-e016-46ca-8aae-7d4c9e2ca2d3",
     "showTitle": false,
     "title": ""
    }
   },
   "outputs": [],
   "source": [
    "# Create a view or table for Record Of the Year data\n",
    "\n",
    "temp_table_name = \"record_of_the_year\"\n",
    "\n",
    "df_record.createOrReplaceTempView(temp_table_name)"
   ]
  },
  {
   "cell_type": "code",
   "execution_count": 0,
   "metadata": {
    "application/vnd.databricks.v1+cell": {
     "cellMetadata": {
      "byteLimit": 2048000,
      "rowLimit": 10000
     },
     "inputWidgets": {},
     "nuid": "e118f64c-68a9-418e-b8b0-ad63d01f044d",
     "showTitle": false,
     "title": ""
    }
   },
   "outputs": [
    {
     "output_type": "display_data",
     "data": {
      "text/html": [
       "<style scoped>\n",
       "  .table-result-container {\n",
       "    max-height: 300px;\n",
       "    overflow: auto;\n",
       "  }\n",
       "  table, th, td {\n",
       "    border: 1px solid black;\n",
       "    border-collapse: collapse;\n",
       "  }\n",
       "  th, td {\n",
       "    padding: 5px;\n",
       "  }\n",
       "  th {\n",
       "    text-align: left;\n",
       "  }\n",
       "</style><div class='table-result-container'><table class='table-result'><thead style='background-color: white'><tr><th>year</th><th>title</th><th>category</th><th>nominee</th><th>artist</th><th>workers</th><th>img</th><th>winner</th></tr></thead><tbody><tr><td>2019</td><td>62nd Annual GRAMMY Awards  (2019)</td><td>Record Of The Year</td><td>Bad Guy</td><td>Billie Eilish</td><td>Finneas O'Connell, producer; Rob Kinelski & Finneas O'Connell, engineers/mixers; John Greenham, mastering engineer</td><td>https://www.grammy.com/sites/com/files/styles/artist_circle/public/muzooka/Billie%2BEilish/Billie%2520Eilish_1_1_1594138954.jpg?itok=3-71Dfxh</td><td>True</td></tr><tr><td>2019</td><td>62nd Annual GRAMMY Awards  (2019)</td><td>Record Of The Year</td><td>Hey, Ma</td><td>Bon Iver</td><td>BJ Burton, Brad Cook, Chris Messina & Justin Vernon, producers; BJ Burton, Zach Hanson & Chris Messina, engineers/mixers; Greg Calbi, mastering engineer</td><td>https://www.grammy.com/sites/com/files/styles/artist_circle/public/muzooka/Bon%2BIver/Bon%2520Iver_1_1_1578385181.jpg?itok=_M1hc5Ux</td><td>True</td></tr><tr><td>2019</td><td>62nd Annual GRAMMY Awards  (2019)</td><td>Record Of The Year</td><td>7 rings</td><td>Ariana Grande</td><td>Charles Anderson, Tommy Brown, Michael Foster & Victoria Monet, producers; Serban Ghenea, John Hanes, Billy Hickey & Brendan Morawski, engineers/mixers; Randy Merrill, mastering engineer</td><td>https://www.grammy.com/sites/com/files/styles/artist_circle/public/muzooka/Ariana%2BGrande/Ariana%2520Grande_1_1_1578384678.jpg?itok=Amj90j13</td><td>True</td></tr><tr><td>2019</td><td>62nd Annual GRAMMY Awards  (2019)</td><td>Record Of The Year</td><td>Hard Place</td><td>H.E.R.</td><td>Rodney “Darkchild” Jerkins, producer; Joseph Hurtado, Jaycen Joshua, Derek Keota & Miki Tsutsumi, engineers/mixers; Colin Leonard, mastering engineer</td><td>https://www.grammy.com/sites/com/files/styles/artist_circle/public/muzooka/H.E.R./H.E.R._1_1_1594631035.jpg?itok=ClJe-2MN</td><td>True</td></tr><tr><td>2019</td><td>62nd Annual GRAMMY Awards  (2019)</td><td>Record Of The Year</td><td>Talk</td><td>Khalid</td><td>Disclosure & Denis Kosiak, producers; Ingmar Carlson, Jon Castelli, Josh Deguzman, John Kercy, Denis Kosiak, Guy Lawrence & Michael Romero, engineers/mixers; Dale Becker, mastering engineer</td><td>https://www.grammy.com/sites/com/files/styles/artist_circle/public/muzooka/Khalid/Khalid_1_1_1594578772.jpg?itok=2HxjAT-X</td><td>True</td></tr><tr><td>2019</td><td>62nd Annual GRAMMY Awards  (2019)</td><td>Record Of The Year</td><td>Old Town Road</td><td>Lil Nas X Featuring Billy Ray Cyrus</td><td>Andrew \"VoxGod\" Bolooki, Jocelyn “Jozzy” Donald & YoungKio, producers; Andrew \"VoxGod\" Bolooki, Cinco & Joe Grasso, engineers/mixers; Eric Lagg, mastering engineer</td><td>https://www.grammy.com/sites/com/files/styles/artist_circle/public/muzooka/Montero%2BLamar%2BHill/Lil%2520Nas%2520X_1_1_1581656760.jpg?itok=_YR6dOjI</td><td>True</td></tr><tr><td>2019</td><td>62nd Annual GRAMMY Awards  (2019)</td><td>Record Of The Year</td><td>Truth Hurts</td><td>Lizzo</td><td>Ricky Reed & Tele, producers; Chris Galland, Manny Marroquin & Ethan Shumaker, engineers/mixers; Chris Gehringer, mastering engineer</td><td>https://www.grammy.com/sites/com/files/styles/artist_circle/public/muzooka/Lizzo/Lizzo_1_1_1583931631.jpg?itok=Gm2FQx4s</td><td>True</td></tr><tr><td>2019</td><td>62nd Annual GRAMMY Awards  (2019)</td><td>Record Of The Year</td><td>Sunflower</td><td>Post Malone & Swae Lee</td><td>Louis Bell & Carter Lang, producers; Louis Bell & Manny Marroquin, engineers/mixers; Mike Bozzi, mastering engineer</td><td>https://www.grammy.com/sites/com/files/styles/artist_circle/public/muzooka/Post%2BMalone/Post%2520Malone_1_1_1594910341.jpg?itok=HCyRm13g</td><td>True</td></tr><tr><td>2018</td><td>61st Annual GRAMMY Awards  (2018)</td><td>Record Of The Year</td><td>This Is America</td><td>Childish Gambino</td><td>Donald Glover & Ludwig Göransson, producers; Derek \"MixedByAli\" Ali, Kesha Lee, Riley Mackin, Shaan Singh & Alex Tumay, engineers/mixers; Mike Bozzi, mastering engineer</td><td>https://www.grammy.com/sites/com/files/styles/artist_circle/public/muzooka/Childish%2BGambino/Childish%2520Gambino_1_1_1591112936.jpg?itok=AU_J_f8x</td><td>True</td></tr><tr><td>2017</td><td>60th Annual GRAMMY Awards  (2017)</td><td>Record Of The Year</td><td>24K Magic</td><td>Bruno Mars</td><td>Shampoo Press & Curl (Christopher Brody Brown, Philip Lawrence & Bruno Mars), producers; Serban Ghenea, John Hanes & Charles Moniz, engineers/mixers; Tom Coyne, mastering engineer</td><td>https://www.grammy.com/sites/com/files/styles/artist_circle/public/muzooka/Bruno%2BMars/Bruno%2520Mars_1_1_1578385368.jpg?itok=KhxnacRR</td><td>True</td></tr><tr><td>2016</td><td>59th Annual GRAMMY Awards  (2016)</td><td>Record Of The Year</td><td>Hello</td><td>Adele</td><td>Greg Kurstin, producer; Julian Burg, Tom Elmhirst, Emile Haynie, Greg Kurstin, Liam Nolan, Alex Pasco & Joe Visciano, engineers/mixers; Tom Coyne & Randy Merrill, mastering engineers</td><td>https://www.grammy.com/sites/com/files/styles/artist_circle/public/muzooka/Adele/Adele_1_1_1584090130.jpg?itok=xlwW6t3a</td><td>True</td></tr><tr><td>2015</td><td>58th Annual GRAMMY Awards  (2015)</td><td>Record Of The Year</td><td>Uptown Funk</td><td>Mark Ronson Featuring Bruno Mars</td><td>Jeff Bhasker, Philip Lawrence, Bruno Mars & Mark Ronson, producers; Josh Blair, Riccardo Damian, Serban Ghenea, Wayne Gordon, John Hanes, Inaam Haq, Boo Mitchell, Charles Moniz & Mark Ronson, engineers/mixers; Tom Coyne, mastering engineer</td><td>https://www.grammy.com/sites/com/files/styles/artist_circle/public/muzooka/Mark%2BRonson/Mark%2520Ronson_1_1_1596790481.jpg?itok=s-dqiJed</td><td>True</td></tr><tr><td>2014</td><td>57th Annual GRAMMY Awards  (2014)</td><td>Record Of The Year</td><td>Stay With Me (Darkchild Version)</td><td>Sam Smith</td><td>Steve Fitzmaurice, Rodney Jerkins & Jimmy Napes, producers; Matthew Champlin, Steve Fitzmaurice, Jimmy Napes & Steve Price, engineers/mixers; Tom Coyne, mastering engineer</td><td>https://www.grammy.com/sites/com/files/styles/artist_circle/public/sam_smithrotycrop.jpg?itok=CbuVXG4s</td><td>True</td></tr><tr><td>2013</td><td>56th Annual GRAMMY Awards  (2013)</td><td>Record Of The Year</td><td>Get Lucky</td><td>Daft Punk Featuring Pharrell Williams & Nile Rodgers</td><td>Thomas Bangalter & Guy-Manuel de Homem-Christo, producers; Peter Franco, Mick Guzauski, Florian Lagatta & Daniel Lerner, engineers/mixers; Antoine Chabert & Bob Ludwig, mastering engineers</td><td>https://www.grammy.com/sites/com/files/styles/artist_circle/public/465384097_daft_punk_pharrell.jpg?itok=tZ0IzKSI</td><td>True</td></tr><tr><td>2012</td><td>55th Annual GRAMMY Awards  (2012)</td><td>Record Of The Year</td><td>Somebody That I Used To Know</td><td>Gotye Featuring Kimbra</td><td>Wally De Backer, producer; Wally De Backer & Francois Tetaz, engineers/mixers; William Bowden, mastering engineer</td><td>https://www.grammy.com/sites/com/files/styles/artist_circle/public/161396233_gotye_kimbra.jpg?itok=4_A2Llji</td><td>True</td></tr><tr><td>2011</td><td>54th Annual GRAMMY Awards  (2011)</td><td>Record Of The Year</td><td>Rolling In The Deep</td><td>Adele</td><td>Paul Epworth, producer; Tom Elmhirst & Mark Rankin, engineers/mixers</td><td>https://www.grammy.com/sites/com/files/styles/artist_circle/public/138850365_adele.jpg?itok=X8mml-Wk</td><td>True</td></tr><tr><td>2010</td><td>53rd Annual GRAMMY Awards  (2010)</td><td>Record Of The Year</td><td>Need You Now</td><td>Lady Antebellum</td><td>Lady Antebellum (Dave Haywood, Charles Kelley & Hillary Scott) & Paul N. Worley, producers; L Clarke Schleicher, engineer/mixer</td><td>https://www.grammy.com/sites/com/files/styles/artist_circle/public/109066913_lady_antebellum.jpg?itok=iFnOLjld</td><td>True</td></tr><tr><td>2009</td><td>52nd Annual GRAMMY Awards  (2009)</td><td>Record Of The Year</td><td>Use Somebody</td><td>Kings Of Leon</td><td>Jacquire King & Angelo Petraglia, producers; Jacquire King, engineer/mixer</td><td>https://www.grammy.com/sites/com/files/styles/artist_circle/public/96337451_kings_of_leon.jpg?itok=mjt6_DjR</td><td>True</td></tr><tr><td>2008</td><td>51st Annual GRAMMY Awards  (2008)</td><td>Record Of The Year</td><td>Please Read The Letter</td><td>Robert Plant & Alison Krauss</td><td>T Bone Burnett, producer; Mike Piersante, engineer/mixer</td><td>https://www.grammy.com/sites/com/files/styles/artist_circle/public/muzooka/Robert%2BPlant/Robert%2520Plant_1_1_1591112980.jpg?itok=6LLLbn4I</td><td>True</td></tr><tr><td>2007</td><td>50th Annual GRAMMY Awards  (2007)</td><td>Record Of The Year</td><td>Rehab</td><td>Amy Winehouse</td><td>Mark Ronson, producer; Tom Elmhirst, Samuel \"Vaughan\" Merrick, Dom Morley, Mark Ronson & Gabriel Roth, engineers/mixers</td><td>https://www.grammy.com/sites/com/files/styles/artist_circle/public/muzooka/Amy%2BWinehouse/Amy%2520Winehouse_1_1_1578384847.jpg?itok=E0x96uqF</td><td>True</td></tr><tr><td>2006</td><td>49th Annual GRAMMY Awards  (2006)</td><td>Record Of The Year</td><td>Not Ready To Make Nice</td><td>Dixie Chicks</td><td>Rick Rubin, producer; Richard Dodd, Jim Scott & Chris Testa, engineers/mixers</td><td>https://www.grammy.com/sites/com/files/styles/artist_circle/public/muzooka/Dixie%2BChicks/Dixie%2520Chicks_1_1_1598343738.jpg?itok=YXj33PAV</td><td>True</td></tr><tr><td>2005</td><td>48th Annual GRAMMY Awards  (2005)</td><td>Record Of The Year</td><td>Boulevard Of Broken Dreams</td><td>Green Day</td><td>Rob Cavallo & Green Day, producers; Chris Lord-Alge & Doug McKean, engineers/mixers</td><td>https://www.grammy.com/sites/com/files/styles/artist_circle/public/muzooka/Green%2BDay/Green%2520Day_1_1_1578385279.jpg?itok=wr16YloS</td><td>True</td></tr><tr><td>2004</td><td>47th Annual GRAMMY Awards  (2004)</td><td>Record Of The Year</td><td>Here We Go Again</td><td>Ray Charles & Norah Jones</td><td>John R. Burk, producer; Mark Fleming, Terry Howard & Al Schmitt, engineers/mixers</td><td>https://www.grammy.com/sites/com/files/styles/artist_circle/public/ray_charles_spotlight_107293349.png?itok=57kc2vwB</td><td>True</td></tr><tr><td>2003</td><td>46th Annual GRAMMY Awards  (2003)</td><td>Record Of The Year</td><td>Clocks</td><td>Coldplay</td><td>Coldplay & Ken Nelson, producers; Coldplay (Guy Berryman, Jon Buckland, Will Champion, Phil Harvey & Chris Martin), Ken Nelson & Mark Phythian, engineers/mixers</td><td>https://www.grammy.com/sites/com/files/styles/artist_circle/public/muzooka/Coldplay/Coldplay_1_1_1591112967.jpg?itok=lLCPutNO</td><td>True</td></tr><tr><td>2002</td><td>45th Annual GRAMMY Awards  (2002)</td><td>Record Of The Year</td><td>Don't Know Why</td><td>Norah Jones</td><td>Norah Jones, Arif Mardin & Jay Newland, producers; Jay Newland, engineer/mixer</td><td>https://www.grammy.com/sites/com/files/styles/artist_circle/public/muzooka/Norah%2BJones/Norah%2520Jones_1_1_1588264654.jpg?itok=tpWJ31fa</td><td>True</td></tr><tr><td>2001</td><td>44th Annual GRAMMY Awards  (2001)</td><td>Record Of The Year</td><td>Walk On</td><td>U2</td><td>Brian Eno & Daniel Lanois, producers; Steve Lillywhite & Richard Rainey, engineers/mixers</td><td>https://www.grammy.com/sites/com/files/styles/artist_circle/public/muzooka/U2/U2_1_1_1578385236.jpg?itok=rQVhxxhL</td><td>True</td></tr><tr><td>2000</td><td>43rd Annual GRAMMY Awards  (2000)</td><td>Record Of The Year</td><td>Beautiful Day</td><td>U2</td><td>Brian Eno & Daniel Lanois, producers; Steve Lillywhite & Richard Rainey, engineers/mixers</td><td>https://www.grammy.com/sites/com/files/styles/artist_circle/public/muzooka/U2/U2_1_1_1578385236.jpg?itok=rQVhxxhL</td><td>True</td></tr><tr><td>1999</td><td>42nd Annual GRAMMY Awards  (1999)</td><td>Record Of The Year</td><td>Smooth</td><td>Santana Featuring Rob Thomas</td><td>Matt Serletic, producer; David Thoener, engineer/mixer</td><td>https://www.grammy.com/sites/com/files/styles/artist_circle/public/muzooka/Rob%2BThomas/Rob%2520Thomas_1_1_1575361007.jpg?itok=5bqO3DlV</td><td>True</td></tr><tr><td>1998</td><td>41st Annual GRAMMY Awards  (1998)</td><td>Record Of The Year</td><td>My Heart Will Go On (Love Theme From Titanic)</td><td>Celine Dion</td><td>Walter Afanasieff, Simon Franglen & James Horner, producers; Simon Franglen, Humberto Gatica & David Gleeson, engineers/mixers</td><td>https://www.grammy.com/sites/com/files/styles/artist_circle/public/muzooka/Celine%2BDion/C%25C3%25A9line%2520Dion_1_1_1579163253.jpg?itok=7lpsetr2</td><td>True</td></tr><tr><td>1997</td><td>40th Annual GRAMMY Awards  (1997)</td><td>Record Of The Year</td><td>Sunny Came Home</td><td>Shawn Colvin</td><td>John Leventhal, producer</td><td>https://www.grammy.com/sites/com/files/styles/artist_circle/public/muzooka/Shawn%2BColvin/Shawn%2520Colvin_1_1_1581551750.jpg?itok=1w7xoEU4</td><td>True</td></tr><tr><td>1996</td><td>39th Annual GRAMMY Awards  (1996)</td><td>Record Of The Year</td><td>Change The World</td><td>Eric Clapton</td><td>Babyface, producer</td><td>https://www.grammy.com/sites/com/files/styles/artist_circle/public/muzooka/Eric%2BClapton/Eric%2520Clapton_1_1_1581552257.jpg?itok=VS2OFNyf</td><td>True</td></tr><tr><td>1995</td><td>38th Annual GRAMMY Awards  (1995)</td><td>Record Of The Year</td><td>Kiss From A Rose</td><td>Seal</td><td>Trevor Horn, producer</td><td>https://www.grammy.com/sites/com/files/styles/artist_circle/public/muzooka/Seal/Seal_1_1_1575369703.jpg?itok=Vj2q-xvH</td><td>True</td></tr><tr><td>1994</td><td>37th Annual GRAMMY Awards  (1994)</td><td>Record Of The Year</td><td>All I Wanna Do</td><td>Sheryl Crow</td><td>Bill Bottrell, producer</td><td>https://www.grammy.com/sites/com/files/styles/artist_circle/public/muzooka/Sheryl%2BCrow/Sheryl%2520Crow_1_1_1597145423.jpg?itok=tvxHkBTZ</td><td>True</td></tr><tr><td>1993</td><td>36th Annual GRAMMY Awards  (1993)</td><td>Record Of The Year</td><td>I Will Always Love You</td><td>Whitney Houston</td><td>David Foster, producer</td><td>https://www.grammy.com/sites/com/files/styles/artist_circle/public/muzooka/Whitney%2BHouston/Whitney%2520Houston_1_1_1594980040.jpg?itok=LS4iD1jw</td><td>True</td></tr><tr><td>1992</td><td>35th Annual GRAMMY Awards  (1992)</td><td>Record Of The Year</td><td>Tears In Heaven</td><td>Eric Clapton</td><td>Russ Titelman, producer</td><td>https://www.grammy.com/sites/com/files/styles/artist_circle/public/muzooka/Eric%2BClapton/Eric%2520Clapton_1_1_1581552257.jpg?itok=VS2OFNyf</td><td>True</td></tr><tr><td>1991</td><td>34th Annual GRAMMY Awards  (1991)</td><td>Record Of The Year</td><td>Unforgettable</td><td>Natalie Cole (With Nat \"King\" Cole)</td><td>David Foster, producer</td><td>https://www.grammy.com/sites/com/files/styles/artist_circle/public/muzooka/Natalie%2BCole/Natalie%2520Cole_1_1_1591112950.jpg?itok=A9t_I3Ba</td><td>True</td></tr><tr><td>1990</td><td>33rd Annual GRAMMY Awards  (1990)</td><td>Record Of The Year</td><td>Another Day In Paradise</td><td>Phil Collins</td><td>Phil Collins & Hugh Padgham, producers</td><td>https://www.grammy.com/sites/com/files/styles/artist_circle/public/muzooka/Phil%2BCollins/Phil%2520Collins_1_1_1596706545.jpg?itok=MQR7SHdv</td><td>True</td></tr><tr><td>1989</td><td>32nd Annual GRAMMY Awards  (1989)</td><td>Record Of The Year</td><td>Wind Beneath My Wings</td><td>Bette Midler</td><td>Arif Mardin, producer</td><td>https://www.grammy.com/sites/com/files/styles/artist_circle/public/muzooka/Bette%2BMidler/Bette%2520Midler_1_1_1575359591.jpg?itok=7Wx-nTh_</td><td>True</td></tr><tr><td>1988</td><td>31st Annual GRAMMY Awards  (1988)</td><td>Record Of The Year</td><td>Don't Worry Be Happy</td><td>Bobby McFerrin</td><td>Linda Goldstein, producer</td><td>https://www.grammy.com/sites/com/files/styles/artist_circle/public/muzooka/Bobby%2BMcFerrin/Bobby%2520McFerrin_1_1_1575365223.jpg?itok=KTGGWtEl</td><td>True</td></tr><tr><td>1987</td><td>30th Annual GRAMMY Awards  (1987)</td><td>Record Of The Year</td><td>Graceland</td><td>Paul Simon</td><td>Paul Simon, producer</td><td>https://www.grammy.com/sites/com/files/styles/artist_circle/public/muzooka/Paul%2BSimon/Paul%2520Simon_1_1_1578385319.jpg?itok=H2xb3gsd</td><td>True</td></tr><tr><td>1986</td><td>29th Annual GRAMMY Awards  (1986)</td><td>Record Of The Year</td><td>Higher Love</td><td>Steve Winwood</td><td>Russ Titelman & Steve Winwood, producers</td><td>https://www.grammy.com/sites/com/files/styles/artist_circle/public/muzooka/Steve%2BWinwood/Steve%2520Winwood_1_1_1596799256.jpg?itok=Xc1PcPBM</td><td>True</td></tr><tr><td>1985</td><td>28th Annual GRAMMY Awards  (1985)</td><td>Record Of The Year</td><td>We Are The World</td><td>USA For Africa (Various Artists)</td><td>Quincy Jones, producer</td><td>https://www.grammy.com/sites/com/files/styles/artist_circle/public/muzooka/Quincy%2BJones/Quincy%2520Jones_1_1_1596789836.jpg?itok=54PdILuC</td><td>True</td></tr><tr><td>1984</td><td>27th Annual GRAMMY Awards  (1984)</td><td>Record Of The Year</td><td>What's Love Got To Do With It</td><td>Tina Turner</td><td>Terry Britten, producer</td><td>https://www.grammy.com/sites/com/files/styles/artist_circle/public/muzooka/Tina%2BTurner/Tina%2520Turner_1_1_1579278403.jpg?itok=vJ-mW-L4</td><td>True</td></tr><tr><td>1983</td><td>26th Annual GRAMMY Awards  (1983)</td><td>Record Of The Year</td><td>Beat It</td><td>Michael Jackson</td><td>Michael Jackson & Quincy Jones, producers</td><td>https://www.grammy.com/sites/com/files/styles/artist_circle/public/muzooka/Michael%2BJackson/Michael%2520Jackson_1_1_1584089273.jpg?itok=8N4Ineev</td><td>True</td></tr><tr><td>1982</td><td>25th Annual GRAMMY Awards  (1982)</td><td>Record Of The Year</td><td>Rosanna</td><td>Toto</td><td>Toto (Bobby Kimball, Steve Lukather, David Paich, Jeff Porcaro, Michael Porcaro & Steve Porcaro), producers</td><td>https://www.grammy.com/sites/com/files/styles/artist_circle/public/muzooka/Toto/Toto_1_1_1581552180.jpg?itok=zeWhOeO_</td><td>True</td></tr><tr><td>1981</td><td>24th Annual GRAMMY Awards  (1981)</td><td>Record Of The Year</td><td>Bette Davis Eyes</td><td>Kim Carnes</td><td>Val Garay, producer</td><td>https://www.grammy.com/sites/com/files/styles/artist_circle/public/muzooka/Kim%2BCarnes/Kim%2520Carnes_1_1_1596100249.jpg?itok=XJ1LYIra</td><td>True</td></tr><tr><td>1980</td><td>23rd Annual GRAMMY Awards  (1980)</td><td>Record Of The Year</td><td>Sailing</td><td>Christopher Cross</td><td>Michael Omartian, producer</td><td>https://www.grammy.com/sites/com/files/styles/artist_circle/public/muzooka/Christopher%2BCross/Christopher%2520Cross_1_1_1581554585.jpg?itok=sDilUxBw</td><td>True</td></tr><tr><td>1979</td><td>22nd Annual GRAMMY Awards  (1979)</td><td>Record Of The Year</td><td>What A Fool Believes</td><td>The Doobie Brothers</td><td>Ted Templeman, producer</td><td>null</td><td>True</td></tr><tr><td>1978</td><td>21st Annual GRAMMY Awards  (1978)</td><td>Record Of The Year</td><td>Just The Way You Are</td><td>Billy Joel</td><td>Phil Ramone, producer</td><td>https://www.grammy.com/sites/com/files/styles/artist_circle/public/muzooka/Billy%2BJoel/Billy%2520Joel_1_1_1578384978.jpg?itok=QtM7Q8fq</td><td>True</td></tr><tr><td>1977</td><td>20th Annual GRAMMY Awards  (1977)</td><td>Record Of The Year</td><td>Hotel California</td><td>Eagles</td><td>Bill Szymczyk, producer</td><td>https://www.grammy.com/sites/com/files/styles/artist_circle/public/muzooka/Eagles/Eagles_1_1_1581552244.jpg?itok=0GyT6tV3</td><td>True</td></tr><tr><td>1976</td><td>19th Annual GRAMMY Awards  (1976)</td><td>Record Of The Year</td><td>This Masquerade</td><td>George Benson</td><td>Tommy LiPuma, producer</td><td>https://www.grammy.com/sites/com/files/styles/artist_circle/public/muzooka/George%2BBenson/George%2520Benson_1_1_1578385429.jpg?itok=bzpUiUCb</td><td>True</td></tr><tr><td>1975</td><td>18th Annual GRAMMY Awards  (1975)</td><td>Record Of The Year</td><td>Love Will Keep Us Together</td><td>Captain & Tennille</td><td>Daryl Dragon, producer</td><td>null</td><td>True</td></tr><tr><td>1974</td><td>17th Annual GRAMMY Awards  (1974)</td><td>Record Of The Year</td><td>I Honestly Love You</td><td>Olivia Newton-John</td><td>John Farrar, producer</td><td>https://www.grammy.com/sites/com/files/styles/artist_circle/public/muzooka/Olivia%2BNewton-John/Olivia%2520Newton-John_1_1_1575370845.jpg?itok=SO4aU4ch</td><td>True</td></tr><tr><td>1973</td><td>16th Annual GRAMMY Awards  (1973)</td><td>Record Of The Year</td><td>Killing Me Softly With His Song</td><td>Roberta Flack</td><td>Joel Dorn, producer</td><td>https://www.grammy.com/sites/com/files/styles/artist_circle/public/muzooka/Roberta%2BFlack/Roberta%2520Flack_1_1_1575365614.jpg?itok=xIenBn49</td><td>True</td></tr><tr><td>1972</td><td>15th Annual GRAMMY Awards  (1972)</td><td>Record Of The Year</td><td>The First Time Ever I Saw Your Face</td><td>Roberta Flack</td><td>Joel Dorn, producer</td><td>https://www.grammy.com/sites/com/files/styles/artist_circle/public/muzooka/Roberta%2BFlack/Roberta%2520Flack_1_1_1575365614.jpg?itok=xIenBn49</td><td>True</td></tr><tr><td>1971</td><td>14th Annual GRAMMY Awards  (1971)</td><td>Record Of The Year</td><td>It's Too Late</td><td>Carole King</td><td>Lou Adler, producer</td><td>https://www.grammy.com/sites/com/files/styles/artist_circle/public/muzooka/Carole%2BKing/Carole%2520King_1_1_1578385473.jpg?itok=W5y3jRey</td><td>True</td></tr><tr><td>1970</td><td>13th Annual GRAMMY Awards  (1970)</td><td>Record Of The Year</td><td>Bridge Over Troubled Water</td><td>Simon And Garfunkel</td><td>Roy Halee & Simon And Garfunkel (Art Garfunkel & Paul Simon), producers</td><td>null</td><td>True</td></tr><tr><td>1969</td><td>12th Annual GRAMMY Awards  (1969)</td><td>Record Of The Year</td><td>Aquarius/Let The Sunshine In (The Flesh Failures)</td><td>5th Dimension</td><td>Bones Howe, producer</td><td>null</td><td>True</td></tr><tr><td>1968</td><td>11th Annual GRAMMY Awards  (1968)</td><td>Record Of The Year</td><td>Mrs. Robinson</td><td>Simon And Garfunkel</td><td>Roy Halee & Simon And Garfunkel (Art Garfunkel & Paul Simon), producers</td><td>null</td><td>True</td></tr><tr><td>1967</td><td>10th Annual GRAMMY Awards  (1967)</td><td>Record Of The Year</td><td>Up, Up And Away</td><td>5th Dimension</td><td>Marc Gordon & Johnny Rivers, producers</td><td>https://www.grammy.com/sites/com/files/styles/artist_circle/public/muzooka/Marc%2BGordon/Marc%2520Gordon_1_1_1581629305.jpg?itok=4IiRmFSP</td><td>True</td></tr><tr><td>1966</td><td>9th Annual GRAMMY Awards  (1966)</td><td>Record Of The Year</td><td>Strangers In The Night</td><td>Frank Sinatra</td><td>Jimmy Bowen, producer</td><td>https://www.grammy.com/sites/com/files/styles/artist_circle/public/muzooka/Frank%2BSinatra/Frank%2520Sinatra_1_1_1581552147.jpg?itok=-iX5YZhY</td><td>True</td></tr><tr><td>1965</td><td>8th Annual GRAMMY Awards  (1965)</td><td>Record Of The Year</td><td>A Taste Of Honey</td><td>Herb Alpert And The Tijuana Brass</td><td>Herb Alpert & Jerry Moss, producers</td><td>https://www.grammy.com/sites/com/files/styles/artist_circle/public/muzooka/Herb%2BAlpert/Herb%2520Alpert_1_1_1581628867.jpg?itok=45UhbQPe</td><td>True</td></tr><tr><td>1964</td><td>7th Annual GRAMMY Awards  (1964)</td><td>Record Of The Year</td><td>The Girl From Ipanema</td><td>Stan Getz & Astrud Gilberto</td><td>null</td><td>https://www.grammy.com/sites/com/files/styles/artist_circle/public/muzooka/Stan%2BGetz/Stan%2520Getz_1_1_1581618079.jpg?itok=1uHIRekD</td><td>True</td></tr><tr><td>1963</td><td>6th Annual GRAMMY Awards  (1963)</td><td>Record Of The Year</td><td>Days Of Wine And Roses</td><td>Henry Mancini</td><td>null</td><td>https://www.grammy.com/sites/com/files/styles/artist_circle/public/muzooka/Henry%2BMancini/Henry%2520Mancini_1_1_1581553583.jpg?itok=oMIyl-mj</td><td>True</td></tr><tr><td>1962</td><td>5th Annual GRAMMY Awards  (1962)</td><td>Record Of The Year</td><td>I Left My Heart In San Francisco</td><td>Tony Bennett</td><td>null</td><td>https://www.grammy.com/sites/com/files/styles/artist_circle/public/muzooka/Tony%2BBennett/Tony%2520Bennett_1_1_1584465343.jpg?itok=Zk2PcPhY</td><td>True</td></tr><tr><td>1961</td><td>4th Annual GRAMMY Awards  (1961)</td><td>Record Of The Year</td><td>Moon River</td><td>Henry Mancini</td><td>null</td><td>https://www.grammy.com/sites/com/files/styles/artist_circle/public/muzooka/Henry%2BMancini/Henry%2520Mancini_1_1_1581553583.jpg?itok=oMIyl-mj</td><td>True</td></tr><tr><td>1960</td><td>3rd Annual GRAMMY Awards  (1960)</td><td>Record Of The Year</td><td>The Theme From A Summer Place</td><td>Percy Faith & His Orchestra</td><td>null</td><td>https://www.grammy.com/sites/com/files/styles/artist_circle/public/muzooka/Percy%2BFaith/Percy%2520Faith_1_1_1597165242.jpg?itok=dFp-KK5i</td><td>True</td></tr><tr><td>1959</td><td>2nd Annual GRAMMY Awards  (1959)</td><td>Record Of The Year</td><td>Mack The Knife</td><td>Bobby Darin</td><td>null</td><td>https://www.grammy.com/sites/com/files/styles/artist_circle/public/muzooka/Bobby%2BDarin/Bobby%2520Darin_1_1_1581560302.jpg?itok=wKmA3kxT</td><td>True</td></tr><tr><td>1958</td><td>1st Annual GRAMMY Awards  (1958)</td><td>Record Of The Year</td><td>Nel Blu Dipinto Di Blu (Volare)</td><td>Domenico Modugno</td><td>null</td><td>https://www.grammy.com/sites/com/files/styles/artist_circle/public/muzooka/Domenico%2BModugno/Domenico%2520Modugno_1_1_1581618128.jpg?itok=1HYG0_R2</td><td>True</td></tr></tbody></table></div>"
      ]
     },
     "metadata": {
      "application/vnd.databricks.v1+output": {
       "addedWidgets": {},
       "aggData": [],
       "aggError": "",
       "aggOverflow": false,
       "aggSchema": [],
       "aggSeriesLimitReached": false,
       "aggType": "",
       "arguments": {},
       "columnCustomDisplayInfos": {},
       "data": [
        [
         "2019",
         "62nd Annual GRAMMY Awards  (2019)",
         "Record Of The Year",
         "Bad Guy",
         "Billie Eilish",
         "Finneas O'Connell, producer; Rob Kinelski & Finneas O'Connell, engineers/mixers; John Greenham, mastering engineer",
         "https://www.grammy.com/sites/com/files/styles/artist_circle/public/muzooka/Billie%2BEilish/Billie%2520Eilish_1_1_1594138954.jpg?itok=3-71Dfxh",
         "True"
        ],
        [
         "2019",
         "62nd Annual GRAMMY Awards  (2019)",
         "Record Of The Year",
         "Hey, Ma",
         "Bon Iver",
         "BJ Burton, Brad Cook, Chris Messina & Justin Vernon, producers; BJ Burton, Zach Hanson & Chris Messina, engineers/mixers; Greg Calbi, mastering engineer",
         "https://www.grammy.com/sites/com/files/styles/artist_circle/public/muzooka/Bon%2BIver/Bon%2520Iver_1_1_1578385181.jpg?itok=_M1hc5Ux",
         "True"
        ],
        [
         "2019",
         "62nd Annual GRAMMY Awards  (2019)",
         "Record Of The Year",
         "7 rings",
         "Ariana Grande",
         "Charles Anderson, Tommy Brown, Michael Foster & Victoria Monet, producers; Serban Ghenea, John Hanes, Billy Hickey & Brendan Morawski, engineers/mixers; Randy Merrill, mastering engineer",
         "https://www.grammy.com/sites/com/files/styles/artist_circle/public/muzooka/Ariana%2BGrande/Ariana%2520Grande_1_1_1578384678.jpg?itok=Amj90j13",
         "True"
        ],
        [
         "2019",
         "62nd Annual GRAMMY Awards  (2019)",
         "Record Of The Year",
         "Hard Place",
         "H.E.R.",
         "Rodney “Darkchild” Jerkins, producer; Joseph Hurtado, Jaycen Joshua, Derek Keota & Miki Tsutsumi, engineers/mixers; Colin Leonard, mastering engineer",
         "https://www.grammy.com/sites/com/files/styles/artist_circle/public/muzooka/H.E.R./H.E.R._1_1_1594631035.jpg?itok=ClJe-2MN",
         "True"
        ],
        [
         "2019",
         "62nd Annual GRAMMY Awards  (2019)",
         "Record Of The Year",
         "Talk",
         "Khalid",
         "Disclosure & Denis Kosiak, producers; Ingmar Carlson, Jon Castelli, Josh Deguzman, John Kercy, Denis Kosiak, Guy Lawrence & Michael Romero, engineers/mixers; Dale Becker, mastering engineer",
         "https://www.grammy.com/sites/com/files/styles/artist_circle/public/muzooka/Khalid/Khalid_1_1_1594578772.jpg?itok=2HxjAT-X",
         "True"
        ],
        [
         "2019",
         "62nd Annual GRAMMY Awards  (2019)",
         "Record Of The Year",
         "Old Town Road",
         "Lil Nas X Featuring Billy Ray Cyrus",
         "Andrew \"VoxGod\" Bolooki, Jocelyn “Jozzy” Donald & YoungKio, producers; Andrew \"VoxGod\" Bolooki, Cinco & Joe Grasso, engineers/mixers; Eric Lagg, mastering engineer",
         "https://www.grammy.com/sites/com/files/styles/artist_circle/public/muzooka/Montero%2BLamar%2BHill/Lil%2520Nas%2520X_1_1_1581656760.jpg?itok=_YR6dOjI",
         "True"
        ],
        [
         "2019",
         "62nd Annual GRAMMY Awards  (2019)",
         "Record Of The Year",
         "Truth Hurts",
         "Lizzo",
         "Ricky Reed & Tele, producers; Chris Galland, Manny Marroquin & Ethan Shumaker, engineers/mixers; Chris Gehringer, mastering engineer",
         "https://www.grammy.com/sites/com/files/styles/artist_circle/public/muzooka/Lizzo/Lizzo_1_1_1583931631.jpg?itok=Gm2FQx4s",
         "True"
        ],
        [
         "2019",
         "62nd Annual GRAMMY Awards  (2019)",
         "Record Of The Year",
         "Sunflower",
         "Post Malone & Swae Lee",
         "Louis Bell & Carter Lang, producers; Louis Bell & Manny Marroquin, engineers/mixers; Mike Bozzi, mastering engineer",
         "https://www.grammy.com/sites/com/files/styles/artist_circle/public/muzooka/Post%2BMalone/Post%2520Malone_1_1_1594910341.jpg?itok=HCyRm13g",
         "True"
        ],
        [
         "2018",
         "61st Annual GRAMMY Awards  (2018)",
         "Record Of The Year",
         "This Is America",
         "Childish Gambino",
         "Donald Glover & Ludwig Göransson, producers; Derek \"MixedByAli\" Ali, Kesha Lee, Riley Mackin, Shaan Singh & Alex Tumay, engineers/mixers; Mike Bozzi, mastering engineer",
         "https://www.grammy.com/sites/com/files/styles/artist_circle/public/muzooka/Childish%2BGambino/Childish%2520Gambino_1_1_1591112936.jpg?itok=AU_J_f8x",
         "True"
        ],
        [
         "2017",
         "60th Annual GRAMMY Awards  (2017)",
         "Record Of The Year",
         "24K Magic",
         "Bruno Mars",
         "Shampoo Press & Curl (Christopher Brody Brown, Philip Lawrence & Bruno Mars), producers; Serban Ghenea, John Hanes & Charles Moniz, engineers/mixers; Tom Coyne, mastering engineer",
         "https://www.grammy.com/sites/com/files/styles/artist_circle/public/muzooka/Bruno%2BMars/Bruno%2520Mars_1_1_1578385368.jpg?itok=KhxnacRR",
         "True"
        ],
        [
         "2016",
         "59th Annual GRAMMY Awards  (2016)",
         "Record Of The Year",
         "Hello",
         "Adele",
         "Greg Kurstin, producer; Julian Burg, Tom Elmhirst, Emile Haynie, Greg Kurstin, Liam Nolan, Alex Pasco & Joe Visciano, engineers/mixers; Tom Coyne & Randy Merrill, mastering engineers",
         "https://www.grammy.com/sites/com/files/styles/artist_circle/public/muzooka/Adele/Adele_1_1_1584090130.jpg?itok=xlwW6t3a",
         "True"
        ],
        [
         "2015",
         "58th Annual GRAMMY Awards  (2015)",
         "Record Of The Year",
         "Uptown Funk",
         "Mark Ronson Featuring Bruno Mars",
         "Jeff Bhasker, Philip Lawrence, Bruno Mars & Mark Ronson, producers; Josh Blair, Riccardo Damian, Serban Ghenea, Wayne Gordon, John Hanes, Inaam Haq, Boo Mitchell, Charles Moniz & Mark Ronson, engineers/mixers; Tom Coyne, mastering engineer",
         "https://www.grammy.com/sites/com/files/styles/artist_circle/public/muzooka/Mark%2BRonson/Mark%2520Ronson_1_1_1596790481.jpg?itok=s-dqiJed",
         "True"
        ],
        [
         "2014",
         "57th Annual GRAMMY Awards  (2014)",
         "Record Of The Year",
         "Stay With Me (Darkchild Version)",
         "Sam Smith",
         "Steve Fitzmaurice, Rodney Jerkins & Jimmy Napes, producers; Matthew Champlin, Steve Fitzmaurice, Jimmy Napes & Steve Price, engineers/mixers; Tom Coyne, mastering engineer",
         "https://www.grammy.com/sites/com/files/styles/artist_circle/public/sam_smithrotycrop.jpg?itok=CbuVXG4s",
         "True"
        ],
        [
         "2013",
         "56th Annual GRAMMY Awards  (2013)",
         "Record Of The Year",
         "Get Lucky",
         "Daft Punk Featuring Pharrell Williams & Nile Rodgers",
         "Thomas Bangalter & Guy-Manuel de Homem-Christo, producers; Peter Franco, Mick Guzauski, Florian Lagatta & Daniel Lerner, engineers/mixers; Antoine Chabert & Bob Ludwig, mastering engineers",
         "https://www.grammy.com/sites/com/files/styles/artist_circle/public/465384097_daft_punk_pharrell.jpg?itok=tZ0IzKSI",
         "True"
        ],
        [
         "2012",
         "55th Annual GRAMMY Awards  (2012)",
         "Record Of The Year",
         "Somebody That I Used To Know",
         "Gotye Featuring Kimbra",
         "Wally De Backer, producer; Wally De Backer & Francois Tetaz, engineers/mixers; William Bowden, mastering engineer",
         "https://www.grammy.com/sites/com/files/styles/artist_circle/public/161396233_gotye_kimbra.jpg?itok=4_A2Llji",
         "True"
        ],
        [
         "2011",
         "54th Annual GRAMMY Awards  (2011)",
         "Record Of The Year",
         "Rolling In The Deep",
         "Adele",
         "Paul Epworth, producer; Tom Elmhirst & Mark Rankin, engineers/mixers",
         "https://www.grammy.com/sites/com/files/styles/artist_circle/public/138850365_adele.jpg?itok=X8mml-Wk",
         "True"
        ],
        [
         "2010",
         "53rd Annual GRAMMY Awards  (2010)",
         "Record Of The Year",
         "Need You Now",
         "Lady Antebellum",
         "Lady Antebellum (Dave Haywood, Charles Kelley & Hillary Scott) & Paul N. Worley, producers; L Clarke Schleicher, engineer/mixer",
         "https://www.grammy.com/sites/com/files/styles/artist_circle/public/109066913_lady_antebellum.jpg?itok=iFnOLjld",
         "True"
        ],
        [
         "2009",
         "52nd Annual GRAMMY Awards  (2009)",
         "Record Of The Year",
         "Use Somebody",
         "Kings Of Leon",
         "Jacquire King & Angelo Petraglia, producers; Jacquire King, engineer/mixer",
         "https://www.grammy.com/sites/com/files/styles/artist_circle/public/96337451_kings_of_leon.jpg?itok=mjt6_DjR",
         "True"
        ],
        [
         "2008",
         "51st Annual GRAMMY Awards  (2008)",
         "Record Of The Year",
         "Please Read The Letter",
         "Robert Plant & Alison Krauss",
         "T Bone Burnett, producer; Mike Piersante, engineer/mixer",
         "https://www.grammy.com/sites/com/files/styles/artist_circle/public/muzooka/Robert%2BPlant/Robert%2520Plant_1_1_1591112980.jpg?itok=6LLLbn4I",
         "True"
        ],
        [
         "2007",
         "50th Annual GRAMMY Awards  (2007)",
         "Record Of The Year",
         "Rehab",
         "Amy Winehouse",
         "Mark Ronson, producer; Tom Elmhirst, Samuel \"Vaughan\" Merrick, Dom Morley, Mark Ronson & Gabriel Roth, engineers/mixers",
         "https://www.grammy.com/sites/com/files/styles/artist_circle/public/muzooka/Amy%2BWinehouse/Amy%2520Winehouse_1_1_1578384847.jpg?itok=E0x96uqF",
         "True"
        ],
        [
         "2006",
         "49th Annual GRAMMY Awards  (2006)",
         "Record Of The Year",
         "Not Ready To Make Nice",
         "Dixie Chicks",
         "Rick Rubin, producer; Richard Dodd, Jim Scott & Chris Testa, engineers/mixers",
         "https://www.grammy.com/sites/com/files/styles/artist_circle/public/muzooka/Dixie%2BChicks/Dixie%2520Chicks_1_1_1598343738.jpg?itok=YXj33PAV",
         "True"
        ],
        [
         "2005",
         "48th Annual GRAMMY Awards  (2005)",
         "Record Of The Year",
         "Boulevard Of Broken Dreams",
         "Green Day",
         "Rob Cavallo & Green Day, producers; Chris Lord-Alge & Doug McKean, engineers/mixers",
         "https://www.grammy.com/sites/com/files/styles/artist_circle/public/muzooka/Green%2BDay/Green%2520Day_1_1_1578385279.jpg?itok=wr16YloS",
         "True"
        ],
        [
         "2004",
         "47th Annual GRAMMY Awards  (2004)",
         "Record Of The Year",
         "Here We Go Again",
         "Ray Charles & Norah Jones",
         "John R. Burk, producer; Mark Fleming, Terry Howard & Al Schmitt, engineers/mixers",
         "https://www.grammy.com/sites/com/files/styles/artist_circle/public/ray_charles_spotlight_107293349.png?itok=57kc2vwB",
         "True"
        ],
        [
         "2003",
         "46th Annual GRAMMY Awards  (2003)",
         "Record Of The Year",
         "Clocks",
         "Coldplay",
         "Coldplay & Ken Nelson, producers; Coldplay (Guy Berryman, Jon Buckland, Will Champion, Phil Harvey & Chris Martin), Ken Nelson & Mark Phythian, engineers/mixers",
         "https://www.grammy.com/sites/com/files/styles/artist_circle/public/muzooka/Coldplay/Coldplay_1_1_1591112967.jpg?itok=lLCPutNO",
         "True"
        ],
        [
         "2002",
         "45th Annual GRAMMY Awards  (2002)",
         "Record Of The Year",
         "Don't Know Why",
         "Norah Jones",
         "Norah Jones, Arif Mardin & Jay Newland, producers; Jay Newland, engineer/mixer",
         "https://www.grammy.com/sites/com/files/styles/artist_circle/public/muzooka/Norah%2BJones/Norah%2520Jones_1_1_1588264654.jpg?itok=tpWJ31fa",
         "True"
        ],
        [
         "2001",
         "44th Annual GRAMMY Awards  (2001)",
         "Record Of The Year",
         "Walk On",
         "U2",
         "Brian Eno & Daniel Lanois, producers; Steve Lillywhite & Richard Rainey, engineers/mixers",
         "https://www.grammy.com/sites/com/files/styles/artist_circle/public/muzooka/U2/U2_1_1_1578385236.jpg?itok=rQVhxxhL",
         "True"
        ],
        [
         "2000",
         "43rd Annual GRAMMY Awards  (2000)",
         "Record Of The Year",
         "Beautiful Day",
         "U2",
         "Brian Eno & Daniel Lanois, producers; Steve Lillywhite & Richard Rainey, engineers/mixers",
         "https://www.grammy.com/sites/com/files/styles/artist_circle/public/muzooka/U2/U2_1_1_1578385236.jpg?itok=rQVhxxhL",
         "True"
        ],
        [
         "1999",
         "42nd Annual GRAMMY Awards  (1999)",
         "Record Of The Year",
         "Smooth",
         "Santana Featuring Rob Thomas",
         "Matt Serletic, producer; David Thoener, engineer/mixer",
         "https://www.grammy.com/sites/com/files/styles/artist_circle/public/muzooka/Rob%2BThomas/Rob%2520Thomas_1_1_1575361007.jpg?itok=5bqO3DlV",
         "True"
        ],
        [
         "1998",
         "41st Annual GRAMMY Awards  (1998)",
         "Record Of The Year",
         "My Heart Will Go On (Love Theme From Titanic)",
         "Celine Dion",
         "Walter Afanasieff, Simon Franglen & James Horner, producers; Simon Franglen, Humberto Gatica & David Gleeson, engineers/mixers",
         "https://www.grammy.com/sites/com/files/styles/artist_circle/public/muzooka/Celine%2BDion/C%25C3%25A9line%2520Dion_1_1_1579163253.jpg?itok=7lpsetr2",
         "True"
        ],
        [
         "1997",
         "40th Annual GRAMMY Awards  (1997)",
         "Record Of The Year",
         "Sunny Came Home",
         "Shawn Colvin",
         "John Leventhal, producer",
         "https://www.grammy.com/sites/com/files/styles/artist_circle/public/muzooka/Shawn%2BColvin/Shawn%2520Colvin_1_1_1581551750.jpg?itok=1w7xoEU4",
         "True"
        ],
        [
         "1996",
         "39th Annual GRAMMY Awards  (1996)",
         "Record Of The Year",
         "Change The World",
         "Eric Clapton",
         "Babyface, producer",
         "https://www.grammy.com/sites/com/files/styles/artist_circle/public/muzooka/Eric%2BClapton/Eric%2520Clapton_1_1_1581552257.jpg?itok=VS2OFNyf",
         "True"
        ],
        [
         "1995",
         "38th Annual GRAMMY Awards  (1995)",
         "Record Of The Year",
         "Kiss From A Rose",
         "Seal",
         "Trevor Horn, producer",
         "https://www.grammy.com/sites/com/files/styles/artist_circle/public/muzooka/Seal/Seal_1_1_1575369703.jpg?itok=Vj2q-xvH",
         "True"
        ],
        [
         "1994",
         "37th Annual GRAMMY Awards  (1994)",
         "Record Of The Year",
         "All I Wanna Do",
         "Sheryl Crow",
         "Bill Bottrell, producer",
         "https://www.grammy.com/sites/com/files/styles/artist_circle/public/muzooka/Sheryl%2BCrow/Sheryl%2520Crow_1_1_1597145423.jpg?itok=tvxHkBTZ",
         "True"
        ],
        [
         "1993",
         "36th Annual GRAMMY Awards  (1993)",
         "Record Of The Year",
         "I Will Always Love You",
         "Whitney Houston",
         "David Foster, producer",
         "https://www.grammy.com/sites/com/files/styles/artist_circle/public/muzooka/Whitney%2BHouston/Whitney%2520Houston_1_1_1594980040.jpg?itok=LS4iD1jw",
         "True"
        ],
        [
         "1992",
         "35th Annual GRAMMY Awards  (1992)",
         "Record Of The Year",
         "Tears In Heaven",
         "Eric Clapton",
         "Russ Titelman, producer",
         "https://www.grammy.com/sites/com/files/styles/artist_circle/public/muzooka/Eric%2BClapton/Eric%2520Clapton_1_1_1581552257.jpg?itok=VS2OFNyf",
         "True"
        ],
        [
         "1991",
         "34th Annual GRAMMY Awards  (1991)",
         "Record Of The Year",
         "Unforgettable",
         "Natalie Cole (With Nat \"King\" Cole)",
         "David Foster, producer",
         "https://www.grammy.com/sites/com/files/styles/artist_circle/public/muzooka/Natalie%2BCole/Natalie%2520Cole_1_1_1591112950.jpg?itok=A9t_I3Ba",
         "True"
        ],
        [
         "1990",
         "33rd Annual GRAMMY Awards  (1990)",
         "Record Of The Year",
         "Another Day In Paradise",
         "Phil Collins",
         "Phil Collins & Hugh Padgham, producers",
         "https://www.grammy.com/sites/com/files/styles/artist_circle/public/muzooka/Phil%2BCollins/Phil%2520Collins_1_1_1596706545.jpg?itok=MQR7SHdv",
         "True"
        ],
        [
         "1989",
         "32nd Annual GRAMMY Awards  (1989)",
         "Record Of The Year",
         "Wind Beneath My Wings",
         "Bette Midler",
         "Arif Mardin, producer",
         "https://www.grammy.com/sites/com/files/styles/artist_circle/public/muzooka/Bette%2BMidler/Bette%2520Midler_1_1_1575359591.jpg?itok=7Wx-nTh_",
         "True"
        ],
        [
         "1988",
         "31st Annual GRAMMY Awards  (1988)",
         "Record Of The Year",
         "Don't Worry Be Happy",
         "Bobby McFerrin",
         "Linda Goldstein, producer",
         "https://www.grammy.com/sites/com/files/styles/artist_circle/public/muzooka/Bobby%2BMcFerrin/Bobby%2520McFerrin_1_1_1575365223.jpg?itok=KTGGWtEl",
         "True"
        ],
        [
         "1987",
         "30th Annual GRAMMY Awards  (1987)",
         "Record Of The Year",
         "Graceland",
         "Paul Simon",
         "Paul Simon, producer",
         "https://www.grammy.com/sites/com/files/styles/artist_circle/public/muzooka/Paul%2BSimon/Paul%2520Simon_1_1_1578385319.jpg?itok=H2xb3gsd",
         "True"
        ],
        [
         "1986",
         "29th Annual GRAMMY Awards  (1986)",
         "Record Of The Year",
         "Higher Love",
         "Steve Winwood",
         "Russ Titelman & Steve Winwood, producers",
         "https://www.grammy.com/sites/com/files/styles/artist_circle/public/muzooka/Steve%2BWinwood/Steve%2520Winwood_1_1_1596799256.jpg?itok=Xc1PcPBM",
         "True"
        ],
        [
         "1985",
         "28th Annual GRAMMY Awards  (1985)",
         "Record Of The Year",
         "We Are The World",
         "USA For Africa (Various Artists)",
         "Quincy Jones, producer",
         "https://www.grammy.com/sites/com/files/styles/artist_circle/public/muzooka/Quincy%2BJones/Quincy%2520Jones_1_1_1596789836.jpg?itok=54PdILuC",
         "True"
        ],
        [
         "1984",
         "27th Annual GRAMMY Awards  (1984)",
         "Record Of The Year",
         "What's Love Got To Do With It",
         "Tina Turner",
         "Terry Britten, producer",
         "https://www.grammy.com/sites/com/files/styles/artist_circle/public/muzooka/Tina%2BTurner/Tina%2520Turner_1_1_1579278403.jpg?itok=vJ-mW-L4",
         "True"
        ],
        [
         "1983",
         "26th Annual GRAMMY Awards  (1983)",
         "Record Of The Year",
         "Beat It",
         "Michael Jackson",
         "Michael Jackson & Quincy Jones, producers",
         "https://www.grammy.com/sites/com/files/styles/artist_circle/public/muzooka/Michael%2BJackson/Michael%2520Jackson_1_1_1584089273.jpg?itok=8N4Ineev",
         "True"
        ],
        [
         "1982",
         "25th Annual GRAMMY Awards  (1982)",
         "Record Of The Year",
         "Rosanna",
         "Toto",
         "Toto (Bobby Kimball, Steve Lukather, David Paich, Jeff Porcaro, Michael Porcaro & Steve Porcaro), producers",
         "https://www.grammy.com/sites/com/files/styles/artist_circle/public/muzooka/Toto/Toto_1_1_1581552180.jpg?itok=zeWhOeO_",
         "True"
        ],
        [
         "1981",
         "24th Annual GRAMMY Awards  (1981)",
         "Record Of The Year",
         "Bette Davis Eyes",
         "Kim Carnes",
         "Val Garay, producer",
         "https://www.grammy.com/sites/com/files/styles/artist_circle/public/muzooka/Kim%2BCarnes/Kim%2520Carnes_1_1_1596100249.jpg?itok=XJ1LYIra",
         "True"
        ],
        [
         "1980",
         "23rd Annual GRAMMY Awards  (1980)",
         "Record Of The Year",
         "Sailing",
         "Christopher Cross",
         "Michael Omartian, producer",
         "https://www.grammy.com/sites/com/files/styles/artist_circle/public/muzooka/Christopher%2BCross/Christopher%2520Cross_1_1_1581554585.jpg?itok=sDilUxBw",
         "True"
        ],
        [
         "1979",
         "22nd Annual GRAMMY Awards  (1979)",
         "Record Of The Year",
         "What A Fool Believes",
         "The Doobie Brothers",
         "Ted Templeman, producer",
         null,
         "True"
        ],
        [
         "1978",
         "21st Annual GRAMMY Awards  (1978)",
         "Record Of The Year",
         "Just The Way You Are",
         "Billy Joel",
         "Phil Ramone, producer",
         "https://www.grammy.com/sites/com/files/styles/artist_circle/public/muzooka/Billy%2BJoel/Billy%2520Joel_1_1_1578384978.jpg?itok=QtM7Q8fq",
         "True"
        ],
        [
         "1977",
         "20th Annual GRAMMY Awards  (1977)",
         "Record Of The Year",
         "Hotel California",
         "Eagles",
         "Bill Szymczyk, producer",
         "https://www.grammy.com/sites/com/files/styles/artist_circle/public/muzooka/Eagles/Eagles_1_1_1581552244.jpg?itok=0GyT6tV3",
         "True"
        ],
        [
         "1976",
         "19th Annual GRAMMY Awards  (1976)",
         "Record Of The Year",
         "This Masquerade",
         "George Benson",
         "Tommy LiPuma, producer",
         "https://www.grammy.com/sites/com/files/styles/artist_circle/public/muzooka/George%2BBenson/George%2520Benson_1_1_1578385429.jpg?itok=bzpUiUCb",
         "True"
        ],
        [
         "1975",
         "18th Annual GRAMMY Awards  (1975)",
         "Record Of The Year",
         "Love Will Keep Us Together",
         "Captain & Tennille",
         "Daryl Dragon, producer",
         null,
         "True"
        ],
        [
         "1974",
         "17th Annual GRAMMY Awards  (1974)",
         "Record Of The Year",
         "I Honestly Love You",
         "Olivia Newton-John",
         "John Farrar, producer",
         "https://www.grammy.com/sites/com/files/styles/artist_circle/public/muzooka/Olivia%2BNewton-John/Olivia%2520Newton-John_1_1_1575370845.jpg?itok=SO4aU4ch",
         "True"
        ],
        [
         "1973",
         "16th Annual GRAMMY Awards  (1973)",
         "Record Of The Year",
         "Killing Me Softly With His Song",
         "Roberta Flack",
         "Joel Dorn, producer",
         "https://www.grammy.com/sites/com/files/styles/artist_circle/public/muzooka/Roberta%2BFlack/Roberta%2520Flack_1_1_1575365614.jpg?itok=xIenBn49",
         "True"
        ],
        [
         "1972",
         "15th Annual GRAMMY Awards  (1972)",
         "Record Of The Year",
         "The First Time Ever I Saw Your Face",
         "Roberta Flack",
         "Joel Dorn, producer",
         "https://www.grammy.com/sites/com/files/styles/artist_circle/public/muzooka/Roberta%2BFlack/Roberta%2520Flack_1_1_1575365614.jpg?itok=xIenBn49",
         "True"
        ],
        [
         "1971",
         "14th Annual GRAMMY Awards  (1971)",
         "Record Of The Year",
         "It's Too Late",
         "Carole King",
         "Lou Adler, producer",
         "https://www.grammy.com/sites/com/files/styles/artist_circle/public/muzooka/Carole%2BKing/Carole%2520King_1_1_1578385473.jpg?itok=W5y3jRey",
         "True"
        ],
        [
         "1970",
         "13th Annual GRAMMY Awards  (1970)",
         "Record Of The Year",
         "Bridge Over Troubled Water",
         "Simon And Garfunkel",
         "Roy Halee & Simon And Garfunkel (Art Garfunkel & Paul Simon), producers",
         null,
         "True"
        ],
        [
         "1969",
         "12th Annual GRAMMY Awards  (1969)",
         "Record Of The Year",
         "Aquarius/Let The Sunshine In (The Flesh Failures)",
         "5th Dimension",
         "Bones Howe, producer",
         null,
         "True"
        ],
        [
         "1968",
         "11th Annual GRAMMY Awards  (1968)",
         "Record Of The Year",
         "Mrs. Robinson",
         "Simon And Garfunkel",
         "Roy Halee & Simon And Garfunkel (Art Garfunkel & Paul Simon), producers",
         null,
         "True"
        ],
        [
         "1967",
         "10th Annual GRAMMY Awards  (1967)",
         "Record Of The Year",
         "Up, Up And Away",
         "5th Dimension",
         "Marc Gordon & Johnny Rivers, producers",
         "https://www.grammy.com/sites/com/files/styles/artist_circle/public/muzooka/Marc%2BGordon/Marc%2520Gordon_1_1_1581629305.jpg?itok=4IiRmFSP",
         "True"
        ],
        [
         "1966",
         "9th Annual GRAMMY Awards  (1966)",
         "Record Of The Year",
         "Strangers In The Night",
         "Frank Sinatra",
         "Jimmy Bowen, producer",
         "https://www.grammy.com/sites/com/files/styles/artist_circle/public/muzooka/Frank%2BSinatra/Frank%2520Sinatra_1_1_1581552147.jpg?itok=-iX5YZhY",
         "True"
        ],
        [
         "1965",
         "8th Annual GRAMMY Awards  (1965)",
         "Record Of The Year",
         "A Taste Of Honey",
         "Herb Alpert And The Tijuana Brass",
         "Herb Alpert & Jerry Moss, producers",
         "https://www.grammy.com/sites/com/files/styles/artist_circle/public/muzooka/Herb%2BAlpert/Herb%2520Alpert_1_1_1581628867.jpg?itok=45UhbQPe",
         "True"
        ],
        [
         "1964",
         "7th Annual GRAMMY Awards  (1964)",
         "Record Of The Year",
         "The Girl From Ipanema",
         "Stan Getz & Astrud Gilberto",
         null,
         "https://www.grammy.com/sites/com/files/styles/artist_circle/public/muzooka/Stan%2BGetz/Stan%2520Getz_1_1_1581618079.jpg?itok=1uHIRekD",
         "True"
        ],
        [
         "1963",
         "6th Annual GRAMMY Awards  (1963)",
         "Record Of The Year",
         "Days Of Wine And Roses",
         "Henry Mancini",
         null,
         "https://www.grammy.com/sites/com/files/styles/artist_circle/public/muzooka/Henry%2BMancini/Henry%2520Mancini_1_1_1581553583.jpg?itok=oMIyl-mj",
         "True"
        ],
        [
         "1962",
         "5th Annual GRAMMY Awards  (1962)",
         "Record Of The Year",
         "I Left My Heart In San Francisco",
         "Tony Bennett",
         null,
         "https://www.grammy.com/sites/com/files/styles/artist_circle/public/muzooka/Tony%2BBennett/Tony%2520Bennett_1_1_1584465343.jpg?itok=Zk2PcPhY",
         "True"
        ],
        [
         "1961",
         "4th Annual GRAMMY Awards  (1961)",
         "Record Of The Year",
         "Moon River",
         "Henry Mancini",
         null,
         "https://www.grammy.com/sites/com/files/styles/artist_circle/public/muzooka/Henry%2BMancini/Henry%2520Mancini_1_1_1581553583.jpg?itok=oMIyl-mj",
         "True"
        ],
        [
         "1960",
         "3rd Annual GRAMMY Awards  (1960)",
         "Record Of The Year",
         "The Theme From A Summer Place",
         "Percy Faith & His Orchestra",
         null,
         "https://www.grammy.com/sites/com/files/styles/artist_circle/public/muzooka/Percy%2BFaith/Percy%2520Faith_1_1_1597165242.jpg?itok=dFp-KK5i",
         "True"
        ],
        [
         "1959",
         "2nd Annual GRAMMY Awards  (1959)",
         "Record Of The Year",
         "Mack The Knife",
         "Bobby Darin",
         null,
         "https://www.grammy.com/sites/com/files/styles/artist_circle/public/muzooka/Bobby%2BDarin/Bobby%2520Darin_1_1_1581560302.jpg?itok=wKmA3kxT",
         "True"
        ],
        [
         "1958",
         "1st Annual GRAMMY Awards  (1958)",
         "Record Of The Year",
         "Nel Blu Dipinto Di Blu (Volare)",
         "Domenico Modugno",
         null,
         "https://www.grammy.com/sites/com/files/styles/artist_circle/public/muzooka/Domenico%2BModugno/Domenico%2520Modugno_1_1_1581618128.jpg?itok=1HYG0_R2",
         "True"
        ]
       ],
       "datasetInfos": [],
       "dbfsResultPath": null,
       "isJsonSchema": true,
       "metadata": {},
       "overflow": false,
       "plotOptions": {
        "customPlotOptions": {},
        "displayType": "table",
        "pivotAggregation": null,
        "pivotColumns": null,
        "xColumns": null,
        "yColumns": null
       },
       "removedWidgets": [],
       "schema": [
        {
         "metadata": "{}",
         "name": "year",
         "type": "\"string\""
        },
        {
         "metadata": "{}",
         "name": "title",
         "type": "\"string\""
        },
        {
         "metadata": "{}",
         "name": "category",
         "type": "\"string\""
        },
        {
         "metadata": "{}",
         "name": "nominee",
         "type": "\"string\""
        },
        {
         "metadata": "{}",
         "name": "artist",
         "type": "\"string\""
        },
        {
         "metadata": "{}",
         "name": "workers",
         "type": "\"string\""
        },
        {
         "metadata": "{}",
         "name": "img",
         "type": "\"string\""
        },
        {
         "metadata": "{}",
         "name": "winner",
         "type": "\"string\""
        }
       ],
       "type": "table"
      }
     },
     "output_type": "display_data"
    }
   ],
   "source": [
    "# The next code block shows a data import error for 'Old Town Road' where escape character lead to more columns and thus no URL in the img filed\n",
    "# Use this to export a CSV with all \"Record of the Year\" rows and do a quick check to ensure the correct data ends up in each column\n",
    "# Armin 17.09.2023 Adding .option(\"escape\", \"\\\"\") to the file import seems to have fixed the issue around img\n",
    "# https://stackoverflow.com/questions/40413526/reading-csv-files-with-quoted-fields-containing-embedded-commas\n",
    "display(df_record)"
   ]
  },
  {
   "cell_type": "code",
   "execution_count": 0,
   "metadata": {
    "application/vnd.databricks.v1+cell": {
     "cellMetadata": {
      "byteLimit": 2048000,
      "implicitDf": true,
      "rowLimit": 10000
     },
     "inputWidgets": {},
     "nuid": "6abee465-d62f-4792-9fb7-de7bc13ef733",
     "showTitle": false,
     "title": ""
    }
   },
   "outputs": [
    {
     "output_type": "display_data",
     "data": {
      "text/html": [
       "<style scoped>\n",
       "  .table-result-container {\n",
       "    max-height: 300px;\n",
       "    overflow: auto;\n",
       "  }\n",
       "  table, th, td {\n",
       "    border: 1px solid black;\n",
       "    border-collapse: collapse;\n",
       "  }\n",
       "  th, td {\n",
       "    padding: 5px;\n",
       "  }\n",
       "  th {\n",
       "    text-align: left;\n",
       "  }\n",
       "</style><div class='table-result-container'><table class='table-result'><thead style='background-color: white'><tr><th>nominee</th><th>artist</th><th>workers</th><th>img</th><th>winner</th></tr></thead><tbody><tr><td>Old Town Road</td><td>Lil Nas X Featuring Billy Ray Cyrus</td><td>Andrew \"VoxGod\" Bolooki, Jocelyn “Jozzy” Donald & YoungKio, producers; Andrew \"VoxGod\" Bolooki, Cinco & Joe Grasso, engineers/mixers; Eric Lagg, mastering engineer</td><td>https://www.grammy.com/sites/com/files/styles/artist_circle/public/muzooka/Montero%2BLamar%2BHill/Lil%2520Nas%2520X_1_1_1581656760.jpg?itok=_YR6dOjI</td><td>True</td></tr></tbody></table></div>"
      ]
     },
     "metadata": {
      "application/vnd.databricks.v1+output": {
       "addedWidgets": {},
       "aggData": [],
       "aggError": "",
       "aggOverflow": false,
       "aggSchema": [],
       "aggSeriesLimitReached": false,
       "aggType": "",
       "arguments": {},
       "columnCustomDisplayInfos": {},
       "data": [
        [
         "Old Town Road",
         "Lil Nas X Featuring Billy Ray Cyrus",
         "Andrew \"VoxGod\" Bolooki, Jocelyn “Jozzy” Donald & YoungKio, producers; Andrew \"VoxGod\" Bolooki, Cinco & Joe Grasso, engineers/mixers; Eric Lagg, mastering engineer",
         "https://www.grammy.com/sites/com/files/styles/artist_circle/public/muzooka/Montero%2BLamar%2BHill/Lil%2520Nas%2520X_1_1_1581656760.jpg?itok=_YR6dOjI",
         "True"
        ]
       ],
       "datasetInfos": [],
       "dbfsResultPath": null,
       "isJsonSchema": true,
       "metadata": {},
       "overflow": false,
       "plotOptions": {
        "customPlotOptions": {},
        "displayType": "table",
        "pivotAggregation": null,
        "pivotColumns": null,
        "xColumns": null,
        "yColumns": null
       },
       "removedWidgets": [],
       "schema": [
        {
         "metadata": "{}",
         "name": "nominee",
         "type": "\"string\""
        },
        {
         "metadata": "{}",
         "name": "artist",
         "type": "\"string\""
        },
        {
         "metadata": "{}",
         "name": "workers",
         "type": "\"string\""
        },
        {
         "metadata": "{}",
         "name": "img",
         "type": "\"string\""
        },
        {
         "metadata": "{}",
         "name": "winner",
         "type": "\"string\""
        }
       ],
       "type": "table"
      }
     },
     "output_type": "display_data"
    }
   ],
   "source": [
    "%sql\n",
    "-- Show data import error\n",
    "-- if the field img shows an URL the import worked as expected\n",
    "select nominee, artist, workers, img, winner\n",
    "from `record_of_the_year`\n",
    "where nominee = \"Old Town Road\""
   ]
  },
  {
   "cell_type": "code",
   "execution_count": 0,
   "metadata": {
    "application/vnd.databricks.v1+cell": {
     "cellMetadata": {
      "byteLimit": 2048000,
      "implicitDf": true,
      "rowLimit": 10000
     },
     "inputWidgets": {},
     "nuid": "971db7c1-58d8-480b-b2d0-54de75444bc9",
     "showTitle": false,
     "title": ""
    }
   },
   "outputs": [
    {
     "output_type": "display_data",
     "data": {
      "text/html": [
       "<style scoped>\n",
       "  .table-result-container {\n",
       "    max-height: 300px;\n",
       "    overflow: auto;\n",
       "  }\n",
       "  table, th, td {\n",
       "    border: 1px solid black;\n",
       "    border-collapse: collapse;\n",
       "  }\n",
       "  th, td {\n",
       "    padding: 5px;\n",
       "  }\n",
       "  th {\n",
       "    text-align: left;\n",
       "  }\n",
       "</style><div class='table-result-container'><table class='table-result'><thead style='background-color: white'><tr><th>year</th><th>title</th><th>category</th><th>nominee</th><th>artist</th><th>workers</th><th>img</th><th>winner</th></tr></thead><tbody><tr><td>2019</td><td>62nd Annual GRAMMY Awards  (2019)</td><td>Record Of The Year</td><td>Bad Guy</td><td>Billie Eilish</td><td>Finneas O'Connell, producer; Rob Kinelski & Finneas O'Connell, engineers/mixers; John Greenham, mastering engineer</td><td>https://www.grammy.com/sites/com/files/styles/artist_circle/public/muzooka/Billie%2BEilish/Billie%2520Eilish_1_1_1594138954.jpg?itok=3-71Dfxh</td><td>True</td></tr><tr><td>2019</td><td>62nd Annual GRAMMY Awards  (2019)</td><td>Record Of The Year</td><td>Hey, Ma</td><td>Bon Iver</td><td>BJ Burton, Brad Cook, Chris Messina & Justin Vernon, producers; BJ Burton, Zach Hanson & Chris Messina, engineers/mixers; Greg Calbi, mastering engineer</td><td>https://www.grammy.com/sites/com/files/styles/artist_circle/public/muzooka/Bon%2BIver/Bon%2520Iver_1_1_1578385181.jpg?itok=_M1hc5Ux</td><td>True</td></tr><tr><td>2019</td><td>62nd Annual GRAMMY Awards  (2019)</td><td>Record Of The Year</td><td>7 rings</td><td>Ariana Grande</td><td>Charles Anderson, Tommy Brown, Michael Foster & Victoria Monet, producers; Serban Ghenea, John Hanes, Billy Hickey & Brendan Morawski, engineers/mixers; Randy Merrill, mastering engineer</td><td>https://www.grammy.com/sites/com/files/styles/artist_circle/public/muzooka/Ariana%2BGrande/Ariana%2520Grande_1_1_1578384678.jpg?itok=Amj90j13</td><td>True</td></tr><tr><td>2019</td><td>62nd Annual GRAMMY Awards  (2019)</td><td>Record Of The Year</td><td>Hard Place</td><td>H.E.R.</td><td>Rodney “Darkchild” Jerkins, producer; Joseph Hurtado, Jaycen Joshua, Derek Keota & Miki Tsutsumi, engineers/mixers; Colin Leonard, mastering engineer</td><td>https://www.grammy.com/sites/com/files/styles/artist_circle/public/muzooka/H.E.R./H.E.R._1_1_1594631035.jpg?itok=ClJe-2MN</td><td>True</td></tr><tr><td>2019</td><td>62nd Annual GRAMMY Awards  (2019)</td><td>Record Of The Year</td><td>Talk</td><td>Khalid</td><td>Disclosure & Denis Kosiak, producers; Ingmar Carlson, Jon Castelli, Josh Deguzman, John Kercy, Denis Kosiak, Guy Lawrence & Michael Romero, engineers/mixers; Dale Becker, mastering engineer</td><td>https://www.grammy.com/sites/com/files/styles/artist_circle/public/muzooka/Khalid/Khalid_1_1_1594578772.jpg?itok=2HxjAT-X</td><td>True</td></tr><tr><td>2019</td><td>62nd Annual GRAMMY Awards  (2019)</td><td>Record Of The Year</td><td>Old Town Road</td><td>Lil Nas X Featuring Billy Ray Cyrus</td><td>Andrew \"VoxGod\" Bolooki, Jocelyn “Jozzy” Donald & YoungKio, producers; Andrew \"VoxGod\" Bolooki, Cinco & Joe Grasso, engineers/mixers; Eric Lagg, mastering engineer</td><td>https://www.grammy.com/sites/com/files/styles/artist_circle/public/muzooka/Montero%2BLamar%2BHill/Lil%2520Nas%2520X_1_1_1581656760.jpg?itok=_YR6dOjI</td><td>True</td></tr><tr><td>2019</td><td>62nd Annual GRAMMY Awards  (2019)</td><td>Record Of The Year</td><td>Truth Hurts</td><td>Lizzo</td><td>Ricky Reed & Tele, producers; Chris Galland, Manny Marroquin & Ethan Shumaker, engineers/mixers; Chris Gehringer, mastering engineer</td><td>https://www.grammy.com/sites/com/files/styles/artist_circle/public/muzooka/Lizzo/Lizzo_1_1_1583931631.jpg?itok=Gm2FQx4s</td><td>True</td></tr><tr><td>2019</td><td>62nd Annual GRAMMY Awards  (2019)</td><td>Record Of The Year</td><td>Sunflower</td><td>Post Malone & Swae Lee</td><td>Louis Bell & Carter Lang, producers; Louis Bell & Manny Marroquin, engineers/mixers; Mike Bozzi, mastering engineer</td><td>https://www.grammy.com/sites/com/files/styles/artist_circle/public/muzooka/Post%2BMalone/Post%2520Malone_1_1_1594910341.jpg?itok=HCyRm13g</td><td>True</td></tr><tr><td>2018</td><td>61st Annual GRAMMY Awards  (2018)</td><td>Record Of The Year</td><td>This Is America</td><td>Childish Gambino</td><td>Donald Glover & Ludwig Göransson, producers; Derek \"MixedByAli\" Ali, Kesha Lee, Riley Mackin, Shaan Singh & Alex Tumay, engineers/mixers; Mike Bozzi, mastering engineer</td><td>https://www.grammy.com/sites/com/files/styles/artist_circle/public/muzooka/Childish%2BGambino/Childish%2520Gambino_1_1_1591112936.jpg?itok=AU_J_f8x</td><td>True</td></tr><tr><td>2017</td><td>60th Annual GRAMMY Awards  (2017)</td><td>Record Of The Year</td><td>24K Magic</td><td>Bruno Mars</td><td>Shampoo Press & Curl (Christopher Brody Brown, Philip Lawrence & Bruno Mars), producers; Serban Ghenea, John Hanes & Charles Moniz, engineers/mixers; Tom Coyne, mastering engineer</td><td>https://www.grammy.com/sites/com/files/styles/artist_circle/public/muzooka/Bruno%2BMars/Bruno%2520Mars_1_1_1578385368.jpg?itok=KhxnacRR</td><td>True</td></tr><tr><td>2016</td><td>59th Annual GRAMMY Awards  (2016)</td><td>Record Of The Year</td><td>Hello</td><td>Adele</td><td>Greg Kurstin, producer; Julian Burg, Tom Elmhirst, Emile Haynie, Greg Kurstin, Liam Nolan, Alex Pasco & Joe Visciano, engineers/mixers; Tom Coyne & Randy Merrill, mastering engineers</td><td>https://www.grammy.com/sites/com/files/styles/artist_circle/public/muzooka/Adele/Adele_1_1_1584090130.jpg?itok=xlwW6t3a</td><td>True</td></tr><tr><td>2015</td><td>58th Annual GRAMMY Awards  (2015)</td><td>Record Of The Year</td><td>Uptown Funk</td><td>Mark Ronson Featuring Bruno Mars</td><td>Jeff Bhasker, Philip Lawrence, Bruno Mars & Mark Ronson, producers; Josh Blair, Riccardo Damian, Serban Ghenea, Wayne Gordon, John Hanes, Inaam Haq, Boo Mitchell, Charles Moniz & Mark Ronson, engineers/mixers; Tom Coyne, mastering engineer</td><td>https://www.grammy.com/sites/com/files/styles/artist_circle/public/muzooka/Mark%2BRonson/Mark%2520Ronson_1_1_1596790481.jpg?itok=s-dqiJed</td><td>True</td></tr><tr><td>2014</td><td>57th Annual GRAMMY Awards  (2014)</td><td>Record Of The Year</td><td>Stay With Me (Darkchild Version)</td><td>Sam Smith</td><td>Steve Fitzmaurice, Rodney Jerkins & Jimmy Napes, producers; Matthew Champlin, Steve Fitzmaurice, Jimmy Napes & Steve Price, engineers/mixers; Tom Coyne, mastering engineer</td><td>https://www.grammy.com/sites/com/files/styles/artist_circle/public/sam_smithrotycrop.jpg?itok=CbuVXG4s</td><td>True</td></tr><tr><td>2013</td><td>56th Annual GRAMMY Awards  (2013)</td><td>Record Of The Year</td><td>Get Lucky</td><td>Daft Punk Featuring Pharrell Williams & Nile Rodgers</td><td>Thomas Bangalter & Guy-Manuel de Homem-Christo, producers; Peter Franco, Mick Guzauski, Florian Lagatta & Daniel Lerner, engineers/mixers; Antoine Chabert & Bob Ludwig, mastering engineers</td><td>https://www.grammy.com/sites/com/files/styles/artist_circle/public/465384097_daft_punk_pharrell.jpg?itok=tZ0IzKSI</td><td>True</td></tr><tr><td>2012</td><td>55th Annual GRAMMY Awards  (2012)</td><td>Record Of The Year</td><td>Somebody That I Used To Know</td><td>Gotye Featuring Kimbra</td><td>Wally De Backer, producer; Wally De Backer & Francois Tetaz, engineers/mixers; William Bowden, mastering engineer</td><td>https://www.grammy.com/sites/com/files/styles/artist_circle/public/161396233_gotye_kimbra.jpg?itok=4_A2Llji</td><td>True</td></tr><tr><td>2011</td><td>54th Annual GRAMMY Awards  (2011)</td><td>Record Of The Year</td><td>Rolling In The Deep</td><td>Adele</td><td>Paul Epworth, producer; Tom Elmhirst & Mark Rankin, engineers/mixers</td><td>https://www.grammy.com/sites/com/files/styles/artist_circle/public/138850365_adele.jpg?itok=X8mml-Wk</td><td>True</td></tr><tr><td>2010</td><td>53rd Annual GRAMMY Awards  (2010)</td><td>Record Of The Year</td><td>Need You Now</td><td>Lady Antebellum</td><td>Lady Antebellum (Dave Haywood, Charles Kelley & Hillary Scott) & Paul N. Worley, producers; L Clarke Schleicher, engineer/mixer</td><td>https://www.grammy.com/sites/com/files/styles/artist_circle/public/109066913_lady_antebellum.jpg?itok=iFnOLjld</td><td>True</td></tr><tr><td>2009</td><td>52nd Annual GRAMMY Awards  (2009)</td><td>Record Of The Year</td><td>Use Somebody</td><td>Kings Of Leon</td><td>Jacquire King & Angelo Petraglia, producers; Jacquire King, engineer/mixer</td><td>https://www.grammy.com/sites/com/files/styles/artist_circle/public/96337451_kings_of_leon.jpg?itok=mjt6_DjR</td><td>True</td></tr><tr><td>2008</td><td>51st Annual GRAMMY Awards  (2008)</td><td>Record Of The Year</td><td>Please Read The Letter</td><td>Robert Plant & Alison Krauss</td><td>T Bone Burnett, producer; Mike Piersante, engineer/mixer</td><td>https://www.grammy.com/sites/com/files/styles/artist_circle/public/muzooka/Robert%2BPlant/Robert%2520Plant_1_1_1591112980.jpg?itok=6LLLbn4I</td><td>True</td></tr><tr><td>2007</td><td>50th Annual GRAMMY Awards  (2007)</td><td>Record Of The Year</td><td>Rehab</td><td>Amy Winehouse</td><td>Mark Ronson, producer; Tom Elmhirst, Samuel \"Vaughan\" Merrick, Dom Morley, Mark Ronson & Gabriel Roth, engineers/mixers</td><td>https://www.grammy.com/sites/com/files/styles/artist_circle/public/muzooka/Amy%2BWinehouse/Amy%2520Winehouse_1_1_1578384847.jpg?itok=E0x96uqF</td><td>True</td></tr><tr><td>2006</td><td>49th Annual GRAMMY Awards  (2006)</td><td>Record Of The Year</td><td>Not Ready To Make Nice</td><td>Dixie Chicks</td><td>Rick Rubin, producer; Richard Dodd, Jim Scott & Chris Testa, engineers/mixers</td><td>https://www.grammy.com/sites/com/files/styles/artist_circle/public/muzooka/Dixie%2BChicks/Dixie%2520Chicks_1_1_1598343738.jpg?itok=YXj33PAV</td><td>True</td></tr><tr><td>2005</td><td>48th Annual GRAMMY Awards  (2005)</td><td>Record Of The Year</td><td>Boulevard Of Broken Dreams</td><td>Green Day</td><td>Rob Cavallo & Green Day, producers; Chris Lord-Alge & Doug McKean, engineers/mixers</td><td>https://www.grammy.com/sites/com/files/styles/artist_circle/public/muzooka/Green%2BDay/Green%2520Day_1_1_1578385279.jpg?itok=wr16YloS</td><td>True</td></tr><tr><td>2004</td><td>47th Annual GRAMMY Awards  (2004)</td><td>Record Of The Year</td><td>Here We Go Again</td><td>Ray Charles & Norah Jones</td><td>John R. Burk, producer; Mark Fleming, Terry Howard & Al Schmitt, engineers/mixers</td><td>https://www.grammy.com/sites/com/files/styles/artist_circle/public/ray_charles_spotlight_107293349.png?itok=57kc2vwB</td><td>True</td></tr><tr><td>2003</td><td>46th Annual GRAMMY Awards  (2003)</td><td>Record Of The Year</td><td>Clocks</td><td>Coldplay</td><td>Coldplay & Ken Nelson, producers; Coldplay (Guy Berryman, Jon Buckland, Will Champion, Phil Harvey & Chris Martin), Ken Nelson & Mark Phythian, engineers/mixers</td><td>https://www.grammy.com/sites/com/files/styles/artist_circle/public/muzooka/Coldplay/Coldplay_1_1_1591112967.jpg?itok=lLCPutNO</td><td>True</td></tr><tr><td>2002</td><td>45th Annual GRAMMY Awards  (2002)</td><td>Record Of The Year</td><td>Don't Know Why</td><td>Norah Jones</td><td>Norah Jones, Arif Mardin & Jay Newland, producers; Jay Newland, engineer/mixer</td><td>https://www.grammy.com/sites/com/files/styles/artist_circle/public/muzooka/Norah%2BJones/Norah%2520Jones_1_1_1588264654.jpg?itok=tpWJ31fa</td><td>True</td></tr><tr><td>2001</td><td>44th Annual GRAMMY Awards  (2001)</td><td>Record Of The Year</td><td>Walk On</td><td>U2</td><td>Brian Eno & Daniel Lanois, producers; Steve Lillywhite & Richard Rainey, engineers/mixers</td><td>https://www.grammy.com/sites/com/files/styles/artist_circle/public/muzooka/U2/U2_1_1_1578385236.jpg?itok=rQVhxxhL</td><td>True</td></tr><tr><td>2000</td><td>43rd Annual GRAMMY Awards  (2000)</td><td>Record Of The Year</td><td>Beautiful Day</td><td>U2</td><td>Brian Eno & Daniel Lanois, producers; Steve Lillywhite & Richard Rainey, engineers/mixers</td><td>https://www.grammy.com/sites/com/files/styles/artist_circle/public/muzooka/U2/U2_1_1_1578385236.jpg?itok=rQVhxxhL</td><td>True</td></tr><tr><td>1999</td><td>42nd Annual GRAMMY Awards  (1999)</td><td>Record Of The Year</td><td>Smooth</td><td>Santana Featuring Rob Thomas</td><td>Matt Serletic, producer; David Thoener, engineer/mixer</td><td>https://www.grammy.com/sites/com/files/styles/artist_circle/public/muzooka/Rob%2BThomas/Rob%2520Thomas_1_1_1575361007.jpg?itok=5bqO3DlV</td><td>True</td></tr><tr><td>1998</td><td>41st Annual GRAMMY Awards  (1998)</td><td>Record Of The Year</td><td>My Heart Will Go On (Love Theme From Titanic)</td><td>Celine Dion</td><td>Walter Afanasieff, Simon Franglen & James Horner, producers; Simon Franglen, Humberto Gatica & David Gleeson, engineers/mixers</td><td>https://www.grammy.com/sites/com/files/styles/artist_circle/public/muzooka/Celine%2BDion/C%25C3%25A9line%2520Dion_1_1_1579163253.jpg?itok=7lpsetr2</td><td>True</td></tr><tr><td>1997</td><td>40th Annual GRAMMY Awards  (1997)</td><td>Record Of The Year</td><td>Sunny Came Home</td><td>Shawn Colvin</td><td>John Leventhal, producer</td><td>https://www.grammy.com/sites/com/files/styles/artist_circle/public/muzooka/Shawn%2BColvin/Shawn%2520Colvin_1_1_1581551750.jpg?itok=1w7xoEU4</td><td>True</td></tr><tr><td>1996</td><td>39th Annual GRAMMY Awards  (1996)</td><td>Record Of The Year</td><td>Change The World</td><td>Eric Clapton</td><td>Babyface, producer</td><td>https://www.grammy.com/sites/com/files/styles/artist_circle/public/muzooka/Eric%2BClapton/Eric%2520Clapton_1_1_1581552257.jpg?itok=VS2OFNyf</td><td>True</td></tr><tr><td>1995</td><td>38th Annual GRAMMY Awards  (1995)</td><td>Record Of The Year</td><td>Kiss From A Rose</td><td>Seal</td><td>Trevor Horn, producer</td><td>https://www.grammy.com/sites/com/files/styles/artist_circle/public/muzooka/Seal/Seal_1_1_1575369703.jpg?itok=Vj2q-xvH</td><td>True</td></tr><tr><td>1994</td><td>37th Annual GRAMMY Awards  (1994)</td><td>Record Of The Year</td><td>All I Wanna Do</td><td>Sheryl Crow</td><td>Bill Bottrell, producer</td><td>https://www.grammy.com/sites/com/files/styles/artist_circle/public/muzooka/Sheryl%2BCrow/Sheryl%2520Crow_1_1_1597145423.jpg?itok=tvxHkBTZ</td><td>True</td></tr><tr><td>1993</td><td>36th Annual GRAMMY Awards  (1993)</td><td>Record Of The Year</td><td>I Will Always Love You</td><td>Whitney Houston</td><td>David Foster, producer</td><td>https://www.grammy.com/sites/com/files/styles/artist_circle/public/muzooka/Whitney%2BHouston/Whitney%2520Houston_1_1_1594980040.jpg?itok=LS4iD1jw</td><td>True</td></tr><tr><td>1992</td><td>35th Annual GRAMMY Awards  (1992)</td><td>Record Of The Year</td><td>Tears In Heaven</td><td>Eric Clapton</td><td>Russ Titelman, producer</td><td>https://www.grammy.com/sites/com/files/styles/artist_circle/public/muzooka/Eric%2BClapton/Eric%2520Clapton_1_1_1581552257.jpg?itok=VS2OFNyf</td><td>True</td></tr><tr><td>1991</td><td>34th Annual GRAMMY Awards  (1991)</td><td>Record Of The Year</td><td>Unforgettable</td><td>Natalie Cole (With Nat \"King\" Cole)</td><td>David Foster, producer</td><td>https://www.grammy.com/sites/com/files/styles/artist_circle/public/muzooka/Natalie%2BCole/Natalie%2520Cole_1_1_1591112950.jpg?itok=A9t_I3Ba</td><td>True</td></tr><tr><td>1990</td><td>33rd Annual GRAMMY Awards  (1990)</td><td>Record Of The Year</td><td>Another Day In Paradise</td><td>Phil Collins</td><td>Phil Collins & Hugh Padgham, producers</td><td>https://www.grammy.com/sites/com/files/styles/artist_circle/public/muzooka/Phil%2BCollins/Phil%2520Collins_1_1_1596706545.jpg?itok=MQR7SHdv</td><td>True</td></tr><tr><td>1989</td><td>32nd Annual GRAMMY Awards  (1989)</td><td>Record Of The Year</td><td>Wind Beneath My Wings</td><td>Bette Midler</td><td>Arif Mardin, producer</td><td>https://www.grammy.com/sites/com/files/styles/artist_circle/public/muzooka/Bette%2BMidler/Bette%2520Midler_1_1_1575359591.jpg?itok=7Wx-nTh_</td><td>True</td></tr><tr><td>1988</td><td>31st Annual GRAMMY Awards  (1988)</td><td>Record Of The Year</td><td>Don't Worry Be Happy</td><td>Bobby McFerrin</td><td>Linda Goldstein, producer</td><td>https://www.grammy.com/sites/com/files/styles/artist_circle/public/muzooka/Bobby%2BMcFerrin/Bobby%2520McFerrin_1_1_1575365223.jpg?itok=KTGGWtEl</td><td>True</td></tr><tr><td>1987</td><td>30th Annual GRAMMY Awards  (1987)</td><td>Record Of The Year</td><td>Graceland</td><td>Paul Simon</td><td>Paul Simon, producer</td><td>https://www.grammy.com/sites/com/files/styles/artist_circle/public/muzooka/Paul%2BSimon/Paul%2520Simon_1_1_1578385319.jpg?itok=H2xb3gsd</td><td>True</td></tr><tr><td>1986</td><td>29th Annual GRAMMY Awards  (1986)</td><td>Record Of The Year</td><td>Higher Love</td><td>Steve Winwood</td><td>Russ Titelman & Steve Winwood, producers</td><td>https://www.grammy.com/sites/com/files/styles/artist_circle/public/muzooka/Steve%2BWinwood/Steve%2520Winwood_1_1_1596799256.jpg?itok=Xc1PcPBM</td><td>True</td></tr><tr><td>1985</td><td>28th Annual GRAMMY Awards  (1985)</td><td>Record Of The Year</td><td>We Are The World</td><td>USA For Africa (Various Artists)</td><td>Quincy Jones, producer</td><td>https://www.grammy.com/sites/com/files/styles/artist_circle/public/muzooka/Quincy%2BJones/Quincy%2520Jones_1_1_1596789836.jpg?itok=54PdILuC</td><td>True</td></tr><tr><td>1984</td><td>27th Annual GRAMMY Awards  (1984)</td><td>Record Of The Year</td><td>What's Love Got To Do With It</td><td>Tina Turner</td><td>Terry Britten, producer</td><td>https://www.grammy.com/sites/com/files/styles/artist_circle/public/muzooka/Tina%2BTurner/Tina%2520Turner_1_1_1579278403.jpg?itok=vJ-mW-L4</td><td>True</td></tr><tr><td>1983</td><td>26th Annual GRAMMY Awards  (1983)</td><td>Record Of The Year</td><td>Beat It</td><td>Michael Jackson</td><td>Michael Jackson & Quincy Jones, producers</td><td>https://www.grammy.com/sites/com/files/styles/artist_circle/public/muzooka/Michael%2BJackson/Michael%2520Jackson_1_1_1584089273.jpg?itok=8N4Ineev</td><td>True</td></tr><tr><td>1982</td><td>25th Annual GRAMMY Awards  (1982)</td><td>Record Of The Year</td><td>Rosanna</td><td>Toto</td><td>Toto (Bobby Kimball, Steve Lukather, David Paich, Jeff Porcaro, Michael Porcaro & Steve Porcaro), producers</td><td>https://www.grammy.com/sites/com/files/styles/artist_circle/public/muzooka/Toto/Toto_1_1_1581552180.jpg?itok=zeWhOeO_</td><td>True</td></tr><tr><td>1981</td><td>24th Annual GRAMMY Awards  (1981)</td><td>Record Of The Year</td><td>Bette Davis Eyes</td><td>Kim Carnes</td><td>Val Garay, producer</td><td>https://www.grammy.com/sites/com/files/styles/artist_circle/public/muzooka/Kim%2BCarnes/Kim%2520Carnes_1_1_1596100249.jpg?itok=XJ1LYIra</td><td>True</td></tr><tr><td>1980</td><td>23rd Annual GRAMMY Awards  (1980)</td><td>Record Of The Year</td><td>Sailing</td><td>Christopher Cross</td><td>Michael Omartian, producer</td><td>https://www.grammy.com/sites/com/files/styles/artist_circle/public/muzooka/Christopher%2BCross/Christopher%2520Cross_1_1_1581554585.jpg?itok=sDilUxBw</td><td>True</td></tr><tr><td>1979</td><td>22nd Annual GRAMMY Awards  (1979)</td><td>Record Of The Year</td><td>What A Fool Believes</td><td>The Doobie Brothers</td><td>Ted Templeman, producer</td><td>null</td><td>True</td></tr><tr><td>1978</td><td>21st Annual GRAMMY Awards  (1978)</td><td>Record Of The Year</td><td>Just The Way You Are</td><td>Billy Joel</td><td>Phil Ramone, producer</td><td>https://www.grammy.com/sites/com/files/styles/artist_circle/public/muzooka/Billy%2BJoel/Billy%2520Joel_1_1_1578384978.jpg?itok=QtM7Q8fq</td><td>True</td></tr><tr><td>1977</td><td>20th Annual GRAMMY Awards  (1977)</td><td>Record Of The Year</td><td>Hotel California</td><td>Eagles</td><td>Bill Szymczyk, producer</td><td>https://www.grammy.com/sites/com/files/styles/artist_circle/public/muzooka/Eagles/Eagles_1_1_1581552244.jpg?itok=0GyT6tV3</td><td>True</td></tr><tr><td>1976</td><td>19th Annual GRAMMY Awards  (1976)</td><td>Record Of The Year</td><td>This Masquerade</td><td>George Benson</td><td>Tommy LiPuma, producer</td><td>https://www.grammy.com/sites/com/files/styles/artist_circle/public/muzooka/George%2BBenson/George%2520Benson_1_1_1578385429.jpg?itok=bzpUiUCb</td><td>True</td></tr><tr><td>1975</td><td>18th Annual GRAMMY Awards  (1975)</td><td>Record Of The Year</td><td>Love Will Keep Us Together</td><td>Captain & Tennille</td><td>Daryl Dragon, producer</td><td>null</td><td>True</td></tr><tr><td>1974</td><td>17th Annual GRAMMY Awards  (1974)</td><td>Record Of The Year</td><td>I Honestly Love You</td><td>Olivia Newton-John</td><td>John Farrar, producer</td><td>https://www.grammy.com/sites/com/files/styles/artist_circle/public/muzooka/Olivia%2BNewton-John/Olivia%2520Newton-John_1_1_1575370845.jpg?itok=SO4aU4ch</td><td>True</td></tr><tr><td>1973</td><td>16th Annual GRAMMY Awards  (1973)</td><td>Record Of The Year</td><td>Killing Me Softly With His Song</td><td>Roberta Flack</td><td>Joel Dorn, producer</td><td>https://www.grammy.com/sites/com/files/styles/artist_circle/public/muzooka/Roberta%2BFlack/Roberta%2520Flack_1_1_1575365614.jpg?itok=xIenBn49</td><td>True</td></tr><tr><td>1972</td><td>15th Annual GRAMMY Awards  (1972)</td><td>Record Of The Year</td><td>The First Time Ever I Saw Your Face</td><td>Roberta Flack</td><td>Joel Dorn, producer</td><td>https://www.grammy.com/sites/com/files/styles/artist_circle/public/muzooka/Roberta%2BFlack/Roberta%2520Flack_1_1_1575365614.jpg?itok=xIenBn49</td><td>True</td></tr><tr><td>1971</td><td>14th Annual GRAMMY Awards  (1971)</td><td>Record Of The Year</td><td>It's Too Late</td><td>Carole King</td><td>Lou Adler, producer</td><td>https://www.grammy.com/sites/com/files/styles/artist_circle/public/muzooka/Carole%2BKing/Carole%2520King_1_1_1578385473.jpg?itok=W5y3jRey</td><td>True</td></tr><tr><td>1970</td><td>13th Annual GRAMMY Awards  (1970)</td><td>Record Of The Year</td><td>Bridge Over Troubled Water</td><td>Simon And Garfunkel</td><td>Roy Halee & Simon And Garfunkel (Art Garfunkel & Paul Simon), producers</td><td>null</td><td>True</td></tr><tr><td>1969</td><td>12th Annual GRAMMY Awards  (1969)</td><td>Record Of The Year</td><td>Aquarius/Let The Sunshine In (The Flesh Failures)</td><td>5th Dimension</td><td>Bones Howe, producer</td><td>null</td><td>True</td></tr><tr><td>1968</td><td>11th Annual GRAMMY Awards  (1968)</td><td>Record Of The Year</td><td>Mrs. Robinson</td><td>Simon And Garfunkel</td><td>Roy Halee & Simon And Garfunkel (Art Garfunkel & Paul Simon), producers</td><td>null</td><td>True</td></tr><tr><td>1967</td><td>10th Annual GRAMMY Awards  (1967)</td><td>Record Of The Year</td><td>Up, Up And Away</td><td>5th Dimension</td><td>Marc Gordon & Johnny Rivers, producers</td><td>https://www.grammy.com/sites/com/files/styles/artist_circle/public/muzooka/Marc%2BGordon/Marc%2520Gordon_1_1_1581629305.jpg?itok=4IiRmFSP</td><td>True</td></tr><tr><td>1966</td><td>9th Annual GRAMMY Awards  (1966)</td><td>Record Of The Year</td><td>Strangers In The Night</td><td>Frank Sinatra</td><td>Jimmy Bowen, producer</td><td>https://www.grammy.com/sites/com/files/styles/artist_circle/public/muzooka/Frank%2BSinatra/Frank%2520Sinatra_1_1_1581552147.jpg?itok=-iX5YZhY</td><td>True</td></tr><tr><td>1965</td><td>8th Annual GRAMMY Awards  (1965)</td><td>Record Of The Year</td><td>A Taste Of Honey</td><td>Herb Alpert And The Tijuana Brass</td><td>Herb Alpert & Jerry Moss, producers</td><td>https://www.grammy.com/sites/com/files/styles/artist_circle/public/muzooka/Herb%2BAlpert/Herb%2520Alpert_1_1_1581628867.jpg?itok=45UhbQPe</td><td>True</td></tr><tr><td>1964</td><td>7th Annual GRAMMY Awards  (1964)</td><td>Record Of The Year</td><td>The Girl From Ipanema</td><td>Stan Getz & Astrud Gilberto</td><td>null</td><td>https://www.grammy.com/sites/com/files/styles/artist_circle/public/muzooka/Stan%2BGetz/Stan%2520Getz_1_1_1581618079.jpg?itok=1uHIRekD</td><td>True</td></tr><tr><td>1963</td><td>6th Annual GRAMMY Awards  (1963)</td><td>Record Of The Year</td><td>Days Of Wine And Roses</td><td>Henry Mancini</td><td>null</td><td>https://www.grammy.com/sites/com/files/styles/artist_circle/public/muzooka/Henry%2BMancini/Henry%2520Mancini_1_1_1581553583.jpg?itok=oMIyl-mj</td><td>True</td></tr><tr><td>1962</td><td>5th Annual GRAMMY Awards  (1962)</td><td>Record Of The Year</td><td>I Left My Heart In San Francisco</td><td>Tony Bennett</td><td>null</td><td>https://www.grammy.com/sites/com/files/styles/artist_circle/public/muzooka/Tony%2BBennett/Tony%2520Bennett_1_1_1584465343.jpg?itok=Zk2PcPhY</td><td>True</td></tr><tr><td>1961</td><td>4th Annual GRAMMY Awards  (1961)</td><td>Record Of The Year</td><td>Moon River</td><td>Henry Mancini</td><td>null</td><td>https://www.grammy.com/sites/com/files/styles/artist_circle/public/muzooka/Henry%2BMancini/Henry%2520Mancini_1_1_1581553583.jpg?itok=oMIyl-mj</td><td>True</td></tr><tr><td>1960</td><td>3rd Annual GRAMMY Awards  (1960)</td><td>Record Of The Year</td><td>The Theme From A Summer Place</td><td>Percy Faith & His Orchestra</td><td>null</td><td>https://www.grammy.com/sites/com/files/styles/artist_circle/public/muzooka/Percy%2BFaith/Percy%2520Faith_1_1_1597165242.jpg?itok=dFp-KK5i</td><td>True</td></tr><tr><td>1959</td><td>2nd Annual GRAMMY Awards  (1959)</td><td>Record Of The Year</td><td>Mack The Knife</td><td>Bobby Darin</td><td>null</td><td>https://www.grammy.com/sites/com/files/styles/artist_circle/public/muzooka/Bobby%2BDarin/Bobby%2520Darin_1_1_1581560302.jpg?itok=wKmA3kxT</td><td>True</td></tr><tr><td>1958</td><td>1st Annual GRAMMY Awards  (1958)</td><td>Record Of The Year</td><td>Nel Blu Dipinto Di Blu (Volare)</td><td>Domenico Modugno</td><td>null</td><td>https://www.grammy.com/sites/com/files/styles/artist_circle/public/muzooka/Domenico%2BModugno/Domenico%2520Modugno_1_1_1581618128.jpg?itok=1HYG0_R2</td><td>True</td></tr></tbody></table></div>"
      ]
     },
     "metadata": {
      "application/vnd.databricks.v1+output": {
       "addedWidgets": {},
       "aggData": [],
       "aggError": "",
       "aggOverflow": false,
       "aggSchema": [],
       "aggSeriesLimitReached": false,
       "aggType": "",
       "arguments": {},
       "columnCustomDisplayInfos": {},
       "data": [
        [
         "2019",
         "62nd Annual GRAMMY Awards  (2019)",
         "Record Of The Year",
         "Bad Guy",
         "Billie Eilish",
         "Finneas O'Connell, producer; Rob Kinelski & Finneas O'Connell, engineers/mixers; John Greenham, mastering engineer",
         "https://www.grammy.com/sites/com/files/styles/artist_circle/public/muzooka/Billie%2BEilish/Billie%2520Eilish_1_1_1594138954.jpg?itok=3-71Dfxh",
         "True"
        ],
        [
         "2019",
         "62nd Annual GRAMMY Awards  (2019)",
         "Record Of The Year",
         "Hey, Ma",
         "Bon Iver",
         "BJ Burton, Brad Cook, Chris Messina & Justin Vernon, producers; BJ Burton, Zach Hanson & Chris Messina, engineers/mixers; Greg Calbi, mastering engineer",
         "https://www.grammy.com/sites/com/files/styles/artist_circle/public/muzooka/Bon%2BIver/Bon%2520Iver_1_1_1578385181.jpg?itok=_M1hc5Ux",
         "True"
        ],
        [
         "2019",
         "62nd Annual GRAMMY Awards  (2019)",
         "Record Of The Year",
         "7 rings",
         "Ariana Grande",
         "Charles Anderson, Tommy Brown, Michael Foster & Victoria Monet, producers; Serban Ghenea, John Hanes, Billy Hickey & Brendan Morawski, engineers/mixers; Randy Merrill, mastering engineer",
         "https://www.grammy.com/sites/com/files/styles/artist_circle/public/muzooka/Ariana%2BGrande/Ariana%2520Grande_1_1_1578384678.jpg?itok=Amj90j13",
         "True"
        ],
        [
         "2019",
         "62nd Annual GRAMMY Awards  (2019)",
         "Record Of The Year",
         "Hard Place",
         "H.E.R.",
         "Rodney “Darkchild” Jerkins, producer; Joseph Hurtado, Jaycen Joshua, Derek Keota & Miki Tsutsumi, engineers/mixers; Colin Leonard, mastering engineer",
         "https://www.grammy.com/sites/com/files/styles/artist_circle/public/muzooka/H.E.R./H.E.R._1_1_1594631035.jpg?itok=ClJe-2MN",
         "True"
        ],
        [
         "2019",
         "62nd Annual GRAMMY Awards  (2019)",
         "Record Of The Year",
         "Talk",
         "Khalid",
         "Disclosure & Denis Kosiak, producers; Ingmar Carlson, Jon Castelli, Josh Deguzman, John Kercy, Denis Kosiak, Guy Lawrence & Michael Romero, engineers/mixers; Dale Becker, mastering engineer",
         "https://www.grammy.com/sites/com/files/styles/artist_circle/public/muzooka/Khalid/Khalid_1_1_1594578772.jpg?itok=2HxjAT-X",
         "True"
        ],
        [
         "2019",
         "62nd Annual GRAMMY Awards  (2019)",
         "Record Of The Year",
         "Old Town Road",
         "Lil Nas X Featuring Billy Ray Cyrus",
         "Andrew \"VoxGod\" Bolooki, Jocelyn “Jozzy” Donald & YoungKio, producers; Andrew \"VoxGod\" Bolooki, Cinco & Joe Grasso, engineers/mixers; Eric Lagg, mastering engineer",
         "https://www.grammy.com/sites/com/files/styles/artist_circle/public/muzooka/Montero%2BLamar%2BHill/Lil%2520Nas%2520X_1_1_1581656760.jpg?itok=_YR6dOjI",
         "True"
        ],
        [
         "2019",
         "62nd Annual GRAMMY Awards  (2019)",
         "Record Of The Year",
         "Truth Hurts",
         "Lizzo",
         "Ricky Reed & Tele, producers; Chris Galland, Manny Marroquin & Ethan Shumaker, engineers/mixers; Chris Gehringer, mastering engineer",
         "https://www.grammy.com/sites/com/files/styles/artist_circle/public/muzooka/Lizzo/Lizzo_1_1_1583931631.jpg?itok=Gm2FQx4s",
         "True"
        ],
        [
         "2019",
         "62nd Annual GRAMMY Awards  (2019)",
         "Record Of The Year",
         "Sunflower",
         "Post Malone & Swae Lee",
         "Louis Bell & Carter Lang, producers; Louis Bell & Manny Marroquin, engineers/mixers; Mike Bozzi, mastering engineer",
         "https://www.grammy.com/sites/com/files/styles/artist_circle/public/muzooka/Post%2BMalone/Post%2520Malone_1_1_1594910341.jpg?itok=HCyRm13g",
         "True"
        ],
        [
         "2018",
         "61st Annual GRAMMY Awards  (2018)",
         "Record Of The Year",
         "This Is America",
         "Childish Gambino",
         "Donald Glover & Ludwig Göransson, producers; Derek \"MixedByAli\" Ali, Kesha Lee, Riley Mackin, Shaan Singh & Alex Tumay, engineers/mixers; Mike Bozzi, mastering engineer",
         "https://www.grammy.com/sites/com/files/styles/artist_circle/public/muzooka/Childish%2BGambino/Childish%2520Gambino_1_1_1591112936.jpg?itok=AU_J_f8x",
         "True"
        ],
        [
         "2017",
         "60th Annual GRAMMY Awards  (2017)",
         "Record Of The Year",
         "24K Magic",
         "Bruno Mars",
         "Shampoo Press & Curl (Christopher Brody Brown, Philip Lawrence & Bruno Mars), producers; Serban Ghenea, John Hanes & Charles Moniz, engineers/mixers; Tom Coyne, mastering engineer",
         "https://www.grammy.com/sites/com/files/styles/artist_circle/public/muzooka/Bruno%2BMars/Bruno%2520Mars_1_1_1578385368.jpg?itok=KhxnacRR",
         "True"
        ],
        [
         "2016",
         "59th Annual GRAMMY Awards  (2016)",
         "Record Of The Year",
         "Hello",
         "Adele",
         "Greg Kurstin, producer; Julian Burg, Tom Elmhirst, Emile Haynie, Greg Kurstin, Liam Nolan, Alex Pasco & Joe Visciano, engineers/mixers; Tom Coyne & Randy Merrill, mastering engineers",
         "https://www.grammy.com/sites/com/files/styles/artist_circle/public/muzooka/Adele/Adele_1_1_1584090130.jpg?itok=xlwW6t3a",
         "True"
        ],
        [
         "2015",
         "58th Annual GRAMMY Awards  (2015)",
         "Record Of The Year",
         "Uptown Funk",
         "Mark Ronson Featuring Bruno Mars",
         "Jeff Bhasker, Philip Lawrence, Bruno Mars & Mark Ronson, producers; Josh Blair, Riccardo Damian, Serban Ghenea, Wayne Gordon, John Hanes, Inaam Haq, Boo Mitchell, Charles Moniz & Mark Ronson, engineers/mixers; Tom Coyne, mastering engineer",
         "https://www.grammy.com/sites/com/files/styles/artist_circle/public/muzooka/Mark%2BRonson/Mark%2520Ronson_1_1_1596790481.jpg?itok=s-dqiJed",
         "True"
        ],
        [
         "2014",
         "57th Annual GRAMMY Awards  (2014)",
         "Record Of The Year",
         "Stay With Me (Darkchild Version)",
         "Sam Smith",
         "Steve Fitzmaurice, Rodney Jerkins & Jimmy Napes, producers; Matthew Champlin, Steve Fitzmaurice, Jimmy Napes & Steve Price, engineers/mixers; Tom Coyne, mastering engineer",
         "https://www.grammy.com/sites/com/files/styles/artist_circle/public/sam_smithrotycrop.jpg?itok=CbuVXG4s",
         "True"
        ],
        [
         "2013",
         "56th Annual GRAMMY Awards  (2013)",
         "Record Of The Year",
         "Get Lucky",
         "Daft Punk Featuring Pharrell Williams & Nile Rodgers",
         "Thomas Bangalter & Guy-Manuel de Homem-Christo, producers; Peter Franco, Mick Guzauski, Florian Lagatta & Daniel Lerner, engineers/mixers; Antoine Chabert & Bob Ludwig, mastering engineers",
         "https://www.grammy.com/sites/com/files/styles/artist_circle/public/465384097_daft_punk_pharrell.jpg?itok=tZ0IzKSI",
         "True"
        ],
        [
         "2012",
         "55th Annual GRAMMY Awards  (2012)",
         "Record Of The Year",
         "Somebody That I Used To Know",
         "Gotye Featuring Kimbra",
         "Wally De Backer, producer; Wally De Backer & Francois Tetaz, engineers/mixers; William Bowden, mastering engineer",
         "https://www.grammy.com/sites/com/files/styles/artist_circle/public/161396233_gotye_kimbra.jpg?itok=4_A2Llji",
         "True"
        ],
        [
         "2011",
         "54th Annual GRAMMY Awards  (2011)",
         "Record Of The Year",
         "Rolling In The Deep",
         "Adele",
         "Paul Epworth, producer; Tom Elmhirst & Mark Rankin, engineers/mixers",
         "https://www.grammy.com/sites/com/files/styles/artist_circle/public/138850365_adele.jpg?itok=X8mml-Wk",
         "True"
        ],
        [
         "2010",
         "53rd Annual GRAMMY Awards  (2010)",
         "Record Of The Year",
         "Need You Now",
         "Lady Antebellum",
         "Lady Antebellum (Dave Haywood, Charles Kelley & Hillary Scott) & Paul N. Worley, producers; L Clarke Schleicher, engineer/mixer",
         "https://www.grammy.com/sites/com/files/styles/artist_circle/public/109066913_lady_antebellum.jpg?itok=iFnOLjld",
         "True"
        ],
        [
         "2009",
         "52nd Annual GRAMMY Awards  (2009)",
         "Record Of The Year",
         "Use Somebody",
         "Kings Of Leon",
         "Jacquire King & Angelo Petraglia, producers; Jacquire King, engineer/mixer",
         "https://www.grammy.com/sites/com/files/styles/artist_circle/public/96337451_kings_of_leon.jpg?itok=mjt6_DjR",
         "True"
        ],
        [
         "2008",
         "51st Annual GRAMMY Awards  (2008)",
         "Record Of The Year",
         "Please Read The Letter",
         "Robert Plant & Alison Krauss",
         "T Bone Burnett, producer; Mike Piersante, engineer/mixer",
         "https://www.grammy.com/sites/com/files/styles/artist_circle/public/muzooka/Robert%2BPlant/Robert%2520Plant_1_1_1591112980.jpg?itok=6LLLbn4I",
         "True"
        ],
        [
         "2007",
         "50th Annual GRAMMY Awards  (2007)",
         "Record Of The Year",
         "Rehab",
         "Amy Winehouse",
         "Mark Ronson, producer; Tom Elmhirst, Samuel \"Vaughan\" Merrick, Dom Morley, Mark Ronson & Gabriel Roth, engineers/mixers",
         "https://www.grammy.com/sites/com/files/styles/artist_circle/public/muzooka/Amy%2BWinehouse/Amy%2520Winehouse_1_1_1578384847.jpg?itok=E0x96uqF",
         "True"
        ],
        [
         "2006",
         "49th Annual GRAMMY Awards  (2006)",
         "Record Of The Year",
         "Not Ready To Make Nice",
         "Dixie Chicks",
         "Rick Rubin, producer; Richard Dodd, Jim Scott & Chris Testa, engineers/mixers",
         "https://www.grammy.com/sites/com/files/styles/artist_circle/public/muzooka/Dixie%2BChicks/Dixie%2520Chicks_1_1_1598343738.jpg?itok=YXj33PAV",
         "True"
        ],
        [
         "2005",
         "48th Annual GRAMMY Awards  (2005)",
         "Record Of The Year",
         "Boulevard Of Broken Dreams",
         "Green Day",
         "Rob Cavallo & Green Day, producers; Chris Lord-Alge & Doug McKean, engineers/mixers",
         "https://www.grammy.com/sites/com/files/styles/artist_circle/public/muzooka/Green%2BDay/Green%2520Day_1_1_1578385279.jpg?itok=wr16YloS",
         "True"
        ],
        [
         "2004",
         "47th Annual GRAMMY Awards  (2004)",
         "Record Of The Year",
         "Here We Go Again",
         "Ray Charles & Norah Jones",
         "John R. Burk, producer; Mark Fleming, Terry Howard & Al Schmitt, engineers/mixers",
         "https://www.grammy.com/sites/com/files/styles/artist_circle/public/ray_charles_spotlight_107293349.png?itok=57kc2vwB",
         "True"
        ],
        [
         "2003",
         "46th Annual GRAMMY Awards  (2003)",
         "Record Of The Year",
         "Clocks",
         "Coldplay",
         "Coldplay & Ken Nelson, producers; Coldplay (Guy Berryman, Jon Buckland, Will Champion, Phil Harvey & Chris Martin), Ken Nelson & Mark Phythian, engineers/mixers",
         "https://www.grammy.com/sites/com/files/styles/artist_circle/public/muzooka/Coldplay/Coldplay_1_1_1591112967.jpg?itok=lLCPutNO",
         "True"
        ],
        [
         "2002",
         "45th Annual GRAMMY Awards  (2002)",
         "Record Of The Year",
         "Don't Know Why",
         "Norah Jones",
         "Norah Jones, Arif Mardin & Jay Newland, producers; Jay Newland, engineer/mixer",
         "https://www.grammy.com/sites/com/files/styles/artist_circle/public/muzooka/Norah%2BJones/Norah%2520Jones_1_1_1588264654.jpg?itok=tpWJ31fa",
         "True"
        ],
        [
         "2001",
         "44th Annual GRAMMY Awards  (2001)",
         "Record Of The Year",
         "Walk On",
         "U2",
         "Brian Eno & Daniel Lanois, producers; Steve Lillywhite & Richard Rainey, engineers/mixers",
         "https://www.grammy.com/sites/com/files/styles/artist_circle/public/muzooka/U2/U2_1_1_1578385236.jpg?itok=rQVhxxhL",
         "True"
        ],
        [
         "2000",
         "43rd Annual GRAMMY Awards  (2000)",
         "Record Of The Year",
         "Beautiful Day",
         "U2",
         "Brian Eno & Daniel Lanois, producers; Steve Lillywhite & Richard Rainey, engineers/mixers",
         "https://www.grammy.com/sites/com/files/styles/artist_circle/public/muzooka/U2/U2_1_1_1578385236.jpg?itok=rQVhxxhL",
         "True"
        ],
        [
         "1999",
         "42nd Annual GRAMMY Awards  (1999)",
         "Record Of The Year",
         "Smooth",
         "Santana Featuring Rob Thomas",
         "Matt Serletic, producer; David Thoener, engineer/mixer",
         "https://www.grammy.com/sites/com/files/styles/artist_circle/public/muzooka/Rob%2BThomas/Rob%2520Thomas_1_1_1575361007.jpg?itok=5bqO3DlV",
         "True"
        ],
        [
         "1998",
         "41st Annual GRAMMY Awards  (1998)",
         "Record Of The Year",
         "My Heart Will Go On (Love Theme From Titanic)",
         "Celine Dion",
         "Walter Afanasieff, Simon Franglen & James Horner, producers; Simon Franglen, Humberto Gatica & David Gleeson, engineers/mixers",
         "https://www.grammy.com/sites/com/files/styles/artist_circle/public/muzooka/Celine%2BDion/C%25C3%25A9line%2520Dion_1_1_1579163253.jpg?itok=7lpsetr2",
         "True"
        ],
        [
         "1997",
         "40th Annual GRAMMY Awards  (1997)",
         "Record Of The Year",
         "Sunny Came Home",
         "Shawn Colvin",
         "John Leventhal, producer",
         "https://www.grammy.com/sites/com/files/styles/artist_circle/public/muzooka/Shawn%2BColvin/Shawn%2520Colvin_1_1_1581551750.jpg?itok=1w7xoEU4",
         "True"
        ],
        [
         "1996",
         "39th Annual GRAMMY Awards  (1996)",
         "Record Of The Year",
         "Change The World",
         "Eric Clapton",
         "Babyface, producer",
         "https://www.grammy.com/sites/com/files/styles/artist_circle/public/muzooka/Eric%2BClapton/Eric%2520Clapton_1_1_1581552257.jpg?itok=VS2OFNyf",
         "True"
        ],
        [
         "1995",
         "38th Annual GRAMMY Awards  (1995)",
         "Record Of The Year",
         "Kiss From A Rose",
         "Seal",
         "Trevor Horn, producer",
         "https://www.grammy.com/sites/com/files/styles/artist_circle/public/muzooka/Seal/Seal_1_1_1575369703.jpg?itok=Vj2q-xvH",
         "True"
        ],
        [
         "1994",
         "37th Annual GRAMMY Awards  (1994)",
         "Record Of The Year",
         "All I Wanna Do",
         "Sheryl Crow",
         "Bill Bottrell, producer",
         "https://www.grammy.com/sites/com/files/styles/artist_circle/public/muzooka/Sheryl%2BCrow/Sheryl%2520Crow_1_1_1597145423.jpg?itok=tvxHkBTZ",
         "True"
        ],
        [
         "1993",
         "36th Annual GRAMMY Awards  (1993)",
         "Record Of The Year",
         "I Will Always Love You",
         "Whitney Houston",
         "David Foster, producer",
         "https://www.grammy.com/sites/com/files/styles/artist_circle/public/muzooka/Whitney%2BHouston/Whitney%2520Houston_1_1_1594980040.jpg?itok=LS4iD1jw",
         "True"
        ],
        [
         "1992",
         "35th Annual GRAMMY Awards  (1992)",
         "Record Of The Year",
         "Tears In Heaven",
         "Eric Clapton",
         "Russ Titelman, producer",
         "https://www.grammy.com/sites/com/files/styles/artist_circle/public/muzooka/Eric%2BClapton/Eric%2520Clapton_1_1_1581552257.jpg?itok=VS2OFNyf",
         "True"
        ],
        [
         "1991",
         "34th Annual GRAMMY Awards  (1991)",
         "Record Of The Year",
         "Unforgettable",
         "Natalie Cole (With Nat \"King\" Cole)",
         "David Foster, producer",
         "https://www.grammy.com/sites/com/files/styles/artist_circle/public/muzooka/Natalie%2BCole/Natalie%2520Cole_1_1_1591112950.jpg?itok=A9t_I3Ba",
         "True"
        ],
        [
         "1990",
         "33rd Annual GRAMMY Awards  (1990)",
         "Record Of The Year",
         "Another Day In Paradise",
         "Phil Collins",
         "Phil Collins & Hugh Padgham, producers",
         "https://www.grammy.com/sites/com/files/styles/artist_circle/public/muzooka/Phil%2BCollins/Phil%2520Collins_1_1_1596706545.jpg?itok=MQR7SHdv",
         "True"
        ],
        [
         "1989",
         "32nd Annual GRAMMY Awards  (1989)",
         "Record Of The Year",
         "Wind Beneath My Wings",
         "Bette Midler",
         "Arif Mardin, producer",
         "https://www.grammy.com/sites/com/files/styles/artist_circle/public/muzooka/Bette%2BMidler/Bette%2520Midler_1_1_1575359591.jpg?itok=7Wx-nTh_",
         "True"
        ],
        [
         "1988",
         "31st Annual GRAMMY Awards  (1988)",
         "Record Of The Year",
         "Don't Worry Be Happy",
         "Bobby McFerrin",
         "Linda Goldstein, producer",
         "https://www.grammy.com/sites/com/files/styles/artist_circle/public/muzooka/Bobby%2BMcFerrin/Bobby%2520McFerrin_1_1_1575365223.jpg?itok=KTGGWtEl",
         "True"
        ],
        [
         "1987",
         "30th Annual GRAMMY Awards  (1987)",
         "Record Of The Year",
         "Graceland",
         "Paul Simon",
         "Paul Simon, producer",
         "https://www.grammy.com/sites/com/files/styles/artist_circle/public/muzooka/Paul%2BSimon/Paul%2520Simon_1_1_1578385319.jpg?itok=H2xb3gsd",
         "True"
        ],
        [
         "1986",
         "29th Annual GRAMMY Awards  (1986)",
         "Record Of The Year",
         "Higher Love",
         "Steve Winwood",
         "Russ Titelman & Steve Winwood, producers",
         "https://www.grammy.com/sites/com/files/styles/artist_circle/public/muzooka/Steve%2BWinwood/Steve%2520Winwood_1_1_1596799256.jpg?itok=Xc1PcPBM",
         "True"
        ],
        [
         "1985",
         "28th Annual GRAMMY Awards  (1985)",
         "Record Of The Year",
         "We Are The World",
         "USA For Africa (Various Artists)",
         "Quincy Jones, producer",
         "https://www.grammy.com/sites/com/files/styles/artist_circle/public/muzooka/Quincy%2BJones/Quincy%2520Jones_1_1_1596789836.jpg?itok=54PdILuC",
         "True"
        ],
        [
         "1984",
         "27th Annual GRAMMY Awards  (1984)",
         "Record Of The Year",
         "What's Love Got To Do With It",
         "Tina Turner",
         "Terry Britten, producer",
         "https://www.grammy.com/sites/com/files/styles/artist_circle/public/muzooka/Tina%2BTurner/Tina%2520Turner_1_1_1579278403.jpg?itok=vJ-mW-L4",
         "True"
        ],
        [
         "1983",
         "26th Annual GRAMMY Awards  (1983)",
         "Record Of The Year",
         "Beat It",
         "Michael Jackson",
         "Michael Jackson & Quincy Jones, producers",
         "https://www.grammy.com/sites/com/files/styles/artist_circle/public/muzooka/Michael%2BJackson/Michael%2520Jackson_1_1_1584089273.jpg?itok=8N4Ineev",
         "True"
        ],
        [
         "1982",
         "25th Annual GRAMMY Awards  (1982)",
         "Record Of The Year",
         "Rosanna",
         "Toto",
         "Toto (Bobby Kimball, Steve Lukather, David Paich, Jeff Porcaro, Michael Porcaro & Steve Porcaro), producers",
         "https://www.grammy.com/sites/com/files/styles/artist_circle/public/muzooka/Toto/Toto_1_1_1581552180.jpg?itok=zeWhOeO_",
         "True"
        ],
        [
         "1981",
         "24th Annual GRAMMY Awards  (1981)",
         "Record Of The Year",
         "Bette Davis Eyes",
         "Kim Carnes",
         "Val Garay, producer",
         "https://www.grammy.com/sites/com/files/styles/artist_circle/public/muzooka/Kim%2BCarnes/Kim%2520Carnes_1_1_1596100249.jpg?itok=XJ1LYIra",
         "True"
        ],
        [
         "1980",
         "23rd Annual GRAMMY Awards  (1980)",
         "Record Of The Year",
         "Sailing",
         "Christopher Cross",
         "Michael Omartian, producer",
         "https://www.grammy.com/sites/com/files/styles/artist_circle/public/muzooka/Christopher%2BCross/Christopher%2520Cross_1_1_1581554585.jpg?itok=sDilUxBw",
         "True"
        ],
        [
         "1979",
         "22nd Annual GRAMMY Awards  (1979)",
         "Record Of The Year",
         "What A Fool Believes",
         "The Doobie Brothers",
         "Ted Templeman, producer",
         null,
         "True"
        ],
        [
         "1978",
         "21st Annual GRAMMY Awards  (1978)",
         "Record Of The Year",
         "Just The Way You Are",
         "Billy Joel",
         "Phil Ramone, producer",
         "https://www.grammy.com/sites/com/files/styles/artist_circle/public/muzooka/Billy%2BJoel/Billy%2520Joel_1_1_1578384978.jpg?itok=QtM7Q8fq",
         "True"
        ],
        [
         "1977",
         "20th Annual GRAMMY Awards  (1977)",
         "Record Of The Year",
         "Hotel California",
         "Eagles",
         "Bill Szymczyk, producer",
         "https://www.grammy.com/sites/com/files/styles/artist_circle/public/muzooka/Eagles/Eagles_1_1_1581552244.jpg?itok=0GyT6tV3",
         "True"
        ],
        [
         "1976",
         "19th Annual GRAMMY Awards  (1976)",
         "Record Of The Year",
         "This Masquerade",
         "George Benson",
         "Tommy LiPuma, producer",
         "https://www.grammy.com/sites/com/files/styles/artist_circle/public/muzooka/George%2BBenson/George%2520Benson_1_1_1578385429.jpg?itok=bzpUiUCb",
         "True"
        ],
        [
         "1975",
         "18th Annual GRAMMY Awards  (1975)",
         "Record Of The Year",
         "Love Will Keep Us Together",
         "Captain & Tennille",
         "Daryl Dragon, producer",
         null,
         "True"
        ],
        [
         "1974",
         "17th Annual GRAMMY Awards  (1974)",
         "Record Of The Year",
         "I Honestly Love You",
         "Olivia Newton-John",
         "John Farrar, producer",
         "https://www.grammy.com/sites/com/files/styles/artist_circle/public/muzooka/Olivia%2BNewton-John/Olivia%2520Newton-John_1_1_1575370845.jpg?itok=SO4aU4ch",
         "True"
        ],
        [
         "1973",
         "16th Annual GRAMMY Awards  (1973)",
         "Record Of The Year",
         "Killing Me Softly With His Song",
         "Roberta Flack",
         "Joel Dorn, producer",
         "https://www.grammy.com/sites/com/files/styles/artist_circle/public/muzooka/Roberta%2BFlack/Roberta%2520Flack_1_1_1575365614.jpg?itok=xIenBn49",
         "True"
        ],
        [
         "1972",
         "15th Annual GRAMMY Awards  (1972)",
         "Record Of The Year",
         "The First Time Ever I Saw Your Face",
         "Roberta Flack",
         "Joel Dorn, producer",
         "https://www.grammy.com/sites/com/files/styles/artist_circle/public/muzooka/Roberta%2BFlack/Roberta%2520Flack_1_1_1575365614.jpg?itok=xIenBn49",
         "True"
        ],
        [
         "1971",
         "14th Annual GRAMMY Awards  (1971)",
         "Record Of The Year",
         "It's Too Late",
         "Carole King",
         "Lou Adler, producer",
         "https://www.grammy.com/sites/com/files/styles/artist_circle/public/muzooka/Carole%2BKing/Carole%2520King_1_1_1578385473.jpg?itok=W5y3jRey",
         "True"
        ],
        [
         "1970",
         "13th Annual GRAMMY Awards  (1970)",
         "Record Of The Year",
         "Bridge Over Troubled Water",
         "Simon And Garfunkel",
         "Roy Halee & Simon And Garfunkel (Art Garfunkel & Paul Simon), producers",
         null,
         "True"
        ],
        [
         "1969",
         "12th Annual GRAMMY Awards  (1969)",
         "Record Of The Year",
         "Aquarius/Let The Sunshine In (The Flesh Failures)",
         "5th Dimension",
         "Bones Howe, producer",
         null,
         "True"
        ],
        [
         "1968",
         "11th Annual GRAMMY Awards  (1968)",
         "Record Of The Year",
         "Mrs. Robinson",
         "Simon And Garfunkel",
         "Roy Halee & Simon And Garfunkel (Art Garfunkel & Paul Simon), producers",
         null,
         "True"
        ],
        [
         "1967",
         "10th Annual GRAMMY Awards  (1967)",
         "Record Of The Year",
         "Up, Up And Away",
         "5th Dimension",
         "Marc Gordon & Johnny Rivers, producers",
         "https://www.grammy.com/sites/com/files/styles/artist_circle/public/muzooka/Marc%2BGordon/Marc%2520Gordon_1_1_1581629305.jpg?itok=4IiRmFSP",
         "True"
        ],
        [
         "1966",
         "9th Annual GRAMMY Awards  (1966)",
         "Record Of The Year",
         "Strangers In The Night",
         "Frank Sinatra",
         "Jimmy Bowen, producer",
         "https://www.grammy.com/sites/com/files/styles/artist_circle/public/muzooka/Frank%2BSinatra/Frank%2520Sinatra_1_1_1581552147.jpg?itok=-iX5YZhY",
         "True"
        ],
        [
         "1965",
         "8th Annual GRAMMY Awards  (1965)",
         "Record Of The Year",
         "A Taste Of Honey",
         "Herb Alpert And The Tijuana Brass",
         "Herb Alpert & Jerry Moss, producers",
         "https://www.grammy.com/sites/com/files/styles/artist_circle/public/muzooka/Herb%2BAlpert/Herb%2520Alpert_1_1_1581628867.jpg?itok=45UhbQPe",
         "True"
        ],
        [
         "1964",
         "7th Annual GRAMMY Awards  (1964)",
         "Record Of The Year",
         "The Girl From Ipanema",
         "Stan Getz & Astrud Gilberto",
         null,
         "https://www.grammy.com/sites/com/files/styles/artist_circle/public/muzooka/Stan%2BGetz/Stan%2520Getz_1_1_1581618079.jpg?itok=1uHIRekD",
         "True"
        ],
        [
         "1963",
         "6th Annual GRAMMY Awards  (1963)",
         "Record Of The Year",
         "Days Of Wine And Roses",
         "Henry Mancini",
         null,
         "https://www.grammy.com/sites/com/files/styles/artist_circle/public/muzooka/Henry%2BMancini/Henry%2520Mancini_1_1_1581553583.jpg?itok=oMIyl-mj",
         "True"
        ],
        [
         "1962",
         "5th Annual GRAMMY Awards  (1962)",
         "Record Of The Year",
         "I Left My Heart In San Francisco",
         "Tony Bennett",
         null,
         "https://www.grammy.com/sites/com/files/styles/artist_circle/public/muzooka/Tony%2BBennett/Tony%2520Bennett_1_1_1584465343.jpg?itok=Zk2PcPhY",
         "True"
        ],
        [
         "1961",
         "4th Annual GRAMMY Awards  (1961)",
         "Record Of The Year",
         "Moon River",
         "Henry Mancini",
         null,
         "https://www.grammy.com/sites/com/files/styles/artist_circle/public/muzooka/Henry%2BMancini/Henry%2520Mancini_1_1_1581553583.jpg?itok=oMIyl-mj",
         "True"
        ],
        [
         "1960",
         "3rd Annual GRAMMY Awards  (1960)",
         "Record Of The Year",
         "The Theme From A Summer Place",
         "Percy Faith & His Orchestra",
         null,
         "https://www.grammy.com/sites/com/files/styles/artist_circle/public/muzooka/Percy%2BFaith/Percy%2520Faith_1_1_1597165242.jpg?itok=dFp-KK5i",
         "True"
        ],
        [
         "1959",
         "2nd Annual GRAMMY Awards  (1959)",
         "Record Of The Year",
         "Mack The Knife",
         "Bobby Darin",
         null,
         "https://www.grammy.com/sites/com/files/styles/artist_circle/public/muzooka/Bobby%2BDarin/Bobby%2520Darin_1_1_1581560302.jpg?itok=wKmA3kxT",
         "True"
        ],
        [
         "1958",
         "1st Annual GRAMMY Awards  (1958)",
         "Record Of The Year",
         "Nel Blu Dipinto Di Blu (Volare)",
         "Domenico Modugno",
         null,
         "https://www.grammy.com/sites/com/files/styles/artist_circle/public/muzooka/Domenico%2BModugno/Domenico%2520Modugno_1_1_1581618128.jpg?itok=1HYG0_R2",
         "True"
        ]
       ],
       "datasetInfos": [],
       "dbfsResultPath": null,
       "isJsonSchema": true,
       "metadata": {},
       "overflow": false,
       "plotOptions": {
        "customPlotOptions": {},
        "displayType": "table",
        "pivotAggregation": null,
        "pivotColumns": null,
        "xColumns": null,
        "yColumns": null
       },
       "removedWidgets": [],
       "schema": [
        {
         "metadata": "{}",
         "name": "year",
         "type": "\"string\""
        },
        {
         "metadata": "{}",
         "name": "title",
         "type": "\"string\""
        },
        {
         "metadata": "{}",
         "name": "category",
         "type": "\"string\""
        },
        {
         "metadata": "{}",
         "name": "nominee",
         "type": "\"string\""
        },
        {
         "metadata": "{}",
         "name": "artist",
         "type": "\"string\""
        },
        {
         "metadata": "{}",
         "name": "workers",
         "type": "\"string\""
        },
        {
         "metadata": "{}",
         "name": "img",
         "type": "\"string\""
        },
        {
         "metadata": "{}",
         "name": "winner",
         "type": "\"string\""
        }
       ],
       "type": "table"
      }
     },
     "output_type": "display_data"
    }
   ],
   "source": [
    "%sql\n",
    "select *\n",
    "from `record_of_the_year`\n",
    "\n",
    "-- order by year"
   ]
  },
  {
   "cell_type": "code",
   "execution_count": 0,
   "metadata": {
    "application/vnd.databricks.v1+cell": {
     "cellMetadata": {
      "byteLimit": 2048000,
      "rowLimit": 10000
     },
     "inputWidgets": {},
     "nuid": "c186c588-0b74-41da-a39f-73e750e78e17",
     "showTitle": false,
     "title": ""
    }
   },
   "outputs": [
    {
     "output_type": "display_data",
     "data": {
      "text/html": [
       "<style scoped>\n",
       "  .table-result-container {\n",
       "    max-height: 300px;\n",
       "    overflow: auto;\n",
       "  }\n",
       "  table, th, td {\n",
       "    border: 1px solid black;\n",
       "    border-collapse: collapse;\n",
       "  }\n",
       "  th, td {\n",
       "    padding: 5px;\n",
       "  }\n",
       "  th {\n",
       "    text-align: left;\n",
       "  }\n",
       "</style><div class='table-result-container'><table class='table-result'><thead style='background-color: white'><tr><th>year</th><th>title</th><th>category</th><th>nominee</th><th>artist</th><th>winner</th></tr></thead><tbody><tr><td>2019</td><td>62nd Annual GRAMMY Awards  (2019)</td><td>Record Of The Year</td><td>Bad Guy</td><td>Billie Eilish</td><td>True</td></tr><tr><td>2019</td><td>62nd Annual GRAMMY Awards  (2019)</td><td>Record Of The Year</td><td>Hey, Ma</td><td>Bon Iver</td><td>True</td></tr><tr><td>2019</td><td>62nd Annual GRAMMY Awards  (2019)</td><td>Record Of The Year</td><td>7 rings</td><td>Ariana Grande</td><td>True</td></tr><tr><td>2019</td><td>62nd Annual GRAMMY Awards  (2019)</td><td>Record Of The Year</td><td>Hard Place</td><td>H.E.R.</td><td>True</td></tr><tr><td>2019</td><td>62nd Annual GRAMMY Awards  (2019)</td><td>Record Of The Year</td><td>Talk</td><td>Khalid</td><td>True</td></tr></tbody></table></div>"
      ]
     },
     "metadata": {
      "application/vnd.databricks.v1+output": {
       "addedWidgets": {},
       "aggData": [],
       "aggError": "",
       "aggOverflow": false,
       "aggSchema": [],
       "aggSeriesLimitReached": false,
       "aggType": "",
       "arguments": {},
       "columnCustomDisplayInfos": {},
       "data": [
        [
         "2019",
         "62nd Annual GRAMMY Awards  (2019)",
         "Record Of The Year",
         "Bad Guy",
         "Billie Eilish",
         "True"
        ],
        [
         "2019",
         "62nd Annual GRAMMY Awards  (2019)",
         "Record Of The Year",
         "Hey, Ma",
         "Bon Iver",
         "True"
        ],
        [
         "2019",
         "62nd Annual GRAMMY Awards  (2019)",
         "Record Of The Year",
         "7 rings",
         "Ariana Grande",
         "True"
        ],
        [
         "2019",
         "62nd Annual GRAMMY Awards  (2019)",
         "Record Of The Year",
         "Hard Place",
         "H.E.R.",
         "True"
        ],
        [
         "2019",
         "62nd Annual GRAMMY Awards  (2019)",
         "Record Of The Year",
         "Talk",
         "Khalid",
         "True"
        ]
       ],
       "datasetInfos": [],
       "dbfsResultPath": null,
       "isJsonSchema": true,
       "metadata": {},
       "overflow": false,
       "plotOptions": {
        "customPlotOptions": {},
        "displayType": "table",
        "pivotAggregation": null,
        "pivotColumns": null,
        "xColumns": null,
        "yColumns": null
       },
       "removedWidgets": [],
       "schema": [
        {
         "metadata": "{}",
         "name": "year",
         "type": "\"string\""
        },
        {
         "metadata": "{}",
         "name": "title",
         "type": "\"string\""
        },
        {
         "metadata": "{}",
         "name": "category",
         "type": "\"string\""
        },
        {
         "metadata": "{}",
         "name": "nominee",
         "type": "\"string\""
        },
        {
         "metadata": "{}",
         "name": "artist",
         "type": "\"string\""
        },
        {
         "metadata": "{}",
         "name": "winner",
         "type": "\"string\""
        }
       ],
       "type": "table"
      }
     },
     "output_type": "display_data"
    }
   ],
   "source": [
    "df_record = df.select('year','title','category','nominee','artist','winner').where(df.category == \"Record Of The Year\")\n",
    "display(df_record.head(5))\n",
    "\n",
    "## Why are all of the records winners?"
   ]
  },
  {
   "cell_type": "code",
   "execution_count": 0,
   "metadata": {
    "application/vnd.databricks.v1+cell": {
     "cellMetadata": {
      "byteLimit": 2048000,
      "rowLimit": 10000
     },
     "inputWidgets": {},
     "nuid": "44d4ae55-c65f-4e0e-960a-711b1158774b",
     "showTitle": false,
     "title": ""
    }
   },
   "outputs": [
    {
     "output_type": "stream",
     "name": "stdout",
     "output_type": "stream",
     "text": [
      "4810"
     ]
    }
   ],
   "source": [
    "# Size of the data set?\n",
    "display(df.count())"
   ]
  },
  {
   "cell_type": "code",
   "execution_count": 0,
   "metadata": {
    "application/vnd.databricks.v1+cell": {
     "cellMetadata": {
      "byteLimit": 2048000,
      "rowLimit": 10000
     },
     "inputWidgets": {},
     "nuid": "27dc3792-e7cf-4cc8-b401-15c41bdf54e1",
     "showTitle": false,
     "title": ""
    }
   },
   "outputs": [
    {
     "output_type": "display_data",
     "data": {
      "text/html": [
       "<style scoped>\n",
       "  .table-result-container {\n",
       "    max-height: 300px;\n",
       "    overflow: auto;\n",
       "  }\n",
       "  table, th, td {\n",
       "    border: 1px solid black;\n",
       "    border-collapse: collapse;\n",
       "  }\n",
       "  th, td {\n",
       "    padding: 5px;\n",
       "  }\n",
       "  th {\n",
       "    text-align: left;\n",
       "  }\n",
       "</style><div class='table-result-container'><table class='table-result'><thead style='background-color: white'><tr><th>year</th><th>title</th><th>category</th><th>nominee</th><th>artist</th><th>winner</th></tr></thead><tbody><tr><td>2019</td><td>62nd Annual GRAMMY Awards  (2019)</td><td>Record Of The Year</td><td>Bad Guy</td><td>Billie Eilish</td><td>True</td></tr><tr><td>2019</td><td>62nd Annual GRAMMY Awards  (2019)</td><td>Record Of The Year</td><td>Hey, Ma</td><td>Bon Iver</td><td>True</td></tr><tr><td>2019</td><td>62nd Annual GRAMMY Awards  (2019)</td><td>Record Of The Year</td><td>7 rings</td><td>Ariana Grande</td><td>True</td></tr><tr><td>2019</td><td>62nd Annual GRAMMY Awards  (2019)</td><td>Record Of The Year</td><td>Hard Place</td><td>H.E.R.</td><td>True</td></tr><tr><td>2019</td><td>62nd Annual GRAMMY Awards  (2019)</td><td>Record Of The Year</td><td>Talk</td><td>Khalid</td><td>True</td></tr><tr><td>2019</td><td>62nd Annual GRAMMY Awards  (2019)</td><td>Record Of The Year</td><td>Old Town Road</td><td>Lil Nas X Featuring Billy Ray Cyrus</td><td>True</td></tr><tr><td>2019</td><td>62nd Annual GRAMMY Awards  (2019)</td><td>Record Of The Year</td><td>Truth Hurts</td><td>Lizzo</td><td>True</td></tr><tr><td>2019</td><td>62nd Annual GRAMMY Awards  (2019)</td><td>Record Of The Year</td><td>Sunflower</td><td>Post Malone & Swae Lee</td><td>True</td></tr></tbody></table></div>"
      ]
     },
     "metadata": {
      "application/vnd.databricks.v1+output": {
       "addedWidgets": {},
       "aggData": [],
       "aggError": "",
       "aggOverflow": false,
       "aggSchema": [],
       "aggSeriesLimitReached": false,
       "aggType": "",
       "arguments": {},
       "columnCustomDisplayInfos": {},
       "data": [
        [
         "2019",
         "62nd Annual GRAMMY Awards  (2019)",
         "Record Of The Year",
         "Bad Guy",
         "Billie Eilish",
         "True"
        ],
        [
         "2019",
         "62nd Annual GRAMMY Awards  (2019)",
         "Record Of The Year",
         "Hey, Ma",
         "Bon Iver",
         "True"
        ],
        [
         "2019",
         "62nd Annual GRAMMY Awards  (2019)",
         "Record Of The Year",
         "7 rings",
         "Ariana Grande",
         "True"
        ],
        [
         "2019",
         "62nd Annual GRAMMY Awards  (2019)",
         "Record Of The Year",
         "Hard Place",
         "H.E.R.",
         "True"
        ],
        [
         "2019",
         "62nd Annual GRAMMY Awards  (2019)",
         "Record Of The Year",
         "Talk",
         "Khalid",
         "True"
        ],
        [
         "2019",
         "62nd Annual GRAMMY Awards  (2019)",
         "Record Of The Year",
         "Old Town Road",
         "Lil Nas X Featuring Billy Ray Cyrus",
         "True"
        ],
        [
         "2019",
         "62nd Annual GRAMMY Awards  (2019)",
         "Record Of The Year",
         "Truth Hurts",
         "Lizzo",
         "True"
        ],
        [
         "2019",
         "62nd Annual GRAMMY Awards  (2019)",
         "Record Of The Year",
         "Sunflower",
         "Post Malone & Swae Lee",
         "True"
        ]
       ],
       "datasetInfos": [],
       "dbfsResultPath": null,
       "isJsonSchema": true,
       "metadata": {},
       "overflow": false,
       "plotOptions": {
        "customPlotOptions": {},
        "displayType": "table",
        "pivotAggregation": null,
        "pivotColumns": null,
        "xColumns": null,
        "yColumns": null
       },
       "removedWidgets": [],
       "schema": [
        {
         "metadata": "{}",
         "name": "year",
         "type": "\"string\""
        },
        {
         "metadata": "{}",
         "name": "title",
         "type": "\"string\""
        },
        {
         "metadata": "{}",
         "name": "category",
         "type": "\"string\""
        },
        {
         "metadata": "{}",
         "name": "nominee",
         "type": "\"string\""
        },
        {
         "metadata": "{}",
         "name": "artist",
         "type": "\"string\""
        },
        {
         "metadata": "{}",
         "name": "winner",
         "type": "\"string\""
        }
       ],
       "type": "table"
      }
     },
     "output_type": "display_data"
    }
   ],
   "source": [
    "import pandas as pd\n",
    "# Reduce data set for some quick testing\n",
    "record_list = df_record.take(8)\n",
    "df_record_new = pd.DataFrame(record_list, columns=['year','title','category','nominee','artist','winner'])\n",
    "display(df_record_new)"
   ]
  },
  {
   "cell_type": "code",
   "execution_count": 0,
   "metadata": {
    "application/vnd.databricks.v1+cell": {
     "cellMetadata": {
      "byteLimit": 2048000,
      "rowLimit": 10000
     },
     "inputWidgets": {},
     "nuid": "fcd9f56d-cb47-47ff-9bac-9c94b5b3a029",
     "showTitle": false,
     "title": ""
    }
   },
   "outputs": [],
   "source": [
    "import time\n",
    "# Let's try to get one of the lyrics to see if the Genius API works\n",
    "def get_lyrics (artist, song_name):\n",
    "    song = genius.search_song(artist, song_name)\n",
    "    # time.sleep(1)\n",
    "    return song.lyrics\n",
    "    # print(song.lyrics)"
   ]
  },
  {
   "cell_type": "code",
   "execution_count": 0,
   "metadata": {
    "application/vnd.databricks.v1+cell": {
     "cellMetadata": {
      "byteLimit": 2048000,
      "rowLimit": 10000
     },
     "inputWidgets": {},
     "nuid": "16238571-4999-4324-82a5-427f6d598425",
     "showTitle": false,
     "title": ""
    }
   },
   "outputs": [
    {
     "output_type": "stream",
     "name": "stdout",
     "output_type": "stream",
     "text": [
      "Searching for \"Hey, Ma\" by Bon Iver...\nDone.\n57 ContributorsHey, Ma Lyrics[Verse 1]\nI waited outside\nI took it remote\nI wanted a bath\n\"Tell the story or he goes\"\n\"Tell the story or he goes\"\n\n[Chorus]\nFull time, you talk your money up\nWhile it's living in a coal mine\nTall time to call your Ma\nHey Ma, hey Ma\nTall vote, you know you mope it up\nWell, you wanted it your whole life\nYou're back and forth with light\n\n[Verse 2]\nI waited outside\nI was tokin' on dope\nI hoped it all wunt go in a minute\nWith the past that you know\nI wanted all that mind sugar\nI want it all mine\nI had a heavy mind, sugar\nI took it, it was right\nYou might also like[Chorus]\nFull time, you talk your money up\nWhile it's living in a coal mine\nTall time to call your Ma\nHey Ma, hey Ma\nTall vote, you know you mope it up\nWell, you wanted it your whole life\nYou're back and forth with light\n\n[Interlude]\nYou're back and forth\nYou're back and forth\nYou go back and forth\nAnd then you're back and forth\nAnd back and forth\n\n[Verse 3]\nI waited outside\nThen you took me in the room\nAnd you offered up the truth\nMy eyes crawling up the window to the wall\nFrom dusk 'til dawn\nLet me talk to 'em\nLet me talk to 'em all\n\n[Chorus]\nFull time, you talk your money up\nWhile it's living in a coal mine\nTall time to call your Ma\nHey Ma, hey Ma\nTall vote, you know you mope it up\nWell, you wanted it your whole life\nYou're back and forth with light12Embed\n"
     ]
    }
   ],
   "source": [
    "lyrics = get_lyrics('Hey, Ma', 'Bon Iver')\n",
    "print (lyrics)"
   ]
  },
  {
   "cell_type": "code",
   "execution_count": 0,
   "metadata": {
    "application/vnd.databricks.v1+cell": {
     "cellMetadata": {
      "byteLimit": 2048000,
      "rowLimit": 10000
     },
     "inputWidgets": {},
     "nuid": "a28a87c9-a27b-471d-ac79-108d46cc1a3e",
     "showTitle": false,
     "title": ""
    }
   },
   "outputs": [],
   "source": [
    "def test_func (artist, song_name):\n",
    "    print(artist + ' ' + song_name)"
   ]
  },
  {
   "cell_type": "code",
   "execution_count": 0,
   "metadata": {
    "application/vnd.databricks.v1+cell": {
     "cellMetadata": {
      "byteLimit": 2048000,
      "rowLimit": 10000
     },
     "inputWidgets": {},
     "nuid": "a993748f-5ec7-4571-a1b7-f3aab6faf45b",
     "showTitle": false,
     "title": ""
    }
   },
   "outputs": [
    {
     "output_type": "stream",
     "name": "stdout",
     "output_type": "stream",
     "text": [
      "Searching for \"Billie Eilish\" by Bad Guy...\nDone.\nSearching for \"Bon Iver\" by Hey, Ma...\nDone.\nSearching for \"Ariana Grande\" by 7 rings...\nDone.\nSearching for \"H.E.R.\" by Hard Place...\nDone.\nSearching for \"Khalid\" by Talk...\nDone.\nSearching for \"Lil Nas X Featuring Billy Ray Cyrus\" by Old Town Road...\nDone.\nSearching for \"Lizzo\" by Truth Hurts...\nDone.\nSearching for \"Post Malone & Swae Lee\" by Sunflower...\nDone.\n"
     ]
    }
   ],
   "source": [
    "# data['BMI'] = data.apply(lambda x: calc_bmi(x['Weight'], x['Height']), axis=1)\n",
    "df_record_new['lyrics'] = df_record_new.apply(lambda x: get_lyrics(x['artist'], x['nominee']), axis=1)"
   ]
  },
  {
   "cell_type": "code",
   "execution_count": 0,
   "metadata": {
    "application/vnd.databricks.v1+cell": {
     "cellMetadata": {
      "byteLimit": 2048000,
      "rowLimit": 10000
     },
     "inputWidgets": {},
     "nuid": "a0cdb6d6-8e99-4b3f-a5ba-c7f5da1059a9",
     "showTitle": false,
     "title": ""
    }
   },
   "outputs": [
    {
     "output_type": "display_data",
     "data": {
      "text/html": [
       "<style scoped>\n",
       "  .table-result-container {\n",
       "    max-height: 300px;\n",
       "    overflow: auto;\n",
       "  }\n",
       "  table, th, td {\n",
       "    border: 1px solid black;\n",
       "    border-collapse: collapse;\n",
       "  }\n",
       "  th, td {\n",
       "    padding: 5px;\n",
       "  }\n",
       "  th {\n",
       "    text-align: left;\n",
       "  }\n",
       "</style><div class='table-result-container'><table class='table-result'><thead style='background-color: white'><tr><th>year</th><th>title</th><th>category</th><th>nominee</th><th>artist</th><th>winner</th><th>lyrics</th></tr></thead><tbody><tr><td>2019</td><td>62nd Annual GRAMMY Awards  (2019)</td><td>Record Of The Year</td><td>Bad Guy</td><td>Billie Eilish</td><td>True</td><td>344 ContributorsTranslationsHrvatskiTürkçeSvenskaEspañolРусскийRomânăPortuguêsPolskiItalianoHebrewDeutschFrançaisفارسیNederlandsDanskChinese TraditionalΕλληνικάالعربيةไทย / Phasa Thai​bad guy Lyrics[Verse 1]\n",
       "White shirt now red, my bloody nose\n",
       "Sleepin', you're on your tippy toes\n",
       "Creepin' around like no one knows\n",
       "Think you're so criminal\n",
       "Bruises on both my knees for you\n",
       "Don't say thank you or please\n",
       "I do what I want when I'm wanting to\n",
       "My soul? So cynical\n",
       "\n",
       "[Chorus]\n",
       "So you're a tough guy\n",
       "Like it really rough guy\n",
       "Just can't get enough guy\n",
       "Chest always so puffed guy\n",
       "I'm that bad type\n",
       "Make your mama sad type\n",
       "Make your girlfriend mad tight\n",
       "Might seduce your dad type\n",
       "I'm the bad guy\n",
       "Duh\n",
       "\n",
       "[Post-Chorus]\n",
       "I'm the bad guy\n",
       "\n",
       "[Verse 2]\n",
       "I like it when you take control\n",
       "Even if you know that you don't\n",
       "Own me, I'll let you play the role\n",
       "I'll be your animal\n",
       "My mommy likes to sing along with me\n",
       "But she won't sing this song\n",
       "If she reads all the lyrics\n",
       "She'll pity the men I know\n",
       "You might also like[Chorus]\n",
       "So you're a tough guy\n",
       "Like it really rough guy\n",
       "Just can't get enough guy\n",
       "Chest always so puffed guy\n",
       "I'm that bad type\n",
       "Make your mama sad type\n",
       "Make your girlfriend mad tight\n",
       "Might seduce your dad type\n",
       "I'm the bad guy\n",
       "Duh\n",
       "\n",
       "[Post-Chorus]\n",
       "I'm the bad guy, duh\n",
       "I'm only good at bein' bad, bad\n",
       "\n",
       "[Bridge]\n",
       "I like when you get mad\n",
       "I guess I'm pretty glad that you're alone\n",
       "You said she's scared of me?\n",
       "I mean, I don't see what she sees\n",
       "But maybe it's 'cause I'm wearing your cologne\n",
       "\n",
       "[Outro]\n",
       "I'm a bad guy\n",
       "I'm, I'm a bad guy\n",
       "Bad guy, bad guy\n",
       "I'm a bad345Embed</td></tr><tr><td>2019</td><td>62nd Annual GRAMMY Awards  (2019)</td><td>Record Of The Year</td><td>Hey, Ma</td><td>Bon Iver</td><td>True</td><td>57 ContributorsHey, Ma Lyrics[Verse 1]\n",
       "I waited outside\n",
       "I took it remote\n",
       "I wanted a bath\n",
       "\"Tell the story or he goes\"\n",
       "\"Tell the story or he goes\"\n",
       "\n",
       "[Chorus]\n",
       "Full time, you talk your money up\n",
       "While it's living in a coal mine\n",
       "Tall time to call your Ma\n",
       "Hey Ma, hey Ma\n",
       "Tall vote, you know you mope it up\n",
       "Well, you wanted it your whole life\n",
       "You're back and forth with light\n",
       "\n",
       "[Verse 2]\n",
       "I waited outside\n",
       "I was tokin' on dope\n",
       "I hoped it all wunt go in a minute\n",
       "With the past that you know\n",
       "I wanted all that mind sugar\n",
       "I want it all mine\n",
       "I had a heavy mind, sugar\n",
       "I took it, it was right\n",
       "You might also like[Chorus]\n",
       "Full time, you talk your money up\n",
       "While it's living in a coal mine\n",
       "Tall time to call your Ma\n",
       "Hey Ma, hey Ma\n",
       "Tall vote, you know you mope it up\n",
       "Well, you wanted it your whole life\n",
       "You're back and forth with light\n",
       "\n",
       "[Interlude]\n",
       "You're back and forth\n",
       "You're back and forth\n",
       "You go back and forth\n",
       "And then you're back and forth\n",
       "And back and forth\n",
       "\n",
       "[Verse 3]\n",
       "I waited outside\n",
       "Then you took me in the room\n",
       "And you offered up the truth\n",
       "My eyes crawling up the window to the wall\n",
       "From dusk 'til dawn\n",
       "Let me talk to 'em\n",
       "Let me talk to 'em all\n",
       "\n",
       "[Chorus]\n",
       "Full time, you talk your money up\n",
       "While it's living in a coal mine\n",
       "Tall time to call your Ma\n",
       "Hey Ma, hey Ma\n",
       "Tall vote, you know you mope it up\n",
       "Well, you wanted it your whole life\n",
       "You're back and forth with light12Embed</td></tr><tr><td>2019</td><td>62nd Annual GRAMMY Awards  (2019)</td><td>Record Of The Year</td><td>7 rings</td><td>Ariana Grande</td><td>True</td><td>474 ContributorsTranslationsTürkçeEspañolRomânăPortuguêsPolskiItalianoHebrewΕλληνικάDeutschFrançaisNederlandsDanskفارسی7 rings Lyrics[Verse 1]\n",
       "Yeah, breakfast at Tiffany's and bottles of bubbles\n",
       "Girls with tattoos who like getting in trouble\n",
       "Lashes and diamonds, ATM machines\n",
       "Buy myself all of my favorite things (Yeah)\n",
       "Been through some bad shit, I should be a sad bitch\n",
       "Who woulda thought it'd turn me to a savage?\n",
       "Rather be tied up with calls and not strings\n",
       "Write my own checks like I write what I sing, yeah (Yeah)\n",
       "\n",
       "[Pre-Chorus]\n",
       "My wrist, stop watchin', my neck is flossy\n",
       "Make big deposits, my gloss is poppin'\n",
       "You like my hair? Gee, thanks, just bought it\n",
       "I see it, I like it, I want it, I got it (Yeah)\n",
       "\n",
       "[Chorus]\n",
       "I want it, I got it, I want it, I got it\n",
       "I want it, I got it, I want it, I got it\n",
       "You like my hair? Gee, thanks, just bought it\n",
       "I see it, I like it, I want it, I got it (Yep)\n",
       "[Verse 2]\n",
       "Wearing a ring, but ain't gon' be no \"Mrs.\"\n",
       "Bought matching diamonds for six of my bitches\n",
       "I'd rather spoil all my friends with my riches\n",
       "Think retail therapy my new addiction\n",
       "Whoever said money can't solve your problems\n",
       "Must not have had enough money to solve 'em\n",
       "They say, \"Which one?\" I say, \"Nah, I want all of 'em\"\n",
       "Happiness is the same price as red-bottoms\n",
       "You might also like[Pre-Chorus]\n",
       "My smile is beamin' (Yeah), my skin is gleamin' (Is gleamin')\n",
       "The way it shine, I know you've seen it (You've seen it)\n",
       "I bought a crib just for (Just for) the closet (Closet)\n",
       "Both his and hers, I want it, I got it, yeah\n",
       "\n",
       "[Chorus]\n",
       "I want it, I got it, I want it, I got it\n",
       "I want it, I got it, I want it, I got it (Baby)\n",
       "You like my hair? Gee, thanks, just bought it (Oh yeah)\n",
       "I see it, I like it, I want it, I got it (Yep)\n",
       "\n",
       "[Verse 3]\n",
       "Yeah, my receipts be lookin' like phone numbers\n",
       "If it ain't money, then wrong number\n",
       "Black card is my business card\n",
       "The way it be settin' the tone for me\n",
       "I don't mean to brag, but I be like, \"Put it in the bag,\" yeah\n",
       "When you see them racks, they stacked up like my ass, yeah\n",
       "Shoot, go from the store to the booth\n",
       "Make it all back in one loop, gimme the loot\n",
       "Never mind, I got the juice\n",
       "Nothing but net when we shoot\n",
       "Look at my neck, look at my jet\n",
       "Ain't got enough money to pay me respect\n",
       "Ain't no budget when I'm on the set\n",
       "If I like it, then that's what I get, yeah\n",
       "[Chorus]\n",
       "I want it, I got it, I want it, I got it (Oh yeah)\n",
       "I want it, I got it, I want it, I got it (Oh yeah, yeah)\n",
       "You like my hair? Gee, thanks, just bought it\n",
       "I see it, I like it, I want it, I got it (I see, yep)470Embed</td></tr><tr><td>2019</td><td>62nd Annual GRAMMY Awards  (2019)</td><td>Record Of The Year</td><td>Hard Place</td><td>H.E.R.</td><td>True</td><td>40 ContributorsHard Place Lyrics[Intro]\n",
       "Mmm, mmm-hmm, mmm-hmm, mmm, eh\n",
       "\n",
       "[Verse 1]\n",
       "Wanna believe what you say\n",
       "But I hate you on most days\n",
       "You've been testing my faith and my patience, yeah\n",
       "And you know that I be head strong\n",
       "But you know that you be dead wrong\n",
       "Telling me to relax when I'm reacting\n",
       "\n",
       "[Pre-Chorus]\n",
       "But I, I'd rather fight\n",
       "Than lose sleep at night\n",
       "At least you're all mine\n",
       "And if I have to choose\n",
       "My heart or you\n",
       "I'm gonna lose, yeah\n",
       "\n",
       "[Chorus]\n",
       "What if nothing ever will change?\n",
       "Oh, I'm caught between your love and a hard place\n",
       "Oh, I wish there was a right way\n",
       "I'm caught between your love and a hard place, oh\n",
       "Woah, oh oh woah, oh oh woah, oh oh woah\n",
       "You might also like[Verse 2]\n",
       "Do I even have a choice when-\n",
       "I'm gonna have to pick my poison\n",
       "Yeah, you hurt me so good, it's so good\n",
       "And even when you cause tears\n",
       "You're the one who wiped them away\n",
       "Maybe that's the reason I stay, I stay\n",
       "\n",
       "[Pre-Chorus]\n",
       "But I, I'd rather fight\n",
       "Than lose sleep at night\n",
       "At least you're all mine\n",
       "And if I have to choose\n",
       "My heart or you\n",
       "I'm gonna lose\n",
       "\n",
       "[Chorus]\n",
       "What if nothing ever will change?\n",
       "Oh, I'm caught between your love and a hard place\n",
       "Oh, I wish there was a right way\n",
       "I'm caught between your love and a hard place, oh\n",
       "Woah, oh oh woah, oh oh woah, oh oh woah\n",
       "\n",
       "What if nothing ever will change?\n",
       "I'm caught between your love and a hard place\n",
       "Ooh, I wish there was a right way, yeah\n",
       "I'm caught between your love and a hard place, ooh woah ooh\n",
       "Woah, oh oh woah, oh oh woah, oh oh woah\n",
       "Oh, I'm caught between your love and a hard place\n",
       "Woah, oh oh woah, oh oh woah, oh oh woah\n",
       "Oh, I wish there was a right way\n",
       "Woah, oh oh woah, oh oh woah, oh oh woah\n",
       "I'm caught between your love and a hard place, oh\n",
       "Woah, oh oh woah, oh oh woah, oh oh woah\n",
       "\n",
       "[Outro]\n",
       "I'm caught between your love and a hard place\n",
       "What if nothing will ever change?\n",
       "I'm caught between your love and a hard place7Embed</td></tr><tr><td>2019</td><td>62nd Annual GRAMMY Awards  (2019)</td><td>Record Of The Year</td><td>Talk</td><td>Khalid</td><td>True</td><td>83 ContributorsTranslationsفارسیEspañolTalk Lyrics[Chorus]\n",
       "Can we just talk? Can we just talk?\n",
       "Talk about where we're goin'\n",
       "Before we get lost, lend me your thoughts\n",
       "Can't get what we want without knowin'\n",
       "I've never felt like this before\n",
       "I apologize if I'm movin' too far\n",
       "Can we just talk? Can we just talk?\n",
       "Figure out where we're goin'\n",
       "\n",
       "[Verse 1]\n",
       "Yeah, started off right\n",
       "I can see it in your eyes\n",
       "I can tell that you're wantin' more\n",
       "What's been on your mind?\n",
       "There's no reason we should hide\n",
       "Tell me somethin' I ain't heard before\n",
       "\n",
       "[Pre-Chorus]\n",
       "Oh, I've been dreamin' 'bout it\n",
       "And it's you I'm on\n",
       "So stop thinkin' 'bout it\n",
       "\n",
       "[Chorus]\n",
       "Can we just talk? Can we just talk?\n",
       "Talk about where we're goin'\n",
       "Before we get lost, lend me your thoughts (Yeah)\n",
       "Can't get what we want without knowin' (No)\n",
       "I've never felt like this before\n",
       "I apologize if I'm movin' too far\n",
       "Can we just talk? Can we just talk?\n",
       "Figure out where we're goin'\n",
       "See Khalid LiveGet tickets as low as $119You might also like[Verse 2]\n",
       "Oh, nah\n",
       "Penthouse view, left some flowers in the room\n",
       "I'll make sure I leave the door unlocked\n",
       "Now I'm on the way, swear I won't be late\n",
       "I'll be there by five o'clock\n",
       "\n",
       "[Pre-Chorus]\n",
       "Oh, you've been dreamin' 'bout it\n",
       "And I'm what you want\n",
       "So stop thinkin' 'bout it\n",
       "\n",
       "[Chorus]\n",
       "Can we just talk? (Oh) Can we just talk?\n",
       "Talk about where we're goin'\n",
       "Before we get lost, lend me your thoughts\n",
       "Can't get what we want without knowin'\n",
       "I've never felt like this before\n",
       "I apologize if I'm movin' too far\n",
       "Can we just talk? Can we just talk?\n",
       "Figure out where we're goin'\n",
       "\n",
       "[Outro]\n",
       "Figure out where we're goin'45Embed</td></tr><tr><td>2019</td><td>62nd Annual GRAMMY Awards  (2019)</td><td>Record Of The Year</td><td>Old Town Road</td><td>Lil Nas X Featuring Billy Ray Cyrus</td><td>True</td><td>20 ContributorsOld Town Road (Lil Wayne Remix) Lyrics[Intro: Billy Ray Cyrus]\n",
       "Oh, oh-oh\n",
       "Oh\n",
       "\n",
       "[Refrain: Billy Ray Cyrus]\n",
       "Yeah, I'm gonna take my horse to the old town road\n",
       "I'm gonna ride 'til I can't no more\n",
       "I'm gonna take my horse to the old town road\n",
       "I'm gonna ride 'til I can't no more\n",
       "(Kio, Kio)\n",
       "\n",
       "[Verse 1: Lil Nas X]\n",
       "I got the horses in the back\n",
       "Horse tack is attached\n",
       "Hat is matte black\n",
       "Got the boots that's black to match\n",
       "Ridin' on a horse, ha\n",
       "You can whip your Porsche\n",
       "I been in the valley\n",
       "You ain't been up off that porch, now\n",
       "\n",
       "[Chorus: Lil Nas X]\n",
       "Can't nobody tell me nothin'\n",
       "You can't tell me nothin'\n",
       "Can't nobody tell me nothin'\n",
       "You can't tell me nothin'\n",
       "You might also like[Refrain: Lil Nas X]\n",
       "Yeah, I'm gonna take my horse to the old town road\n",
       "I'm gonna ride 'til I can't no more\n",
       "I'm gonna take my horse to the old town road\n",
       "I'm gonna ride 'til I can't no more\n",
       "\n",
       "[Verse 2: Lil Wayne]\n",
       "Uh, uh, I got the horses in the back, and she twerk it for a pony\n",
       "Ooh, she got that honky-tonky, I met her on Farmers Only\n",
       "I'm a Young Money cowboy, sitting on my high horse\n",
       "Gucci cowboy boots, the snakeskin, ooh, the pythons\n",
       "Pull up on a tractor, lean and Jolly Ranchers\n",
       "Pop a couple perkies, chew 'em like beef jerky\n",
       "Sticky weed is like a cactus\n",
       "Aw man, quit jumblin' grown man\n",
       "She ride me say, \"Yeehaw\", man\n",
       "Call me Lil Jon Wayne\n",
       "\n",
       "[Refrain: Lil Nas X & Billy Ray Cyrus, Lil Wayne]\n",
       "(Remix baby) Yeah, I'm gonna take my horse to the old town road\n",
       "(Yeah, yeah, yeah, yeah) I'm gonna ride 'til I can't no more\n",
       "(Remix baby) I'm gonna take my horse to the old town road\n",
       "(Yeah, yeah, yeah, yeah) I'm gonna ride 'til I can't no more2Embed</td></tr><tr><td>2019</td><td>62nd Annual GRAMMY Awards  (2019)</td><td>Record Of The Year</td><td>Truth Hurts</td><td>Lizzo</td><td>True</td><td>136 ContributorsTruth Hurts Lyrics[Intro]\n",
       "Why men great 'til they gotta be great?\n",
       "Woo!\n",
       "\n",
       "[Verse 1]\n",
       "I just took a DNA test, turns out I'm 100% that bitch\n",
       "Even when I'm crying crazy\n",
       "Yeah, I got boy problems, that's the human in me\n",
       "Bling bling, then I solve 'em, that's the goddess in me\n",
       "You coulda had a bad bitch, non-committal\n",
       "Help you with your career just a little\n",
       "You're 'posed to hold me down, but you're holding me back\n",
       "And that's the sound of me not calling you back\n",
       "\n",
       "[Chorus]\n",
       "Why men great 'til they gotta be great? ('Til they gotta be great)\n",
       "Don't text me, tell it straight to my face (Tell it straight to my face)\n",
       "Best friend sat me down in the salon chair (Down in the salon chair)\n",
       "Shampoo press, get you out of my hair\n",
       "Fresh photos with the bomb lighting (With the bomb lighting)\n",
       "New man on the Minnesota Vikings (Minnesota Vikings)\n",
       "Truth hurts, needed something more exciting (Yee)\n",
       "Bom bom bi dom bi dum bum bay (Eh, yeah, yeah, yeah)\n",
       "\n",
       "[Verse 2]\n",
       "You tried to break my heart?\n",
       "Oh, that breaks my heart\n",
       "That you thought you ever had it\n",
       "No, you ain't from the start\n",
       "Hey, I'm glad you're back with your bitch\n",
       "I mean, who would wanna hide this?\n",
       "I will never, ever, ever, ever, ever be your side chick\n",
       "I put the sing in single\n",
       "Ain't worried 'bout a ring on my finger\n",
       "So you can tell your friend, \"Shoot your shot\" when you see him\n",
       "It's okay, he already in my DMs\n",
       "You might also like[Chorus]\n",
       "Why men great 'til they gotta be great? ('Til they gotta be great)\n",
       "Don't text me, tell it straight to my face (Tell it straight to my face)\n",
       "Best friend sat me down in the salon chair (Down in the salon chair)\n",
       "Shampoo press, get you out of my hair\n",
       "Fresh photos with the bomb lighting (With the bomb lighting)\n",
       "New man on the Minnesota Vikings (Minnesota Vikings)\n",
       "Truth hurts, needed something more exciting (Yee)\n",
       "Bom bom bi dom bi dum bum bay (Eh, yeah, yeah, yeah)\n",
       "\n",
       "[Bridge]\n",
       "I'ma hit you back in a minute (Yeah, yeah)\n",
       "I don't play tag, bitch, I been it (One time)\n",
       "We don't fuck with lies (Two times), we don't do goodbyes (Woo)\n",
       "We just keep it pushing like ay-ay-ay\n",
       "I'ma hit you back in a minute (Yeah, yeah)\n",
       "I don't play tag, bitch, I been it (One time)\n",
       "We don't fuck with lies (Two times), we don't do goodbyes (Woo)\n",
       "We just keep it pushing like ay-ay-ay (Woo)\n",
       "\n",
       "[Chorus]\n",
       "Why men great 'til they gotta be great? ('Til they gotta be great)\n",
       "Don't text me, tell it straight to my face (Tell it straight to my face)\n",
       "Best friend sat me down in the salon chair (Down in the salon chair)\n",
       "Shampoo press, get you out of my hair\n",
       "Fresh photos with the bomb lighting (With the bomb lighting)\n",
       "New man on the Minnesota Vikings (Minnesota Vikings)\n",
       "Truth hurts, needed something more exciting (Yee)\n",
       "Bom bom bi dom bi dum bum bay (Eh, yeah, yeah, yeah)\n",
       "[Outro]\n",
       "With the bomb lighting\n",
       "Minnesota Vikings\n",
       "Yee, eh, yeah, yeah, yeah66Embed</td></tr><tr><td>2019</td><td>62nd Annual GRAMMY Awards  (2019)</td><td>Record Of The Year</td><td>Sunflower</td><td>Post Malone & Swae Lee</td><td>True</td><td>282 ContributorsTranslationsTürkçeEspañolРусскийFrançaisNederlandsSunflower Lyrics[Intro: Swae Lee]\n",
       "Ayy, ayy, ayy, ayy (Ooh)\n",
       "Ooh, ooh, ooh, ooh (Ooh)\n",
       "Ayy, ayy\n",
       "Ooh, ooh, ooh, ooh\n",
       "\n",
       "[Verse 1: Swae Lee]\n",
       "Needless to say, I keep in check\n",
       "She was a bad-bad, nevertheless (Yeah)\n",
       "Callin' it quits now, baby, I'm a wreck (Wreck)\n",
       "Crash at my place, baby, you're a wreck (Wreck)\n",
       "Needless to say, I'm keeping in check\n",
       "She was a bad-bad, nevertheless\n",
       "Callin' it quits now, baby, I'm a wreck\n",
       "Crash at my place, baby, you're a wreck\n",
       "Thinkin' in a bad way, losin' your grip\n",
       "Screamin' at my face, baby, don't trip\n",
       "Someone took a big L, don't know how that felt\n",
       "Lookin' at you sideways, party on tilt\n",
       "Ooh-ooh, some things you just can't refuse\n",
       "She wanna ride me like a cruise and I'm not tryna lose\n",
       "\n",
       "[Chorus: Swae Lee]\n",
       "Then you're left in the dust, unless I stuck by ya\n",
       "You're a sunflower, I think your love would be too much\n",
       "Or you'll be left in the dust, unless I stuck by ya\n",
       "You're the sunflower, you're the sunflower\n",
       "You might also like[Verse 2: Post Malone]\n",
       "Every time I'm leavin' on ya (Ooh)\n",
       "You don't make it easy, no (No, no)\n",
       "Wish I could be there for ya (Ooh)\n",
       "Give me a reason to, oh (Oh)\n",
       "Every time I'm walkin' out (Oh)\n",
       "I can hear you tellin' me to turn around (Oh, oh)\n",
       "Fightin' for my trust and you won't back down (No)\n",
       "Even if we gotta risk it all right now, oh (Now)\n",
       "I know you're scared of the unknown (Known)\n",
       "You don't wanna be alone (Alone)\n",
       "I know I always come and go (And go)\n",
       "But it's out of my control\n",
       "\n",
       "[Chorus: Post Malone]\n",
       "And you'll be left in the dust, unless I stuck by ya\n",
       "You're the sunflower, I think your love would be too much\n",
       "Or you'll be left in the dust, unless I stuck by ya\n",
       "You're the sunflower, you're the sunflower (Yeah)348Embed</td></tr></tbody></table></div>"
      ]
     },
     "metadata": {
      "application/vnd.databricks.v1+output": {
       "addedWidgets": {},
       "aggData": [],
       "aggError": "",
       "aggOverflow": false,
       "aggSchema": [],
       "aggSeriesLimitReached": false,
       "aggType": "",
       "arguments": {},
       "columnCustomDisplayInfos": {},
       "data": [
        [
         "2019",
         "62nd Annual GRAMMY Awards  (2019)",
         "Record Of The Year",
         "Bad Guy",
         "Billie Eilish",
         "True",
         "344 ContributorsTranslationsHrvatskiTürkçeSvenskaEspañolРусскийRomânăPortuguêsPolskiItalianoHebrewDeutschFrançaisفارسیNederlandsDanskChinese TraditionalΕλληνικάالعربيةไทย / Phasa Thai​bad guy Lyrics[Verse 1]\nWhite shirt now red, my bloody nose\nSleepin', you're on your tippy toes\nCreepin' around like no one knows\nThink you're so criminal\nBruises on both my knees for you\nDon't say thank you or please\nI do what I want when I'm wanting to\nMy soul? So cynical\n\n[Chorus]\nSo you're a tough guy\nLike it really rough guy\nJust can't get enough guy\nChest always so puffed guy\nI'm that bad type\nMake your mama sad type\nMake your girlfriend mad tight\nMight seduce your dad type\nI'm the bad guy\nDuh\n\n[Post-Chorus]\nI'm the bad guy\n\n[Verse 2]\nI like it when you take control\nEven if you know that you don't\nOwn me, I'll let you play the role\nI'll be your animal\nMy mommy likes to sing along with me\nBut she won't sing this song\nIf she reads all the lyrics\nShe'll pity the men I know\nYou might also like[Chorus]\nSo you're a tough guy\nLike it really rough guy\nJust can't get enough guy\nChest always so puffed guy\nI'm that bad type\nMake your mama sad type\nMake your girlfriend mad tight\nMight seduce your dad type\nI'm the bad guy\nDuh\n\n[Post-Chorus]\nI'm the bad guy, duh\nI'm only good at bein' bad, bad\n\n[Bridge]\nI like when you get mad\nI guess I'm pretty glad that you're alone\nYou said she's scared of me?\nI mean, I don't see what she sees\nBut maybe it's 'cause I'm wearing your cologne\n\n[Outro]\nI'm a bad guy\nI'm, I'm a bad guy\nBad guy, bad guy\nI'm a bad345Embed"
        ],
        [
         "2019",
         "62nd Annual GRAMMY Awards  (2019)",
         "Record Of The Year",
         "Hey, Ma",
         "Bon Iver",
         "True",
         "57 ContributorsHey, Ma Lyrics[Verse 1]\nI waited outside\nI took it remote\nI wanted a bath\n\"Tell the story or he goes\"\n\"Tell the story or he goes\"\n\n[Chorus]\nFull time, you talk your money up\nWhile it's living in a coal mine\nTall time to call your Ma\nHey Ma, hey Ma\nTall vote, you know you mope it up\nWell, you wanted it your whole life\nYou're back and forth with light\n\n[Verse 2]\nI waited outside\nI was tokin' on dope\nI hoped it all wunt go in a minute\nWith the past that you know\nI wanted all that mind sugar\nI want it all mine\nI had a heavy mind, sugar\nI took it, it was right\nYou might also like[Chorus]\nFull time, you talk your money up\nWhile it's living in a coal mine\nTall time to call your Ma\nHey Ma, hey Ma\nTall vote, you know you mope it up\nWell, you wanted it your whole life\nYou're back and forth with light\n\n[Interlude]\nYou're back and forth\nYou're back and forth\nYou go back and forth\nAnd then you're back and forth\nAnd back and forth\n\n[Verse 3]\nI waited outside\nThen you took me in the room\nAnd you offered up the truth\nMy eyes crawling up the window to the wall\nFrom dusk 'til dawn\nLet me talk to 'em\nLet me talk to 'em all\n\n[Chorus]\nFull time, you talk your money up\nWhile it's living in a coal mine\nTall time to call your Ma\nHey Ma, hey Ma\nTall vote, you know you mope it up\nWell, you wanted it your whole life\nYou're back and forth with light12Embed"
        ],
        [
         "2019",
         "62nd Annual GRAMMY Awards  (2019)",
         "Record Of The Year",
         "7 rings",
         "Ariana Grande",
         "True",
         "474 ContributorsTranslationsTürkçeEspañolRomânăPortuguêsPolskiItalianoHebrewΕλληνικάDeutschFrançaisNederlandsDanskفارسی7 rings Lyrics[Verse 1]\nYeah, breakfast at Tiffany's and bottles of bubbles\nGirls with tattoos who like getting in trouble\nLashes and diamonds, ATM machines\nBuy myself all of my favorite things (Yeah)\nBeen through some bad shit, I should be a sad bitch\nWho woulda thought it'd turn me to a savage?\nRather be tied up with calls and not strings\nWrite my own checks like I write what I sing, yeah (Yeah)\n\n[Pre-Chorus]\nMy wrist, stop watchin', my neck is flossy\nMake big deposits, my gloss is poppin'\nYou like my hair? Gee, thanks, just bought it\nI see it, I like it, I want it, I got it (Yeah)\n\n[Chorus]\nI want it, I got it, I want it, I got it\nI want it, I got it, I want it, I got it\nYou like my hair? Gee, thanks, just bought it\nI see it, I like it, I want it, I got it (Yep)\n[Verse 2]\nWearing a ring, but ain't gon' be no \"Mrs.\"\nBought matching diamonds for six of my bitches\nI'd rather spoil all my friends with my riches\nThink retail therapy my new addiction\nWhoever said money can't solve your problems\nMust not have had enough money to solve 'em\nThey say, \"Which one?\" I say, \"Nah, I want all of 'em\"\nHappiness is the same price as red-bottoms\nYou might also like[Pre-Chorus]\nMy smile is beamin' (Yeah), my skin is gleamin' (Is gleamin')\nThe way it shine, I know you've seen it (You've seen it)\nI bought a crib just for (Just for) the closet (Closet)\nBoth his and hers, I want it, I got it, yeah\n\n[Chorus]\nI want it, I got it, I want it, I got it\nI want it, I got it, I want it, I got it (Baby)\nYou like my hair? Gee, thanks, just bought it (Oh yeah)\nI see it, I like it, I want it, I got it (Yep)\n\n[Verse 3]\nYeah, my receipts be lookin' like phone numbers\nIf it ain't money, then wrong number\nBlack card is my business card\nThe way it be settin' the tone for me\nI don't mean to brag, but I be like, \"Put it in the bag,\" yeah\nWhen you see them racks, they stacked up like my ass, yeah\nShoot, go from the store to the booth\nMake it all back in one loop, gimme the loot\nNever mind, I got the juice\nNothing but net when we shoot\nLook at my neck, look at my jet\nAin't got enough money to pay me respect\nAin't no budget when I'm on the set\nIf I like it, then that's what I get, yeah\n[Chorus]\nI want it, I got it, I want it, I got it (Oh yeah)\nI want it, I got it, I want it, I got it (Oh yeah, yeah)\nYou like my hair? Gee, thanks, just bought it\nI see it, I like it, I want it, I got it (I see, yep)470Embed"
        ],
        [
         "2019",
         "62nd Annual GRAMMY Awards  (2019)",
         "Record Of The Year",
         "Hard Place",
         "H.E.R.",
         "True",
         "40 ContributorsHard Place Lyrics[Intro]\nMmm, mmm-hmm, mmm-hmm, mmm, eh\n\n[Verse 1]\nWanna believe what you say\nBut I hate you on most days\nYou've been testing my faith and my patience, yeah\nAnd you know that I be head strong\nBut you know that you be dead wrong\nTelling me to relax when I'm reacting\n\n[Pre-Chorus]\nBut I, I'd rather fight\nThan lose sleep at night\nAt least you're all mine\nAnd if I have to choose\nMy heart or you\nI'm gonna lose, yeah\n\n[Chorus]\nWhat if nothing ever will change?\nOh, I'm caught between your love and a hard place\nOh, I wish there was a right way\nI'm caught between your love and a hard place, oh\nWoah, oh oh woah, oh oh woah, oh oh woah\nYou might also like[Verse 2]\nDo I even have a choice when-\nI'm gonna have to pick my poison\nYeah, you hurt me so good, it's so good\nAnd even when you cause tears\nYou're the one who wiped them away\nMaybe that's the reason I stay, I stay\n\n[Pre-Chorus]\nBut I, I'd rather fight\nThan lose sleep at night\nAt least you're all mine\nAnd if I have to choose\nMy heart or you\nI'm gonna lose\n\n[Chorus]\nWhat if nothing ever will change?\nOh, I'm caught between your love and a hard place\nOh, I wish there was a right way\nI'm caught between your love and a hard place, oh\nWoah, oh oh woah, oh oh woah, oh oh woah\n\nWhat if nothing ever will change?\nI'm caught between your love and a hard place\nOoh, I wish there was a right way, yeah\nI'm caught between your love and a hard place, ooh woah ooh\nWoah, oh oh woah, oh oh woah, oh oh woah\nOh, I'm caught between your love and a hard place\nWoah, oh oh woah, oh oh woah, oh oh woah\nOh, I wish there was a right way\nWoah, oh oh woah, oh oh woah, oh oh woah\nI'm caught between your love and a hard place, oh\nWoah, oh oh woah, oh oh woah, oh oh woah\n\n[Outro]\nI'm caught between your love and a hard place\nWhat if nothing will ever change?\nI'm caught between your love and a hard place7Embed"
        ],
        [
         "2019",
         "62nd Annual GRAMMY Awards  (2019)",
         "Record Of The Year",
         "Talk",
         "Khalid",
         "True",
         "83 ContributorsTranslationsفارسیEspañolTalk Lyrics[Chorus]\nCan we just talk? Can we just talk?\nTalk about where we're goin'\nBefore we get lost, lend me your thoughts\nCan't get what we want without knowin'\nI've never felt like this before\nI apologize if I'm movin' too far\nCan we just talk? Can we just talk?\nFigure out where we're goin'\n\n[Verse 1]\nYeah, started off right\nI can see it in your eyes\nI can tell that you're wantin' more\nWhat's been on your mind?\nThere's no reason we should hide\nTell me somethin' I ain't heard before\n\n[Pre-Chorus]\nOh, I've been dreamin' 'bout it\nAnd it's you I'm on\nSo stop thinkin' 'bout it\n\n[Chorus]\nCan we just talk? Can we just talk?\nTalk about where we're goin'\nBefore we get lost, lend me your thoughts (Yeah)\nCan't get what we want without knowin' (No)\nI've never felt like this before\nI apologize if I'm movin' too far\nCan we just talk? Can we just talk?\nFigure out where we're goin'\nSee Khalid LiveGet tickets as low as $119You might also like[Verse 2]\nOh, nah\nPenthouse view, left some flowers in the room\nI'll make sure I leave the door unlocked\nNow I'm on the way, swear I won't be late\nI'll be there by five o'clock\n\n[Pre-Chorus]\nOh, you've been dreamin' 'bout it\nAnd I'm what you want\nSo stop thinkin' 'bout it\n\n[Chorus]\nCan we just talk? (Oh) Can we just talk?\nTalk about where we're goin'\nBefore we get lost, lend me your thoughts\nCan't get what we want without knowin'\nI've never felt like this before\nI apologize if I'm movin' too far\nCan we just talk? Can we just talk?\nFigure out where we're goin'\n\n[Outro]\nFigure out where we're goin'45Embed"
        ],
        [
         "2019",
         "62nd Annual GRAMMY Awards  (2019)",
         "Record Of The Year",
         "Old Town Road",
         "Lil Nas X Featuring Billy Ray Cyrus",
         "True",
         "20 ContributorsOld Town Road (Lil Wayne Remix) Lyrics[Intro: Billy Ray Cyrus]\nOh, oh-oh\nOh\n\n[Refrain: Billy Ray Cyrus]\nYeah, I'm gonna take my horse to the old town road\nI'm gonna ride 'til I can't no more\nI'm gonna take my horse to the old town road\nI'm gonna ride 'til I can't no more\n(Kio, Kio)\n\n[Verse 1: Lil Nas X]\nI got the horses in the back\nHorse tack is attached\nHat is matte black\nGot the boots that's black to match\nRidin' on a horse, ha\nYou can whip your Porsche\nI been in the valley\nYou ain't been up off that porch, now\n\n[Chorus: Lil Nas X]\nCan't nobody tell me nothin'\nYou can't tell me nothin'\nCan't nobody tell me nothin'\nYou can't tell me nothin'\nYou might also like[Refrain: Lil Nas X]\nYeah, I'm gonna take my horse to the old town road\nI'm gonna ride 'til I can't no more\nI'm gonna take my horse to the old town road\nI'm gonna ride 'til I can't no more\n\n[Verse 2: Lil Wayne]\nUh, uh, I got the horses in the back, and she twerk it for a pony\nOoh, she got that honky-tonky, I met her on Farmers Only\nI'm a Young Money cowboy, sitting on my high horse\nGucci cowboy boots, the snakeskin, ooh, the pythons\nPull up on a tractor, lean and Jolly Ranchers\nPop a couple perkies, chew 'em like beef jerky\nSticky weed is like a cactus\nAw man, quit jumblin' grown man\nShe ride me say, \"Yeehaw\", man\nCall me Lil Jon Wayne\n\n[Refrain: Lil Nas X & Billy Ray Cyrus, Lil Wayne]\n(Remix baby) Yeah, I'm gonna take my horse to the old town road\n(Yeah, yeah, yeah, yeah) I'm gonna ride 'til I can't no more\n(Remix baby) I'm gonna take my horse to the old town road\n(Yeah, yeah, yeah, yeah) I'm gonna ride 'til I can't no more2Embed"
        ],
        [
         "2019",
         "62nd Annual GRAMMY Awards  (2019)",
         "Record Of The Year",
         "Truth Hurts",
         "Lizzo",
         "True",
         "136 ContributorsTruth Hurts Lyrics[Intro]\nWhy men great 'til they gotta be great?\nWoo!\n\n[Verse 1]\nI just took a DNA test, turns out I'm 100% that bitch\nEven when I'm crying crazy\nYeah, I got boy problems, that's the human in me\nBling bling, then I solve 'em, that's the goddess in me\nYou coulda had a bad bitch, non-committal\nHelp you with your career just a little\nYou're 'posed to hold me down, but you're holding me back\nAnd that's the sound of me not calling you back\n\n[Chorus]\nWhy men great 'til they gotta be great? ('Til they gotta be great)\nDon't text me, tell it straight to my face (Tell it straight to my face)\nBest friend sat me down in the salon chair (Down in the salon chair)\nShampoo press, get you out of my hair\nFresh photos with the bomb lighting (With the bomb lighting)\nNew man on the Minnesota Vikings (Minnesota Vikings)\nTruth hurts, needed something more exciting (Yee)\nBom bom bi dom bi dum bum bay (Eh, yeah, yeah, yeah)\n\n[Verse 2]\nYou tried to break my heart?\nOh, that breaks my heart\nThat you thought you ever had it\nNo, you ain't from the start\nHey, I'm glad you're back with your bitch\nI mean, who would wanna hide this?\nI will never, ever, ever, ever, ever be your side chick\nI put the sing in single\nAin't worried 'bout a ring on my finger\nSo you can tell your friend, \"Shoot your shot\" when you see him\nIt's okay, he already in my DMs\nYou might also like[Chorus]\nWhy men great 'til they gotta be great? ('Til they gotta be great)\nDon't text me, tell it straight to my face (Tell it straight to my face)\nBest friend sat me down in the salon chair (Down in the salon chair)\nShampoo press, get you out of my hair\nFresh photos with the bomb lighting (With the bomb lighting)\nNew man on the Minnesota Vikings (Minnesota Vikings)\nTruth hurts, needed something more exciting (Yee)\nBom bom bi dom bi dum bum bay (Eh, yeah, yeah, yeah)\n\n[Bridge]\nI'ma hit you back in a minute (Yeah, yeah)\nI don't play tag, bitch, I been it (One time)\nWe don't fuck with lies (Two times), we don't do goodbyes (Woo)\nWe just keep it pushing like ay-ay-ay\nI'ma hit you back in a minute (Yeah, yeah)\nI don't play tag, bitch, I been it (One time)\nWe don't fuck with lies (Two times), we don't do goodbyes (Woo)\nWe just keep it pushing like ay-ay-ay (Woo)\n\n[Chorus]\nWhy men great 'til they gotta be great? ('Til they gotta be great)\nDon't text me, tell it straight to my face (Tell it straight to my face)\nBest friend sat me down in the salon chair (Down in the salon chair)\nShampoo press, get you out of my hair\nFresh photos with the bomb lighting (With the bomb lighting)\nNew man on the Minnesota Vikings (Minnesota Vikings)\nTruth hurts, needed something more exciting (Yee)\nBom bom bi dom bi dum bum bay (Eh, yeah, yeah, yeah)\n[Outro]\nWith the bomb lighting\nMinnesota Vikings\nYee, eh, yeah, yeah, yeah66Embed"
        ],
        [
         "2019",
         "62nd Annual GRAMMY Awards  (2019)",
         "Record Of The Year",
         "Sunflower",
         "Post Malone & Swae Lee",
         "True",
         "282 ContributorsTranslationsTürkçeEspañolРусскийFrançaisNederlandsSunflower Lyrics[Intro: Swae Lee]\nAyy, ayy, ayy, ayy (Ooh)\nOoh, ooh, ooh, ooh (Ooh)\nAyy, ayy\nOoh, ooh, ooh, ooh\n\n[Verse 1: Swae Lee]\nNeedless to say, I keep in check\nShe was a bad-bad, nevertheless (Yeah)\nCallin' it quits now, baby, I'm a wreck (Wreck)\nCrash at my place, baby, you're a wreck (Wreck)\nNeedless to say, I'm keeping in check\nShe was a bad-bad, nevertheless\nCallin' it quits now, baby, I'm a wreck\nCrash at my place, baby, you're a wreck\nThinkin' in a bad way, losin' your grip\nScreamin' at my face, baby, don't trip\nSomeone took a big L, don't know how that felt\nLookin' at you sideways, party on tilt\nOoh-ooh, some things you just can't refuse\nShe wanna ride me like a cruise and I'm not tryna lose\n\n[Chorus: Swae Lee]\nThen you're left in the dust, unless I stuck by ya\nYou're a sunflower, I think your love would be too much\nOr you'll be left in the dust, unless I stuck by ya\nYou're the sunflower, you're the sunflower\nYou might also like[Verse 2: Post Malone]\nEvery time I'm leavin' on ya (Ooh)\nYou don't make it easy, no (No, no)\nWish I could be there for ya (Ooh)\nGive me a reason to, oh (Oh)\nEvery time I'm walkin' out (Oh)\nI can hear you tellin' me to turn around (Oh, oh)\nFightin' for my trust and you won't back down (No)\nEven if we gotta risk it all right now, oh (Now)\nI know you're scared of the unknown (Known)\nYou don't wanna be alone (Alone)\nI know I always come and go (And go)\nBut it's out of my control\n\n[Chorus: Post Malone]\nAnd you'll be left in the dust, unless I stuck by ya\nYou're the sunflower, I think your love would be too much\nOr you'll be left in the dust, unless I stuck by ya\nYou're the sunflower, you're the sunflower (Yeah)348Embed"
        ]
       ],
       "datasetInfos": [],
       "dbfsResultPath": null,
       "isJsonSchema": true,
       "metadata": {},
       "overflow": false,
       "plotOptions": {
        "customPlotOptions": {},
        "displayType": "table",
        "pivotAggregation": null,
        "pivotColumns": null,
        "xColumns": null,
        "yColumns": null
       },
       "removedWidgets": [],
       "schema": [
        {
         "metadata": "{}",
         "name": "year",
         "type": "\"string\""
        },
        {
         "metadata": "{}",
         "name": "title",
         "type": "\"string\""
        },
        {
         "metadata": "{}",
         "name": "category",
         "type": "\"string\""
        },
        {
         "metadata": "{}",
         "name": "nominee",
         "type": "\"string\""
        },
        {
         "metadata": "{}",
         "name": "artist",
         "type": "\"string\""
        },
        {
         "metadata": "{}",
         "name": "winner",
         "type": "\"string\""
        },
        {
         "metadata": "{}",
         "name": "lyrics",
         "type": "\"string\""
        }
       ],
       "type": "table"
      }
     },
     "output_type": "display_data"
    }
   ],
   "source": [
    "display(df_record_new)"
   ]
  }
 ],
 "metadata": {
  "application/vnd.databricks.v1+notebook": {
   "dashboards": [],
   "language": "python",
   "notebookMetadata": {
    "mostRecentlyExecutedCommandWithImplicitDF": {
     "commandId": 2844503137327618,
     "dataframes": [
      "_sqldf"
     ]
    },
    "pythonIndentUnit": 4
   },
   "notebookName": "Group F - Data Project",
   "widgets": {}
  }
 },
 "nbformat": 4,
 "nbformat_minor": 0
}
