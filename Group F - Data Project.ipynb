{
 "cells": [
  {
   "cell_type": "code",
   "execution_count": 0,
   "metadata": {
    "application/vnd.databricks.v1+cell": {
     "cellMetadata": {
      "byteLimit": 2048000,
      "rowLimit": 10000
     },
     "inputWidgets": {},
     "nuid": "cebfee2f-d2b0-465e-8950-8899405766c8",
     "showTitle": false,
     "title": ""
    }
   },
   "outputs": [
    {
     "output_type": "stream",
     "name": "stdout",
     "output_type": "stream",
     "text": [
      "Python interpreter will be restarted.\nCollecting lyricsgenius\n  Using cached lyricsgenius-3.0.1-py3-none-any.whl (59 kB)\nRequirement already satisfied: requests>=2.20.0 in /databricks/python3/lib/python3.9/site-packages (from lyricsgenius) (2.27.1)\nRequirement already satisfied: beautifulsoup4>=4.6.0 in /databricks/python3/lib/python3.9/site-packages (from lyricsgenius) (4.11.1)\nRequirement already satisfied: soupsieve>1.2 in /databricks/python3/lib/python3.9/site-packages (from beautifulsoup4>=4.6.0->lyricsgenius) (2.3.1)\nRequirement already satisfied: idna<4,>=2.5 in /databricks/python3/lib/python3.9/site-packages (from requests>=2.20.0->lyricsgenius) (3.3)\nRequirement already satisfied: charset-normalizer~=2.0.0 in /databricks/python3/lib/python3.9/site-packages (from requests>=2.20.0->lyricsgenius) (2.0.4)\nRequirement already satisfied: urllib3<1.27,>=1.21.1 in /databricks/python3/lib/python3.9/site-packages (from requests>=2.20.0->lyricsgenius) (1.26.9)\nRequirement already satisfied: certifi>=2017.4.17 in /databricks/python3/lib/python3.9/site-packages (from requests>=2.20.0->lyricsgenius) (2021.10.8)\nInstalling collected packages: lyricsgenius\nSuccessfully installed lyricsgenius-3.0.1\nPython interpreter will be restarted.\n"
     ]
    }
   ],
   "source": [
    "%pip install lyricsgenius"
   ]
  },
  {
   "cell_type": "code",
   "execution_count": 0,
   "metadata": {
    "application/vnd.databricks.v1+cell": {
     "cellMetadata": {
      "byteLimit": 2048000,
      "rowLimit": 10000
     },
     "inputWidgets": {},
     "nuid": "bbcaba83-da0d-47e0-9000-d49143951002",
     "showTitle": false,
     "title": ""
    }
   },
   "outputs": [],
   "source": [
    "import pyspark\n",
    "from pyspark.sql import SparkSession\n",
    "from pyspark.sql.types import StructType,StructField, StringType, IntegerType, FloatType, BooleanType\n",
    "from pyspark import SparkFiles"
   ]
  },
  {
   "cell_type": "code",
   "execution_count": 0,
   "metadata": {
    "application/vnd.databricks.v1+cell": {
     "cellMetadata": {
      "byteLimit": 2048000,
      "rowLimit": 10000
     },
     "inputWidgets": {},
     "nuid": "52e6effc-92c3-4f96-a5c0-101f282f62bb",
     "showTitle": false,
     "title": ""
    }
   },
   "outputs": [],
   "source": [
    "# Access token to access the Genius API\n",
    "genius_access_token = \"_uAHk5SWEsiQ-m07ZfEkAINUaD8Qlu497ipRp3MUD-fDVw1MpfEPeY5nx3kg08pB\"\n",
    "\n",
    "from lyricsgenius import Genius\n",
    "\n",
    "# Re-usable object to search and save lyrics.\n",
    "genius = Genius(genius_access_token)\n"
   ]
  },
  {
   "cell_type": "code",
   "execution_count": 0,
   "metadata": {
    "application/vnd.databricks.v1+cell": {
     "cellMetadata": {
      "byteLimit": 2048000,
      "rowLimit": 10000
     },
     "inputWidgets": {},
     "nuid": "420078cc-ca77-4e4f-a5fb-48ded4183219",
     "showTitle": false,
     "title": ""
    }
   },
   "outputs": [
    {
     "output_type": "stream",
     "name": "stdout",
     "output_type": "stream",
     "text": [
      "Searching for \"Hey, Ma\" by Bon Iver...\nDone.\n57 ContributorsHey, Ma Lyrics[Verse 1]\nI waited outside\nI took it remote\nI wanted a bath\n\"Tell the story or he goes\"\n\"Tell the story or he goes\"\n\n[Chorus]\nFull time, you talk your money up\nWhile it's living in a coal mine\nTall time to call your Ma\nHey Ma, hey Ma\nTall vote, you know you mope it up\nWell, you wanted it your whole life\nYou're back and forth with light\n\n[Verse 2]\nI waited outside\nI was tokin' on dope\nI hoped it all wunt go in a minute\nWith the past that you know\nI wanted all that mind sugar\nI want it all mine\nI had a heavy mind, sugar\nI took it, it was right\nYou might also like[Chorus]\nFull time, you talk your money up\nWhile it's living in a coal mine\nTall time to call your Ma\nHey Ma, hey Ma\nTall vote, you know you mope it up\nWell, you wanted it your whole life\nYou're back and forth with light\n\n[Interlude]\nYou're back and forth\nYou're back and forth\nYou go back and forth\nAnd then you're back and forth\nAnd back and forth\n\n[Verse 3]\nI waited outside\nThen you took me in the room\nAnd you offered up the truth\nMy eyes crawling up the window to the wall\nFrom dusk 'til dawn\nLet me talk to 'em\nLet me talk to 'em all\n\n[Chorus]\nFull time, you talk your money up\nWhile it's living in a coal mine\nTall time to call your Ma\nHey Ma, hey Ma\nTall vote, you know you mope it up\nWell, you wanted it your whole life\nYou're back and forth with light12Embed\n"
     ]
    }
   ],
   "source": [
    "# Let's try the Genius API to see if it works as expected:\n",
    "song = genius.search_song('Hey, Ma', 'Bon Iver')\n",
    "print(song.lyrics)"
   ]
  },
  {
   "cell_type": "code",
   "execution_count": 0,
   "metadata": {
    "application/vnd.databricks.v1+cell": {
     "cellMetadata": {
      "byteLimit": 2048000,
      "rowLimit": 10000
     },
     "inputWidgets": {},
     "nuid": "27a01b61-a29a-44a9-949c-adeb5a82823f",
     "showTitle": false,
     "title": ""
    }
   },
   "outputs": [],
   "source": [
    "# Let's store the file in dbfs, if it's not there, fetch it and save it to dbfs\n",
    "def getGrammyData():\n",
    "    file_location = \"/FileStore/tables/the_grammy_awards.csv\"\n",
    "\n",
    "    try:\n",
    "        f = dbutils.fs.ls(file_location)\n",
    "    except:\n",
    "        url = \"https://raw.githubusercontent.com/mackrauss/3252-BigData-Group-F/main/the_grammy_awards.csv\"\n",
    "        spark.sparkContext.addFile(url)\n",
    "        dbutils.fs.cp('file://'+SparkFiles.get('the_grammy_awards.csv'), file_location)\n",
    "        print('Moved file to tables')\n",
    "    \n",
    "    return file_location"
   ]
  },
  {
   "cell_type": "code",
   "execution_count": 0,
   "metadata": {
    "application/vnd.databricks.v1+cell": {
     "cellMetadata": {
      "byteLimit": 2048000,
      "rowLimit": 10000
     },
     "inputWidgets": {},
     "nuid": "41f3504a-6b5e-4d3d-98a6-e513990e368b",
     "showTitle": false,
     "title": ""
    }
   },
   "outputs": [],
   "source": [
    "file_location = getGrammyData()\n",
    "\n",
    "file_type = \"csv\"\n",
    "\n",
    "# CSV options\n",
    "infer_schema = \"false\"\n",
    "first_row_is_header = \"true\"\n",
    "delimiter = \",\"\n",
    "\n",
    "# Adding 'escape' option to change escape character from \\ to \" - not we need to escape the \" inside the\n",
    "# see https://stackoverflow.com/questions/40413526/reading-csv-files-with-quoted-fields-containing-embedded-commas\n",
    "df = spark.read.format(file_type) \\\n",
    "  .option(\"inferSchema\", infer_schema) \\\n",
    "  .option(\"header\", first_row_is_header) \\\n",
    "  .option(\"sep\", delimiter) \\\n",
    "  .option(\"escape\", \"\\\"\") \\\n",
    "  .load(file_location)"
   ]
  },
  {
   "cell_type": "code",
   "execution_count": 0,
   "metadata": {
    "application/vnd.databricks.v1+cell": {
     "cellMetadata": {
      "byteLimit": 2048000,
      "rowLimit": 10000
     },
     "inputWidgets": {},
     "nuid": "e9a7f2ff-cd96-44c8-9cbe-0df201f62b26",
     "showTitle": false,
     "title": ""
    }
   },
   "outputs": [],
   "source": [
    "# pull file via HTTP/S using Spark tools\n",
    "# from pyspark import SparkFiles\n",
    "\n",
    "# url = \"https://raw.githubusercontent.com/mackrauss/3252-BigData-Group-F/main/the_grammy_awards.csv\"\n",
    "# spark.sparkContext.addFile(url)\n",
    "\n",
    "# df = spark.read.csv(\"file://\"+SparkFiles.get(\"the_grammy_awards.csv\"), header=True, inferSchema= True)\n"
   ]
  },
  {
   "cell_type": "code",
   "execution_count": 0,
   "metadata": {
    "application/vnd.databricks.v1+cell": {
     "cellMetadata": {
      "byteLimit": 2048000,
      "rowLimit": 10000
     },
     "inputWidgets": {},
     "nuid": "4ea4f8ae-13f8-40d7-ae4b-cd472fa13378",
     "showTitle": false,
     "title": ""
    }
   },
   "outputs": [
    {
     "output_type": "display_data",
     "data": {
      "text/html": [
       "<style scoped>\n",
       "  .table-result-container {\n",
       "    max-height: 300px;\n",
       "    overflow: auto;\n",
       "  }\n",
       "  table, th, td {\n",
       "    border: 1px solid black;\n",
       "    border-collapse: collapse;\n",
       "  }\n",
       "  th, td {\n",
       "    padding: 5px;\n",
       "  }\n",
       "  th {\n",
       "    text-align: left;\n",
       "  }\n",
       "</style><div class='table-result-container'><table class='table-result'><thead style='background-color: white'><tr><th>year</th><th>title</th><th>published_at</th><th>updated_at</th><th>category</th><th>nominee</th><th>artist</th><th>workers</th><th>img</th><th>winner</th></tr></thead><tbody><tr><td>2019</td><td>62nd Annual GRAMMY Awards  (2019)</td><td>2020-05-19T05:10:28-07:00</td><td>2020-05-19T05:10:28-07:00</td><td>Record Of The Year</td><td>Bad Guy</td><td>Billie Eilish</td><td>Finneas O'Connell, producer; Rob Kinelski & Finneas O'Connell, engineers/mixers; John Greenham, mastering engineer</td><td>https://www.grammy.com/sites/com/files/styles/artist_circle/public/muzooka/Billie%2BEilish/Billie%2520Eilish_1_1_1594138954.jpg?itok=3-71Dfxh</td><td>True</td></tr><tr><td>2019</td><td>62nd Annual GRAMMY Awards  (2019)</td><td>2020-05-19T05:10:28-07:00</td><td>2020-05-19T05:10:28-07:00</td><td>Record Of The Year</td><td>Hey, Ma</td><td>Bon Iver</td><td>BJ Burton, Brad Cook, Chris Messina & Justin Vernon, producers; BJ Burton, Zach Hanson & Chris Messina, engineers/mixers; Greg Calbi, mastering engineer</td><td>https://www.grammy.com/sites/com/files/styles/artist_circle/public/muzooka/Bon%2BIver/Bon%2520Iver_1_1_1578385181.jpg?itok=_M1hc5Ux</td><td>True</td></tr><tr><td>2019</td><td>62nd Annual GRAMMY Awards  (2019)</td><td>2020-05-19T05:10:28-07:00</td><td>2020-05-19T05:10:28-07:00</td><td>Record Of The Year</td><td>7 rings</td><td>Ariana Grande</td><td>Charles Anderson, Tommy Brown, Michael Foster & Victoria Monet, producers; Serban Ghenea, John Hanes, Billy Hickey & Brendan Morawski, engineers/mixers; Randy Merrill, mastering engineer</td><td>https://www.grammy.com/sites/com/files/styles/artist_circle/public/muzooka/Ariana%2BGrande/Ariana%2520Grande_1_1_1578384678.jpg?itok=Amj90j13</td><td>True</td></tr><tr><td>2019</td><td>62nd Annual GRAMMY Awards  (2019)</td><td>2020-05-19T05:10:28-07:00</td><td>2020-05-19T05:10:28-07:00</td><td>Record Of The Year</td><td>Hard Place</td><td>H.E.R.</td><td>Rodney “Darkchild” Jerkins, producer; Joseph Hurtado, Jaycen Joshua, Derek Keota & Miki Tsutsumi, engineers/mixers; Colin Leonard, mastering engineer</td><td>https://www.grammy.com/sites/com/files/styles/artist_circle/public/muzooka/H.E.R./H.E.R._1_1_1594631035.jpg?itok=ClJe-2MN</td><td>True</td></tr><tr><td>2019</td><td>62nd Annual GRAMMY Awards  (2019)</td><td>2020-05-19T05:10:28-07:00</td><td>2020-05-19T05:10:28-07:00</td><td>Record Of The Year</td><td>Talk</td><td>Khalid</td><td>Disclosure & Denis Kosiak, producers; Ingmar Carlson, Jon Castelli, Josh Deguzman, John Kercy, Denis Kosiak, Guy Lawrence & Michael Romero, engineers/mixers; Dale Becker, mastering engineer</td><td>https://www.grammy.com/sites/com/files/styles/artist_circle/public/muzooka/Khalid/Khalid_1_1_1594578772.jpg?itok=2HxjAT-X</td><td>True</td></tr></tbody></table></div>"
      ]
     },
     "metadata": {
      "application/vnd.databricks.v1+output": {
       "addedWidgets": {},
       "aggData": [],
       "aggError": "",
       "aggOverflow": false,
       "aggSchema": [],
       "aggSeriesLimitReached": false,
       "aggType": "",
       "arguments": {},
       "columnCustomDisplayInfos": {},
       "data": [
        [
         "2019",
         "62nd Annual GRAMMY Awards  (2019)",
         "2020-05-19T05:10:28-07:00",
         "2020-05-19T05:10:28-07:00",
         "Record Of The Year",
         "Bad Guy",
         "Billie Eilish",
         "Finneas O'Connell, producer; Rob Kinelski & Finneas O'Connell, engineers/mixers; John Greenham, mastering engineer",
         "https://www.grammy.com/sites/com/files/styles/artist_circle/public/muzooka/Billie%2BEilish/Billie%2520Eilish_1_1_1594138954.jpg?itok=3-71Dfxh",
         "True"
        ],
        [
         "2019",
         "62nd Annual GRAMMY Awards  (2019)",
         "2020-05-19T05:10:28-07:00",
         "2020-05-19T05:10:28-07:00",
         "Record Of The Year",
         "Hey, Ma",
         "Bon Iver",
         "BJ Burton, Brad Cook, Chris Messina & Justin Vernon, producers; BJ Burton, Zach Hanson & Chris Messina, engineers/mixers; Greg Calbi, mastering engineer",
         "https://www.grammy.com/sites/com/files/styles/artist_circle/public/muzooka/Bon%2BIver/Bon%2520Iver_1_1_1578385181.jpg?itok=_M1hc5Ux",
         "True"
        ],
        [
         "2019",
         "62nd Annual GRAMMY Awards  (2019)",
         "2020-05-19T05:10:28-07:00",
         "2020-05-19T05:10:28-07:00",
         "Record Of The Year",
         "7 rings",
         "Ariana Grande",
         "Charles Anderson, Tommy Brown, Michael Foster & Victoria Monet, producers; Serban Ghenea, John Hanes, Billy Hickey & Brendan Morawski, engineers/mixers; Randy Merrill, mastering engineer",
         "https://www.grammy.com/sites/com/files/styles/artist_circle/public/muzooka/Ariana%2BGrande/Ariana%2520Grande_1_1_1578384678.jpg?itok=Amj90j13",
         "True"
        ],
        [
         "2019",
         "62nd Annual GRAMMY Awards  (2019)",
         "2020-05-19T05:10:28-07:00",
         "2020-05-19T05:10:28-07:00",
         "Record Of The Year",
         "Hard Place",
         "H.E.R.",
         "Rodney “Darkchild” Jerkins, producer; Joseph Hurtado, Jaycen Joshua, Derek Keota & Miki Tsutsumi, engineers/mixers; Colin Leonard, mastering engineer",
         "https://www.grammy.com/sites/com/files/styles/artist_circle/public/muzooka/H.E.R./H.E.R._1_1_1594631035.jpg?itok=ClJe-2MN",
         "True"
        ],
        [
         "2019",
         "62nd Annual GRAMMY Awards  (2019)",
         "2020-05-19T05:10:28-07:00",
         "2020-05-19T05:10:28-07:00",
         "Record Of The Year",
         "Talk",
         "Khalid",
         "Disclosure & Denis Kosiak, producers; Ingmar Carlson, Jon Castelli, Josh Deguzman, John Kercy, Denis Kosiak, Guy Lawrence & Michael Romero, engineers/mixers; Dale Becker, mastering engineer",
         "https://www.grammy.com/sites/com/files/styles/artist_circle/public/muzooka/Khalid/Khalid_1_1_1594578772.jpg?itok=2HxjAT-X",
         "True"
        ]
       ],
       "datasetInfos": [],
       "dbfsResultPath": null,
       "isJsonSchema": true,
       "metadata": {},
       "overflow": false,
       "plotOptions": {
        "customPlotOptions": {},
        "displayType": "table",
        "pivotAggregation": null,
        "pivotColumns": null,
        "xColumns": null,
        "yColumns": null
       },
       "removedWidgets": [],
       "schema": [
        {
         "metadata": "{}",
         "name": "year",
         "type": "\"string\""
        },
        {
         "metadata": "{}",
         "name": "title",
         "type": "\"string\""
        },
        {
         "metadata": "{}",
         "name": "published_at",
         "type": "\"string\""
        },
        {
         "metadata": "{}",
         "name": "updated_at",
         "type": "\"string\""
        },
        {
         "metadata": "{}",
         "name": "category",
         "type": "\"string\""
        },
        {
         "metadata": "{}",
         "name": "nominee",
         "type": "\"string\""
        },
        {
         "metadata": "{}",
         "name": "artist",
         "type": "\"string\""
        },
        {
         "metadata": "{}",
         "name": "workers",
         "type": "\"string\""
        },
        {
         "metadata": "{}",
         "name": "img",
         "type": "\"string\""
        },
        {
         "metadata": "{}",
         "name": "winner",
         "type": "\"string\""
        }
       ],
       "type": "table"
      }
     },
     "output_type": "display_data"
    }
   ],
   "source": [
    "display(df.head(5))"
   ]
  },
  {
   "cell_type": "code",
   "execution_count": 0,
   "metadata": {
    "application/vnd.databricks.v1+cell": {
     "cellMetadata": {
      "byteLimit": 2048000,
      "rowLimit": 10000
     },
     "inputWidgets": {},
     "nuid": "d6dfa6f4-582c-43c6-8f0d-dd56d1f8437f",
     "showTitle": false,
     "title": ""
    }
   },
   "outputs": [],
   "source": [
    "# Create a view or table to allow SQL usage\n",
    "\n",
    "temp_table_name = \"grammy_awards\"\n",
    "\n",
    "df.createOrReplaceTempView(temp_table_name)"
   ]
  },
  {
   "cell_type": "code",
   "execution_count": 0,
   "metadata": {
    "application/vnd.databricks.v1+cell": {
     "cellMetadata": {
      "byteLimit": 2048000,
      "implicitDf": true,
      "rowLimit": 10000
     },
     "inputWidgets": {},
     "nuid": "2ff98e88-502c-4d2e-8751-991890558b94",
     "showTitle": false,
     "title": ""
    }
   },
   "outputs": [
    {
     "output_type": "stream",
     "name": "stdout",
     "output_type": "stream",
     "text": [
      "+----+\n|year|\n+----+\n|2019|\n|2018|\n|2017|\n|2016|\n|2015|\n|2014|\n|2013|\n|2012|\n|2011|\n|2010|\n|2009|\n|2008|\n|2007|\n|2006|\n|2005|\n|2004|\n|2003|\n|2002|\n|2001|\n|2000|\n+----+\nonly showing top 20 rows\n\n"
     ]
    }
   ],
   "source": [
    "# Show all years in the record\n",
    "df.select(\"year\").distinct().orderBy(df.year.desc()).show() "
   ]
  },
  {
   "cell_type": "code",
   "execution_count": 0,
   "metadata": {
    "application/vnd.databricks.v1+cell": {
     "cellMetadata": {
      "byteLimit": 2048000,
      "rowLimit": 10000
     },
     "inputWidgets": {},
     "nuid": "5b61aae2-17a3-48e3-aaf2-4e25ce28451e",
     "showTitle": false,
     "title": ""
    }
   },
   "outputs": [
    {
     "output_type": "stream",
     "name": "stdout",
     "output_type": "stream",
     "text": [
      "Out[10]: 62"
     ]
    }
   ],
   "source": [
    "# Count number of years recorded\n",
    "df.select(\"year\").distinct().count()"
   ]
  },
  {
   "cell_type": "code",
   "execution_count": 0,
   "metadata": {
    "application/vnd.databricks.v1+cell": {
     "cellMetadata": {
      "byteLimit": 2048000,
      "implicitDf": true,
      "rowLimit": 10000
     },
     "inputWidgets": {},
     "nuid": "16afc600-ca80-475f-ba80-dca44fd34b78",
     "showTitle": false,
     "title": ""
    }
   },
   "outputs": [
    {
     "output_type": "display_data",
     "data": {
      "text/html": [
       "<style scoped>\n",
       "  .table-result-container {\n",
       "    max-height: 300px;\n",
       "    overflow: auto;\n",
       "  }\n",
       "  table, th, td {\n",
       "    border: 1px solid black;\n",
       "    border-collapse: collapse;\n",
       "  }\n",
       "  th, td {\n",
       "    padding: 5px;\n",
       "  }\n",
       "  th {\n",
       "    text-align: left;\n",
       "  }\n",
       "</style><div class='table-result-container'><table class='table-result'><thead style='background-color: white'><tr><th># years recorded</th></tr></thead><tbody><tr><td>62</td></tr></tbody></table></div>"
      ]
     },
     "metadata": {
      "application/vnd.databricks.v1+output": {
       "addedWidgets": {},
       "aggData": [],
       "aggError": "",
       "aggOverflow": false,
       "aggSchema": [],
       "aggSeriesLimitReached": false,
       "aggType": "",
       "arguments": {},
       "columnCustomDisplayInfos": {},
       "data": [
        [
         62
        ]
       ],
       "datasetInfos": [],
       "dbfsResultPath": null,
       "isJsonSchema": true,
       "metadata": {},
       "overflow": false,
       "plotOptions": {
        "customPlotOptions": {},
        "displayType": "table",
        "pivotAggregation": null,
        "pivotColumns": null,
        "xColumns": null,
        "yColumns": null
       },
       "removedWidgets": [],
       "schema": [
        {
         "metadata": "{}",
         "name": "# years recorded",
         "type": "\"long\""
        }
       ],
       "type": "table"
      }
     },
     "output_type": "display_data"
    }
   ],
   "source": [
    "%sql\n",
    "-- count number of years\n",
    "select count(distinct year) AS `# years recorded`\n",
    "from `grammy_awards`"
   ]
  },
  {
   "cell_type": "code",
   "execution_count": 0,
   "metadata": {
    "application/vnd.databricks.v1+cell": {
     "cellMetadata": {
      "byteLimit": 2048000,
      "implicitDf": true,
      "rowLimit": 10000
     },
     "inputWidgets": {},
     "nuid": "59432ecc-0f7d-4886-8514-5738b433dd6e",
     "showTitle": false,
     "title": ""
    }
   },
   "outputs": [
    {
     "output_type": "display_data",
     "data": {
      "text/html": [
       "<style scoped>\n",
       "  .table-result-container {\n",
       "    max-height: 300px;\n",
       "    overflow: auto;\n",
       "  }\n",
       "  table, th, td {\n",
       "    border: 1px solid black;\n",
       "    border-collapse: collapse;\n",
       "  }\n",
       "  th, td {\n",
       "    padding: 5px;\n",
       "  }\n",
       "  th {\n",
       "    text-align: left;\n",
       "  }\n",
       "</style><div class='table-result-container'><table class='table-result'><thead style='background-color: white'><tr><th># of categories</th></tr></thead><tbody><tr><td>638</td></tr></tbody></table></div>"
      ]
     },
     "metadata": {
      "application/vnd.databricks.v1+output": {
       "addedWidgets": {},
       "aggData": [],
       "aggError": "",
       "aggOverflow": false,
       "aggSchema": [],
       "aggSeriesLimitReached": false,
       "aggType": "",
       "arguments": {},
       "columnCustomDisplayInfos": {},
       "data": [
        [
         638
        ]
       ],
       "datasetInfos": [],
       "dbfsResultPath": null,
       "isJsonSchema": true,
       "metadata": {},
       "overflow": false,
       "plotOptions": {
        "customPlotOptions": {},
        "displayType": "table",
        "pivotAggregation": null,
        "pivotColumns": null,
        "xColumns": null,
        "yColumns": null
       },
       "removedWidgets": [],
       "schema": [
        {
         "metadata": "{}",
         "name": "# of categories",
         "type": "\"long\""
        }
       ],
       "type": "table"
      }
     },
     "output_type": "display_data"
    }
   ],
   "source": [
    "%sql\n",
    "-- count number of categories\n",
    "select count(distinct category) `# of categories`\n",
    "from `grammy_awards`"
   ]
  },
  {
   "cell_type": "code",
   "execution_count": 0,
   "metadata": {
    "application/vnd.databricks.v1+cell": {
     "cellMetadata": {
      "byteLimit": 2048000,
      "implicitDf": true,
      "rowLimit": 10000
     },
     "inputWidgets": {},
     "nuid": "948b07d8-84b4-4e85-868c-7a2ecd0f2e59",
     "showTitle": false,
     "title": ""
    }
   },
   "outputs": [
    {
     "output_type": "display_data",
     "data": {
      "text/html": [
       "<style scoped>\n",
       "  .table-result-container {\n",
       "    max-height: 300px;\n",
       "    overflow: auto;\n",
       "  }\n",
       "  table, th, td {\n",
       "    border: 1px solid black;\n",
       "    border-collapse: collapse;\n",
       "  }\n",
       "  th, td {\n",
       "    padding: 5px;\n",
       "  }\n",
       "  th {\n",
       "    text-align: left;\n",
       "  }\n",
       "</style><div class='table-result-container'><table class='table-result'><thead style='background-color: white'><tr><th>Years with Record of the Year recorded</th></tr></thead><tbody><tr><td>62</td></tr></tbody></table></div>"
      ]
     },
     "metadata": {
      "application/vnd.databricks.v1+output": {
       "addedWidgets": {},
       "aggData": [],
       "aggError": "",
       "aggOverflow": false,
       "aggSchema": [],
       "aggSeriesLimitReached": false,
       "aggType": "",
       "arguments": {},
       "columnCustomDisplayInfos": {},
       "data": [
        [
         62
        ]
       ],
       "datasetInfos": [],
       "dbfsResultPath": null,
       "isJsonSchema": true,
       "metadata": {},
       "overflow": false,
       "plotOptions": {
        "customPlotOptions": {},
        "displayType": "table",
        "pivotAggregation": null,
        "pivotColumns": null,
        "xColumns": null,
        "yColumns": null
       },
       "removedWidgets": [],
       "schema": [
        {
         "metadata": "{}",
         "name": "Years with Record of the Year recorded",
         "type": "\"long\""
        }
       ],
       "type": "table"
      }
     },
     "output_type": "display_data"
    }
   ],
   "source": [
    "%sql\n",
    "-- ensure we have 'Record Of The Year' data for each year\n",
    "select count(distinct year) as `Years with Record of the Year recorded`\n",
    "from `grammy_awards`\n",
    "where category like 'Record Of The Year'\n"
   ]
  },
  {
   "cell_type": "code",
   "execution_count": 0,
   "metadata": {
    "application/vnd.databricks.v1+cell": {
     "cellMetadata": {
      "byteLimit": 2048000,
      "rowLimit": 10000
     },
     "inputWidgets": {},
     "nuid": "a133109f-96b0-4ab6-a0c0-adb148c4ccfc",
     "showTitle": false,
     "title": ""
    }
   },
   "outputs": [
    {
     "output_type": "display_data",
     "data": {
      "text/html": [
       "<style scoped>\n",
       "  .table-result-container {\n",
       "    max-height: 300px;\n",
       "    overflow: auto;\n",
       "  }\n",
       "  table, th, td {\n",
       "    border: 1px solid black;\n",
       "    border-collapse: collapse;\n",
       "  }\n",
       "  th, td {\n",
       "    padding: 5px;\n",
       "  }\n",
       "  th {\n",
       "    text-align: left;\n",
       "  }\n",
       "</style><div class='table-result-container'><table class='table-result'><thead style='background-color: white'><tr><th>year</th><th>title</th><th>category</th><th>nominee</th><th>artist</th><th>workers</th><th>img</th><th>winner</th></tr></thead><tbody><tr><td>2019</td><td>62nd Annual GRAMMY Awards  (2019)</td><td>Record Of The Year</td><td>Bad Guy</td><td>Billie Eilish</td><td>Finneas O'Connell, producer; Rob Kinelski & Finneas O'Connell, engineers/mixers; John Greenham, mastering engineer</td><td>https://www.grammy.com/sites/com/files/styles/artist_circle/public/muzooka/Billie%2BEilish/Billie%2520Eilish_1_1_1594138954.jpg?itok=3-71Dfxh</td><td>True</td></tr><tr><td>2019</td><td>62nd Annual GRAMMY Awards  (2019)</td><td>Record Of The Year</td><td>Hey, Ma</td><td>Bon Iver</td><td>BJ Burton, Brad Cook, Chris Messina & Justin Vernon, producers; BJ Burton, Zach Hanson & Chris Messina, engineers/mixers; Greg Calbi, mastering engineer</td><td>https://www.grammy.com/sites/com/files/styles/artist_circle/public/muzooka/Bon%2BIver/Bon%2520Iver_1_1_1578385181.jpg?itok=_M1hc5Ux</td><td>True</td></tr><tr><td>2019</td><td>62nd Annual GRAMMY Awards  (2019)</td><td>Record Of The Year</td><td>7 rings</td><td>Ariana Grande</td><td>Charles Anderson, Tommy Brown, Michael Foster & Victoria Monet, producers; Serban Ghenea, John Hanes, Billy Hickey & Brendan Morawski, engineers/mixers; Randy Merrill, mastering engineer</td><td>https://www.grammy.com/sites/com/files/styles/artist_circle/public/muzooka/Ariana%2BGrande/Ariana%2520Grande_1_1_1578384678.jpg?itok=Amj90j13</td><td>True</td></tr><tr><td>2019</td><td>62nd Annual GRAMMY Awards  (2019)</td><td>Record Of The Year</td><td>Hard Place</td><td>H.E.R.</td><td>Rodney “Darkchild” Jerkins, producer; Joseph Hurtado, Jaycen Joshua, Derek Keota & Miki Tsutsumi, engineers/mixers; Colin Leonard, mastering engineer</td><td>https://www.grammy.com/sites/com/files/styles/artist_circle/public/muzooka/H.E.R./H.E.R._1_1_1594631035.jpg?itok=ClJe-2MN</td><td>True</td></tr><tr><td>2019</td><td>62nd Annual GRAMMY Awards  (2019)</td><td>Record Of The Year</td><td>Talk</td><td>Khalid</td><td>Disclosure & Denis Kosiak, producers; Ingmar Carlson, Jon Castelli, Josh Deguzman, John Kercy, Denis Kosiak, Guy Lawrence & Michael Romero, engineers/mixers; Dale Becker, mastering engineer</td><td>https://www.grammy.com/sites/com/files/styles/artist_circle/public/muzooka/Khalid/Khalid_1_1_1594578772.jpg?itok=2HxjAT-X</td><td>True</td></tr></tbody></table></div>"
      ]
     },
     "metadata": {
      "application/vnd.databricks.v1+output": {
       "addedWidgets": {},
       "aggData": [],
       "aggError": "",
       "aggOverflow": false,
       "aggSchema": [],
       "aggSeriesLimitReached": false,
       "aggType": "",
       "arguments": {},
       "columnCustomDisplayInfos": {},
       "data": [
        [
         "2019",
         "62nd Annual GRAMMY Awards  (2019)",
         "Record Of The Year",
         "Bad Guy",
         "Billie Eilish",
         "Finneas O'Connell, producer; Rob Kinelski & Finneas O'Connell, engineers/mixers; John Greenham, mastering engineer",
         "https://www.grammy.com/sites/com/files/styles/artist_circle/public/muzooka/Billie%2BEilish/Billie%2520Eilish_1_1_1594138954.jpg?itok=3-71Dfxh",
         "True"
        ],
        [
         "2019",
         "62nd Annual GRAMMY Awards  (2019)",
         "Record Of The Year",
         "Hey, Ma",
         "Bon Iver",
         "BJ Burton, Brad Cook, Chris Messina & Justin Vernon, producers; BJ Burton, Zach Hanson & Chris Messina, engineers/mixers; Greg Calbi, mastering engineer",
         "https://www.grammy.com/sites/com/files/styles/artist_circle/public/muzooka/Bon%2BIver/Bon%2520Iver_1_1_1578385181.jpg?itok=_M1hc5Ux",
         "True"
        ],
        [
         "2019",
         "62nd Annual GRAMMY Awards  (2019)",
         "Record Of The Year",
         "7 rings",
         "Ariana Grande",
         "Charles Anderson, Tommy Brown, Michael Foster & Victoria Monet, producers; Serban Ghenea, John Hanes, Billy Hickey & Brendan Morawski, engineers/mixers; Randy Merrill, mastering engineer",
         "https://www.grammy.com/sites/com/files/styles/artist_circle/public/muzooka/Ariana%2BGrande/Ariana%2520Grande_1_1_1578384678.jpg?itok=Amj90j13",
         "True"
        ],
        [
         "2019",
         "62nd Annual GRAMMY Awards  (2019)",
         "Record Of The Year",
         "Hard Place",
         "H.E.R.",
         "Rodney “Darkchild” Jerkins, producer; Joseph Hurtado, Jaycen Joshua, Derek Keota & Miki Tsutsumi, engineers/mixers; Colin Leonard, mastering engineer",
         "https://www.grammy.com/sites/com/files/styles/artist_circle/public/muzooka/H.E.R./H.E.R._1_1_1594631035.jpg?itok=ClJe-2MN",
         "True"
        ],
        [
         "2019",
         "62nd Annual GRAMMY Awards  (2019)",
         "Record Of The Year",
         "Talk",
         "Khalid",
         "Disclosure & Denis Kosiak, producers; Ingmar Carlson, Jon Castelli, Josh Deguzman, John Kercy, Denis Kosiak, Guy Lawrence & Michael Romero, engineers/mixers; Dale Becker, mastering engineer",
         "https://www.grammy.com/sites/com/files/styles/artist_circle/public/muzooka/Khalid/Khalid_1_1_1594578772.jpg?itok=2HxjAT-X",
         "True"
        ]
       ],
       "datasetInfos": [],
       "dbfsResultPath": null,
       "isJsonSchema": true,
       "metadata": {},
       "overflow": false,
       "plotOptions": {
        "customPlotOptions": {},
        "displayType": "table",
        "pivotAggregation": null,
        "pivotColumns": null,
        "xColumns": null,
        "yColumns": null
       },
       "removedWidgets": [],
       "schema": [
        {
         "metadata": "{}",
         "name": "year",
         "type": "\"string\""
        },
        {
         "metadata": "{}",
         "name": "title",
         "type": "\"string\""
        },
        {
         "metadata": "{}",
         "name": "category",
         "type": "\"string\""
        },
        {
         "metadata": "{}",
         "name": "nominee",
         "type": "\"string\""
        },
        {
         "metadata": "{}",
         "name": "artist",
         "type": "\"string\""
        },
        {
         "metadata": "{}",
         "name": "workers",
         "type": "\"string\""
        },
        {
         "metadata": "{}",
         "name": "img",
         "type": "\"string\""
        },
        {
         "metadata": "{}",
         "name": "winner",
         "type": "\"string\""
        }
       ],
       "type": "table"
      }
     },
     "output_type": "display_data"
    }
   ],
   "source": [
    "# Create a new DataFrame that only contains the 'Record Of The Year' category data\n",
    "df_record = df.select('year','title','category','nominee','artist','workers','img','winner').where(df.category == \"Record Of The Year\")\n",
    "display(df_record.head(5))"
   ]
  },
  {
   "cell_type": "code",
   "execution_count": 0,
   "metadata": {
    "application/vnd.databricks.v1+cell": {
     "cellMetadata": {
      "byteLimit": 2048000,
      "rowLimit": 10000
     },
     "inputWidgets": {},
     "nuid": "7be510f8-e016-46ca-8aae-7d4c9e2ca2d3",
     "showTitle": false,
     "title": ""
    }
   },
   "outputs": [],
   "source": [
    "# Create a view or table for Record Of the Year data\n",
    "\n",
    "temp_table_name = \"record_of_the_year\"\n",
    "\n",
    "df_record.createOrReplaceTempView(temp_table_name)"
   ]
  },
  {
   "cell_type": "code",
   "execution_count": 0,
   "metadata": {
    "application/vnd.databricks.v1+cell": {
     "cellMetadata": {
      "byteLimit": 2048000,
      "rowLimit": 10000
     },
     "inputWidgets": {},
     "nuid": "e118f64c-68a9-418e-b8b0-ad63d01f044d",
     "showTitle": false,
     "title": ""
    }
   },
   "outputs": [
    {
     "output_type": "display_data",
     "data": {
      "text/html": [
       "<style scoped>\n",
       "  .table-result-container {\n",
       "    max-height: 300px;\n",
       "    overflow: auto;\n",
       "  }\n",
       "  table, th, td {\n",
       "    border: 1px solid black;\n",
       "    border-collapse: collapse;\n",
       "  }\n",
       "  th, td {\n",
       "    padding: 5px;\n",
       "  }\n",
       "  th {\n",
       "    text-align: left;\n",
       "  }\n",
       "</style><div class='table-result-container'><table class='table-result'><thead style='background-color: white'><tr><th>year</th><th>title</th><th>category</th><th>nominee</th><th>artist</th><th>workers</th><th>img</th><th>winner</th></tr></thead><tbody><tr><td>2019</td><td>62nd Annual GRAMMY Awards  (2019)</td><td>Record Of The Year</td><td>Bad Guy</td><td>Billie Eilish</td><td>Finneas O'Connell, producer; Rob Kinelski & Finneas O'Connell, engineers/mixers; John Greenham, mastering engineer</td><td>https://www.grammy.com/sites/com/files/styles/artist_circle/public/muzooka/Billie%2BEilish/Billie%2520Eilish_1_1_1594138954.jpg?itok=3-71Dfxh</td><td>True</td></tr><tr><td>2019</td><td>62nd Annual GRAMMY Awards  (2019)</td><td>Record Of The Year</td><td>Hey, Ma</td><td>Bon Iver</td><td>BJ Burton, Brad Cook, Chris Messina & Justin Vernon, producers; BJ Burton, Zach Hanson & Chris Messina, engineers/mixers; Greg Calbi, mastering engineer</td><td>https://www.grammy.com/sites/com/files/styles/artist_circle/public/muzooka/Bon%2BIver/Bon%2520Iver_1_1_1578385181.jpg?itok=_M1hc5Ux</td><td>True</td></tr><tr><td>2019</td><td>62nd Annual GRAMMY Awards  (2019)</td><td>Record Of The Year</td><td>7 rings</td><td>Ariana Grande</td><td>Charles Anderson, Tommy Brown, Michael Foster & Victoria Monet, producers; Serban Ghenea, John Hanes, Billy Hickey & Brendan Morawski, engineers/mixers; Randy Merrill, mastering engineer</td><td>https://www.grammy.com/sites/com/files/styles/artist_circle/public/muzooka/Ariana%2BGrande/Ariana%2520Grande_1_1_1578384678.jpg?itok=Amj90j13</td><td>True</td></tr><tr><td>2019</td><td>62nd Annual GRAMMY Awards  (2019)</td><td>Record Of The Year</td><td>Hard Place</td><td>H.E.R.</td><td>Rodney “Darkchild” Jerkins, producer; Joseph Hurtado, Jaycen Joshua, Derek Keota & Miki Tsutsumi, engineers/mixers; Colin Leonard, mastering engineer</td><td>https://www.grammy.com/sites/com/files/styles/artist_circle/public/muzooka/H.E.R./H.E.R._1_1_1594631035.jpg?itok=ClJe-2MN</td><td>True</td></tr><tr><td>2019</td><td>62nd Annual GRAMMY Awards  (2019)</td><td>Record Of The Year</td><td>Talk</td><td>Khalid</td><td>Disclosure & Denis Kosiak, producers; Ingmar Carlson, Jon Castelli, Josh Deguzman, John Kercy, Denis Kosiak, Guy Lawrence & Michael Romero, engineers/mixers; Dale Becker, mastering engineer</td><td>https://www.grammy.com/sites/com/files/styles/artist_circle/public/muzooka/Khalid/Khalid_1_1_1594578772.jpg?itok=2HxjAT-X</td><td>True</td></tr><tr><td>2019</td><td>62nd Annual GRAMMY Awards  (2019)</td><td>Record Of The Year</td><td>Old Town Road</td><td>Lil Nas X Featuring Billy Ray Cyrus</td><td>Andrew \"VoxGod\" Bolooki, Jocelyn “Jozzy” Donald & YoungKio, producers; Andrew \"VoxGod\" Bolooki, Cinco & Joe Grasso, engineers/mixers; Eric Lagg, mastering engineer</td><td>https://www.grammy.com/sites/com/files/styles/artist_circle/public/muzooka/Montero%2BLamar%2BHill/Lil%2520Nas%2520X_1_1_1581656760.jpg?itok=_YR6dOjI</td><td>True</td></tr><tr><td>2019</td><td>62nd Annual GRAMMY Awards  (2019)</td><td>Record Of The Year</td><td>Truth Hurts</td><td>Lizzo</td><td>Ricky Reed & Tele, producers; Chris Galland, Manny Marroquin & Ethan Shumaker, engineers/mixers; Chris Gehringer, mastering engineer</td><td>https://www.grammy.com/sites/com/files/styles/artist_circle/public/muzooka/Lizzo/Lizzo_1_1_1583931631.jpg?itok=Gm2FQx4s</td><td>True</td></tr><tr><td>2019</td><td>62nd Annual GRAMMY Awards  (2019)</td><td>Record Of The Year</td><td>Sunflower</td><td>Post Malone & Swae Lee</td><td>Louis Bell & Carter Lang, producers; Louis Bell & Manny Marroquin, engineers/mixers; Mike Bozzi, mastering engineer</td><td>https://www.grammy.com/sites/com/files/styles/artist_circle/public/muzooka/Post%2BMalone/Post%2520Malone_1_1_1594910341.jpg?itok=HCyRm13g</td><td>True</td></tr><tr><td>2018</td><td>61st Annual GRAMMY Awards  (2018)</td><td>Record Of The Year</td><td>This Is America</td><td>Childish Gambino</td><td>Donald Glover & Ludwig Göransson, producers; Derek \"MixedByAli\" Ali, Kesha Lee, Riley Mackin, Shaan Singh & Alex Tumay, engineers/mixers; Mike Bozzi, mastering engineer</td><td>https://www.grammy.com/sites/com/files/styles/artist_circle/public/muzooka/Childish%2BGambino/Childish%2520Gambino_1_1_1591112936.jpg?itok=AU_J_f8x</td><td>True</td></tr><tr><td>2017</td><td>60th Annual GRAMMY Awards  (2017)</td><td>Record Of The Year</td><td>24K Magic</td><td>Bruno Mars</td><td>Shampoo Press & Curl (Christopher Brody Brown, Philip Lawrence & Bruno Mars), producers; Serban Ghenea, John Hanes & Charles Moniz, engineers/mixers; Tom Coyne, mastering engineer</td><td>https://www.grammy.com/sites/com/files/styles/artist_circle/public/muzooka/Bruno%2BMars/Bruno%2520Mars_1_1_1578385368.jpg?itok=KhxnacRR</td><td>True</td></tr><tr><td>2016</td><td>59th Annual GRAMMY Awards  (2016)</td><td>Record Of The Year</td><td>Hello</td><td>Adele</td><td>Greg Kurstin, producer; Julian Burg, Tom Elmhirst, Emile Haynie, Greg Kurstin, Liam Nolan, Alex Pasco & Joe Visciano, engineers/mixers; Tom Coyne & Randy Merrill, mastering engineers</td><td>https://www.grammy.com/sites/com/files/styles/artist_circle/public/muzooka/Adele/Adele_1_1_1584090130.jpg?itok=xlwW6t3a</td><td>True</td></tr><tr><td>2015</td><td>58th Annual GRAMMY Awards  (2015)</td><td>Record Of The Year</td><td>Uptown Funk</td><td>Mark Ronson Featuring Bruno Mars</td><td>Jeff Bhasker, Philip Lawrence, Bruno Mars & Mark Ronson, producers; Josh Blair, Riccardo Damian, Serban Ghenea, Wayne Gordon, John Hanes, Inaam Haq, Boo Mitchell, Charles Moniz & Mark Ronson, engineers/mixers; Tom Coyne, mastering engineer</td><td>https://www.grammy.com/sites/com/files/styles/artist_circle/public/muzooka/Mark%2BRonson/Mark%2520Ronson_1_1_1596790481.jpg?itok=s-dqiJed</td><td>True</td></tr><tr><td>2014</td><td>57th Annual GRAMMY Awards  (2014)</td><td>Record Of The Year</td><td>Stay With Me (Darkchild Version)</td><td>Sam Smith</td><td>Steve Fitzmaurice, Rodney Jerkins & Jimmy Napes, producers; Matthew Champlin, Steve Fitzmaurice, Jimmy Napes & Steve Price, engineers/mixers; Tom Coyne, mastering engineer</td><td>https://www.grammy.com/sites/com/files/styles/artist_circle/public/sam_smithrotycrop.jpg?itok=CbuVXG4s</td><td>True</td></tr><tr><td>2013</td><td>56th Annual GRAMMY Awards  (2013)</td><td>Record Of The Year</td><td>Get Lucky</td><td>Daft Punk Featuring Pharrell Williams & Nile Rodgers</td><td>Thomas Bangalter & Guy-Manuel de Homem-Christo, producers; Peter Franco, Mick Guzauski, Florian Lagatta & Daniel Lerner, engineers/mixers; Antoine Chabert & Bob Ludwig, mastering engineers</td><td>https://www.grammy.com/sites/com/files/styles/artist_circle/public/465384097_daft_punk_pharrell.jpg?itok=tZ0IzKSI</td><td>True</td></tr><tr><td>2012</td><td>55th Annual GRAMMY Awards  (2012)</td><td>Record Of The Year</td><td>Somebody That I Used To Know</td><td>Gotye Featuring Kimbra</td><td>Wally De Backer, producer; Wally De Backer & Francois Tetaz, engineers/mixers; William Bowden, mastering engineer</td><td>https://www.grammy.com/sites/com/files/styles/artist_circle/public/161396233_gotye_kimbra.jpg?itok=4_A2Llji</td><td>True</td></tr><tr><td>2011</td><td>54th Annual GRAMMY Awards  (2011)</td><td>Record Of The Year</td><td>Rolling In The Deep</td><td>Adele</td><td>Paul Epworth, producer; Tom Elmhirst & Mark Rankin, engineers/mixers</td><td>https://www.grammy.com/sites/com/files/styles/artist_circle/public/138850365_adele.jpg?itok=X8mml-Wk</td><td>True</td></tr><tr><td>2010</td><td>53rd Annual GRAMMY Awards  (2010)</td><td>Record Of The Year</td><td>Need You Now</td><td>Lady Antebellum</td><td>Lady Antebellum (Dave Haywood, Charles Kelley & Hillary Scott) & Paul N. Worley, producers; L Clarke Schleicher, engineer/mixer</td><td>https://www.grammy.com/sites/com/files/styles/artist_circle/public/109066913_lady_antebellum.jpg?itok=iFnOLjld</td><td>True</td></tr><tr><td>2009</td><td>52nd Annual GRAMMY Awards  (2009)</td><td>Record Of The Year</td><td>Use Somebody</td><td>Kings Of Leon</td><td>Jacquire King & Angelo Petraglia, producers; Jacquire King, engineer/mixer</td><td>https://www.grammy.com/sites/com/files/styles/artist_circle/public/96337451_kings_of_leon.jpg?itok=mjt6_DjR</td><td>True</td></tr><tr><td>2008</td><td>51st Annual GRAMMY Awards  (2008)</td><td>Record Of The Year</td><td>Please Read The Letter</td><td>Robert Plant & Alison Krauss</td><td>T Bone Burnett, producer; Mike Piersante, engineer/mixer</td><td>https://www.grammy.com/sites/com/files/styles/artist_circle/public/muzooka/Robert%2BPlant/Robert%2520Plant_1_1_1591112980.jpg?itok=6LLLbn4I</td><td>True</td></tr><tr><td>2007</td><td>50th Annual GRAMMY Awards  (2007)</td><td>Record Of The Year</td><td>Rehab</td><td>Amy Winehouse</td><td>Mark Ronson, producer; Tom Elmhirst, Samuel \"Vaughan\" Merrick, Dom Morley, Mark Ronson & Gabriel Roth, engineers/mixers</td><td>https://www.grammy.com/sites/com/files/styles/artist_circle/public/muzooka/Amy%2BWinehouse/Amy%2520Winehouse_1_1_1578384847.jpg?itok=E0x96uqF</td><td>True</td></tr><tr><td>2006</td><td>49th Annual GRAMMY Awards  (2006)</td><td>Record Of The Year</td><td>Not Ready To Make Nice</td><td>Dixie Chicks</td><td>Rick Rubin, producer; Richard Dodd, Jim Scott & Chris Testa, engineers/mixers</td><td>https://www.grammy.com/sites/com/files/styles/artist_circle/public/muzooka/Dixie%2BChicks/Dixie%2520Chicks_1_1_1598343738.jpg?itok=YXj33PAV</td><td>True</td></tr><tr><td>2005</td><td>48th Annual GRAMMY Awards  (2005)</td><td>Record Of The Year</td><td>Boulevard Of Broken Dreams</td><td>Green Day</td><td>Rob Cavallo & Green Day, producers; Chris Lord-Alge & Doug McKean, engineers/mixers</td><td>https://www.grammy.com/sites/com/files/styles/artist_circle/public/muzooka/Green%2BDay/Green%2520Day_1_1_1578385279.jpg?itok=wr16YloS</td><td>True</td></tr><tr><td>2004</td><td>47th Annual GRAMMY Awards  (2004)</td><td>Record Of The Year</td><td>Here We Go Again</td><td>Ray Charles & Norah Jones</td><td>John R. Burk, producer; Mark Fleming, Terry Howard & Al Schmitt, engineers/mixers</td><td>https://www.grammy.com/sites/com/files/styles/artist_circle/public/ray_charles_spotlight_107293349.png?itok=57kc2vwB</td><td>True</td></tr><tr><td>2003</td><td>46th Annual GRAMMY Awards  (2003)</td><td>Record Of The Year</td><td>Clocks</td><td>Coldplay</td><td>Coldplay & Ken Nelson, producers; Coldplay (Guy Berryman, Jon Buckland, Will Champion, Phil Harvey & Chris Martin), Ken Nelson & Mark Phythian, engineers/mixers</td><td>https://www.grammy.com/sites/com/files/styles/artist_circle/public/muzooka/Coldplay/Coldplay_1_1_1591112967.jpg?itok=lLCPutNO</td><td>True</td></tr><tr><td>2002</td><td>45th Annual GRAMMY Awards  (2002)</td><td>Record Of The Year</td><td>Don't Know Why</td><td>Norah Jones</td><td>Norah Jones, Arif Mardin & Jay Newland, producers; Jay Newland, engineer/mixer</td><td>https://www.grammy.com/sites/com/files/styles/artist_circle/public/muzooka/Norah%2BJones/Norah%2520Jones_1_1_1588264654.jpg?itok=tpWJ31fa</td><td>True</td></tr><tr><td>2001</td><td>44th Annual GRAMMY Awards  (2001)</td><td>Record Of The Year</td><td>Walk On</td><td>U2</td><td>Brian Eno & Daniel Lanois, producers; Steve Lillywhite & Richard Rainey, engineers/mixers</td><td>https://www.grammy.com/sites/com/files/styles/artist_circle/public/muzooka/U2/U2_1_1_1578385236.jpg?itok=rQVhxxhL</td><td>True</td></tr><tr><td>2000</td><td>43rd Annual GRAMMY Awards  (2000)</td><td>Record Of The Year</td><td>Beautiful Day</td><td>U2</td><td>Brian Eno & Daniel Lanois, producers; Steve Lillywhite & Richard Rainey, engineers/mixers</td><td>https://www.grammy.com/sites/com/files/styles/artist_circle/public/muzooka/U2/U2_1_1_1578385236.jpg?itok=rQVhxxhL</td><td>True</td></tr><tr><td>1999</td><td>42nd Annual GRAMMY Awards  (1999)</td><td>Record Of The Year</td><td>Smooth</td><td>Santana Featuring Rob Thomas</td><td>Matt Serletic, producer; David Thoener, engineer/mixer</td><td>https://www.grammy.com/sites/com/files/styles/artist_circle/public/muzooka/Rob%2BThomas/Rob%2520Thomas_1_1_1575361007.jpg?itok=5bqO3DlV</td><td>True</td></tr><tr><td>1998</td><td>41st Annual GRAMMY Awards  (1998)</td><td>Record Of The Year</td><td>My Heart Will Go On (Love Theme From Titanic)</td><td>Celine Dion</td><td>Walter Afanasieff, Simon Franglen & James Horner, producers; Simon Franglen, Humberto Gatica & David Gleeson, engineers/mixers</td><td>https://www.grammy.com/sites/com/files/styles/artist_circle/public/muzooka/Celine%2BDion/C%25C3%25A9line%2520Dion_1_1_1579163253.jpg?itok=7lpsetr2</td><td>True</td></tr><tr><td>1997</td><td>40th Annual GRAMMY Awards  (1997)</td><td>Record Of The Year</td><td>Sunny Came Home</td><td>Shawn Colvin</td><td>John Leventhal, producer</td><td>https://www.grammy.com/sites/com/files/styles/artist_circle/public/muzooka/Shawn%2BColvin/Shawn%2520Colvin_1_1_1581551750.jpg?itok=1w7xoEU4</td><td>True</td></tr><tr><td>1996</td><td>39th Annual GRAMMY Awards  (1996)</td><td>Record Of The Year</td><td>Change The World</td><td>Eric Clapton</td><td>Babyface, producer</td><td>https://www.grammy.com/sites/com/files/styles/artist_circle/public/muzooka/Eric%2BClapton/Eric%2520Clapton_1_1_1581552257.jpg?itok=VS2OFNyf</td><td>True</td></tr><tr><td>1995</td><td>38th Annual GRAMMY Awards  (1995)</td><td>Record Of The Year</td><td>Kiss From A Rose</td><td>Seal</td><td>Trevor Horn, producer</td><td>https://www.grammy.com/sites/com/files/styles/artist_circle/public/muzooka/Seal/Seal_1_1_1575369703.jpg?itok=Vj2q-xvH</td><td>True</td></tr><tr><td>1994</td><td>37th Annual GRAMMY Awards  (1994)</td><td>Record Of The Year</td><td>All I Wanna Do</td><td>Sheryl Crow</td><td>Bill Bottrell, producer</td><td>https://www.grammy.com/sites/com/files/styles/artist_circle/public/muzooka/Sheryl%2BCrow/Sheryl%2520Crow_1_1_1597145423.jpg?itok=tvxHkBTZ</td><td>True</td></tr><tr><td>1993</td><td>36th Annual GRAMMY Awards  (1993)</td><td>Record Of The Year</td><td>I Will Always Love You</td><td>Whitney Houston</td><td>David Foster, producer</td><td>https://www.grammy.com/sites/com/files/styles/artist_circle/public/muzooka/Whitney%2BHouston/Whitney%2520Houston_1_1_1594980040.jpg?itok=LS4iD1jw</td><td>True</td></tr><tr><td>1992</td><td>35th Annual GRAMMY Awards  (1992)</td><td>Record Of The Year</td><td>Tears In Heaven</td><td>Eric Clapton</td><td>Russ Titelman, producer</td><td>https://www.grammy.com/sites/com/files/styles/artist_circle/public/muzooka/Eric%2BClapton/Eric%2520Clapton_1_1_1581552257.jpg?itok=VS2OFNyf</td><td>True</td></tr><tr><td>1991</td><td>34th Annual GRAMMY Awards  (1991)</td><td>Record Of The Year</td><td>Unforgettable</td><td>Natalie Cole (With Nat \"King\" Cole)</td><td>David Foster, producer</td><td>https://www.grammy.com/sites/com/files/styles/artist_circle/public/muzooka/Natalie%2BCole/Natalie%2520Cole_1_1_1591112950.jpg?itok=A9t_I3Ba</td><td>True</td></tr><tr><td>1990</td><td>33rd Annual GRAMMY Awards  (1990)</td><td>Record Of The Year</td><td>Another Day In Paradise</td><td>Phil Collins</td><td>Phil Collins & Hugh Padgham, producers</td><td>https://www.grammy.com/sites/com/files/styles/artist_circle/public/muzooka/Phil%2BCollins/Phil%2520Collins_1_1_1596706545.jpg?itok=MQR7SHdv</td><td>True</td></tr><tr><td>1989</td><td>32nd Annual GRAMMY Awards  (1989)</td><td>Record Of The Year</td><td>Wind Beneath My Wings</td><td>Bette Midler</td><td>Arif Mardin, producer</td><td>https://www.grammy.com/sites/com/files/styles/artist_circle/public/muzooka/Bette%2BMidler/Bette%2520Midler_1_1_1575359591.jpg?itok=7Wx-nTh_</td><td>True</td></tr><tr><td>1988</td><td>31st Annual GRAMMY Awards  (1988)</td><td>Record Of The Year</td><td>Don't Worry Be Happy</td><td>Bobby McFerrin</td><td>Linda Goldstein, producer</td><td>https://www.grammy.com/sites/com/files/styles/artist_circle/public/muzooka/Bobby%2BMcFerrin/Bobby%2520McFerrin_1_1_1575365223.jpg?itok=KTGGWtEl</td><td>True</td></tr><tr><td>1987</td><td>30th Annual GRAMMY Awards  (1987)</td><td>Record Of The Year</td><td>Graceland</td><td>Paul Simon</td><td>Paul Simon, producer</td><td>https://www.grammy.com/sites/com/files/styles/artist_circle/public/muzooka/Paul%2BSimon/Paul%2520Simon_1_1_1578385319.jpg?itok=H2xb3gsd</td><td>True</td></tr><tr><td>1986</td><td>29th Annual GRAMMY Awards  (1986)</td><td>Record Of The Year</td><td>Higher Love</td><td>Steve Winwood</td><td>Russ Titelman & Steve Winwood, producers</td><td>https://www.grammy.com/sites/com/files/styles/artist_circle/public/muzooka/Steve%2BWinwood/Steve%2520Winwood_1_1_1596799256.jpg?itok=Xc1PcPBM</td><td>True</td></tr><tr><td>1985</td><td>28th Annual GRAMMY Awards  (1985)</td><td>Record Of The Year</td><td>We Are The World</td><td>USA For Africa (Various Artists)</td><td>Quincy Jones, producer</td><td>https://www.grammy.com/sites/com/files/styles/artist_circle/public/muzooka/Quincy%2BJones/Quincy%2520Jones_1_1_1596789836.jpg?itok=54PdILuC</td><td>True</td></tr><tr><td>1984</td><td>27th Annual GRAMMY Awards  (1984)</td><td>Record Of The Year</td><td>What's Love Got To Do With It</td><td>Tina Turner</td><td>Terry Britten, producer</td><td>https://www.grammy.com/sites/com/files/styles/artist_circle/public/muzooka/Tina%2BTurner/Tina%2520Turner_1_1_1579278403.jpg?itok=vJ-mW-L4</td><td>True</td></tr><tr><td>1983</td><td>26th Annual GRAMMY Awards  (1983)</td><td>Record Of The Year</td><td>Beat It</td><td>Michael Jackson</td><td>Michael Jackson & Quincy Jones, producers</td><td>https://www.grammy.com/sites/com/files/styles/artist_circle/public/muzooka/Michael%2BJackson/Michael%2520Jackson_1_1_1584089273.jpg?itok=8N4Ineev</td><td>True</td></tr><tr><td>1982</td><td>25th Annual GRAMMY Awards  (1982)</td><td>Record Of The Year</td><td>Rosanna</td><td>Toto</td><td>Toto (Bobby Kimball, Steve Lukather, David Paich, Jeff Porcaro, Michael Porcaro & Steve Porcaro), producers</td><td>https://www.grammy.com/sites/com/files/styles/artist_circle/public/muzooka/Toto/Toto_1_1_1581552180.jpg?itok=zeWhOeO_</td><td>True</td></tr><tr><td>1981</td><td>24th Annual GRAMMY Awards  (1981)</td><td>Record Of The Year</td><td>Bette Davis Eyes</td><td>Kim Carnes</td><td>Val Garay, producer</td><td>https://www.grammy.com/sites/com/files/styles/artist_circle/public/muzooka/Kim%2BCarnes/Kim%2520Carnes_1_1_1596100249.jpg?itok=XJ1LYIra</td><td>True</td></tr><tr><td>1980</td><td>23rd Annual GRAMMY Awards  (1980)</td><td>Record Of The Year</td><td>Sailing</td><td>Christopher Cross</td><td>Michael Omartian, producer</td><td>https://www.grammy.com/sites/com/files/styles/artist_circle/public/muzooka/Christopher%2BCross/Christopher%2520Cross_1_1_1581554585.jpg?itok=sDilUxBw</td><td>True</td></tr><tr><td>1979</td><td>22nd Annual GRAMMY Awards  (1979)</td><td>Record Of The Year</td><td>What A Fool Believes</td><td>The Doobie Brothers</td><td>Ted Templeman, producer</td><td>null</td><td>True</td></tr><tr><td>1978</td><td>21st Annual GRAMMY Awards  (1978)</td><td>Record Of The Year</td><td>Just The Way You Are</td><td>Billy Joel</td><td>Phil Ramone, producer</td><td>https://www.grammy.com/sites/com/files/styles/artist_circle/public/muzooka/Billy%2BJoel/Billy%2520Joel_1_1_1578384978.jpg?itok=QtM7Q8fq</td><td>True</td></tr><tr><td>1977</td><td>20th Annual GRAMMY Awards  (1977)</td><td>Record Of The Year</td><td>Hotel California</td><td>Eagles</td><td>Bill Szymczyk, producer</td><td>https://www.grammy.com/sites/com/files/styles/artist_circle/public/muzooka/Eagles/Eagles_1_1_1581552244.jpg?itok=0GyT6tV3</td><td>True</td></tr><tr><td>1976</td><td>19th Annual GRAMMY Awards  (1976)</td><td>Record Of The Year</td><td>This Masquerade</td><td>George Benson</td><td>Tommy LiPuma, producer</td><td>https://www.grammy.com/sites/com/files/styles/artist_circle/public/muzooka/George%2BBenson/George%2520Benson_1_1_1578385429.jpg?itok=bzpUiUCb</td><td>True</td></tr><tr><td>1975</td><td>18th Annual GRAMMY Awards  (1975)</td><td>Record Of The Year</td><td>Love Will Keep Us Together</td><td>Captain & Tennille</td><td>Daryl Dragon, producer</td><td>null</td><td>True</td></tr><tr><td>1974</td><td>17th Annual GRAMMY Awards  (1974)</td><td>Record Of The Year</td><td>I Honestly Love You</td><td>Olivia Newton-John</td><td>John Farrar, producer</td><td>https://www.grammy.com/sites/com/files/styles/artist_circle/public/muzooka/Olivia%2BNewton-John/Olivia%2520Newton-John_1_1_1575370845.jpg?itok=SO4aU4ch</td><td>True</td></tr><tr><td>1973</td><td>16th Annual GRAMMY Awards  (1973)</td><td>Record Of The Year</td><td>Killing Me Softly With His Song</td><td>Roberta Flack</td><td>Joel Dorn, producer</td><td>https://www.grammy.com/sites/com/files/styles/artist_circle/public/muzooka/Roberta%2BFlack/Roberta%2520Flack_1_1_1575365614.jpg?itok=xIenBn49</td><td>True</td></tr><tr><td>1972</td><td>15th Annual GRAMMY Awards  (1972)</td><td>Record Of The Year</td><td>The First Time Ever I Saw Your Face</td><td>Roberta Flack</td><td>Joel Dorn, producer</td><td>https://www.grammy.com/sites/com/files/styles/artist_circle/public/muzooka/Roberta%2BFlack/Roberta%2520Flack_1_1_1575365614.jpg?itok=xIenBn49</td><td>True</td></tr><tr><td>1971</td><td>14th Annual GRAMMY Awards  (1971)</td><td>Record Of The Year</td><td>It's Too Late</td><td>Carole King</td><td>Lou Adler, producer</td><td>https://www.grammy.com/sites/com/files/styles/artist_circle/public/muzooka/Carole%2BKing/Carole%2520King_1_1_1578385473.jpg?itok=W5y3jRey</td><td>True</td></tr><tr><td>1970</td><td>13th Annual GRAMMY Awards  (1970)</td><td>Record Of The Year</td><td>Bridge Over Troubled Water</td><td>Simon And Garfunkel</td><td>Roy Halee & Simon And Garfunkel (Art Garfunkel & Paul Simon), producers</td><td>null</td><td>True</td></tr><tr><td>1969</td><td>12th Annual GRAMMY Awards  (1969)</td><td>Record Of The Year</td><td>Aquarius/Let The Sunshine In (The Flesh Failures)</td><td>5th Dimension</td><td>Bones Howe, producer</td><td>null</td><td>True</td></tr><tr><td>1968</td><td>11th Annual GRAMMY Awards  (1968)</td><td>Record Of The Year</td><td>Mrs. Robinson</td><td>Simon And Garfunkel</td><td>Roy Halee & Simon And Garfunkel (Art Garfunkel & Paul Simon), producers</td><td>null</td><td>True</td></tr><tr><td>1967</td><td>10th Annual GRAMMY Awards  (1967)</td><td>Record Of The Year</td><td>Up, Up And Away</td><td>5th Dimension</td><td>Marc Gordon & Johnny Rivers, producers</td><td>https://www.grammy.com/sites/com/files/styles/artist_circle/public/muzooka/Marc%2BGordon/Marc%2520Gordon_1_1_1581629305.jpg?itok=4IiRmFSP</td><td>True</td></tr><tr><td>1966</td><td>9th Annual GRAMMY Awards  (1966)</td><td>Record Of The Year</td><td>Strangers In The Night</td><td>Frank Sinatra</td><td>Jimmy Bowen, producer</td><td>https://www.grammy.com/sites/com/files/styles/artist_circle/public/muzooka/Frank%2BSinatra/Frank%2520Sinatra_1_1_1581552147.jpg?itok=-iX5YZhY</td><td>True</td></tr><tr><td>1965</td><td>8th Annual GRAMMY Awards  (1965)</td><td>Record Of The Year</td><td>A Taste Of Honey</td><td>Herb Alpert And The Tijuana Brass</td><td>Herb Alpert & Jerry Moss, producers</td><td>https://www.grammy.com/sites/com/files/styles/artist_circle/public/muzooka/Herb%2BAlpert/Herb%2520Alpert_1_1_1581628867.jpg?itok=45UhbQPe</td><td>True</td></tr><tr><td>1964</td><td>7th Annual GRAMMY Awards  (1964)</td><td>Record Of The Year</td><td>The Girl From Ipanema</td><td>Stan Getz & Astrud Gilberto</td><td>null</td><td>https://www.grammy.com/sites/com/files/styles/artist_circle/public/muzooka/Stan%2BGetz/Stan%2520Getz_1_1_1581618079.jpg?itok=1uHIRekD</td><td>True</td></tr><tr><td>1963</td><td>6th Annual GRAMMY Awards  (1963)</td><td>Record Of The Year</td><td>Days Of Wine And Roses</td><td>Henry Mancini</td><td>null</td><td>https://www.grammy.com/sites/com/files/styles/artist_circle/public/muzooka/Henry%2BMancini/Henry%2520Mancini_1_1_1581553583.jpg?itok=oMIyl-mj</td><td>True</td></tr><tr><td>1962</td><td>5th Annual GRAMMY Awards  (1962)</td><td>Record Of The Year</td><td>I Left My Heart In San Francisco</td><td>Tony Bennett</td><td>null</td><td>https://www.grammy.com/sites/com/files/styles/artist_circle/public/muzooka/Tony%2BBennett/Tony%2520Bennett_1_1_1584465343.jpg?itok=Zk2PcPhY</td><td>True</td></tr><tr><td>1961</td><td>4th Annual GRAMMY Awards  (1961)</td><td>Record Of The Year</td><td>Moon River</td><td>Henry Mancini</td><td>null</td><td>https://www.grammy.com/sites/com/files/styles/artist_circle/public/muzooka/Henry%2BMancini/Henry%2520Mancini_1_1_1581553583.jpg?itok=oMIyl-mj</td><td>True</td></tr><tr><td>1960</td><td>3rd Annual GRAMMY Awards  (1960)</td><td>Record Of The Year</td><td>The Theme From A Summer Place</td><td>Percy Faith & His Orchestra</td><td>null</td><td>https://www.grammy.com/sites/com/files/styles/artist_circle/public/muzooka/Percy%2BFaith/Percy%2520Faith_1_1_1597165242.jpg?itok=dFp-KK5i</td><td>True</td></tr><tr><td>1959</td><td>2nd Annual GRAMMY Awards  (1959)</td><td>Record Of The Year</td><td>Mack The Knife</td><td>Bobby Darin</td><td>null</td><td>https://www.grammy.com/sites/com/files/styles/artist_circle/public/muzooka/Bobby%2BDarin/Bobby%2520Darin_1_1_1581560302.jpg?itok=wKmA3kxT</td><td>True</td></tr><tr><td>1958</td><td>1st Annual GRAMMY Awards  (1958)</td><td>Record Of The Year</td><td>Nel Blu Dipinto Di Blu (Volare)</td><td>Domenico Modugno</td><td>null</td><td>https://www.grammy.com/sites/com/files/styles/artist_circle/public/muzooka/Domenico%2BModugno/Domenico%2520Modugno_1_1_1581618128.jpg?itok=1HYG0_R2</td><td>True</td></tr></tbody></table></div>"
      ]
     },
     "metadata": {
      "application/vnd.databricks.v1+output": {
       "addedWidgets": {},
       "aggData": [],
       "aggError": "",
       "aggOverflow": false,
       "aggSchema": [],
       "aggSeriesLimitReached": false,
       "aggType": "",
       "arguments": {},
       "columnCustomDisplayInfos": {},
       "data": [
        [
         "2019",
         "62nd Annual GRAMMY Awards  (2019)",
         "Record Of The Year",
         "Bad Guy",
         "Billie Eilish",
         "Finneas O'Connell, producer; Rob Kinelski & Finneas O'Connell, engineers/mixers; John Greenham, mastering engineer",
         "https://www.grammy.com/sites/com/files/styles/artist_circle/public/muzooka/Billie%2BEilish/Billie%2520Eilish_1_1_1594138954.jpg?itok=3-71Dfxh",
         "True"
        ],
        [
         "2019",
         "62nd Annual GRAMMY Awards  (2019)",
         "Record Of The Year",
         "Hey, Ma",
         "Bon Iver",
         "BJ Burton, Brad Cook, Chris Messina & Justin Vernon, producers; BJ Burton, Zach Hanson & Chris Messina, engineers/mixers; Greg Calbi, mastering engineer",
         "https://www.grammy.com/sites/com/files/styles/artist_circle/public/muzooka/Bon%2BIver/Bon%2520Iver_1_1_1578385181.jpg?itok=_M1hc5Ux",
         "True"
        ],
        [
         "2019",
         "62nd Annual GRAMMY Awards  (2019)",
         "Record Of The Year",
         "7 rings",
         "Ariana Grande",
         "Charles Anderson, Tommy Brown, Michael Foster & Victoria Monet, producers; Serban Ghenea, John Hanes, Billy Hickey & Brendan Morawski, engineers/mixers; Randy Merrill, mastering engineer",
         "https://www.grammy.com/sites/com/files/styles/artist_circle/public/muzooka/Ariana%2BGrande/Ariana%2520Grande_1_1_1578384678.jpg?itok=Amj90j13",
         "True"
        ],
        [
         "2019",
         "62nd Annual GRAMMY Awards  (2019)",
         "Record Of The Year",
         "Hard Place",
         "H.E.R.",
         "Rodney “Darkchild” Jerkins, producer; Joseph Hurtado, Jaycen Joshua, Derek Keota & Miki Tsutsumi, engineers/mixers; Colin Leonard, mastering engineer",
         "https://www.grammy.com/sites/com/files/styles/artist_circle/public/muzooka/H.E.R./H.E.R._1_1_1594631035.jpg?itok=ClJe-2MN",
         "True"
        ],
        [
         "2019",
         "62nd Annual GRAMMY Awards  (2019)",
         "Record Of The Year",
         "Talk",
         "Khalid",
         "Disclosure & Denis Kosiak, producers; Ingmar Carlson, Jon Castelli, Josh Deguzman, John Kercy, Denis Kosiak, Guy Lawrence & Michael Romero, engineers/mixers; Dale Becker, mastering engineer",
         "https://www.grammy.com/sites/com/files/styles/artist_circle/public/muzooka/Khalid/Khalid_1_1_1594578772.jpg?itok=2HxjAT-X",
         "True"
        ],
        [
         "2019",
         "62nd Annual GRAMMY Awards  (2019)",
         "Record Of The Year",
         "Old Town Road",
         "Lil Nas X Featuring Billy Ray Cyrus",
         "Andrew \"VoxGod\" Bolooki, Jocelyn “Jozzy” Donald & YoungKio, producers; Andrew \"VoxGod\" Bolooki, Cinco & Joe Grasso, engineers/mixers; Eric Lagg, mastering engineer",
         "https://www.grammy.com/sites/com/files/styles/artist_circle/public/muzooka/Montero%2BLamar%2BHill/Lil%2520Nas%2520X_1_1_1581656760.jpg?itok=_YR6dOjI",
         "True"
        ],
        [
         "2019",
         "62nd Annual GRAMMY Awards  (2019)",
         "Record Of The Year",
         "Truth Hurts",
         "Lizzo",
         "Ricky Reed & Tele, producers; Chris Galland, Manny Marroquin & Ethan Shumaker, engineers/mixers; Chris Gehringer, mastering engineer",
         "https://www.grammy.com/sites/com/files/styles/artist_circle/public/muzooka/Lizzo/Lizzo_1_1_1583931631.jpg?itok=Gm2FQx4s",
         "True"
        ],
        [
         "2019",
         "62nd Annual GRAMMY Awards  (2019)",
         "Record Of The Year",
         "Sunflower",
         "Post Malone & Swae Lee",
         "Louis Bell & Carter Lang, producers; Louis Bell & Manny Marroquin, engineers/mixers; Mike Bozzi, mastering engineer",
         "https://www.grammy.com/sites/com/files/styles/artist_circle/public/muzooka/Post%2BMalone/Post%2520Malone_1_1_1594910341.jpg?itok=HCyRm13g",
         "True"
        ],
        [
         "2018",
         "61st Annual GRAMMY Awards  (2018)",
         "Record Of The Year",
         "This Is America",
         "Childish Gambino",
         "Donald Glover & Ludwig Göransson, producers; Derek \"MixedByAli\" Ali, Kesha Lee, Riley Mackin, Shaan Singh & Alex Tumay, engineers/mixers; Mike Bozzi, mastering engineer",
         "https://www.grammy.com/sites/com/files/styles/artist_circle/public/muzooka/Childish%2BGambino/Childish%2520Gambino_1_1_1591112936.jpg?itok=AU_J_f8x",
         "True"
        ],
        [
         "2017",
         "60th Annual GRAMMY Awards  (2017)",
         "Record Of The Year",
         "24K Magic",
         "Bruno Mars",
         "Shampoo Press & Curl (Christopher Brody Brown, Philip Lawrence & Bruno Mars), producers; Serban Ghenea, John Hanes & Charles Moniz, engineers/mixers; Tom Coyne, mastering engineer",
         "https://www.grammy.com/sites/com/files/styles/artist_circle/public/muzooka/Bruno%2BMars/Bruno%2520Mars_1_1_1578385368.jpg?itok=KhxnacRR",
         "True"
        ],
        [
         "2016",
         "59th Annual GRAMMY Awards  (2016)",
         "Record Of The Year",
         "Hello",
         "Adele",
         "Greg Kurstin, producer; Julian Burg, Tom Elmhirst, Emile Haynie, Greg Kurstin, Liam Nolan, Alex Pasco & Joe Visciano, engineers/mixers; Tom Coyne & Randy Merrill, mastering engineers",
         "https://www.grammy.com/sites/com/files/styles/artist_circle/public/muzooka/Adele/Adele_1_1_1584090130.jpg?itok=xlwW6t3a",
         "True"
        ],
        [
         "2015",
         "58th Annual GRAMMY Awards  (2015)",
         "Record Of The Year",
         "Uptown Funk",
         "Mark Ronson Featuring Bruno Mars",
         "Jeff Bhasker, Philip Lawrence, Bruno Mars & Mark Ronson, producers; Josh Blair, Riccardo Damian, Serban Ghenea, Wayne Gordon, John Hanes, Inaam Haq, Boo Mitchell, Charles Moniz & Mark Ronson, engineers/mixers; Tom Coyne, mastering engineer",
         "https://www.grammy.com/sites/com/files/styles/artist_circle/public/muzooka/Mark%2BRonson/Mark%2520Ronson_1_1_1596790481.jpg?itok=s-dqiJed",
         "True"
        ],
        [
         "2014",
         "57th Annual GRAMMY Awards  (2014)",
         "Record Of The Year",
         "Stay With Me (Darkchild Version)",
         "Sam Smith",
         "Steve Fitzmaurice, Rodney Jerkins & Jimmy Napes, producers; Matthew Champlin, Steve Fitzmaurice, Jimmy Napes & Steve Price, engineers/mixers; Tom Coyne, mastering engineer",
         "https://www.grammy.com/sites/com/files/styles/artist_circle/public/sam_smithrotycrop.jpg?itok=CbuVXG4s",
         "True"
        ],
        [
         "2013",
         "56th Annual GRAMMY Awards  (2013)",
         "Record Of The Year",
         "Get Lucky",
         "Daft Punk Featuring Pharrell Williams & Nile Rodgers",
         "Thomas Bangalter & Guy-Manuel de Homem-Christo, producers; Peter Franco, Mick Guzauski, Florian Lagatta & Daniel Lerner, engineers/mixers; Antoine Chabert & Bob Ludwig, mastering engineers",
         "https://www.grammy.com/sites/com/files/styles/artist_circle/public/465384097_daft_punk_pharrell.jpg?itok=tZ0IzKSI",
         "True"
        ],
        [
         "2012",
         "55th Annual GRAMMY Awards  (2012)",
         "Record Of The Year",
         "Somebody That I Used To Know",
         "Gotye Featuring Kimbra",
         "Wally De Backer, producer; Wally De Backer & Francois Tetaz, engineers/mixers; William Bowden, mastering engineer",
         "https://www.grammy.com/sites/com/files/styles/artist_circle/public/161396233_gotye_kimbra.jpg?itok=4_A2Llji",
         "True"
        ],
        [
         "2011",
         "54th Annual GRAMMY Awards  (2011)",
         "Record Of The Year",
         "Rolling In The Deep",
         "Adele",
         "Paul Epworth, producer; Tom Elmhirst & Mark Rankin, engineers/mixers",
         "https://www.grammy.com/sites/com/files/styles/artist_circle/public/138850365_adele.jpg?itok=X8mml-Wk",
         "True"
        ],
        [
         "2010",
         "53rd Annual GRAMMY Awards  (2010)",
         "Record Of The Year",
         "Need You Now",
         "Lady Antebellum",
         "Lady Antebellum (Dave Haywood, Charles Kelley & Hillary Scott) & Paul N. Worley, producers; L Clarke Schleicher, engineer/mixer",
         "https://www.grammy.com/sites/com/files/styles/artist_circle/public/109066913_lady_antebellum.jpg?itok=iFnOLjld",
         "True"
        ],
        [
         "2009",
         "52nd Annual GRAMMY Awards  (2009)",
         "Record Of The Year",
         "Use Somebody",
         "Kings Of Leon",
         "Jacquire King & Angelo Petraglia, producers; Jacquire King, engineer/mixer",
         "https://www.grammy.com/sites/com/files/styles/artist_circle/public/96337451_kings_of_leon.jpg?itok=mjt6_DjR",
         "True"
        ],
        [
         "2008",
         "51st Annual GRAMMY Awards  (2008)",
         "Record Of The Year",
         "Please Read The Letter",
         "Robert Plant & Alison Krauss",
         "T Bone Burnett, producer; Mike Piersante, engineer/mixer",
         "https://www.grammy.com/sites/com/files/styles/artist_circle/public/muzooka/Robert%2BPlant/Robert%2520Plant_1_1_1591112980.jpg?itok=6LLLbn4I",
         "True"
        ],
        [
         "2007",
         "50th Annual GRAMMY Awards  (2007)",
         "Record Of The Year",
         "Rehab",
         "Amy Winehouse",
         "Mark Ronson, producer; Tom Elmhirst, Samuel \"Vaughan\" Merrick, Dom Morley, Mark Ronson & Gabriel Roth, engineers/mixers",
         "https://www.grammy.com/sites/com/files/styles/artist_circle/public/muzooka/Amy%2BWinehouse/Amy%2520Winehouse_1_1_1578384847.jpg?itok=E0x96uqF",
         "True"
        ],
        [
         "2006",
         "49th Annual GRAMMY Awards  (2006)",
         "Record Of The Year",
         "Not Ready To Make Nice",
         "Dixie Chicks",
         "Rick Rubin, producer; Richard Dodd, Jim Scott & Chris Testa, engineers/mixers",
         "https://www.grammy.com/sites/com/files/styles/artist_circle/public/muzooka/Dixie%2BChicks/Dixie%2520Chicks_1_1_1598343738.jpg?itok=YXj33PAV",
         "True"
        ],
        [
         "2005",
         "48th Annual GRAMMY Awards  (2005)",
         "Record Of The Year",
         "Boulevard Of Broken Dreams",
         "Green Day",
         "Rob Cavallo & Green Day, producers; Chris Lord-Alge & Doug McKean, engineers/mixers",
         "https://www.grammy.com/sites/com/files/styles/artist_circle/public/muzooka/Green%2BDay/Green%2520Day_1_1_1578385279.jpg?itok=wr16YloS",
         "True"
        ],
        [
         "2004",
         "47th Annual GRAMMY Awards  (2004)",
         "Record Of The Year",
         "Here We Go Again",
         "Ray Charles & Norah Jones",
         "John R. Burk, producer; Mark Fleming, Terry Howard & Al Schmitt, engineers/mixers",
         "https://www.grammy.com/sites/com/files/styles/artist_circle/public/ray_charles_spotlight_107293349.png?itok=57kc2vwB",
         "True"
        ],
        [
         "2003",
         "46th Annual GRAMMY Awards  (2003)",
         "Record Of The Year",
         "Clocks",
         "Coldplay",
         "Coldplay & Ken Nelson, producers; Coldplay (Guy Berryman, Jon Buckland, Will Champion, Phil Harvey & Chris Martin), Ken Nelson & Mark Phythian, engineers/mixers",
         "https://www.grammy.com/sites/com/files/styles/artist_circle/public/muzooka/Coldplay/Coldplay_1_1_1591112967.jpg?itok=lLCPutNO",
         "True"
        ],
        [
         "2002",
         "45th Annual GRAMMY Awards  (2002)",
         "Record Of The Year",
         "Don't Know Why",
         "Norah Jones",
         "Norah Jones, Arif Mardin & Jay Newland, producers; Jay Newland, engineer/mixer",
         "https://www.grammy.com/sites/com/files/styles/artist_circle/public/muzooka/Norah%2BJones/Norah%2520Jones_1_1_1588264654.jpg?itok=tpWJ31fa",
         "True"
        ],
        [
         "2001",
         "44th Annual GRAMMY Awards  (2001)",
         "Record Of The Year",
         "Walk On",
         "U2",
         "Brian Eno & Daniel Lanois, producers; Steve Lillywhite & Richard Rainey, engineers/mixers",
         "https://www.grammy.com/sites/com/files/styles/artist_circle/public/muzooka/U2/U2_1_1_1578385236.jpg?itok=rQVhxxhL",
         "True"
        ],
        [
         "2000",
         "43rd Annual GRAMMY Awards  (2000)",
         "Record Of The Year",
         "Beautiful Day",
         "U2",
         "Brian Eno & Daniel Lanois, producers; Steve Lillywhite & Richard Rainey, engineers/mixers",
         "https://www.grammy.com/sites/com/files/styles/artist_circle/public/muzooka/U2/U2_1_1_1578385236.jpg?itok=rQVhxxhL",
         "True"
        ],
        [
         "1999",
         "42nd Annual GRAMMY Awards  (1999)",
         "Record Of The Year",
         "Smooth",
         "Santana Featuring Rob Thomas",
         "Matt Serletic, producer; David Thoener, engineer/mixer",
         "https://www.grammy.com/sites/com/files/styles/artist_circle/public/muzooka/Rob%2BThomas/Rob%2520Thomas_1_1_1575361007.jpg?itok=5bqO3DlV",
         "True"
        ],
        [
         "1998",
         "41st Annual GRAMMY Awards  (1998)",
         "Record Of The Year",
         "My Heart Will Go On (Love Theme From Titanic)",
         "Celine Dion",
         "Walter Afanasieff, Simon Franglen & James Horner, producers; Simon Franglen, Humberto Gatica & David Gleeson, engineers/mixers",
         "https://www.grammy.com/sites/com/files/styles/artist_circle/public/muzooka/Celine%2BDion/C%25C3%25A9line%2520Dion_1_1_1579163253.jpg?itok=7lpsetr2",
         "True"
        ],
        [
         "1997",
         "40th Annual GRAMMY Awards  (1997)",
         "Record Of The Year",
         "Sunny Came Home",
         "Shawn Colvin",
         "John Leventhal, producer",
         "https://www.grammy.com/sites/com/files/styles/artist_circle/public/muzooka/Shawn%2BColvin/Shawn%2520Colvin_1_1_1581551750.jpg?itok=1w7xoEU4",
         "True"
        ],
        [
         "1996",
         "39th Annual GRAMMY Awards  (1996)",
         "Record Of The Year",
         "Change The World",
         "Eric Clapton",
         "Babyface, producer",
         "https://www.grammy.com/sites/com/files/styles/artist_circle/public/muzooka/Eric%2BClapton/Eric%2520Clapton_1_1_1581552257.jpg?itok=VS2OFNyf",
         "True"
        ],
        [
         "1995",
         "38th Annual GRAMMY Awards  (1995)",
         "Record Of The Year",
         "Kiss From A Rose",
         "Seal",
         "Trevor Horn, producer",
         "https://www.grammy.com/sites/com/files/styles/artist_circle/public/muzooka/Seal/Seal_1_1_1575369703.jpg?itok=Vj2q-xvH",
         "True"
        ],
        [
         "1994",
         "37th Annual GRAMMY Awards  (1994)",
         "Record Of The Year",
         "All I Wanna Do",
         "Sheryl Crow",
         "Bill Bottrell, producer",
         "https://www.grammy.com/sites/com/files/styles/artist_circle/public/muzooka/Sheryl%2BCrow/Sheryl%2520Crow_1_1_1597145423.jpg?itok=tvxHkBTZ",
         "True"
        ],
        [
         "1993",
         "36th Annual GRAMMY Awards  (1993)",
         "Record Of The Year",
         "I Will Always Love You",
         "Whitney Houston",
         "David Foster, producer",
         "https://www.grammy.com/sites/com/files/styles/artist_circle/public/muzooka/Whitney%2BHouston/Whitney%2520Houston_1_1_1594980040.jpg?itok=LS4iD1jw",
         "True"
        ],
        [
         "1992",
         "35th Annual GRAMMY Awards  (1992)",
         "Record Of The Year",
         "Tears In Heaven",
         "Eric Clapton",
         "Russ Titelman, producer",
         "https://www.grammy.com/sites/com/files/styles/artist_circle/public/muzooka/Eric%2BClapton/Eric%2520Clapton_1_1_1581552257.jpg?itok=VS2OFNyf",
         "True"
        ],
        [
         "1991",
         "34th Annual GRAMMY Awards  (1991)",
         "Record Of The Year",
         "Unforgettable",
         "Natalie Cole (With Nat \"King\" Cole)",
         "David Foster, producer",
         "https://www.grammy.com/sites/com/files/styles/artist_circle/public/muzooka/Natalie%2BCole/Natalie%2520Cole_1_1_1591112950.jpg?itok=A9t_I3Ba",
         "True"
        ],
        [
         "1990",
         "33rd Annual GRAMMY Awards  (1990)",
         "Record Of The Year",
         "Another Day In Paradise",
         "Phil Collins",
         "Phil Collins & Hugh Padgham, producers",
         "https://www.grammy.com/sites/com/files/styles/artist_circle/public/muzooka/Phil%2BCollins/Phil%2520Collins_1_1_1596706545.jpg?itok=MQR7SHdv",
         "True"
        ],
        [
         "1989",
         "32nd Annual GRAMMY Awards  (1989)",
         "Record Of The Year",
         "Wind Beneath My Wings",
         "Bette Midler",
         "Arif Mardin, producer",
         "https://www.grammy.com/sites/com/files/styles/artist_circle/public/muzooka/Bette%2BMidler/Bette%2520Midler_1_1_1575359591.jpg?itok=7Wx-nTh_",
         "True"
        ],
        [
         "1988",
         "31st Annual GRAMMY Awards  (1988)",
         "Record Of The Year",
         "Don't Worry Be Happy",
         "Bobby McFerrin",
         "Linda Goldstein, producer",
         "https://www.grammy.com/sites/com/files/styles/artist_circle/public/muzooka/Bobby%2BMcFerrin/Bobby%2520McFerrin_1_1_1575365223.jpg?itok=KTGGWtEl",
         "True"
        ],
        [
         "1987",
         "30th Annual GRAMMY Awards  (1987)",
         "Record Of The Year",
         "Graceland",
         "Paul Simon",
         "Paul Simon, producer",
         "https://www.grammy.com/sites/com/files/styles/artist_circle/public/muzooka/Paul%2BSimon/Paul%2520Simon_1_1_1578385319.jpg?itok=H2xb3gsd",
         "True"
        ],
        [
         "1986",
         "29th Annual GRAMMY Awards  (1986)",
         "Record Of The Year",
         "Higher Love",
         "Steve Winwood",
         "Russ Titelman & Steve Winwood, producers",
         "https://www.grammy.com/sites/com/files/styles/artist_circle/public/muzooka/Steve%2BWinwood/Steve%2520Winwood_1_1_1596799256.jpg?itok=Xc1PcPBM",
         "True"
        ],
        [
         "1985",
         "28th Annual GRAMMY Awards  (1985)",
         "Record Of The Year",
         "We Are The World",
         "USA For Africa (Various Artists)",
         "Quincy Jones, producer",
         "https://www.grammy.com/sites/com/files/styles/artist_circle/public/muzooka/Quincy%2BJones/Quincy%2520Jones_1_1_1596789836.jpg?itok=54PdILuC",
         "True"
        ],
        [
         "1984",
         "27th Annual GRAMMY Awards  (1984)",
         "Record Of The Year",
         "What's Love Got To Do With It",
         "Tina Turner",
         "Terry Britten, producer",
         "https://www.grammy.com/sites/com/files/styles/artist_circle/public/muzooka/Tina%2BTurner/Tina%2520Turner_1_1_1579278403.jpg?itok=vJ-mW-L4",
         "True"
        ],
        [
         "1983",
         "26th Annual GRAMMY Awards  (1983)",
         "Record Of The Year",
         "Beat It",
         "Michael Jackson",
         "Michael Jackson & Quincy Jones, producers",
         "https://www.grammy.com/sites/com/files/styles/artist_circle/public/muzooka/Michael%2BJackson/Michael%2520Jackson_1_1_1584089273.jpg?itok=8N4Ineev",
         "True"
        ],
        [
         "1982",
         "25th Annual GRAMMY Awards  (1982)",
         "Record Of The Year",
         "Rosanna",
         "Toto",
         "Toto (Bobby Kimball, Steve Lukather, David Paich, Jeff Porcaro, Michael Porcaro & Steve Porcaro), producers",
         "https://www.grammy.com/sites/com/files/styles/artist_circle/public/muzooka/Toto/Toto_1_1_1581552180.jpg?itok=zeWhOeO_",
         "True"
        ],
        [
         "1981",
         "24th Annual GRAMMY Awards  (1981)",
         "Record Of The Year",
         "Bette Davis Eyes",
         "Kim Carnes",
         "Val Garay, producer",
         "https://www.grammy.com/sites/com/files/styles/artist_circle/public/muzooka/Kim%2BCarnes/Kim%2520Carnes_1_1_1596100249.jpg?itok=XJ1LYIra",
         "True"
        ],
        [
         "1980",
         "23rd Annual GRAMMY Awards  (1980)",
         "Record Of The Year",
         "Sailing",
         "Christopher Cross",
         "Michael Omartian, producer",
         "https://www.grammy.com/sites/com/files/styles/artist_circle/public/muzooka/Christopher%2BCross/Christopher%2520Cross_1_1_1581554585.jpg?itok=sDilUxBw",
         "True"
        ],
        [
         "1979",
         "22nd Annual GRAMMY Awards  (1979)",
         "Record Of The Year",
         "What A Fool Believes",
         "The Doobie Brothers",
         "Ted Templeman, producer",
         null,
         "True"
        ],
        [
         "1978",
         "21st Annual GRAMMY Awards  (1978)",
         "Record Of The Year",
         "Just The Way You Are",
         "Billy Joel",
         "Phil Ramone, producer",
         "https://www.grammy.com/sites/com/files/styles/artist_circle/public/muzooka/Billy%2BJoel/Billy%2520Joel_1_1_1578384978.jpg?itok=QtM7Q8fq",
         "True"
        ],
        [
         "1977",
         "20th Annual GRAMMY Awards  (1977)",
         "Record Of The Year",
         "Hotel California",
         "Eagles",
         "Bill Szymczyk, producer",
         "https://www.grammy.com/sites/com/files/styles/artist_circle/public/muzooka/Eagles/Eagles_1_1_1581552244.jpg?itok=0GyT6tV3",
         "True"
        ],
        [
         "1976",
         "19th Annual GRAMMY Awards  (1976)",
         "Record Of The Year",
         "This Masquerade",
         "George Benson",
         "Tommy LiPuma, producer",
         "https://www.grammy.com/sites/com/files/styles/artist_circle/public/muzooka/George%2BBenson/George%2520Benson_1_1_1578385429.jpg?itok=bzpUiUCb",
         "True"
        ],
        [
         "1975",
         "18th Annual GRAMMY Awards  (1975)",
         "Record Of The Year",
         "Love Will Keep Us Together",
         "Captain & Tennille",
         "Daryl Dragon, producer",
         null,
         "True"
        ],
        [
         "1974",
         "17th Annual GRAMMY Awards  (1974)",
         "Record Of The Year",
         "I Honestly Love You",
         "Olivia Newton-John",
         "John Farrar, producer",
         "https://www.grammy.com/sites/com/files/styles/artist_circle/public/muzooka/Olivia%2BNewton-John/Olivia%2520Newton-John_1_1_1575370845.jpg?itok=SO4aU4ch",
         "True"
        ],
        [
         "1973",
         "16th Annual GRAMMY Awards  (1973)",
         "Record Of The Year",
         "Killing Me Softly With His Song",
         "Roberta Flack",
         "Joel Dorn, producer",
         "https://www.grammy.com/sites/com/files/styles/artist_circle/public/muzooka/Roberta%2BFlack/Roberta%2520Flack_1_1_1575365614.jpg?itok=xIenBn49",
         "True"
        ],
        [
         "1972",
         "15th Annual GRAMMY Awards  (1972)",
         "Record Of The Year",
         "The First Time Ever I Saw Your Face",
         "Roberta Flack",
         "Joel Dorn, producer",
         "https://www.grammy.com/sites/com/files/styles/artist_circle/public/muzooka/Roberta%2BFlack/Roberta%2520Flack_1_1_1575365614.jpg?itok=xIenBn49",
         "True"
        ],
        [
         "1971",
         "14th Annual GRAMMY Awards  (1971)",
         "Record Of The Year",
         "It's Too Late",
         "Carole King",
         "Lou Adler, producer",
         "https://www.grammy.com/sites/com/files/styles/artist_circle/public/muzooka/Carole%2BKing/Carole%2520King_1_1_1578385473.jpg?itok=W5y3jRey",
         "True"
        ],
        [
         "1970",
         "13th Annual GRAMMY Awards  (1970)",
         "Record Of The Year",
         "Bridge Over Troubled Water",
         "Simon And Garfunkel",
         "Roy Halee & Simon And Garfunkel (Art Garfunkel & Paul Simon), producers",
         null,
         "True"
        ],
        [
         "1969",
         "12th Annual GRAMMY Awards  (1969)",
         "Record Of The Year",
         "Aquarius/Let The Sunshine In (The Flesh Failures)",
         "5th Dimension",
         "Bones Howe, producer",
         null,
         "True"
        ],
        [
         "1968",
         "11th Annual GRAMMY Awards  (1968)",
         "Record Of The Year",
         "Mrs. Robinson",
         "Simon And Garfunkel",
         "Roy Halee & Simon And Garfunkel (Art Garfunkel & Paul Simon), producers",
         null,
         "True"
        ],
        [
         "1967",
         "10th Annual GRAMMY Awards  (1967)",
         "Record Of The Year",
         "Up, Up And Away",
         "5th Dimension",
         "Marc Gordon & Johnny Rivers, producers",
         "https://www.grammy.com/sites/com/files/styles/artist_circle/public/muzooka/Marc%2BGordon/Marc%2520Gordon_1_1_1581629305.jpg?itok=4IiRmFSP",
         "True"
        ],
        [
         "1966",
         "9th Annual GRAMMY Awards  (1966)",
         "Record Of The Year",
         "Strangers In The Night",
         "Frank Sinatra",
         "Jimmy Bowen, producer",
         "https://www.grammy.com/sites/com/files/styles/artist_circle/public/muzooka/Frank%2BSinatra/Frank%2520Sinatra_1_1_1581552147.jpg?itok=-iX5YZhY",
         "True"
        ],
        [
         "1965",
         "8th Annual GRAMMY Awards  (1965)",
         "Record Of The Year",
         "A Taste Of Honey",
         "Herb Alpert And The Tijuana Brass",
         "Herb Alpert & Jerry Moss, producers",
         "https://www.grammy.com/sites/com/files/styles/artist_circle/public/muzooka/Herb%2BAlpert/Herb%2520Alpert_1_1_1581628867.jpg?itok=45UhbQPe",
         "True"
        ],
        [
         "1964",
         "7th Annual GRAMMY Awards  (1964)",
         "Record Of The Year",
         "The Girl From Ipanema",
         "Stan Getz & Astrud Gilberto",
         null,
         "https://www.grammy.com/sites/com/files/styles/artist_circle/public/muzooka/Stan%2BGetz/Stan%2520Getz_1_1_1581618079.jpg?itok=1uHIRekD",
         "True"
        ],
        [
         "1963",
         "6th Annual GRAMMY Awards  (1963)",
         "Record Of The Year",
         "Days Of Wine And Roses",
         "Henry Mancini",
         null,
         "https://www.grammy.com/sites/com/files/styles/artist_circle/public/muzooka/Henry%2BMancini/Henry%2520Mancini_1_1_1581553583.jpg?itok=oMIyl-mj",
         "True"
        ],
        [
         "1962",
         "5th Annual GRAMMY Awards  (1962)",
         "Record Of The Year",
         "I Left My Heart In San Francisco",
         "Tony Bennett",
         null,
         "https://www.grammy.com/sites/com/files/styles/artist_circle/public/muzooka/Tony%2BBennett/Tony%2520Bennett_1_1_1584465343.jpg?itok=Zk2PcPhY",
         "True"
        ],
        [
         "1961",
         "4th Annual GRAMMY Awards  (1961)",
         "Record Of The Year",
         "Moon River",
         "Henry Mancini",
         null,
         "https://www.grammy.com/sites/com/files/styles/artist_circle/public/muzooka/Henry%2BMancini/Henry%2520Mancini_1_1_1581553583.jpg?itok=oMIyl-mj",
         "True"
        ],
        [
         "1960",
         "3rd Annual GRAMMY Awards  (1960)",
         "Record Of The Year",
         "The Theme From A Summer Place",
         "Percy Faith & His Orchestra",
         null,
         "https://www.grammy.com/sites/com/files/styles/artist_circle/public/muzooka/Percy%2BFaith/Percy%2520Faith_1_1_1597165242.jpg?itok=dFp-KK5i",
         "True"
        ],
        [
         "1959",
         "2nd Annual GRAMMY Awards  (1959)",
         "Record Of The Year",
         "Mack The Knife",
         "Bobby Darin",
         null,
         "https://www.grammy.com/sites/com/files/styles/artist_circle/public/muzooka/Bobby%2BDarin/Bobby%2520Darin_1_1_1581560302.jpg?itok=wKmA3kxT",
         "True"
        ],
        [
         "1958",
         "1st Annual GRAMMY Awards  (1958)",
         "Record Of The Year",
         "Nel Blu Dipinto Di Blu (Volare)",
         "Domenico Modugno",
         null,
         "https://www.grammy.com/sites/com/files/styles/artist_circle/public/muzooka/Domenico%2BModugno/Domenico%2520Modugno_1_1_1581618128.jpg?itok=1HYG0_R2",
         "True"
        ]
       ],
       "datasetInfos": [],
       "dbfsResultPath": null,
       "isJsonSchema": true,
       "metadata": {},
       "overflow": false,
       "plotOptions": {
        "customPlotOptions": {},
        "displayType": "table",
        "pivotAggregation": null,
        "pivotColumns": null,
        "xColumns": null,
        "yColumns": null
       },
       "removedWidgets": [],
       "schema": [
        {
         "metadata": "{}",
         "name": "year",
         "type": "\"string\""
        },
        {
         "metadata": "{}",
         "name": "title",
         "type": "\"string\""
        },
        {
         "metadata": "{}",
         "name": "category",
         "type": "\"string\""
        },
        {
         "metadata": "{}",
         "name": "nominee",
         "type": "\"string\""
        },
        {
         "metadata": "{}",
         "name": "artist",
         "type": "\"string\""
        },
        {
         "metadata": "{}",
         "name": "workers",
         "type": "\"string\""
        },
        {
         "metadata": "{}",
         "name": "img",
         "type": "\"string\""
        },
        {
         "metadata": "{}",
         "name": "winner",
         "type": "\"string\""
        }
       ],
       "type": "table"
      }
     },
     "output_type": "display_data"
    }
   ],
   "source": [
    "# The next code block shows a data import error for 'Old Town Road' where escape character lead to more columns and thus no URL in the img filed\n",
    "# Use this to export a CSV with all \"Record of the Year\" rows and do a quick check to ensure the correct data ends up in each column\n",
    "# Armin 17.09.2023 Adding .option(\"escape\", \"\\\"\") to the file import seems to have fixed the issue around img\n",
    "# https://stackoverflow.com/questions/40413526/reading-csv-files-with-quoted-fields-containing-embedded-commas\n",
    "display(df_record)"
   ]
  },
  {
   "cell_type": "code",
   "execution_count": 0,
   "metadata": {
    "application/vnd.databricks.v1+cell": {
     "cellMetadata": {
      "byteLimit": 2048000,
      "implicitDf": true,
      "rowLimit": 10000
     },
     "inputWidgets": {},
     "nuid": "6abee465-d62f-4792-9fb7-de7bc13ef733",
     "showTitle": false,
     "title": ""
    }
   },
   "outputs": [
    {
     "output_type": "display_data",
     "data": {
      "text/html": [
       "<style scoped>\n",
       "  .table-result-container {\n",
       "    max-height: 300px;\n",
       "    overflow: auto;\n",
       "  }\n",
       "  table, th, td {\n",
       "    border: 1px solid black;\n",
       "    border-collapse: collapse;\n",
       "  }\n",
       "  th, td {\n",
       "    padding: 5px;\n",
       "  }\n",
       "  th {\n",
       "    text-align: left;\n",
       "  }\n",
       "</style><div class='table-result-container'><table class='table-result'><thead style='background-color: white'><tr><th>nominee</th><th>artist</th><th>workers</th><th>img</th><th>winner</th></tr></thead><tbody><tr><td>Old Town Road</td><td>Lil Nas X Featuring Billy Ray Cyrus</td><td>Andrew \"VoxGod\" Bolooki, Jocelyn “Jozzy” Donald & YoungKio, producers; Andrew \"VoxGod\" Bolooki, Cinco & Joe Grasso, engineers/mixers; Eric Lagg, mastering engineer</td><td>https://www.grammy.com/sites/com/files/styles/artist_circle/public/muzooka/Montero%2BLamar%2BHill/Lil%2520Nas%2520X_1_1_1581656760.jpg?itok=_YR6dOjI</td><td>True</td></tr></tbody></table></div>"
      ]
     },
     "metadata": {
      "application/vnd.databricks.v1+output": {
       "addedWidgets": {},
       "aggData": [],
       "aggError": "",
       "aggOverflow": false,
       "aggSchema": [],
       "aggSeriesLimitReached": false,
       "aggType": "",
       "arguments": {},
       "columnCustomDisplayInfos": {},
       "data": [
        [
         "Old Town Road",
         "Lil Nas X Featuring Billy Ray Cyrus",
         "Andrew \"VoxGod\" Bolooki, Jocelyn “Jozzy” Donald & YoungKio, producers; Andrew \"VoxGod\" Bolooki, Cinco & Joe Grasso, engineers/mixers; Eric Lagg, mastering engineer",
         "https://www.grammy.com/sites/com/files/styles/artist_circle/public/muzooka/Montero%2BLamar%2BHill/Lil%2520Nas%2520X_1_1_1581656760.jpg?itok=_YR6dOjI",
         "True"
        ]
       ],
       "datasetInfos": [],
       "dbfsResultPath": null,
       "isJsonSchema": true,
       "metadata": {},
       "overflow": false,
       "plotOptions": {
        "customPlotOptions": {},
        "displayType": "table",
        "pivotAggregation": null,
        "pivotColumns": null,
        "xColumns": null,
        "yColumns": null
       },
       "removedWidgets": [],
       "schema": [
        {
         "metadata": "{}",
         "name": "nominee",
         "type": "\"string\""
        },
        {
         "metadata": "{}",
         "name": "artist",
         "type": "\"string\""
        },
        {
         "metadata": "{}",
         "name": "workers",
         "type": "\"string\""
        },
        {
         "metadata": "{}",
         "name": "img",
         "type": "\"string\""
        },
        {
         "metadata": "{}",
         "name": "winner",
         "type": "\"string\""
        }
       ],
       "type": "table"
      }
     },
     "output_type": "display_data"
    }
   ],
   "source": [
    "%sql\n",
    "-- Show data import error\n",
    "-- if the field img shows an URL the import worked as expected\n",
    "select nominee, artist, workers, img, winner\n",
    "from `record_of_the_year`\n",
    "where nominee = \"Old Town Road\""
   ]
  },
  {
   "cell_type": "code",
   "execution_count": 0,
   "metadata": {
    "application/vnd.databricks.v1+cell": {
     "cellMetadata": {
      "byteLimit": 2048000,
      "implicitDf": true,
      "rowLimit": 10000
     },
     "inputWidgets": {},
     "nuid": "971db7c1-58d8-480b-b2d0-54de75444bc9",
     "showTitle": false,
     "title": ""
    }
   },
   "outputs": [
    {
     "output_type": "display_data",
     "data": {
      "text/html": [
       "<style scoped>\n",
       "  .table-result-container {\n",
       "    max-height: 300px;\n",
       "    overflow: auto;\n",
       "  }\n",
       "  table, th, td {\n",
       "    border: 1px solid black;\n",
       "    border-collapse: collapse;\n",
       "  }\n",
       "  th, td {\n",
       "    padding: 5px;\n",
       "  }\n",
       "  th {\n",
       "    text-align: left;\n",
       "  }\n",
       "</style><div class='table-result-container'><table class='table-result'><thead style='background-color: white'><tr><th>year</th><th>title</th><th>category</th><th>nominee</th><th>artist</th><th>workers</th><th>img</th><th>winner</th></tr></thead><tbody><tr><td>2019</td><td>62nd Annual GRAMMY Awards  (2019)</td><td>Record Of The Year</td><td>Bad Guy</td><td>Billie Eilish</td><td>Finneas O'Connell, producer; Rob Kinelski & Finneas O'Connell, engineers/mixers; John Greenham, mastering engineer</td><td>https://www.grammy.com/sites/com/files/styles/artist_circle/public/muzooka/Billie%2BEilish/Billie%2520Eilish_1_1_1594138954.jpg?itok=3-71Dfxh</td><td>True</td></tr><tr><td>2019</td><td>62nd Annual GRAMMY Awards  (2019)</td><td>Record Of The Year</td><td>Hey, Ma</td><td>Bon Iver</td><td>BJ Burton, Brad Cook, Chris Messina & Justin Vernon, producers; BJ Burton, Zach Hanson & Chris Messina, engineers/mixers; Greg Calbi, mastering engineer</td><td>https://www.grammy.com/sites/com/files/styles/artist_circle/public/muzooka/Bon%2BIver/Bon%2520Iver_1_1_1578385181.jpg?itok=_M1hc5Ux</td><td>True</td></tr><tr><td>2019</td><td>62nd Annual GRAMMY Awards  (2019)</td><td>Record Of The Year</td><td>7 rings</td><td>Ariana Grande</td><td>Charles Anderson, Tommy Brown, Michael Foster & Victoria Monet, producers; Serban Ghenea, John Hanes, Billy Hickey & Brendan Morawski, engineers/mixers; Randy Merrill, mastering engineer</td><td>https://www.grammy.com/sites/com/files/styles/artist_circle/public/muzooka/Ariana%2BGrande/Ariana%2520Grande_1_1_1578384678.jpg?itok=Amj90j13</td><td>True</td></tr><tr><td>2019</td><td>62nd Annual GRAMMY Awards  (2019)</td><td>Record Of The Year</td><td>Hard Place</td><td>H.E.R.</td><td>Rodney “Darkchild” Jerkins, producer; Joseph Hurtado, Jaycen Joshua, Derek Keota & Miki Tsutsumi, engineers/mixers; Colin Leonard, mastering engineer</td><td>https://www.grammy.com/sites/com/files/styles/artist_circle/public/muzooka/H.E.R./H.E.R._1_1_1594631035.jpg?itok=ClJe-2MN</td><td>True</td></tr><tr><td>2019</td><td>62nd Annual GRAMMY Awards  (2019)</td><td>Record Of The Year</td><td>Talk</td><td>Khalid</td><td>Disclosure & Denis Kosiak, producers; Ingmar Carlson, Jon Castelli, Josh Deguzman, John Kercy, Denis Kosiak, Guy Lawrence & Michael Romero, engineers/mixers; Dale Becker, mastering engineer</td><td>https://www.grammy.com/sites/com/files/styles/artist_circle/public/muzooka/Khalid/Khalid_1_1_1594578772.jpg?itok=2HxjAT-X</td><td>True</td></tr><tr><td>2019</td><td>62nd Annual GRAMMY Awards  (2019)</td><td>Record Of The Year</td><td>Old Town Road</td><td>Lil Nas X Featuring Billy Ray Cyrus</td><td>Andrew \"VoxGod\" Bolooki, Jocelyn “Jozzy” Donald & YoungKio, producers; Andrew \"VoxGod\" Bolooki, Cinco & Joe Grasso, engineers/mixers; Eric Lagg, mastering engineer</td><td>https://www.grammy.com/sites/com/files/styles/artist_circle/public/muzooka/Montero%2BLamar%2BHill/Lil%2520Nas%2520X_1_1_1581656760.jpg?itok=_YR6dOjI</td><td>True</td></tr><tr><td>2019</td><td>62nd Annual GRAMMY Awards  (2019)</td><td>Record Of The Year</td><td>Truth Hurts</td><td>Lizzo</td><td>Ricky Reed & Tele, producers; Chris Galland, Manny Marroquin & Ethan Shumaker, engineers/mixers; Chris Gehringer, mastering engineer</td><td>https://www.grammy.com/sites/com/files/styles/artist_circle/public/muzooka/Lizzo/Lizzo_1_1_1583931631.jpg?itok=Gm2FQx4s</td><td>True</td></tr><tr><td>2019</td><td>62nd Annual GRAMMY Awards  (2019)</td><td>Record Of The Year</td><td>Sunflower</td><td>Post Malone & Swae Lee</td><td>Louis Bell & Carter Lang, producers; Louis Bell & Manny Marroquin, engineers/mixers; Mike Bozzi, mastering engineer</td><td>https://www.grammy.com/sites/com/files/styles/artist_circle/public/muzooka/Post%2BMalone/Post%2520Malone_1_1_1594910341.jpg?itok=HCyRm13g</td><td>True</td></tr><tr><td>2018</td><td>61st Annual GRAMMY Awards  (2018)</td><td>Record Of The Year</td><td>This Is America</td><td>Childish Gambino</td><td>Donald Glover & Ludwig Göransson, producers; Derek \"MixedByAli\" Ali, Kesha Lee, Riley Mackin, Shaan Singh & Alex Tumay, engineers/mixers; Mike Bozzi, mastering engineer</td><td>https://www.grammy.com/sites/com/files/styles/artist_circle/public/muzooka/Childish%2BGambino/Childish%2520Gambino_1_1_1591112936.jpg?itok=AU_J_f8x</td><td>True</td></tr><tr><td>2017</td><td>60th Annual GRAMMY Awards  (2017)</td><td>Record Of The Year</td><td>24K Magic</td><td>Bruno Mars</td><td>Shampoo Press & Curl (Christopher Brody Brown, Philip Lawrence & Bruno Mars), producers; Serban Ghenea, John Hanes & Charles Moniz, engineers/mixers; Tom Coyne, mastering engineer</td><td>https://www.grammy.com/sites/com/files/styles/artist_circle/public/muzooka/Bruno%2BMars/Bruno%2520Mars_1_1_1578385368.jpg?itok=KhxnacRR</td><td>True</td></tr><tr><td>2016</td><td>59th Annual GRAMMY Awards  (2016)</td><td>Record Of The Year</td><td>Hello</td><td>Adele</td><td>Greg Kurstin, producer; Julian Burg, Tom Elmhirst, Emile Haynie, Greg Kurstin, Liam Nolan, Alex Pasco & Joe Visciano, engineers/mixers; Tom Coyne & Randy Merrill, mastering engineers</td><td>https://www.grammy.com/sites/com/files/styles/artist_circle/public/muzooka/Adele/Adele_1_1_1584090130.jpg?itok=xlwW6t3a</td><td>True</td></tr><tr><td>2015</td><td>58th Annual GRAMMY Awards  (2015)</td><td>Record Of The Year</td><td>Uptown Funk</td><td>Mark Ronson Featuring Bruno Mars</td><td>Jeff Bhasker, Philip Lawrence, Bruno Mars & Mark Ronson, producers; Josh Blair, Riccardo Damian, Serban Ghenea, Wayne Gordon, John Hanes, Inaam Haq, Boo Mitchell, Charles Moniz & Mark Ronson, engineers/mixers; Tom Coyne, mastering engineer</td><td>https://www.grammy.com/sites/com/files/styles/artist_circle/public/muzooka/Mark%2BRonson/Mark%2520Ronson_1_1_1596790481.jpg?itok=s-dqiJed</td><td>True</td></tr><tr><td>2014</td><td>57th Annual GRAMMY Awards  (2014)</td><td>Record Of The Year</td><td>Stay With Me (Darkchild Version)</td><td>Sam Smith</td><td>Steve Fitzmaurice, Rodney Jerkins & Jimmy Napes, producers; Matthew Champlin, Steve Fitzmaurice, Jimmy Napes & Steve Price, engineers/mixers; Tom Coyne, mastering engineer</td><td>https://www.grammy.com/sites/com/files/styles/artist_circle/public/sam_smithrotycrop.jpg?itok=CbuVXG4s</td><td>True</td></tr><tr><td>2013</td><td>56th Annual GRAMMY Awards  (2013)</td><td>Record Of The Year</td><td>Get Lucky</td><td>Daft Punk Featuring Pharrell Williams & Nile Rodgers</td><td>Thomas Bangalter & Guy-Manuel de Homem-Christo, producers; Peter Franco, Mick Guzauski, Florian Lagatta & Daniel Lerner, engineers/mixers; Antoine Chabert & Bob Ludwig, mastering engineers</td><td>https://www.grammy.com/sites/com/files/styles/artist_circle/public/465384097_daft_punk_pharrell.jpg?itok=tZ0IzKSI</td><td>True</td></tr><tr><td>2012</td><td>55th Annual GRAMMY Awards  (2012)</td><td>Record Of The Year</td><td>Somebody That I Used To Know</td><td>Gotye Featuring Kimbra</td><td>Wally De Backer, producer; Wally De Backer & Francois Tetaz, engineers/mixers; William Bowden, mastering engineer</td><td>https://www.grammy.com/sites/com/files/styles/artist_circle/public/161396233_gotye_kimbra.jpg?itok=4_A2Llji</td><td>True</td></tr><tr><td>2011</td><td>54th Annual GRAMMY Awards  (2011)</td><td>Record Of The Year</td><td>Rolling In The Deep</td><td>Adele</td><td>Paul Epworth, producer; Tom Elmhirst & Mark Rankin, engineers/mixers</td><td>https://www.grammy.com/sites/com/files/styles/artist_circle/public/138850365_adele.jpg?itok=X8mml-Wk</td><td>True</td></tr><tr><td>2010</td><td>53rd Annual GRAMMY Awards  (2010)</td><td>Record Of The Year</td><td>Need You Now</td><td>Lady Antebellum</td><td>Lady Antebellum (Dave Haywood, Charles Kelley & Hillary Scott) & Paul N. Worley, producers; L Clarke Schleicher, engineer/mixer</td><td>https://www.grammy.com/sites/com/files/styles/artist_circle/public/109066913_lady_antebellum.jpg?itok=iFnOLjld</td><td>True</td></tr><tr><td>2009</td><td>52nd Annual GRAMMY Awards  (2009)</td><td>Record Of The Year</td><td>Use Somebody</td><td>Kings Of Leon</td><td>Jacquire King & Angelo Petraglia, producers; Jacquire King, engineer/mixer</td><td>https://www.grammy.com/sites/com/files/styles/artist_circle/public/96337451_kings_of_leon.jpg?itok=mjt6_DjR</td><td>True</td></tr><tr><td>2008</td><td>51st Annual GRAMMY Awards  (2008)</td><td>Record Of The Year</td><td>Please Read The Letter</td><td>Robert Plant & Alison Krauss</td><td>T Bone Burnett, producer; Mike Piersante, engineer/mixer</td><td>https://www.grammy.com/sites/com/files/styles/artist_circle/public/muzooka/Robert%2BPlant/Robert%2520Plant_1_1_1591112980.jpg?itok=6LLLbn4I</td><td>True</td></tr><tr><td>2007</td><td>50th Annual GRAMMY Awards  (2007)</td><td>Record Of The Year</td><td>Rehab</td><td>Amy Winehouse</td><td>Mark Ronson, producer; Tom Elmhirst, Samuel \"Vaughan\" Merrick, Dom Morley, Mark Ronson & Gabriel Roth, engineers/mixers</td><td>https://www.grammy.com/sites/com/files/styles/artist_circle/public/muzooka/Amy%2BWinehouse/Amy%2520Winehouse_1_1_1578384847.jpg?itok=E0x96uqF</td><td>True</td></tr><tr><td>2006</td><td>49th Annual GRAMMY Awards  (2006)</td><td>Record Of The Year</td><td>Not Ready To Make Nice</td><td>Dixie Chicks</td><td>Rick Rubin, producer; Richard Dodd, Jim Scott & Chris Testa, engineers/mixers</td><td>https://www.grammy.com/sites/com/files/styles/artist_circle/public/muzooka/Dixie%2BChicks/Dixie%2520Chicks_1_1_1598343738.jpg?itok=YXj33PAV</td><td>True</td></tr><tr><td>2005</td><td>48th Annual GRAMMY Awards  (2005)</td><td>Record Of The Year</td><td>Boulevard Of Broken Dreams</td><td>Green Day</td><td>Rob Cavallo & Green Day, producers; Chris Lord-Alge & Doug McKean, engineers/mixers</td><td>https://www.grammy.com/sites/com/files/styles/artist_circle/public/muzooka/Green%2BDay/Green%2520Day_1_1_1578385279.jpg?itok=wr16YloS</td><td>True</td></tr><tr><td>2004</td><td>47th Annual GRAMMY Awards  (2004)</td><td>Record Of The Year</td><td>Here We Go Again</td><td>Ray Charles & Norah Jones</td><td>John R. Burk, producer; Mark Fleming, Terry Howard & Al Schmitt, engineers/mixers</td><td>https://www.grammy.com/sites/com/files/styles/artist_circle/public/ray_charles_spotlight_107293349.png?itok=57kc2vwB</td><td>True</td></tr><tr><td>2003</td><td>46th Annual GRAMMY Awards  (2003)</td><td>Record Of The Year</td><td>Clocks</td><td>Coldplay</td><td>Coldplay & Ken Nelson, producers; Coldplay (Guy Berryman, Jon Buckland, Will Champion, Phil Harvey & Chris Martin), Ken Nelson & Mark Phythian, engineers/mixers</td><td>https://www.grammy.com/sites/com/files/styles/artist_circle/public/muzooka/Coldplay/Coldplay_1_1_1591112967.jpg?itok=lLCPutNO</td><td>True</td></tr><tr><td>2002</td><td>45th Annual GRAMMY Awards  (2002)</td><td>Record Of The Year</td><td>Don't Know Why</td><td>Norah Jones</td><td>Norah Jones, Arif Mardin & Jay Newland, producers; Jay Newland, engineer/mixer</td><td>https://www.grammy.com/sites/com/files/styles/artist_circle/public/muzooka/Norah%2BJones/Norah%2520Jones_1_1_1588264654.jpg?itok=tpWJ31fa</td><td>True</td></tr><tr><td>2001</td><td>44th Annual GRAMMY Awards  (2001)</td><td>Record Of The Year</td><td>Walk On</td><td>U2</td><td>Brian Eno & Daniel Lanois, producers; Steve Lillywhite & Richard Rainey, engineers/mixers</td><td>https://www.grammy.com/sites/com/files/styles/artist_circle/public/muzooka/U2/U2_1_1_1578385236.jpg?itok=rQVhxxhL</td><td>True</td></tr><tr><td>2000</td><td>43rd Annual GRAMMY Awards  (2000)</td><td>Record Of The Year</td><td>Beautiful Day</td><td>U2</td><td>Brian Eno & Daniel Lanois, producers; Steve Lillywhite & Richard Rainey, engineers/mixers</td><td>https://www.grammy.com/sites/com/files/styles/artist_circle/public/muzooka/U2/U2_1_1_1578385236.jpg?itok=rQVhxxhL</td><td>True</td></tr><tr><td>1999</td><td>42nd Annual GRAMMY Awards  (1999)</td><td>Record Of The Year</td><td>Smooth</td><td>Santana Featuring Rob Thomas</td><td>Matt Serletic, producer; David Thoener, engineer/mixer</td><td>https://www.grammy.com/sites/com/files/styles/artist_circle/public/muzooka/Rob%2BThomas/Rob%2520Thomas_1_1_1575361007.jpg?itok=5bqO3DlV</td><td>True</td></tr><tr><td>1998</td><td>41st Annual GRAMMY Awards  (1998)</td><td>Record Of The Year</td><td>My Heart Will Go On (Love Theme From Titanic)</td><td>Celine Dion</td><td>Walter Afanasieff, Simon Franglen & James Horner, producers; Simon Franglen, Humberto Gatica & David Gleeson, engineers/mixers</td><td>https://www.grammy.com/sites/com/files/styles/artist_circle/public/muzooka/Celine%2BDion/C%25C3%25A9line%2520Dion_1_1_1579163253.jpg?itok=7lpsetr2</td><td>True</td></tr><tr><td>1997</td><td>40th Annual GRAMMY Awards  (1997)</td><td>Record Of The Year</td><td>Sunny Came Home</td><td>Shawn Colvin</td><td>John Leventhal, producer</td><td>https://www.grammy.com/sites/com/files/styles/artist_circle/public/muzooka/Shawn%2BColvin/Shawn%2520Colvin_1_1_1581551750.jpg?itok=1w7xoEU4</td><td>True</td></tr><tr><td>1996</td><td>39th Annual GRAMMY Awards  (1996)</td><td>Record Of The Year</td><td>Change The World</td><td>Eric Clapton</td><td>Babyface, producer</td><td>https://www.grammy.com/sites/com/files/styles/artist_circle/public/muzooka/Eric%2BClapton/Eric%2520Clapton_1_1_1581552257.jpg?itok=VS2OFNyf</td><td>True</td></tr><tr><td>1995</td><td>38th Annual GRAMMY Awards  (1995)</td><td>Record Of The Year</td><td>Kiss From A Rose</td><td>Seal</td><td>Trevor Horn, producer</td><td>https://www.grammy.com/sites/com/files/styles/artist_circle/public/muzooka/Seal/Seal_1_1_1575369703.jpg?itok=Vj2q-xvH</td><td>True</td></tr><tr><td>1994</td><td>37th Annual GRAMMY Awards  (1994)</td><td>Record Of The Year</td><td>All I Wanna Do</td><td>Sheryl Crow</td><td>Bill Bottrell, producer</td><td>https://www.grammy.com/sites/com/files/styles/artist_circle/public/muzooka/Sheryl%2BCrow/Sheryl%2520Crow_1_1_1597145423.jpg?itok=tvxHkBTZ</td><td>True</td></tr><tr><td>1993</td><td>36th Annual GRAMMY Awards  (1993)</td><td>Record Of The Year</td><td>I Will Always Love You</td><td>Whitney Houston</td><td>David Foster, producer</td><td>https://www.grammy.com/sites/com/files/styles/artist_circle/public/muzooka/Whitney%2BHouston/Whitney%2520Houston_1_1_1594980040.jpg?itok=LS4iD1jw</td><td>True</td></tr><tr><td>1992</td><td>35th Annual GRAMMY Awards  (1992)</td><td>Record Of The Year</td><td>Tears In Heaven</td><td>Eric Clapton</td><td>Russ Titelman, producer</td><td>https://www.grammy.com/sites/com/files/styles/artist_circle/public/muzooka/Eric%2BClapton/Eric%2520Clapton_1_1_1581552257.jpg?itok=VS2OFNyf</td><td>True</td></tr><tr><td>1991</td><td>34th Annual GRAMMY Awards  (1991)</td><td>Record Of The Year</td><td>Unforgettable</td><td>Natalie Cole (With Nat \"King\" Cole)</td><td>David Foster, producer</td><td>https://www.grammy.com/sites/com/files/styles/artist_circle/public/muzooka/Natalie%2BCole/Natalie%2520Cole_1_1_1591112950.jpg?itok=A9t_I3Ba</td><td>True</td></tr><tr><td>1990</td><td>33rd Annual GRAMMY Awards  (1990)</td><td>Record Of The Year</td><td>Another Day In Paradise</td><td>Phil Collins</td><td>Phil Collins & Hugh Padgham, producers</td><td>https://www.grammy.com/sites/com/files/styles/artist_circle/public/muzooka/Phil%2BCollins/Phil%2520Collins_1_1_1596706545.jpg?itok=MQR7SHdv</td><td>True</td></tr><tr><td>1989</td><td>32nd Annual GRAMMY Awards  (1989)</td><td>Record Of The Year</td><td>Wind Beneath My Wings</td><td>Bette Midler</td><td>Arif Mardin, producer</td><td>https://www.grammy.com/sites/com/files/styles/artist_circle/public/muzooka/Bette%2BMidler/Bette%2520Midler_1_1_1575359591.jpg?itok=7Wx-nTh_</td><td>True</td></tr><tr><td>1988</td><td>31st Annual GRAMMY Awards  (1988)</td><td>Record Of The Year</td><td>Don't Worry Be Happy</td><td>Bobby McFerrin</td><td>Linda Goldstein, producer</td><td>https://www.grammy.com/sites/com/files/styles/artist_circle/public/muzooka/Bobby%2BMcFerrin/Bobby%2520McFerrin_1_1_1575365223.jpg?itok=KTGGWtEl</td><td>True</td></tr><tr><td>1987</td><td>30th Annual GRAMMY Awards  (1987)</td><td>Record Of The Year</td><td>Graceland</td><td>Paul Simon</td><td>Paul Simon, producer</td><td>https://www.grammy.com/sites/com/files/styles/artist_circle/public/muzooka/Paul%2BSimon/Paul%2520Simon_1_1_1578385319.jpg?itok=H2xb3gsd</td><td>True</td></tr><tr><td>1986</td><td>29th Annual GRAMMY Awards  (1986)</td><td>Record Of The Year</td><td>Higher Love</td><td>Steve Winwood</td><td>Russ Titelman & Steve Winwood, producers</td><td>https://www.grammy.com/sites/com/files/styles/artist_circle/public/muzooka/Steve%2BWinwood/Steve%2520Winwood_1_1_1596799256.jpg?itok=Xc1PcPBM</td><td>True</td></tr><tr><td>1985</td><td>28th Annual GRAMMY Awards  (1985)</td><td>Record Of The Year</td><td>We Are The World</td><td>USA For Africa (Various Artists)</td><td>Quincy Jones, producer</td><td>https://www.grammy.com/sites/com/files/styles/artist_circle/public/muzooka/Quincy%2BJones/Quincy%2520Jones_1_1_1596789836.jpg?itok=54PdILuC</td><td>True</td></tr><tr><td>1984</td><td>27th Annual GRAMMY Awards  (1984)</td><td>Record Of The Year</td><td>What's Love Got To Do With It</td><td>Tina Turner</td><td>Terry Britten, producer</td><td>https://www.grammy.com/sites/com/files/styles/artist_circle/public/muzooka/Tina%2BTurner/Tina%2520Turner_1_1_1579278403.jpg?itok=vJ-mW-L4</td><td>True</td></tr><tr><td>1983</td><td>26th Annual GRAMMY Awards  (1983)</td><td>Record Of The Year</td><td>Beat It</td><td>Michael Jackson</td><td>Michael Jackson & Quincy Jones, producers</td><td>https://www.grammy.com/sites/com/files/styles/artist_circle/public/muzooka/Michael%2BJackson/Michael%2520Jackson_1_1_1584089273.jpg?itok=8N4Ineev</td><td>True</td></tr><tr><td>1982</td><td>25th Annual GRAMMY Awards  (1982)</td><td>Record Of The Year</td><td>Rosanna</td><td>Toto</td><td>Toto (Bobby Kimball, Steve Lukather, David Paich, Jeff Porcaro, Michael Porcaro & Steve Porcaro), producers</td><td>https://www.grammy.com/sites/com/files/styles/artist_circle/public/muzooka/Toto/Toto_1_1_1581552180.jpg?itok=zeWhOeO_</td><td>True</td></tr><tr><td>1981</td><td>24th Annual GRAMMY Awards  (1981)</td><td>Record Of The Year</td><td>Bette Davis Eyes</td><td>Kim Carnes</td><td>Val Garay, producer</td><td>https://www.grammy.com/sites/com/files/styles/artist_circle/public/muzooka/Kim%2BCarnes/Kim%2520Carnes_1_1_1596100249.jpg?itok=XJ1LYIra</td><td>True</td></tr><tr><td>1980</td><td>23rd Annual GRAMMY Awards  (1980)</td><td>Record Of The Year</td><td>Sailing</td><td>Christopher Cross</td><td>Michael Omartian, producer</td><td>https://www.grammy.com/sites/com/files/styles/artist_circle/public/muzooka/Christopher%2BCross/Christopher%2520Cross_1_1_1581554585.jpg?itok=sDilUxBw</td><td>True</td></tr><tr><td>1979</td><td>22nd Annual GRAMMY Awards  (1979)</td><td>Record Of The Year</td><td>What A Fool Believes</td><td>The Doobie Brothers</td><td>Ted Templeman, producer</td><td>null</td><td>True</td></tr><tr><td>1978</td><td>21st Annual GRAMMY Awards  (1978)</td><td>Record Of The Year</td><td>Just The Way You Are</td><td>Billy Joel</td><td>Phil Ramone, producer</td><td>https://www.grammy.com/sites/com/files/styles/artist_circle/public/muzooka/Billy%2BJoel/Billy%2520Joel_1_1_1578384978.jpg?itok=QtM7Q8fq</td><td>True</td></tr><tr><td>1977</td><td>20th Annual GRAMMY Awards  (1977)</td><td>Record Of The Year</td><td>Hotel California</td><td>Eagles</td><td>Bill Szymczyk, producer</td><td>https://www.grammy.com/sites/com/files/styles/artist_circle/public/muzooka/Eagles/Eagles_1_1_1581552244.jpg?itok=0GyT6tV3</td><td>True</td></tr><tr><td>1976</td><td>19th Annual GRAMMY Awards  (1976)</td><td>Record Of The Year</td><td>This Masquerade</td><td>George Benson</td><td>Tommy LiPuma, producer</td><td>https://www.grammy.com/sites/com/files/styles/artist_circle/public/muzooka/George%2BBenson/George%2520Benson_1_1_1578385429.jpg?itok=bzpUiUCb</td><td>True</td></tr><tr><td>1975</td><td>18th Annual GRAMMY Awards  (1975)</td><td>Record Of The Year</td><td>Love Will Keep Us Together</td><td>Captain & Tennille</td><td>Daryl Dragon, producer</td><td>null</td><td>True</td></tr><tr><td>1974</td><td>17th Annual GRAMMY Awards  (1974)</td><td>Record Of The Year</td><td>I Honestly Love You</td><td>Olivia Newton-John</td><td>John Farrar, producer</td><td>https://www.grammy.com/sites/com/files/styles/artist_circle/public/muzooka/Olivia%2BNewton-John/Olivia%2520Newton-John_1_1_1575370845.jpg?itok=SO4aU4ch</td><td>True</td></tr><tr><td>1973</td><td>16th Annual GRAMMY Awards  (1973)</td><td>Record Of The Year</td><td>Killing Me Softly With His Song</td><td>Roberta Flack</td><td>Joel Dorn, producer</td><td>https://www.grammy.com/sites/com/files/styles/artist_circle/public/muzooka/Roberta%2BFlack/Roberta%2520Flack_1_1_1575365614.jpg?itok=xIenBn49</td><td>True</td></tr><tr><td>1972</td><td>15th Annual GRAMMY Awards  (1972)</td><td>Record Of The Year</td><td>The First Time Ever I Saw Your Face</td><td>Roberta Flack</td><td>Joel Dorn, producer</td><td>https://www.grammy.com/sites/com/files/styles/artist_circle/public/muzooka/Roberta%2BFlack/Roberta%2520Flack_1_1_1575365614.jpg?itok=xIenBn49</td><td>True</td></tr><tr><td>1971</td><td>14th Annual GRAMMY Awards  (1971)</td><td>Record Of The Year</td><td>It's Too Late</td><td>Carole King</td><td>Lou Adler, producer</td><td>https://www.grammy.com/sites/com/files/styles/artist_circle/public/muzooka/Carole%2BKing/Carole%2520King_1_1_1578385473.jpg?itok=W5y3jRey</td><td>True</td></tr><tr><td>1970</td><td>13th Annual GRAMMY Awards  (1970)</td><td>Record Of The Year</td><td>Bridge Over Troubled Water</td><td>Simon And Garfunkel</td><td>Roy Halee & Simon And Garfunkel (Art Garfunkel & Paul Simon), producers</td><td>null</td><td>True</td></tr><tr><td>1969</td><td>12th Annual GRAMMY Awards  (1969)</td><td>Record Of The Year</td><td>Aquarius/Let The Sunshine In (The Flesh Failures)</td><td>5th Dimension</td><td>Bones Howe, producer</td><td>null</td><td>True</td></tr><tr><td>1968</td><td>11th Annual GRAMMY Awards  (1968)</td><td>Record Of The Year</td><td>Mrs. Robinson</td><td>Simon And Garfunkel</td><td>Roy Halee & Simon And Garfunkel (Art Garfunkel & Paul Simon), producers</td><td>null</td><td>True</td></tr><tr><td>1967</td><td>10th Annual GRAMMY Awards  (1967)</td><td>Record Of The Year</td><td>Up, Up And Away</td><td>5th Dimension</td><td>Marc Gordon & Johnny Rivers, producers</td><td>https://www.grammy.com/sites/com/files/styles/artist_circle/public/muzooka/Marc%2BGordon/Marc%2520Gordon_1_1_1581629305.jpg?itok=4IiRmFSP</td><td>True</td></tr><tr><td>1966</td><td>9th Annual GRAMMY Awards  (1966)</td><td>Record Of The Year</td><td>Strangers In The Night</td><td>Frank Sinatra</td><td>Jimmy Bowen, producer</td><td>https://www.grammy.com/sites/com/files/styles/artist_circle/public/muzooka/Frank%2BSinatra/Frank%2520Sinatra_1_1_1581552147.jpg?itok=-iX5YZhY</td><td>True</td></tr><tr><td>1965</td><td>8th Annual GRAMMY Awards  (1965)</td><td>Record Of The Year</td><td>A Taste Of Honey</td><td>Herb Alpert And The Tijuana Brass</td><td>Herb Alpert & Jerry Moss, producers</td><td>https://www.grammy.com/sites/com/files/styles/artist_circle/public/muzooka/Herb%2BAlpert/Herb%2520Alpert_1_1_1581628867.jpg?itok=45UhbQPe</td><td>True</td></tr><tr><td>1964</td><td>7th Annual GRAMMY Awards  (1964)</td><td>Record Of The Year</td><td>The Girl From Ipanema</td><td>Stan Getz & Astrud Gilberto</td><td>null</td><td>https://www.grammy.com/sites/com/files/styles/artist_circle/public/muzooka/Stan%2BGetz/Stan%2520Getz_1_1_1581618079.jpg?itok=1uHIRekD</td><td>True</td></tr><tr><td>1963</td><td>6th Annual GRAMMY Awards  (1963)</td><td>Record Of The Year</td><td>Days Of Wine And Roses</td><td>Henry Mancini</td><td>null</td><td>https://www.grammy.com/sites/com/files/styles/artist_circle/public/muzooka/Henry%2BMancini/Henry%2520Mancini_1_1_1581553583.jpg?itok=oMIyl-mj</td><td>True</td></tr><tr><td>1962</td><td>5th Annual GRAMMY Awards  (1962)</td><td>Record Of The Year</td><td>I Left My Heart In San Francisco</td><td>Tony Bennett</td><td>null</td><td>https://www.grammy.com/sites/com/files/styles/artist_circle/public/muzooka/Tony%2BBennett/Tony%2520Bennett_1_1_1584465343.jpg?itok=Zk2PcPhY</td><td>True</td></tr><tr><td>1961</td><td>4th Annual GRAMMY Awards  (1961)</td><td>Record Of The Year</td><td>Moon River</td><td>Henry Mancini</td><td>null</td><td>https://www.grammy.com/sites/com/files/styles/artist_circle/public/muzooka/Henry%2BMancini/Henry%2520Mancini_1_1_1581553583.jpg?itok=oMIyl-mj</td><td>True</td></tr><tr><td>1960</td><td>3rd Annual GRAMMY Awards  (1960)</td><td>Record Of The Year</td><td>The Theme From A Summer Place</td><td>Percy Faith & His Orchestra</td><td>null</td><td>https://www.grammy.com/sites/com/files/styles/artist_circle/public/muzooka/Percy%2BFaith/Percy%2520Faith_1_1_1597165242.jpg?itok=dFp-KK5i</td><td>True</td></tr><tr><td>1959</td><td>2nd Annual GRAMMY Awards  (1959)</td><td>Record Of The Year</td><td>Mack The Knife</td><td>Bobby Darin</td><td>null</td><td>https://www.grammy.com/sites/com/files/styles/artist_circle/public/muzooka/Bobby%2BDarin/Bobby%2520Darin_1_1_1581560302.jpg?itok=wKmA3kxT</td><td>True</td></tr><tr><td>1958</td><td>1st Annual GRAMMY Awards  (1958)</td><td>Record Of The Year</td><td>Nel Blu Dipinto Di Blu (Volare)</td><td>Domenico Modugno</td><td>null</td><td>https://www.grammy.com/sites/com/files/styles/artist_circle/public/muzooka/Domenico%2BModugno/Domenico%2520Modugno_1_1_1581618128.jpg?itok=1HYG0_R2</td><td>True</td></tr></tbody></table></div>"
      ]
     },
     "metadata": {
      "application/vnd.databricks.v1+output": {
       "addedWidgets": {},
       "aggData": [],
       "aggError": "",
       "aggOverflow": false,
       "aggSchema": [],
       "aggSeriesLimitReached": false,
       "aggType": "",
       "arguments": {},
       "columnCustomDisplayInfos": {},
       "data": [
        [
         "2019",
         "62nd Annual GRAMMY Awards  (2019)",
         "Record Of The Year",
         "Bad Guy",
         "Billie Eilish",
         "Finneas O'Connell, producer; Rob Kinelski & Finneas O'Connell, engineers/mixers; John Greenham, mastering engineer",
         "https://www.grammy.com/sites/com/files/styles/artist_circle/public/muzooka/Billie%2BEilish/Billie%2520Eilish_1_1_1594138954.jpg?itok=3-71Dfxh",
         "True"
        ],
        [
         "2019",
         "62nd Annual GRAMMY Awards  (2019)",
         "Record Of The Year",
         "Hey, Ma",
         "Bon Iver",
         "BJ Burton, Brad Cook, Chris Messina & Justin Vernon, producers; BJ Burton, Zach Hanson & Chris Messina, engineers/mixers; Greg Calbi, mastering engineer",
         "https://www.grammy.com/sites/com/files/styles/artist_circle/public/muzooka/Bon%2BIver/Bon%2520Iver_1_1_1578385181.jpg?itok=_M1hc5Ux",
         "True"
        ],
        [
         "2019",
         "62nd Annual GRAMMY Awards  (2019)",
         "Record Of The Year",
         "7 rings",
         "Ariana Grande",
         "Charles Anderson, Tommy Brown, Michael Foster & Victoria Monet, producers; Serban Ghenea, John Hanes, Billy Hickey & Brendan Morawski, engineers/mixers; Randy Merrill, mastering engineer",
         "https://www.grammy.com/sites/com/files/styles/artist_circle/public/muzooka/Ariana%2BGrande/Ariana%2520Grande_1_1_1578384678.jpg?itok=Amj90j13",
         "True"
        ],
        [
         "2019",
         "62nd Annual GRAMMY Awards  (2019)",
         "Record Of The Year",
         "Hard Place",
         "H.E.R.",
         "Rodney “Darkchild” Jerkins, producer; Joseph Hurtado, Jaycen Joshua, Derek Keota & Miki Tsutsumi, engineers/mixers; Colin Leonard, mastering engineer",
         "https://www.grammy.com/sites/com/files/styles/artist_circle/public/muzooka/H.E.R./H.E.R._1_1_1594631035.jpg?itok=ClJe-2MN",
         "True"
        ],
        [
         "2019",
         "62nd Annual GRAMMY Awards  (2019)",
         "Record Of The Year",
         "Talk",
         "Khalid",
         "Disclosure & Denis Kosiak, producers; Ingmar Carlson, Jon Castelli, Josh Deguzman, John Kercy, Denis Kosiak, Guy Lawrence & Michael Romero, engineers/mixers; Dale Becker, mastering engineer",
         "https://www.grammy.com/sites/com/files/styles/artist_circle/public/muzooka/Khalid/Khalid_1_1_1594578772.jpg?itok=2HxjAT-X",
         "True"
        ],
        [
         "2019",
         "62nd Annual GRAMMY Awards  (2019)",
         "Record Of The Year",
         "Old Town Road",
         "Lil Nas X Featuring Billy Ray Cyrus",
         "Andrew \"VoxGod\" Bolooki, Jocelyn “Jozzy” Donald & YoungKio, producers; Andrew \"VoxGod\" Bolooki, Cinco & Joe Grasso, engineers/mixers; Eric Lagg, mastering engineer",
         "https://www.grammy.com/sites/com/files/styles/artist_circle/public/muzooka/Montero%2BLamar%2BHill/Lil%2520Nas%2520X_1_1_1581656760.jpg?itok=_YR6dOjI",
         "True"
        ],
        [
         "2019",
         "62nd Annual GRAMMY Awards  (2019)",
         "Record Of The Year",
         "Truth Hurts",
         "Lizzo",
         "Ricky Reed & Tele, producers; Chris Galland, Manny Marroquin & Ethan Shumaker, engineers/mixers; Chris Gehringer, mastering engineer",
         "https://www.grammy.com/sites/com/files/styles/artist_circle/public/muzooka/Lizzo/Lizzo_1_1_1583931631.jpg?itok=Gm2FQx4s",
         "True"
        ],
        [
         "2019",
         "62nd Annual GRAMMY Awards  (2019)",
         "Record Of The Year",
         "Sunflower",
         "Post Malone & Swae Lee",
         "Louis Bell & Carter Lang, producers; Louis Bell & Manny Marroquin, engineers/mixers; Mike Bozzi, mastering engineer",
         "https://www.grammy.com/sites/com/files/styles/artist_circle/public/muzooka/Post%2BMalone/Post%2520Malone_1_1_1594910341.jpg?itok=HCyRm13g",
         "True"
        ],
        [
         "2018",
         "61st Annual GRAMMY Awards  (2018)",
         "Record Of The Year",
         "This Is America",
         "Childish Gambino",
         "Donald Glover & Ludwig Göransson, producers; Derek \"MixedByAli\" Ali, Kesha Lee, Riley Mackin, Shaan Singh & Alex Tumay, engineers/mixers; Mike Bozzi, mastering engineer",
         "https://www.grammy.com/sites/com/files/styles/artist_circle/public/muzooka/Childish%2BGambino/Childish%2520Gambino_1_1_1591112936.jpg?itok=AU_J_f8x",
         "True"
        ],
        [
         "2017",
         "60th Annual GRAMMY Awards  (2017)",
         "Record Of The Year",
         "24K Magic",
         "Bruno Mars",
         "Shampoo Press & Curl (Christopher Brody Brown, Philip Lawrence & Bruno Mars), producers; Serban Ghenea, John Hanes & Charles Moniz, engineers/mixers; Tom Coyne, mastering engineer",
         "https://www.grammy.com/sites/com/files/styles/artist_circle/public/muzooka/Bruno%2BMars/Bruno%2520Mars_1_1_1578385368.jpg?itok=KhxnacRR",
         "True"
        ],
        [
         "2016",
         "59th Annual GRAMMY Awards  (2016)",
         "Record Of The Year",
         "Hello",
         "Adele",
         "Greg Kurstin, producer; Julian Burg, Tom Elmhirst, Emile Haynie, Greg Kurstin, Liam Nolan, Alex Pasco & Joe Visciano, engineers/mixers; Tom Coyne & Randy Merrill, mastering engineers",
         "https://www.grammy.com/sites/com/files/styles/artist_circle/public/muzooka/Adele/Adele_1_1_1584090130.jpg?itok=xlwW6t3a",
         "True"
        ],
        [
         "2015",
         "58th Annual GRAMMY Awards  (2015)",
         "Record Of The Year",
         "Uptown Funk",
         "Mark Ronson Featuring Bruno Mars",
         "Jeff Bhasker, Philip Lawrence, Bruno Mars & Mark Ronson, producers; Josh Blair, Riccardo Damian, Serban Ghenea, Wayne Gordon, John Hanes, Inaam Haq, Boo Mitchell, Charles Moniz & Mark Ronson, engineers/mixers; Tom Coyne, mastering engineer",
         "https://www.grammy.com/sites/com/files/styles/artist_circle/public/muzooka/Mark%2BRonson/Mark%2520Ronson_1_1_1596790481.jpg?itok=s-dqiJed",
         "True"
        ],
        [
         "2014",
         "57th Annual GRAMMY Awards  (2014)",
         "Record Of The Year",
         "Stay With Me (Darkchild Version)",
         "Sam Smith",
         "Steve Fitzmaurice, Rodney Jerkins & Jimmy Napes, producers; Matthew Champlin, Steve Fitzmaurice, Jimmy Napes & Steve Price, engineers/mixers; Tom Coyne, mastering engineer",
         "https://www.grammy.com/sites/com/files/styles/artist_circle/public/sam_smithrotycrop.jpg?itok=CbuVXG4s",
         "True"
        ],
        [
         "2013",
         "56th Annual GRAMMY Awards  (2013)",
         "Record Of The Year",
         "Get Lucky",
         "Daft Punk Featuring Pharrell Williams & Nile Rodgers",
         "Thomas Bangalter & Guy-Manuel de Homem-Christo, producers; Peter Franco, Mick Guzauski, Florian Lagatta & Daniel Lerner, engineers/mixers; Antoine Chabert & Bob Ludwig, mastering engineers",
         "https://www.grammy.com/sites/com/files/styles/artist_circle/public/465384097_daft_punk_pharrell.jpg?itok=tZ0IzKSI",
         "True"
        ],
        [
         "2012",
         "55th Annual GRAMMY Awards  (2012)",
         "Record Of The Year",
         "Somebody That I Used To Know",
         "Gotye Featuring Kimbra",
         "Wally De Backer, producer; Wally De Backer & Francois Tetaz, engineers/mixers; William Bowden, mastering engineer",
         "https://www.grammy.com/sites/com/files/styles/artist_circle/public/161396233_gotye_kimbra.jpg?itok=4_A2Llji",
         "True"
        ],
        [
         "2011",
         "54th Annual GRAMMY Awards  (2011)",
         "Record Of The Year",
         "Rolling In The Deep",
         "Adele",
         "Paul Epworth, producer; Tom Elmhirst & Mark Rankin, engineers/mixers",
         "https://www.grammy.com/sites/com/files/styles/artist_circle/public/138850365_adele.jpg?itok=X8mml-Wk",
         "True"
        ],
        [
         "2010",
         "53rd Annual GRAMMY Awards  (2010)",
         "Record Of The Year",
         "Need You Now",
         "Lady Antebellum",
         "Lady Antebellum (Dave Haywood, Charles Kelley & Hillary Scott) & Paul N. Worley, producers; L Clarke Schleicher, engineer/mixer",
         "https://www.grammy.com/sites/com/files/styles/artist_circle/public/109066913_lady_antebellum.jpg?itok=iFnOLjld",
         "True"
        ],
        [
         "2009",
         "52nd Annual GRAMMY Awards  (2009)",
         "Record Of The Year",
         "Use Somebody",
         "Kings Of Leon",
         "Jacquire King & Angelo Petraglia, producers; Jacquire King, engineer/mixer",
         "https://www.grammy.com/sites/com/files/styles/artist_circle/public/96337451_kings_of_leon.jpg?itok=mjt6_DjR",
         "True"
        ],
        [
         "2008",
         "51st Annual GRAMMY Awards  (2008)",
         "Record Of The Year",
         "Please Read The Letter",
         "Robert Plant & Alison Krauss",
         "T Bone Burnett, producer; Mike Piersante, engineer/mixer",
         "https://www.grammy.com/sites/com/files/styles/artist_circle/public/muzooka/Robert%2BPlant/Robert%2520Plant_1_1_1591112980.jpg?itok=6LLLbn4I",
         "True"
        ],
        [
         "2007",
         "50th Annual GRAMMY Awards  (2007)",
         "Record Of The Year",
         "Rehab",
         "Amy Winehouse",
         "Mark Ronson, producer; Tom Elmhirst, Samuel \"Vaughan\" Merrick, Dom Morley, Mark Ronson & Gabriel Roth, engineers/mixers",
         "https://www.grammy.com/sites/com/files/styles/artist_circle/public/muzooka/Amy%2BWinehouse/Amy%2520Winehouse_1_1_1578384847.jpg?itok=E0x96uqF",
         "True"
        ],
        [
         "2006",
         "49th Annual GRAMMY Awards  (2006)",
         "Record Of The Year",
         "Not Ready To Make Nice",
         "Dixie Chicks",
         "Rick Rubin, producer; Richard Dodd, Jim Scott & Chris Testa, engineers/mixers",
         "https://www.grammy.com/sites/com/files/styles/artist_circle/public/muzooka/Dixie%2BChicks/Dixie%2520Chicks_1_1_1598343738.jpg?itok=YXj33PAV",
         "True"
        ],
        [
         "2005",
         "48th Annual GRAMMY Awards  (2005)",
         "Record Of The Year",
         "Boulevard Of Broken Dreams",
         "Green Day",
         "Rob Cavallo & Green Day, producers; Chris Lord-Alge & Doug McKean, engineers/mixers",
         "https://www.grammy.com/sites/com/files/styles/artist_circle/public/muzooka/Green%2BDay/Green%2520Day_1_1_1578385279.jpg?itok=wr16YloS",
         "True"
        ],
        [
         "2004",
         "47th Annual GRAMMY Awards  (2004)",
         "Record Of The Year",
         "Here We Go Again",
         "Ray Charles & Norah Jones",
         "John R. Burk, producer; Mark Fleming, Terry Howard & Al Schmitt, engineers/mixers",
         "https://www.grammy.com/sites/com/files/styles/artist_circle/public/ray_charles_spotlight_107293349.png?itok=57kc2vwB",
         "True"
        ],
        [
         "2003",
         "46th Annual GRAMMY Awards  (2003)",
         "Record Of The Year",
         "Clocks",
         "Coldplay",
         "Coldplay & Ken Nelson, producers; Coldplay (Guy Berryman, Jon Buckland, Will Champion, Phil Harvey & Chris Martin), Ken Nelson & Mark Phythian, engineers/mixers",
         "https://www.grammy.com/sites/com/files/styles/artist_circle/public/muzooka/Coldplay/Coldplay_1_1_1591112967.jpg?itok=lLCPutNO",
         "True"
        ],
        [
         "2002",
         "45th Annual GRAMMY Awards  (2002)",
         "Record Of The Year",
         "Don't Know Why",
         "Norah Jones",
         "Norah Jones, Arif Mardin & Jay Newland, producers; Jay Newland, engineer/mixer",
         "https://www.grammy.com/sites/com/files/styles/artist_circle/public/muzooka/Norah%2BJones/Norah%2520Jones_1_1_1588264654.jpg?itok=tpWJ31fa",
         "True"
        ],
        [
         "2001",
         "44th Annual GRAMMY Awards  (2001)",
         "Record Of The Year",
         "Walk On",
         "U2",
         "Brian Eno & Daniel Lanois, producers; Steve Lillywhite & Richard Rainey, engineers/mixers",
         "https://www.grammy.com/sites/com/files/styles/artist_circle/public/muzooka/U2/U2_1_1_1578385236.jpg?itok=rQVhxxhL",
         "True"
        ],
        [
         "2000",
         "43rd Annual GRAMMY Awards  (2000)",
         "Record Of The Year",
         "Beautiful Day",
         "U2",
         "Brian Eno & Daniel Lanois, producers; Steve Lillywhite & Richard Rainey, engineers/mixers",
         "https://www.grammy.com/sites/com/files/styles/artist_circle/public/muzooka/U2/U2_1_1_1578385236.jpg?itok=rQVhxxhL",
         "True"
        ],
        [
         "1999",
         "42nd Annual GRAMMY Awards  (1999)",
         "Record Of The Year",
         "Smooth",
         "Santana Featuring Rob Thomas",
         "Matt Serletic, producer; David Thoener, engineer/mixer",
         "https://www.grammy.com/sites/com/files/styles/artist_circle/public/muzooka/Rob%2BThomas/Rob%2520Thomas_1_1_1575361007.jpg?itok=5bqO3DlV",
         "True"
        ],
        [
         "1998",
         "41st Annual GRAMMY Awards  (1998)",
         "Record Of The Year",
         "My Heart Will Go On (Love Theme From Titanic)",
         "Celine Dion",
         "Walter Afanasieff, Simon Franglen & James Horner, producers; Simon Franglen, Humberto Gatica & David Gleeson, engineers/mixers",
         "https://www.grammy.com/sites/com/files/styles/artist_circle/public/muzooka/Celine%2BDion/C%25C3%25A9line%2520Dion_1_1_1579163253.jpg?itok=7lpsetr2",
         "True"
        ],
        [
         "1997",
         "40th Annual GRAMMY Awards  (1997)",
         "Record Of The Year",
         "Sunny Came Home",
         "Shawn Colvin",
         "John Leventhal, producer",
         "https://www.grammy.com/sites/com/files/styles/artist_circle/public/muzooka/Shawn%2BColvin/Shawn%2520Colvin_1_1_1581551750.jpg?itok=1w7xoEU4",
         "True"
        ],
        [
         "1996",
         "39th Annual GRAMMY Awards  (1996)",
         "Record Of The Year",
         "Change The World",
         "Eric Clapton",
         "Babyface, producer",
         "https://www.grammy.com/sites/com/files/styles/artist_circle/public/muzooka/Eric%2BClapton/Eric%2520Clapton_1_1_1581552257.jpg?itok=VS2OFNyf",
         "True"
        ],
        [
         "1995",
         "38th Annual GRAMMY Awards  (1995)",
         "Record Of The Year",
         "Kiss From A Rose",
         "Seal",
         "Trevor Horn, producer",
         "https://www.grammy.com/sites/com/files/styles/artist_circle/public/muzooka/Seal/Seal_1_1_1575369703.jpg?itok=Vj2q-xvH",
         "True"
        ],
        [
         "1994",
         "37th Annual GRAMMY Awards  (1994)",
         "Record Of The Year",
         "All I Wanna Do",
         "Sheryl Crow",
         "Bill Bottrell, producer",
         "https://www.grammy.com/sites/com/files/styles/artist_circle/public/muzooka/Sheryl%2BCrow/Sheryl%2520Crow_1_1_1597145423.jpg?itok=tvxHkBTZ",
         "True"
        ],
        [
         "1993",
         "36th Annual GRAMMY Awards  (1993)",
         "Record Of The Year",
         "I Will Always Love You",
         "Whitney Houston",
         "David Foster, producer",
         "https://www.grammy.com/sites/com/files/styles/artist_circle/public/muzooka/Whitney%2BHouston/Whitney%2520Houston_1_1_1594980040.jpg?itok=LS4iD1jw",
         "True"
        ],
        [
         "1992",
         "35th Annual GRAMMY Awards  (1992)",
         "Record Of The Year",
         "Tears In Heaven",
         "Eric Clapton",
         "Russ Titelman, producer",
         "https://www.grammy.com/sites/com/files/styles/artist_circle/public/muzooka/Eric%2BClapton/Eric%2520Clapton_1_1_1581552257.jpg?itok=VS2OFNyf",
         "True"
        ],
        [
         "1991",
         "34th Annual GRAMMY Awards  (1991)",
         "Record Of The Year",
         "Unforgettable",
         "Natalie Cole (With Nat \"King\" Cole)",
         "David Foster, producer",
         "https://www.grammy.com/sites/com/files/styles/artist_circle/public/muzooka/Natalie%2BCole/Natalie%2520Cole_1_1_1591112950.jpg?itok=A9t_I3Ba",
         "True"
        ],
        [
         "1990",
         "33rd Annual GRAMMY Awards  (1990)",
         "Record Of The Year",
         "Another Day In Paradise",
         "Phil Collins",
         "Phil Collins & Hugh Padgham, producers",
         "https://www.grammy.com/sites/com/files/styles/artist_circle/public/muzooka/Phil%2BCollins/Phil%2520Collins_1_1_1596706545.jpg?itok=MQR7SHdv",
         "True"
        ],
        [
         "1989",
         "32nd Annual GRAMMY Awards  (1989)",
         "Record Of The Year",
         "Wind Beneath My Wings",
         "Bette Midler",
         "Arif Mardin, producer",
         "https://www.grammy.com/sites/com/files/styles/artist_circle/public/muzooka/Bette%2BMidler/Bette%2520Midler_1_1_1575359591.jpg?itok=7Wx-nTh_",
         "True"
        ],
        [
         "1988",
         "31st Annual GRAMMY Awards  (1988)",
         "Record Of The Year",
         "Don't Worry Be Happy",
         "Bobby McFerrin",
         "Linda Goldstein, producer",
         "https://www.grammy.com/sites/com/files/styles/artist_circle/public/muzooka/Bobby%2BMcFerrin/Bobby%2520McFerrin_1_1_1575365223.jpg?itok=KTGGWtEl",
         "True"
        ],
        [
         "1987",
         "30th Annual GRAMMY Awards  (1987)",
         "Record Of The Year",
         "Graceland",
         "Paul Simon",
         "Paul Simon, producer",
         "https://www.grammy.com/sites/com/files/styles/artist_circle/public/muzooka/Paul%2BSimon/Paul%2520Simon_1_1_1578385319.jpg?itok=H2xb3gsd",
         "True"
        ],
        [
         "1986",
         "29th Annual GRAMMY Awards  (1986)",
         "Record Of The Year",
         "Higher Love",
         "Steve Winwood",
         "Russ Titelman & Steve Winwood, producers",
         "https://www.grammy.com/sites/com/files/styles/artist_circle/public/muzooka/Steve%2BWinwood/Steve%2520Winwood_1_1_1596799256.jpg?itok=Xc1PcPBM",
         "True"
        ],
        [
         "1985",
         "28th Annual GRAMMY Awards  (1985)",
         "Record Of The Year",
         "We Are The World",
         "USA For Africa (Various Artists)",
         "Quincy Jones, producer",
         "https://www.grammy.com/sites/com/files/styles/artist_circle/public/muzooka/Quincy%2BJones/Quincy%2520Jones_1_1_1596789836.jpg?itok=54PdILuC",
         "True"
        ],
        [
         "1984",
         "27th Annual GRAMMY Awards  (1984)",
         "Record Of The Year",
         "What's Love Got To Do With It",
         "Tina Turner",
         "Terry Britten, producer",
         "https://www.grammy.com/sites/com/files/styles/artist_circle/public/muzooka/Tina%2BTurner/Tina%2520Turner_1_1_1579278403.jpg?itok=vJ-mW-L4",
         "True"
        ],
        [
         "1983",
         "26th Annual GRAMMY Awards  (1983)",
         "Record Of The Year",
         "Beat It",
         "Michael Jackson",
         "Michael Jackson & Quincy Jones, producers",
         "https://www.grammy.com/sites/com/files/styles/artist_circle/public/muzooka/Michael%2BJackson/Michael%2520Jackson_1_1_1584089273.jpg?itok=8N4Ineev",
         "True"
        ],
        [
         "1982",
         "25th Annual GRAMMY Awards  (1982)",
         "Record Of The Year",
         "Rosanna",
         "Toto",
         "Toto (Bobby Kimball, Steve Lukather, David Paich, Jeff Porcaro, Michael Porcaro & Steve Porcaro), producers",
         "https://www.grammy.com/sites/com/files/styles/artist_circle/public/muzooka/Toto/Toto_1_1_1581552180.jpg?itok=zeWhOeO_",
         "True"
        ],
        [
         "1981",
         "24th Annual GRAMMY Awards  (1981)",
         "Record Of The Year",
         "Bette Davis Eyes",
         "Kim Carnes",
         "Val Garay, producer",
         "https://www.grammy.com/sites/com/files/styles/artist_circle/public/muzooka/Kim%2BCarnes/Kim%2520Carnes_1_1_1596100249.jpg?itok=XJ1LYIra",
         "True"
        ],
        [
         "1980",
         "23rd Annual GRAMMY Awards  (1980)",
         "Record Of The Year",
         "Sailing",
         "Christopher Cross",
         "Michael Omartian, producer",
         "https://www.grammy.com/sites/com/files/styles/artist_circle/public/muzooka/Christopher%2BCross/Christopher%2520Cross_1_1_1581554585.jpg?itok=sDilUxBw",
         "True"
        ],
        [
         "1979",
         "22nd Annual GRAMMY Awards  (1979)",
         "Record Of The Year",
         "What A Fool Believes",
         "The Doobie Brothers",
         "Ted Templeman, producer",
         null,
         "True"
        ],
        [
         "1978",
         "21st Annual GRAMMY Awards  (1978)",
         "Record Of The Year",
         "Just The Way You Are",
         "Billy Joel",
         "Phil Ramone, producer",
         "https://www.grammy.com/sites/com/files/styles/artist_circle/public/muzooka/Billy%2BJoel/Billy%2520Joel_1_1_1578384978.jpg?itok=QtM7Q8fq",
         "True"
        ],
        [
         "1977",
         "20th Annual GRAMMY Awards  (1977)",
         "Record Of The Year",
         "Hotel California",
         "Eagles",
         "Bill Szymczyk, producer",
         "https://www.grammy.com/sites/com/files/styles/artist_circle/public/muzooka/Eagles/Eagles_1_1_1581552244.jpg?itok=0GyT6tV3",
         "True"
        ],
        [
         "1976",
         "19th Annual GRAMMY Awards  (1976)",
         "Record Of The Year",
         "This Masquerade",
         "George Benson",
         "Tommy LiPuma, producer",
         "https://www.grammy.com/sites/com/files/styles/artist_circle/public/muzooka/George%2BBenson/George%2520Benson_1_1_1578385429.jpg?itok=bzpUiUCb",
         "True"
        ],
        [
         "1975",
         "18th Annual GRAMMY Awards  (1975)",
         "Record Of The Year",
         "Love Will Keep Us Together",
         "Captain & Tennille",
         "Daryl Dragon, producer",
         null,
         "True"
        ],
        [
         "1974",
         "17th Annual GRAMMY Awards  (1974)",
         "Record Of The Year",
         "I Honestly Love You",
         "Olivia Newton-John",
         "John Farrar, producer",
         "https://www.grammy.com/sites/com/files/styles/artist_circle/public/muzooka/Olivia%2BNewton-John/Olivia%2520Newton-John_1_1_1575370845.jpg?itok=SO4aU4ch",
         "True"
        ],
        [
         "1973",
         "16th Annual GRAMMY Awards  (1973)",
         "Record Of The Year",
         "Killing Me Softly With His Song",
         "Roberta Flack",
         "Joel Dorn, producer",
         "https://www.grammy.com/sites/com/files/styles/artist_circle/public/muzooka/Roberta%2BFlack/Roberta%2520Flack_1_1_1575365614.jpg?itok=xIenBn49",
         "True"
        ],
        [
         "1972",
         "15th Annual GRAMMY Awards  (1972)",
         "Record Of The Year",
         "The First Time Ever I Saw Your Face",
         "Roberta Flack",
         "Joel Dorn, producer",
         "https://www.grammy.com/sites/com/files/styles/artist_circle/public/muzooka/Roberta%2BFlack/Roberta%2520Flack_1_1_1575365614.jpg?itok=xIenBn49",
         "True"
        ],
        [
         "1971",
         "14th Annual GRAMMY Awards  (1971)",
         "Record Of The Year",
         "It's Too Late",
         "Carole King",
         "Lou Adler, producer",
         "https://www.grammy.com/sites/com/files/styles/artist_circle/public/muzooka/Carole%2BKing/Carole%2520King_1_1_1578385473.jpg?itok=W5y3jRey",
         "True"
        ],
        [
         "1970",
         "13th Annual GRAMMY Awards  (1970)",
         "Record Of The Year",
         "Bridge Over Troubled Water",
         "Simon And Garfunkel",
         "Roy Halee & Simon And Garfunkel (Art Garfunkel & Paul Simon), producers",
         null,
         "True"
        ],
        [
         "1969",
         "12th Annual GRAMMY Awards  (1969)",
         "Record Of The Year",
         "Aquarius/Let The Sunshine In (The Flesh Failures)",
         "5th Dimension",
         "Bones Howe, producer",
         null,
         "True"
        ],
        [
         "1968",
         "11th Annual GRAMMY Awards  (1968)",
         "Record Of The Year",
         "Mrs. Robinson",
         "Simon And Garfunkel",
         "Roy Halee & Simon And Garfunkel (Art Garfunkel & Paul Simon), producers",
         null,
         "True"
        ],
        [
         "1967",
         "10th Annual GRAMMY Awards  (1967)",
         "Record Of The Year",
         "Up, Up And Away",
         "5th Dimension",
         "Marc Gordon & Johnny Rivers, producers",
         "https://www.grammy.com/sites/com/files/styles/artist_circle/public/muzooka/Marc%2BGordon/Marc%2520Gordon_1_1_1581629305.jpg?itok=4IiRmFSP",
         "True"
        ],
        [
         "1966",
         "9th Annual GRAMMY Awards  (1966)",
         "Record Of The Year",
         "Strangers In The Night",
         "Frank Sinatra",
         "Jimmy Bowen, producer",
         "https://www.grammy.com/sites/com/files/styles/artist_circle/public/muzooka/Frank%2BSinatra/Frank%2520Sinatra_1_1_1581552147.jpg?itok=-iX5YZhY",
         "True"
        ],
        [
         "1965",
         "8th Annual GRAMMY Awards  (1965)",
         "Record Of The Year",
         "A Taste Of Honey",
         "Herb Alpert And The Tijuana Brass",
         "Herb Alpert & Jerry Moss, producers",
         "https://www.grammy.com/sites/com/files/styles/artist_circle/public/muzooka/Herb%2BAlpert/Herb%2520Alpert_1_1_1581628867.jpg?itok=45UhbQPe",
         "True"
        ],
        [
         "1964",
         "7th Annual GRAMMY Awards  (1964)",
         "Record Of The Year",
         "The Girl From Ipanema",
         "Stan Getz & Astrud Gilberto",
         null,
         "https://www.grammy.com/sites/com/files/styles/artist_circle/public/muzooka/Stan%2BGetz/Stan%2520Getz_1_1_1581618079.jpg?itok=1uHIRekD",
         "True"
        ],
        [
         "1963",
         "6th Annual GRAMMY Awards  (1963)",
         "Record Of The Year",
         "Days Of Wine And Roses",
         "Henry Mancini",
         null,
         "https://www.grammy.com/sites/com/files/styles/artist_circle/public/muzooka/Henry%2BMancini/Henry%2520Mancini_1_1_1581553583.jpg?itok=oMIyl-mj",
         "True"
        ],
        [
         "1962",
         "5th Annual GRAMMY Awards  (1962)",
         "Record Of The Year",
         "I Left My Heart In San Francisco",
         "Tony Bennett",
         null,
         "https://www.grammy.com/sites/com/files/styles/artist_circle/public/muzooka/Tony%2BBennett/Tony%2520Bennett_1_1_1584465343.jpg?itok=Zk2PcPhY",
         "True"
        ],
        [
         "1961",
         "4th Annual GRAMMY Awards  (1961)",
         "Record Of The Year",
         "Moon River",
         "Henry Mancini",
         null,
         "https://www.grammy.com/sites/com/files/styles/artist_circle/public/muzooka/Henry%2BMancini/Henry%2520Mancini_1_1_1581553583.jpg?itok=oMIyl-mj",
         "True"
        ],
        [
         "1960",
         "3rd Annual GRAMMY Awards  (1960)",
         "Record Of The Year",
         "The Theme From A Summer Place",
         "Percy Faith & His Orchestra",
         null,
         "https://www.grammy.com/sites/com/files/styles/artist_circle/public/muzooka/Percy%2BFaith/Percy%2520Faith_1_1_1597165242.jpg?itok=dFp-KK5i",
         "True"
        ],
        [
         "1959",
         "2nd Annual GRAMMY Awards  (1959)",
         "Record Of The Year",
         "Mack The Knife",
         "Bobby Darin",
         null,
         "https://www.grammy.com/sites/com/files/styles/artist_circle/public/muzooka/Bobby%2BDarin/Bobby%2520Darin_1_1_1581560302.jpg?itok=wKmA3kxT",
         "True"
        ],
        [
         "1958",
         "1st Annual GRAMMY Awards  (1958)",
         "Record Of The Year",
         "Nel Blu Dipinto Di Blu (Volare)",
         "Domenico Modugno",
         null,
         "https://www.grammy.com/sites/com/files/styles/artist_circle/public/muzooka/Domenico%2BModugno/Domenico%2520Modugno_1_1_1581618128.jpg?itok=1HYG0_R2",
         "True"
        ]
       ],
       "datasetInfos": [],
       "dbfsResultPath": null,
       "isJsonSchema": true,
       "metadata": {},
       "overflow": false,
       "plotOptions": {
        "customPlotOptions": {},
        "displayType": "table",
        "pivotAggregation": null,
        "pivotColumns": null,
        "xColumns": null,
        "yColumns": null
       },
       "removedWidgets": [],
       "schema": [
        {
         "metadata": "{}",
         "name": "year",
         "type": "\"string\""
        },
        {
         "metadata": "{}",
         "name": "title",
         "type": "\"string\""
        },
        {
         "metadata": "{}",
         "name": "category",
         "type": "\"string\""
        },
        {
         "metadata": "{}",
         "name": "nominee",
         "type": "\"string\""
        },
        {
         "metadata": "{}",
         "name": "artist",
         "type": "\"string\""
        },
        {
         "metadata": "{}",
         "name": "workers",
         "type": "\"string\""
        },
        {
         "metadata": "{}",
         "name": "img",
         "type": "\"string\""
        },
        {
         "metadata": "{}",
         "name": "winner",
         "type": "\"string\""
        }
       ],
       "type": "table"
      }
     },
     "output_type": "display_data"
    }
   ],
   "source": [
    "%sql\n",
    "select *\n",
    "from `record_of_the_year`\n",
    "\n",
    "-- order by year"
   ]
  },
  {
   "cell_type": "code",
   "execution_count": 0,
   "metadata": {
    "application/vnd.databricks.v1+cell": {
     "cellMetadata": {
      "byteLimit": 2048000,
      "rowLimit": 10000
     },
     "inputWidgets": {},
     "nuid": "c186c588-0b74-41da-a39f-73e750e78e17",
     "showTitle": false,
     "title": ""
    }
   },
   "outputs": [
    {
     "output_type": "display_data",
     "data": {
      "text/html": [
       "<style scoped>\n",
       "  .table-result-container {\n",
       "    max-height: 300px;\n",
       "    overflow: auto;\n",
       "  }\n",
       "  table, th, td {\n",
       "    border: 1px solid black;\n",
       "    border-collapse: collapse;\n",
       "  }\n",
       "  th, td {\n",
       "    padding: 5px;\n",
       "  }\n",
       "  th {\n",
       "    text-align: left;\n",
       "  }\n",
       "</style><div class='table-result-container'><table class='table-result'><thead style='background-color: white'><tr><th>year</th><th>title</th><th>category</th><th>nominee</th><th>artist</th><th>winner</th></tr></thead><tbody><tr><td>2019</td><td>62nd Annual GRAMMY Awards  (2019)</td><td>Record Of The Year</td><td>Bad Guy</td><td>Billie Eilish</td><td>True</td></tr><tr><td>2019</td><td>62nd Annual GRAMMY Awards  (2019)</td><td>Record Of The Year</td><td>Hey, Ma</td><td>Bon Iver</td><td>True</td></tr><tr><td>2019</td><td>62nd Annual GRAMMY Awards  (2019)</td><td>Record Of The Year</td><td>7 rings</td><td>Ariana Grande</td><td>True</td></tr><tr><td>2019</td><td>62nd Annual GRAMMY Awards  (2019)</td><td>Record Of The Year</td><td>Hard Place</td><td>H.E.R.</td><td>True</td></tr><tr><td>2019</td><td>62nd Annual GRAMMY Awards  (2019)</td><td>Record Of The Year</td><td>Talk</td><td>Khalid</td><td>True</td></tr></tbody></table></div>"
      ]
     },
     "metadata": {
      "application/vnd.databricks.v1+output": {
       "addedWidgets": {},
       "aggData": [],
       "aggError": "",
       "aggOverflow": false,
       "aggSchema": [],
       "aggSeriesLimitReached": false,
       "aggType": "",
       "arguments": {},
       "columnCustomDisplayInfos": {},
       "data": [
        [
         "2019",
         "62nd Annual GRAMMY Awards  (2019)",
         "Record Of The Year",
         "Bad Guy",
         "Billie Eilish",
         "True"
        ],
        [
         "2019",
         "62nd Annual GRAMMY Awards  (2019)",
         "Record Of The Year",
         "Hey, Ma",
         "Bon Iver",
         "True"
        ],
        [
         "2019",
         "62nd Annual GRAMMY Awards  (2019)",
         "Record Of The Year",
         "7 rings",
         "Ariana Grande",
         "True"
        ],
        [
         "2019",
         "62nd Annual GRAMMY Awards  (2019)",
         "Record Of The Year",
         "Hard Place",
         "H.E.R.",
         "True"
        ],
        [
         "2019",
         "62nd Annual GRAMMY Awards  (2019)",
         "Record Of The Year",
         "Talk",
         "Khalid",
         "True"
        ]
       ],
       "datasetInfos": [],
       "dbfsResultPath": null,
       "isJsonSchema": true,
       "metadata": {},
       "overflow": false,
       "plotOptions": {
        "customPlotOptions": {},
        "displayType": "table",
        "pivotAggregation": null,
        "pivotColumns": null,
        "xColumns": null,
        "yColumns": null
       },
       "removedWidgets": [],
       "schema": [
        {
         "metadata": "{}",
         "name": "year",
         "type": "\"string\""
        },
        {
         "metadata": "{}",
         "name": "title",
         "type": "\"string\""
        },
        {
         "metadata": "{}",
         "name": "category",
         "type": "\"string\""
        },
        {
         "metadata": "{}",
         "name": "nominee",
         "type": "\"string\""
        },
        {
         "metadata": "{}",
         "name": "artist",
         "type": "\"string\""
        },
        {
         "metadata": "{}",
         "name": "winner",
         "type": "\"string\""
        }
       ],
       "type": "table"
      }
     },
     "output_type": "display_data"
    }
   ],
   "source": [
    "# not sure this reduction is necessary as we do this earlier with more columns\n",
    "# however if this changes we need to adjust the columns list in the next code field\n",
    "df_record = df.select('year','title','category','nominee','artist','winner').where(df.category == \"Record Of The Year\")\n",
    "display(df_record.head(5))\n",
    "\n",
    "## Why are all of the records winners?"
   ]
  },
  {
   "cell_type": "code",
   "execution_count": 0,
   "metadata": {
    "application/vnd.databricks.v1+cell": {
     "cellMetadata": {
      "byteLimit": 2048000,
      "rowLimit": 10000
     },
     "inputWidgets": {},
     "nuid": "27dc3792-e7cf-4cc8-b401-15c41bdf54e1",
     "showTitle": false,
     "title": ""
    }
   },
   "outputs": [
    {
     "output_type": "display_data",
     "data": {
      "application/vnd.databricks.v1+bamboolib_hint": "{\"pd.DataFrames\": [], \"version\": \"0.0.1\"}",
      "text/plain": []
     },
     "metadata": {},
     "output_type": "display_data"
    },
    {
     "output_type": "display_data",
     "data": {
      "text/html": [
       "<style scoped>\n",
       "  .table-result-container {\n",
       "    max-height: 300px;\n",
       "    overflow: auto;\n",
       "  }\n",
       "  table, th, td {\n",
       "    border: 1px solid black;\n",
       "    border-collapse: collapse;\n",
       "  }\n",
       "  th, td {\n",
       "    padding: 5px;\n",
       "  }\n",
       "  th {\n",
       "    text-align: left;\n",
       "  }\n",
       "</style><div class='table-result-container'><table class='table-result'><thead style='background-color: white'><tr><th>year</th><th>title</th><th>category</th><th>nominee</th><th>artist</th><th>winner</th></tr></thead><tbody><tr><td>2019</td><td>62nd Annual GRAMMY Awards  (2019)</td><td>Record Of The Year</td><td>Bad Guy</td><td>Billie Eilish</td><td>True</td></tr><tr><td>2019</td><td>62nd Annual GRAMMY Awards  (2019)</td><td>Record Of The Year</td><td>Hey, Ma</td><td>Bon Iver</td><td>True</td></tr><tr><td>2019</td><td>62nd Annual GRAMMY Awards  (2019)</td><td>Record Of The Year</td><td>7 rings</td><td>Ariana Grande</td><td>True</td></tr><tr><td>2019</td><td>62nd Annual GRAMMY Awards  (2019)</td><td>Record Of The Year</td><td>Hard Place</td><td>H.E.R.</td><td>True</td></tr><tr><td>2019</td><td>62nd Annual GRAMMY Awards  (2019)</td><td>Record Of The Year</td><td>Talk</td><td>Khalid</td><td>True</td></tr><tr><td>2019</td><td>62nd Annual GRAMMY Awards  (2019)</td><td>Record Of The Year</td><td>Old Town Road</td><td>Lil Nas X Featuring Billy Ray Cyrus</td><td>True</td></tr><tr><td>2019</td><td>62nd Annual GRAMMY Awards  (2019)</td><td>Record Of The Year</td><td>Truth Hurts</td><td>Lizzo</td><td>True</td></tr><tr><td>2019</td><td>62nd Annual GRAMMY Awards  (2019)</td><td>Record Of The Year</td><td>Sunflower</td><td>Post Malone & Swae Lee</td><td>True</td></tr><tr><td>2018</td><td>61st Annual GRAMMY Awards  (2018)</td><td>Record Of The Year</td><td>This Is America</td><td>Childish Gambino</td><td>True</td></tr><tr><td>2017</td><td>60th Annual GRAMMY Awards  (2017)</td><td>Record Of The Year</td><td>24K Magic</td><td>Bruno Mars</td><td>True</td></tr><tr><td>2016</td><td>59th Annual GRAMMY Awards  (2016)</td><td>Record Of The Year</td><td>Hello</td><td>Adele</td><td>True</td></tr><tr><td>2015</td><td>58th Annual GRAMMY Awards  (2015)</td><td>Record Of The Year</td><td>Uptown Funk</td><td>Mark Ronson Featuring Bruno Mars</td><td>True</td></tr><tr><td>2014</td><td>57th Annual GRAMMY Awards  (2014)</td><td>Record Of The Year</td><td>Stay With Me (Darkchild Version)</td><td>Sam Smith</td><td>True</td></tr><tr><td>2013</td><td>56th Annual GRAMMY Awards  (2013)</td><td>Record Of The Year</td><td>Get Lucky</td><td>Daft Punk Featuring Pharrell Williams & Nile Rodgers</td><td>True</td></tr><tr><td>2012</td><td>55th Annual GRAMMY Awards  (2012)</td><td>Record Of The Year</td><td>Somebody That I Used To Know</td><td>Gotye Featuring Kimbra</td><td>True</td></tr><tr><td>2011</td><td>54th Annual GRAMMY Awards  (2011)</td><td>Record Of The Year</td><td>Rolling In The Deep</td><td>Adele</td><td>True</td></tr><tr><td>2010</td><td>53rd Annual GRAMMY Awards  (2010)</td><td>Record Of The Year</td><td>Need You Now</td><td>Lady Antebellum</td><td>True</td></tr><tr><td>2009</td><td>52nd Annual GRAMMY Awards  (2009)</td><td>Record Of The Year</td><td>Use Somebody</td><td>Kings Of Leon</td><td>True</td></tr><tr><td>2008</td><td>51st Annual GRAMMY Awards  (2008)</td><td>Record Of The Year</td><td>Please Read The Letter</td><td>Robert Plant & Alison Krauss</td><td>True</td></tr><tr><td>2007</td><td>50th Annual GRAMMY Awards  (2007)</td><td>Record Of The Year</td><td>Rehab</td><td>Amy Winehouse</td><td>True</td></tr><tr><td>2006</td><td>49th Annual GRAMMY Awards  (2006)</td><td>Record Of The Year</td><td>Not Ready To Make Nice</td><td>Dixie Chicks</td><td>True</td></tr><tr><td>2005</td><td>48th Annual GRAMMY Awards  (2005)</td><td>Record Of The Year</td><td>Boulevard Of Broken Dreams</td><td>Green Day</td><td>True</td></tr><tr><td>2004</td><td>47th Annual GRAMMY Awards  (2004)</td><td>Record Of The Year</td><td>Here We Go Again</td><td>Ray Charles & Norah Jones</td><td>True</td></tr><tr><td>2003</td><td>46th Annual GRAMMY Awards  (2003)</td><td>Record Of The Year</td><td>Clocks</td><td>Coldplay</td><td>True</td></tr><tr><td>2002</td><td>45th Annual GRAMMY Awards  (2002)</td><td>Record Of The Year</td><td>Don't Know Why</td><td>Norah Jones</td><td>True</td></tr><tr><td>2001</td><td>44th Annual GRAMMY Awards  (2001)</td><td>Record Of The Year</td><td>Walk On</td><td>U2</td><td>True</td></tr><tr><td>2000</td><td>43rd Annual GRAMMY Awards  (2000)</td><td>Record Of The Year</td><td>Beautiful Day</td><td>U2</td><td>True</td></tr><tr><td>1999</td><td>42nd Annual GRAMMY Awards  (1999)</td><td>Record Of The Year</td><td>Smooth</td><td>Santana Featuring Rob Thomas</td><td>True</td></tr><tr><td>1998</td><td>41st Annual GRAMMY Awards  (1998)</td><td>Record Of The Year</td><td>My Heart Will Go On (Love Theme From Titanic)</td><td>Celine Dion</td><td>True</td></tr><tr><td>1997</td><td>40th Annual GRAMMY Awards  (1997)</td><td>Record Of The Year</td><td>Sunny Came Home</td><td>Shawn Colvin</td><td>True</td></tr><tr><td>1996</td><td>39th Annual GRAMMY Awards  (1996)</td><td>Record Of The Year</td><td>Change The World</td><td>Eric Clapton</td><td>True</td></tr><tr><td>1995</td><td>38th Annual GRAMMY Awards  (1995)</td><td>Record Of The Year</td><td>Kiss From A Rose</td><td>Seal</td><td>True</td></tr><tr><td>1994</td><td>37th Annual GRAMMY Awards  (1994)</td><td>Record Of The Year</td><td>All I Wanna Do</td><td>Sheryl Crow</td><td>True</td></tr><tr><td>1993</td><td>36th Annual GRAMMY Awards  (1993)</td><td>Record Of The Year</td><td>I Will Always Love You</td><td>Whitney Houston</td><td>True</td></tr><tr><td>1992</td><td>35th Annual GRAMMY Awards  (1992)</td><td>Record Of The Year</td><td>Tears In Heaven</td><td>Eric Clapton</td><td>True</td></tr><tr><td>1991</td><td>34th Annual GRAMMY Awards  (1991)</td><td>Record Of The Year</td><td>Unforgettable</td><td>Natalie Cole (With Nat \"King\" Cole)</td><td>True</td></tr><tr><td>1990</td><td>33rd Annual GRAMMY Awards  (1990)</td><td>Record Of The Year</td><td>Another Day In Paradise</td><td>Phil Collins</td><td>True</td></tr><tr><td>1989</td><td>32nd Annual GRAMMY Awards  (1989)</td><td>Record Of The Year</td><td>Wind Beneath My Wings</td><td>Bette Midler</td><td>True</td></tr><tr><td>1988</td><td>31st Annual GRAMMY Awards  (1988)</td><td>Record Of The Year</td><td>Don't Worry Be Happy</td><td>Bobby McFerrin</td><td>True</td></tr><tr><td>1987</td><td>30th Annual GRAMMY Awards  (1987)</td><td>Record Of The Year</td><td>Graceland</td><td>Paul Simon</td><td>True</td></tr><tr><td>1986</td><td>29th Annual GRAMMY Awards  (1986)</td><td>Record Of The Year</td><td>Higher Love</td><td>Steve Winwood</td><td>True</td></tr><tr><td>1985</td><td>28th Annual GRAMMY Awards  (1985)</td><td>Record Of The Year</td><td>We Are The World</td><td>USA For Africa (Various Artists)</td><td>True</td></tr><tr><td>1984</td><td>27th Annual GRAMMY Awards  (1984)</td><td>Record Of The Year</td><td>What's Love Got To Do With It</td><td>Tina Turner</td><td>True</td></tr><tr><td>1983</td><td>26th Annual GRAMMY Awards  (1983)</td><td>Record Of The Year</td><td>Beat It</td><td>Michael Jackson</td><td>True</td></tr><tr><td>1982</td><td>25th Annual GRAMMY Awards  (1982)</td><td>Record Of The Year</td><td>Rosanna</td><td>Toto</td><td>True</td></tr><tr><td>1981</td><td>24th Annual GRAMMY Awards  (1981)</td><td>Record Of The Year</td><td>Bette Davis Eyes</td><td>Kim Carnes</td><td>True</td></tr><tr><td>1980</td><td>23rd Annual GRAMMY Awards  (1980)</td><td>Record Of The Year</td><td>Sailing</td><td>Christopher Cross</td><td>True</td></tr><tr><td>1979</td><td>22nd Annual GRAMMY Awards  (1979)</td><td>Record Of The Year</td><td>What A Fool Believes</td><td>The Doobie Brothers</td><td>True</td></tr><tr><td>1978</td><td>21st Annual GRAMMY Awards  (1978)</td><td>Record Of The Year</td><td>Just The Way You Are</td><td>Billy Joel</td><td>True</td></tr><tr><td>1977</td><td>20th Annual GRAMMY Awards  (1977)</td><td>Record Of The Year</td><td>Hotel California</td><td>Eagles</td><td>True</td></tr><tr><td>1976</td><td>19th Annual GRAMMY Awards  (1976)</td><td>Record Of The Year</td><td>This Masquerade</td><td>George Benson</td><td>True</td></tr><tr><td>1975</td><td>18th Annual GRAMMY Awards  (1975)</td><td>Record Of The Year</td><td>Love Will Keep Us Together</td><td>Captain & Tennille</td><td>True</td></tr><tr><td>1974</td><td>17th Annual GRAMMY Awards  (1974)</td><td>Record Of The Year</td><td>I Honestly Love You</td><td>Olivia Newton-John</td><td>True</td></tr><tr><td>1973</td><td>16th Annual GRAMMY Awards  (1973)</td><td>Record Of The Year</td><td>Killing Me Softly With His Song</td><td>Roberta Flack</td><td>True</td></tr><tr><td>1972</td><td>15th Annual GRAMMY Awards  (1972)</td><td>Record Of The Year</td><td>The First Time Ever I Saw Your Face</td><td>Roberta Flack</td><td>True</td></tr><tr><td>1971</td><td>14th Annual GRAMMY Awards  (1971)</td><td>Record Of The Year</td><td>It's Too Late</td><td>Carole King</td><td>True</td></tr><tr><td>1970</td><td>13th Annual GRAMMY Awards  (1970)</td><td>Record Of The Year</td><td>Bridge Over Troubled Water</td><td>Simon And Garfunkel</td><td>True</td></tr><tr><td>1969</td><td>12th Annual GRAMMY Awards  (1969)</td><td>Record Of The Year</td><td>Aquarius/Let The Sunshine In (The Flesh Failures)</td><td>5th Dimension</td><td>True</td></tr><tr><td>1968</td><td>11th Annual GRAMMY Awards  (1968)</td><td>Record Of The Year</td><td>Mrs. Robinson</td><td>Simon And Garfunkel</td><td>True</td></tr><tr><td>1967</td><td>10th Annual GRAMMY Awards  (1967)</td><td>Record Of The Year</td><td>Up, Up And Away</td><td>5th Dimension</td><td>True</td></tr><tr><td>1966</td><td>9th Annual GRAMMY Awards  (1966)</td><td>Record Of The Year</td><td>Strangers In The Night</td><td>Frank Sinatra</td><td>True</td></tr><tr><td>1965</td><td>8th Annual GRAMMY Awards  (1965)</td><td>Record Of The Year</td><td>A Taste Of Honey</td><td>Herb Alpert And The Tijuana Brass</td><td>True</td></tr><tr><td>1964</td><td>7th Annual GRAMMY Awards  (1964)</td><td>Record Of The Year</td><td>The Girl From Ipanema</td><td>Stan Getz & Astrud Gilberto</td><td>True</td></tr><tr><td>1963</td><td>6th Annual GRAMMY Awards  (1963)</td><td>Record Of The Year</td><td>Days Of Wine And Roses</td><td>Henry Mancini</td><td>True</td></tr><tr><td>1962</td><td>5th Annual GRAMMY Awards  (1962)</td><td>Record Of The Year</td><td>I Left My Heart In San Francisco</td><td>Tony Bennett</td><td>True</td></tr><tr><td>1961</td><td>4th Annual GRAMMY Awards  (1961)</td><td>Record Of The Year</td><td>Moon River</td><td>Henry Mancini</td><td>True</td></tr><tr><td>1960</td><td>3rd Annual GRAMMY Awards  (1960)</td><td>Record Of The Year</td><td>The Theme From A Summer Place</td><td>Percy Faith & His Orchestra</td><td>True</td></tr><tr><td>1959</td><td>2nd Annual GRAMMY Awards  (1959)</td><td>Record Of The Year</td><td>Mack The Knife</td><td>Bobby Darin</td><td>True</td></tr><tr><td>1958</td><td>1st Annual GRAMMY Awards  (1958)</td><td>Record Of The Year</td><td>Nel Blu Dipinto Di Blu (Volare)</td><td>Domenico Modugno</td><td>True</td></tr></tbody></table></div>"
      ]
     },
     "metadata": {
      "application/vnd.databricks.v1+output": {
       "addedWidgets": {},
       "aggData": [],
       "aggError": "",
       "aggOverflow": false,
       "aggSchema": [],
       "aggSeriesLimitReached": false,
       "aggType": "",
       "arguments": {},
       "columnCustomDisplayInfos": {},
       "data": [
        [
         "2019",
         "62nd Annual GRAMMY Awards  (2019)",
         "Record Of The Year",
         "Bad Guy",
         "Billie Eilish",
         "True"
        ],
        [
         "2019",
         "62nd Annual GRAMMY Awards  (2019)",
         "Record Of The Year",
         "Hey, Ma",
         "Bon Iver",
         "True"
        ],
        [
         "2019",
         "62nd Annual GRAMMY Awards  (2019)",
         "Record Of The Year",
         "7 rings",
         "Ariana Grande",
         "True"
        ],
        [
         "2019",
         "62nd Annual GRAMMY Awards  (2019)",
         "Record Of The Year",
         "Hard Place",
         "H.E.R.",
         "True"
        ],
        [
         "2019",
         "62nd Annual GRAMMY Awards  (2019)",
         "Record Of The Year",
         "Talk",
         "Khalid",
         "True"
        ],
        [
         "2019",
         "62nd Annual GRAMMY Awards  (2019)",
         "Record Of The Year",
         "Old Town Road",
         "Lil Nas X Featuring Billy Ray Cyrus",
         "True"
        ],
        [
         "2019",
         "62nd Annual GRAMMY Awards  (2019)",
         "Record Of The Year",
         "Truth Hurts",
         "Lizzo",
         "True"
        ],
        [
         "2019",
         "62nd Annual GRAMMY Awards  (2019)",
         "Record Of The Year",
         "Sunflower",
         "Post Malone & Swae Lee",
         "True"
        ],
        [
         "2018",
         "61st Annual GRAMMY Awards  (2018)",
         "Record Of The Year",
         "This Is America",
         "Childish Gambino",
         "True"
        ],
        [
         "2017",
         "60th Annual GRAMMY Awards  (2017)",
         "Record Of The Year",
         "24K Magic",
         "Bruno Mars",
         "True"
        ],
        [
         "2016",
         "59th Annual GRAMMY Awards  (2016)",
         "Record Of The Year",
         "Hello",
         "Adele",
         "True"
        ],
        [
         "2015",
         "58th Annual GRAMMY Awards  (2015)",
         "Record Of The Year",
         "Uptown Funk",
         "Mark Ronson Featuring Bruno Mars",
         "True"
        ],
        [
         "2014",
         "57th Annual GRAMMY Awards  (2014)",
         "Record Of The Year",
         "Stay With Me (Darkchild Version)",
         "Sam Smith",
         "True"
        ],
        [
         "2013",
         "56th Annual GRAMMY Awards  (2013)",
         "Record Of The Year",
         "Get Lucky",
         "Daft Punk Featuring Pharrell Williams & Nile Rodgers",
         "True"
        ],
        [
         "2012",
         "55th Annual GRAMMY Awards  (2012)",
         "Record Of The Year",
         "Somebody That I Used To Know",
         "Gotye Featuring Kimbra",
         "True"
        ],
        [
         "2011",
         "54th Annual GRAMMY Awards  (2011)",
         "Record Of The Year",
         "Rolling In The Deep",
         "Adele",
         "True"
        ],
        [
         "2010",
         "53rd Annual GRAMMY Awards  (2010)",
         "Record Of The Year",
         "Need You Now",
         "Lady Antebellum",
         "True"
        ],
        [
         "2009",
         "52nd Annual GRAMMY Awards  (2009)",
         "Record Of The Year",
         "Use Somebody",
         "Kings Of Leon",
         "True"
        ],
        [
         "2008",
         "51st Annual GRAMMY Awards  (2008)",
         "Record Of The Year",
         "Please Read The Letter",
         "Robert Plant & Alison Krauss",
         "True"
        ],
        [
         "2007",
         "50th Annual GRAMMY Awards  (2007)",
         "Record Of The Year",
         "Rehab",
         "Amy Winehouse",
         "True"
        ],
        [
         "2006",
         "49th Annual GRAMMY Awards  (2006)",
         "Record Of The Year",
         "Not Ready To Make Nice",
         "Dixie Chicks",
         "True"
        ],
        [
         "2005",
         "48th Annual GRAMMY Awards  (2005)",
         "Record Of The Year",
         "Boulevard Of Broken Dreams",
         "Green Day",
         "True"
        ],
        [
         "2004",
         "47th Annual GRAMMY Awards  (2004)",
         "Record Of The Year",
         "Here We Go Again",
         "Ray Charles & Norah Jones",
         "True"
        ],
        [
         "2003",
         "46th Annual GRAMMY Awards  (2003)",
         "Record Of The Year",
         "Clocks",
         "Coldplay",
         "True"
        ],
        [
         "2002",
         "45th Annual GRAMMY Awards  (2002)",
         "Record Of The Year",
         "Don't Know Why",
         "Norah Jones",
         "True"
        ],
        [
         "2001",
         "44th Annual GRAMMY Awards  (2001)",
         "Record Of The Year",
         "Walk On",
         "U2",
         "True"
        ],
        [
         "2000",
         "43rd Annual GRAMMY Awards  (2000)",
         "Record Of The Year",
         "Beautiful Day",
         "U2",
         "True"
        ],
        [
         "1999",
         "42nd Annual GRAMMY Awards  (1999)",
         "Record Of The Year",
         "Smooth",
         "Santana Featuring Rob Thomas",
         "True"
        ],
        [
         "1998",
         "41st Annual GRAMMY Awards  (1998)",
         "Record Of The Year",
         "My Heart Will Go On (Love Theme From Titanic)",
         "Celine Dion",
         "True"
        ],
        [
         "1997",
         "40th Annual GRAMMY Awards  (1997)",
         "Record Of The Year",
         "Sunny Came Home",
         "Shawn Colvin",
         "True"
        ],
        [
         "1996",
         "39th Annual GRAMMY Awards  (1996)",
         "Record Of The Year",
         "Change The World",
         "Eric Clapton",
         "True"
        ],
        [
         "1995",
         "38th Annual GRAMMY Awards  (1995)",
         "Record Of The Year",
         "Kiss From A Rose",
         "Seal",
         "True"
        ],
        [
         "1994",
         "37th Annual GRAMMY Awards  (1994)",
         "Record Of The Year",
         "All I Wanna Do",
         "Sheryl Crow",
         "True"
        ],
        [
         "1993",
         "36th Annual GRAMMY Awards  (1993)",
         "Record Of The Year",
         "I Will Always Love You",
         "Whitney Houston",
         "True"
        ],
        [
         "1992",
         "35th Annual GRAMMY Awards  (1992)",
         "Record Of The Year",
         "Tears In Heaven",
         "Eric Clapton",
         "True"
        ],
        [
         "1991",
         "34th Annual GRAMMY Awards  (1991)",
         "Record Of The Year",
         "Unforgettable",
         "Natalie Cole (With Nat \"King\" Cole)",
         "True"
        ],
        [
         "1990",
         "33rd Annual GRAMMY Awards  (1990)",
         "Record Of The Year",
         "Another Day In Paradise",
         "Phil Collins",
         "True"
        ],
        [
         "1989",
         "32nd Annual GRAMMY Awards  (1989)",
         "Record Of The Year",
         "Wind Beneath My Wings",
         "Bette Midler",
         "True"
        ],
        [
         "1988",
         "31st Annual GRAMMY Awards  (1988)",
         "Record Of The Year",
         "Don't Worry Be Happy",
         "Bobby McFerrin",
         "True"
        ],
        [
         "1987",
         "30th Annual GRAMMY Awards  (1987)",
         "Record Of The Year",
         "Graceland",
         "Paul Simon",
         "True"
        ],
        [
         "1986",
         "29th Annual GRAMMY Awards  (1986)",
         "Record Of The Year",
         "Higher Love",
         "Steve Winwood",
         "True"
        ],
        [
         "1985",
         "28th Annual GRAMMY Awards  (1985)",
         "Record Of The Year",
         "We Are The World",
         "USA For Africa (Various Artists)",
         "True"
        ],
        [
         "1984",
         "27th Annual GRAMMY Awards  (1984)",
         "Record Of The Year",
         "What's Love Got To Do With It",
         "Tina Turner",
         "True"
        ],
        [
         "1983",
         "26th Annual GRAMMY Awards  (1983)",
         "Record Of The Year",
         "Beat It",
         "Michael Jackson",
         "True"
        ],
        [
         "1982",
         "25th Annual GRAMMY Awards  (1982)",
         "Record Of The Year",
         "Rosanna",
         "Toto",
         "True"
        ],
        [
         "1981",
         "24th Annual GRAMMY Awards  (1981)",
         "Record Of The Year",
         "Bette Davis Eyes",
         "Kim Carnes",
         "True"
        ],
        [
         "1980",
         "23rd Annual GRAMMY Awards  (1980)",
         "Record Of The Year",
         "Sailing",
         "Christopher Cross",
         "True"
        ],
        [
         "1979",
         "22nd Annual GRAMMY Awards  (1979)",
         "Record Of The Year",
         "What A Fool Believes",
         "The Doobie Brothers",
         "True"
        ],
        [
         "1978",
         "21st Annual GRAMMY Awards  (1978)",
         "Record Of The Year",
         "Just The Way You Are",
         "Billy Joel",
         "True"
        ],
        [
         "1977",
         "20th Annual GRAMMY Awards  (1977)",
         "Record Of The Year",
         "Hotel California",
         "Eagles",
         "True"
        ],
        [
         "1976",
         "19th Annual GRAMMY Awards  (1976)",
         "Record Of The Year",
         "This Masquerade",
         "George Benson",
         "True"
        ],
        [
         "1975",
         "18th Annual GRAMMY Awards  (1975)",
         "Record Of The Year",
         "Love Will Keep Us Together",
         "Captain & Tennille",
         "True"
        ],
        [
         "1974",
         "17th Annual GRAMMY Awards  (1974)",
         "Record Of The Year",
         "I Honestly Love You",
         "Olivia Newton-John",
         "True"
        ],
        [
         "1973",
         "16th Annual GRAMMY Awards  (1973)",
         "Record Of The Year",
         "Killing Me Softly With His Song",
         "Roberta Flack",
         "True"
        ],
        [
         "1972",
         "15th Annual GRAMMY Awards  (1972)",
         "Record Of The Year",
         "The First Time Ever I Saw Your Face",
         "Roberta Flack",
         "True"
        ],
        [
         "1971",
         "14th Annual GRAMMY Awards  (1971)",
         "Record Of The Year",
         "It's Too Late",
         "Carole King",
         "True"
        ],
        [
         "1970",
         "13th Annual GRAMMY Awards  (1970)",
         "Record Of The Year",
         "Bridge Over Troubled Water",
         "Simon And Garfunkel",
         "True"
        ],
        [
         "1969",
         "12th Annual GRAMMY Awards  (1969)",
         "Record Of The Year",
         "Aquarius/Let The Sunshine In (The Flesh Failures)",
         "5th Dimension",
         "True"
        ],
        [
         "1968",
         "11th Annual GRAMMY Awards  (1968)",
         "Record Of The Year",
         "Mrs. Robinson",
         "Simon And Garfunkel",
         "True"
        ],
        [
         "1967",
         "10th Annual GRAMMY Awards  (1967)",
         "Record Of The Year",
         "Up, Up And Away",
         "5th Dimension",
         "True"
        ],
        [
         "1966",
         "9th Annual GRAMMY Awards  (1966)",
         "Record Of The Year",
         "Strangers In The Night",
         "Frank Sinatra",
         "True"
        ],
        [
         "1965",
         "8th Annual GRAMMY Awards  (1965)",
         "Record Of The Year",
         "A Taste Of Honey",
         "Herb Alpert And The Tijuana Brass",
         "True"
        ],
        [
         "1964",
         "7th Annual GRAMMY Awards  (1964)",
         "Record Of The Year",
         "The Girl From Ipanema",
         "Stan Getz & Astrud Gilberto",
         "True"
        ],
        [
         "1963",
         "6th Annual GRAMMY Awards  (1963)",
         "Record Of The Year",
         "Days Of Wine And Roses",
         "Henry Mancini",
         "True"
        ],
        [
         "1962",
         "5th Annual GRAMMY Awards  (1962)",
         "Record Of The Year",
         "I Left My Heart In San Francisco",
         "Tony Bennett",
         "True"
        ],
        [
         "1961",
         "4th Annual GRAMMY Awards  (1961)",
         "Record Of The Year",
         "Moon River",
         "Henry Mancini",
         "True"
        ],
        [
         "1960",
         "3rd Annual GRAMMY Awards  (1960)",
         "Record Of The Year",
         "The Theme From A Summer Place",
         "Percy Faith & His Orchestra",
         "True"
        ],
        [
         "1959",
         "2nd Annual GRAMMY Awards  (1959)",
         "Record Of The Year",
         "Mack The Knife",
         "Bobby Darin",
         "True"
        ],
        [
         "1958",
         "1st Annual GRAMMY Awards  (1958)",
         "Record Of The Year",
         "Nel Blu Dipinto Di Blu (Volare)",
         "Domenico Modugno",
         "True"
        ]
       ],
       "datasetInfos": [],
       "dbfsResultPath": null,
       "isJsonSchema": true,
       "metadata": {},
       "overflow": false,
       "plotOptions": {
        "customPlotOptions": {},
        "displayType": "table",
        "pivotAggregation": null,
        "pivotColumns": null,
        "xColumns": null,
        "yColumns": null
       },
       "removedWidgets": [],
       "schema": [
        {
         "metadata": "{}",
         "name": "year",
         "type": "\"string\""
        },
        {
         "metadata": "{}",
         "name": "title",
         "type": "\"string\""
        },
        {
         "metadata": "{}",
         "name": "category",
         "type": "\"string\""
        },
        {
         "metadata": "{}",
         "name": "nominee",
         "type": "\"string\""
        },
        {
         "metadata": "{}",
         "name": "artist",
         "type": "\"string\""
        },
        {
         "metadata": "{}",
         "name": "winner",
         "type": "\"string\""
        }
       ],
       "type": "table"
      }
     },
     "output_type": "display_data"
    }
   ],
   "source": [
    "import pandas as pd\n",
    "# Reduce data set for some quick testing\n",
    "record_list = df_record.take(80)\n",
    "df_record_new = pd.DataFrame(record_list, columns=['year','title','category','nominee','artist','winner'])\n",
    "display(df_record_new)"
   ]
  },
  {
   "cell_type": "code",
   "execution_count": 0,
   "metadata": {
    "application/vnd.databricks.v1+cell": {
     "cellMetadata": {
      "byteLimit": 2048000,
      "rowLimit": 10000
     },
     "inputWidgets": {},
     "nuid": "fcd9f56d-cb47-47ff-9bac-9c94b5b3a029",
     "showTitle": false,
     "title": ""
    }
   },
   "outputs": [],
   "source": [
    "import time\n",
    "# Let's try to get one of the lyrics to see if the Genius API works\n",
    "def get_lyrics (artist, song_name):\n",
    "    song = genius.search_song(artist, song_name)\n",
    "    # time.sleep(1)\n",
    "    return song.lyrics\n",
    "    # print(song.lyrics)"
   ]
  },
  {
   "cell_type": "code",
   "execution_count": 0,
   "metadata": {
    "application/vnd.databricks.v1+cell": {
     "cellMetadata": {
      "byteLimit": 2048000,
      "rowLimit": 10000
     },
     "inputWidgets": {},
     "nuid": "16238571-4999-4324-82a5-427f6d598425",
     "showTitle": false,
     "title": ""
    }
   },
   "outputs": [],
   "source": [
    "# lyrics = get_lyrics('Hey, Ma', 'Bon Iver')\n",
    "# print (lyrics)"
   ]
  },
  {
   "cell_type": "code",
   "execution_count": 0,
   "metadata": {
    "application/vnd.databricks.v1+cell": {
     "cellMetadata": {
      "byteLimit": 2048000,
      "rowLimit": 10000
     },
     "inputWidgets": {},
     "nuid": "0a777ce9-a2b4-4770-a0ba-f1ce0a77c8d5",
     "showTitle": false,
     "title": ""
    }
   },
   "outputs": [],
   "source": [
    "# Hitting and issue with pulling lyrics for all records at ones. Trying to do 10 at a time\n",
    "rslt_df = df_record[df_record['year'] >= \"2017\"].toPandas()\n",
    "rslt_df_2 = df_record[(df_record['year'] < \"2017\") & (df_record['year'] >= \"2010\")].toPandas()\n",
    "rslt_df_3 = df_record[(df_record['year'] < \"2010\") & (df_record['year'] >= \"2000\")].toPandas()\n",
    "rslt_df_4 = df_record[(df_record['year'] < \"2000\") & (df_record['year'] >= \"1990\")].toPandas()\n",
    "rslt_df_5 = df_record[(df_record['year'] < \"1990\") & (df_record['year'] >= \"1980\")].toPandas()"
   ]
  },
  {
   "cell_type": "code",
   "execution_count": 0,
   "metadata": {
    "application/vnd.databricks.v1+cell": {
     "cellMetadata": {
      "byteLimit": 2048000,
      "rowLimit": 10000
     },
     "inputWidgets": {},
     "nuid": "b8926db2-9e87-4050-afa6-7937a1c762df",
     "showTitle": false,
     "title": ""
    }
   },
   "outputs": [
    {
     "output_type": "stream",
     "name": "stdout",
     "output_type": "stream",
     "text": [
      "Searching for \"Billie Eilish\" by Bad Guy...\nDone.\nSearching for \"Bon Iver\" by Hey, Ma...\nDone.\nSearching for \"Ariana Grande\" by 7 rings...\nDone.\nSearching for \"H.E.R.\" by Hard Place...\nDone.\nSearching for \"Khalid\" by Talk...\nDone.\nSearching for \"Lil Nas X Featuring Billy Ray Cyrus\" by Old Town Road...\nDone.\nSearching for \"Lizzo\" by Truth Hurts...\nDone.\nSearching for \"Post Malone & Swae Lee\" by Sunflower...\nDone.\nSearching for \"Childish Gambino\" by This Is America...\nDone.\nSearching for \"Bruno Mars\" by 24K Magic...\nDone.\n"
     ]
    }
   ],
   "source": [
    "rslt_df['lyrics'] = rslt_df.apply(lambda x: get_lyrics(x['artist'], x['nominee']), axis=1)"
   ]
  },
  {
   "cell_type": "code",
   "execution_count": 0,
   "metadata": {
    "application/vnd.databricks.v1+cell": {
     "cellMetadata": {
      "byteLimit": 2048000,
      "rowLimit": 10000
     },
     "inputWidgets": {},
     "nuid": "556ea847-fb34-4fb1-9ea7-d85e9f0b3857",
     "showTitle": false,
     "title": ""
    }
   },
   "outputs": [
    {
     "output_type": "stream",
     "name": "stdout",
     "output_type": "stream",
     "text": [
      "Searching for \"Adele\" by Hello...\nDone.\nSearching for \"Mark Ronson Featuring Bruno Mars\" by Uptown Funk...\nDone.\nSearching for \"Sam Smith\" by Stay With Me (Darkchild Version)...\nDone.\nSearching for \"Daft Punk Featuring Pharrell Williams & Nile Rodgers\" by Get Lucky...\nDone.\nSearching for \"Gotye Featuring Kimbra\" by Somebody That I Used To Know...\nDone.\nSearching for \"Adele\" by Rolling In The Deep...\nDone.\nSearching for \"Lady Antebellum\" by Need You Now...\nDone.\n"
     ]
    }
   ],
   "source": [
    "rslt_df_2['lyrics'] = rslt_df_2.apply(lambda x: get_lyrics(x['artist'], x['nominee']), axis=1)"
   ]
  },
  {
   "cell_type": "code",
   "execution_count": 0,
   "metadata": {
    "application/vnd.databricks.v1+cell": {
     "cellMetadata": {
      "byteLimit": 2048000,
      "rowLimit": 10000
     },
     "inputWidgets": {},
     "nuid": "3865691d-2a97-47a5-ab9b-17103652d69f",
     "showTitle": false,
     "title": ""
    }
   },
   "outputs": [
    {
     "output_type": "stream",
     "name": "stdout",
     "output_type": "stream",
     "text": [
      "Searching for \"Kings Of Leon\" by Use Somebody...\nDone.\nSearching for \"Robert Plant & Alison Krauss\" by Please Read The Letter...\nDone.\nSearching for \"Amy Winehouse\" by Rehab...\nDone.\nSearching for \"Dixie Chicks\" by Not Ready To Make Nice...\nDone.\nSearching for \"Green Day\" by Boulevard Of Broken Dreams...\nDone.\nSearching for \"Ray Charles & Norah Jones\" by Here We Go Again...\nDone.\nSearching for \"Coldplay\" by Clocks...\nDone.\nSearching for \"Norah Jones\" by Don't Know Why...\nDone.\nSearching for \"U2\" by Walk On...\nDone.\nSearching for \"U2\" by Beautiful Day...\nDone.\n"
     ]
    }
   ],
   "source": [
    "rslt_df_3['lyrics'] = rslt_df_3.apply(lambda x: get_lyrics(x['artist'], x['nominee']), axis=1)"
   ]
  },
  {
   "cell_type": "code",
   "execution_count": 0,
   "metadata": {
    "application/vnd.databricks.v1+cell": {
     "cellMetadata": {
      "byteLimit": 2048000,
      "rowLimit": 10000
     },
     "inputWidgets": {},
     "nuid": "a56fcda8-9cd4-4c12-8fc3-5878c8aca559",
     "showTitle": false,
     "title": ""
    }
   },
   "outputs": [
    {
     "output_type": "display_data",
     "data": {
      "text/html": [
       "<style scoped>\n",
       "  .table-result-container {\n",
       "    max-height: 300px;\n",
       "    overflow: auto;\n",
       "  }\n",
       "  table, th, td {\n",
       "    border: 1px solid black;\n",
       "    border-collapse: collapse;\n",
       "  }\n",
       "  th, td {\n",
       "    padding: 5px;\n",
       "  }\n",
       "  th {\n",
       "    text-align: left;\n",
       "  }\n",
       "</style><div class='table-result-container'><table class='table-result'><thead style='background-color: white'><tr><th>year</th><th>title</th><th>category</th><th>nominee</th><th>artist</th><th>winner</th><th>lyrics</th></tr></thead><tbody><tr><td>2019</td><td>62nd Annual GRAMMY Awards  (2019)</td><td>Record Of The Year</td><td>Bad Guy</td><td>Billie Eilish</td><td>True</td><td>344 ContributorsTranslationsHrvatskiTürkçeSvenskaEspañolРусскийRomânăPortuguêsPolskiItalianoHebrewDeutschFrançaisفارسیNederlandsDanskChinese TraditionalΕλληνικάالعربيةไทย / Phasa Thai​bad guy Lyrics[Verse 1]\n",
       "White shirt now red, my bloody nose\n",
       "Sleepin', you're on your tippy toes\n",
       "Creepin' around like no one knows\n",
       "Think you're so criminal\n",
       "Bruises on both my knees for you\n",
       "Don't say thank you or please\n",
       "I do what I want when I'm wanting to\n",
       "My soul? So cynical\n",
       "\n",
       "[Chorus]\n",
       "So you're a tough guy\n",
       "Like it really rough guy\n",
       "Just can't get enough guy\n",
       "Chest always so puffed guy\n",
       "I'm that bad type\n",
       "Make your mama sad type\n",
       "Make your girlfriend mad tight\n",
       "Might seduce your dad type\n",
       "I'm the bad guy\n",
       "Duh\n",
       "\n",
       "[Post-Chorus]\n",
       "I'm the bad guy\n",
       "\n",
       "[Verse 2]\n",
       "I like it when you take control\n",
       "Even if you know that you don't\n",
       "Own me, I'll let you play the role\n",
       "I'll be your animal\n",
       "My mommy likes to sing along with me\n",
       "But she won't sing this song\n",
       "If she reads all the lyrics\n",
       "She'll pity the men I know\n",
       "You might also like[Chorus]\n",
       "So you're a tough guy\n",
       "Like it really rough guy\n",
       "Just can't get enough guy\n",
       "Chest always so puffed guy\n",
       "I'm that bad type\n",
       "Make your mama sad type\n",
       "Make your girlfriend mad tight\n",
       "Might seduce your dad type\n",
       "I'm the bad guy\n",
       "Duh\n",
       "\n",
       "[Post-Chorus]\n",
       "I'm the bad guy, duh\n",
       "I'm only good at bein' bad, bad\n",
       "\n",
       "[Bridge]\n",
       "I like when you get mad\n",
       "I guess I'm pretty glad that you're alone\n",
       "You said she's scared of me?\n",
       "I mean, I don't see what she sees\n",
       "But maybe it's 'cause I'm wearing your cologne\n",
       "\n",
       "[Outro]\n",
       "I'm a bad guy\n",
       "I'm, I'm a bad guy\n",
       "Bad guy, bad guy\n",
       "I'm a bad345Embed</td></tr><tr><td>2019</td><td>62nd Annual GRAMMY Awards  (2019)</td><td>Record Of The Year</td><td>Hey, Ma</td><td>Bon Iver</td><td>True</td><td>57 ContributorsHey, Ma Lyrics[Verse 1]\n",
       "I waited outside\n",
       "I took it remote\n",
       "I wanted a bath\n",
       "\"Tell the story or he goes\"\n",
       "\"Tell the story or he goes\"\n",
       "\n",
       "[Chorus]\n",
       "Full time, you talk your money up\n",
       "While it's living in a coal mine\n",
       "Tall time to call your Ma\n",
       "Hey Ma, hey Ma\n",
       "Tall vote, you know you mope it up\n",
       "Well, you wanted it your whole life\n",
       "You're back and forth with light\n",
       "\n",
       "[Verse 2]\n",
       "I waited outside\n",
       "I was tokin' on dope\n",
       "I hoped it all wunt go in a minute\n",
       "With the past that you know\n",
       "I wanted all that mind sugar\n",
       "I want it all mine\n",
       "I had a heavy mind, sugar\n",
       "I took it, it was right\n",
       "You might also like[Chorus]\n",
       "Full time, you talk your money up\n",
       "While it's living in a coal mine\n",
       "Tall time to call your Ma\n",
       "Hey Ma, hey Ma\n",
       "Tall vote, you know you mope it up\n",
       "Well, you wanted it your whole life\n",
       "You're back and forth with light\n",
       "\n",
       "[Interlude]\n",
       "You're back and forth\n",
       "You're back and forth\n",
       "You go back and forth\n",
       "And then you're back and forth\n",
       "And back and forth\n",
       "\n",
       "[Verse 3]\n",
       "I waited outside\n",
       "Then you took me in the room\n",
       "And you offered up the truth\n",
       "My eyes crawling up the window to the wall\n",
       "From dusk 'til dawn\n",
       "Let me talk to 'em\n",
       "Let me talk to 'em all\n",
       "\n",
       "[Chorus]\n",
       "Full time, you talk your money up\n",
       "While it's living in a coal mine\n",
       "Tall time to call your Ma\n",
       "Hey Ma, hey Ma\n",
       "Tall vote, you know you mope it up\n",
       "Well, you wanted it your whole life\n",
       "You're back and forth with light12Embed</td></tr><tr><td>2019</td><td>62nd Annual GRAMMY Awards  (2019)</td><td>Record Of The Year</td><td>7 rings</td><td>Ariana Grande</td><td>True</td><td>474 ContributorsTranslationsTürkçeEspañolRomânăPortuguêsPolskiItalianoHebrewΕλληνικάDeutschFrançaisNederlandsDanskفارسی7 rings Lyrics[Verse 1]\n",
       "Yeah, breakfast at Tiffany's and bottles of bubbles\n",
       "Girls with tattoos who like getting in trouble\n",
       "Lashes and diamonds, ATM machines\n",
       "Buy myself all of my favorite things (Yeah)\n",
       "Been through some bad shit, I should be a sad bitch\n",
       "Who woulda thought it'd turn me to a savage?\n",
       "Rather be tied up with calls and not strings\n",
       "Write my own checks like I write what I sing, yeah (Yeah)\n",
       "\n",
       "[Pre-Chorus]\n",
       "My wrist, stop watchin', my neck is flossy\n",
       "Make big deposits, my gloss is poppin'\n",
       "You like my hair? Gee, thanks, just bought it\n",
       "I see it, I like it, I want it, I got it (Yeah)\n",
       "\n",
       "[Chorus]\n",
       "I want it, I got it, I want it, I got it\n",
       "I want it, I got it, I want it, I got it\n",
       "You like my hair? Gee, thanks, just bought it\n",
       "I see it, I like it, I want it, I got it (Yep)\n",
       "[Verse 2]\n",
       "Wearing a ring, but ain't gon' be no \"Mrs.\"\n",
       "Bought matching diamonds for six of my bitches\n",
       "I'd rather spoil all my friends with my riches\n",
       "Think retail therapy my new addiction\n",
       "Whoever said money can't solve your problems\n",
       "Must not have had enough money to solve 'em\n",
       "They say, \"Which one?\" I say, \"Nah, I want all of 'em\"\n",
       "Happiness is the same price as red-bottoms\n",
       "You might also like[Pre-Chorus]\n",
       "My smile is beamin' (Yeah), my skin is gleamin' (Is gleamin')\n",
       "The way it shine, I know you've seen it (You've seen it)\n",
       "I bought a crib just for (Just for) the closet (Closet)\n",
       "Both his and hers, I want it, I got it, yeah\n",
       "\n",
       "[Chorus]\n",
       "I want it, I got it, I want it, I got it\n",
       "I want it, I got it, I want it, I got it (Baby)\n",
       "You like my hair? Gee, thanks, just bought it (Oh yeah)\n",
       "I see it, I like it, I want it, I got it (Yep)\n",
       "\n",
       "[Verse 3]\n",
       "Yeah, my receipts be lookin' like phone numbers\n",
       "If it ain't money, then wrong number\n",
       "Black card is my business card\n",
       "The way it be settin' the tone for me\n",
       "I don't mean to brag, but I be like, \"Put it in the bag,\" yeah\n",
       "When you see them racks, they stacked up like my ass, yeah\n",
       "Shoot, go from the store to the booth\n",
       "Make it all back in one loop, gimme the loot\n",
       "Never mind, I got the juice\n",
       "Nothing but net when we shoot\n",
       "Look at my neck, look at my jet\n",
       "Ain't got enough money to pay me respect\n",
       "Ain't no budget when I'm on the set\n",
       "If I like it, then that's what I get, yeah\n",
       "[Chorus]\n",
       "I want it, I got it, I want it, I got it (Oh yeah)\n",
       "I want it, I got it, I want it, I got it (Oh yeah, yeah)\n",
       "You like my hair? Gee, thanks, just bought it\n",
       "I see it, I like it, I want it, I got it (I see, yep)470Embed</td></tr><tr><td>2019</td><td>62nd Annual GRAMMY Awards  (2019)</td><td>Record Of The Year</td><td>Hard Place</td><td>H.E.R.</td><td>True</td><td>40 ContributorsHard Place Lyrics[Intro]\n",
       "Mmm, mmm-hmm, mmm-hmm, mmm, eh\n",
       "\n",
       "[Verse 1]\n",
       "Wanna believe what you say\n",
       "But I hate you on most days\n",
       "You've been testing my faith and my patience, yeah\n",
       "And you know that I be head strong\n",
       "But you know that you be dead wrong\n",
       "Telling me to relax when I'm reacting\n",
       "\n",
       "[Pre-Chorus]\n",
       "But I, I'd rather fight\n",
       "Than lose sleep at night\n",
       "At least you're all mine\n",
       "And if I have to choose\n",
       "My heart or you\n",
       "I'm gonna lose, yeah\n",
       "\n",
       "[Chorus]\n",
       "What if nothing ever will change?\n",
       "Oh, I'm caught between your love and a hard place\n",
       "Oh, I wish there was a right way\n",
       "I'm caught between your love and a hard place, oh\n",
       "Woah, oh oh woah, oh oh woah, oh oh woah\n",
       "You might also like[Verse 2]\n",
       "Do I even have a choice when-\n",
       "I'm gonna have to pick my poison\n",
       "Yeah, you hurt me so good, it's so good\n",
       "And even when you cause tears\n",
       "You're the one who wiped them away\n",
       "Maybe that's the reason I stay, I stay\n",
       "\n",
       "[Pre-Chorus]\n",
       "But I, I'd rather fight\n",
       "Than lose sleep at night\n",
       "At least you're all mine\n",
       "And if I have to choose\n",
       "My heart or you\n",
       "I'm gonna lose\n",
       "\n",
       "[Chorus]\n",
       "What if nothing ever will change?\n",
       "Oh, I'm caught between your love and a hard place\n",
       "Oh, I wish there was a right way\n",
       "I'm caught between your love and a hard place, oh\n",
       "Woah, oh oh woah, oh oh woah, oh oh woah\n",
       "\n",
       "What if nothing ever will change?\n",
       "I'm caught between your love and a hard place\n",
       "Ooh, I wish there was a right way, yeah\n",
       "I'm caught between your love and a hard place, ooh woah ooh\n",
       "Woah, oh oh woah, oh oh woah, oh oh woah\n",
       "Oh, I'm caught between your love and a hard place\n",
       "Woah, oh oh woah, oh oh woah, oh oh woah\n",
       "Oh, I wish there was a right way\n",
       "Woah, oh oh woah, oh oh woah, oh oh woah\n",
       "I'm caught between your love and a hard place, oh\n",
       "Woah, oh oh woah, oh oh woah, oh oh woah\n",
       "\n",
       "[Outro]\n",
       "I'm caught between your love and a hard place\n",
       "What if nothing will ever change?\n",
       "I'm caught between your love and a hard place7Embed</td></tr><tr><td>2019</td><td>62nd Annual GRAMMY Awards  (2019)</td><td>Record Of The Year</td><td>Talk</td><td>Khalid</td><td>True</td><td>83 ContributorsTranslationsفارسیEspañolTalk Lyrics[Chorus]\n",
       "Can we just talk? Can we just talk?\n",
       "Talk about where we're goin'\n",
       "Before we get lost, lend me your thoughts\n",
       "Can't get what we want without knowin'\n",
       "I've never felt like this before\n",
       "I apologize if I'm movin' too far\n",
       "Can we just talk? Can we just talk?\n",
       "Figure out where we're goin'\n",
       "\n",
       "[Verse 1]\n",
       "Yeah, started off right\n",
       "I can see it in your eyes\n",
       "I can tell that you're wantin' more\n",
       "What's been on your mind?\n",
       "There's no reason we should hide\n",
       "Tell me somethin' I ain't heard before\n",
       "\n",
       "[Pre-Chorus]\n",
       "Oh, I've been dreamin' 'bout it\n",
       "And it's you I'm on\n",
       "So stop thinkin' 'bout it\n",
       "\n",
       "[Chorus]\n",
       "Can we just talk? Can we just talk?\n",
       "Talk about where we're goin'\n",
       "Before we get lost, lend me your thoughts (Yeah)\n",
       "Can't get what we want without knowin' (No)\n",
       "I've never felt like this before\n",
       "I apologize if I'm movin' too far\n",
       "Can we just talk? Can we just talk?\n",
       "Figure out where we're goin'\n",
       "See Khalid LiveGet tickets as low as $119You might also like[Verse 2]\n",
       "Oh, nah\n",
       "Penthouse view, left some flowers in the room\n",
       "I'll make sure I leave the door unlocked\n",
       "Now I'm on the way, swear I won't be late\n",
       "I'll be there by five o'clock\n",
       "\n",
       "[Pre-Chorus]\n",
       "Oh, you've been dreamin' 'bout it\n",
       "And I'm what you want\n",
       "So stop thinkin' 'bout it\n",
       "\n",
       "[Chorus]\n",
       "Can we just talk? (Oh) Can we just talk?\n",
       "Talk about where we're goin'\n",
       "Before we get lost, lend me your thoughts\n",
       "Can't get what we want without knowin'\n",
       "I've never felt like this before\n",
       "I apologize if I'm movin' too far\n",
       "Can we just talk? Can we just talk?\n",
       "Figure out where we're goin'\n",
       "\n",
       "[Outro]\n",
       "Figure out where we're goin'45Embed</td></tr><tr><td>2019</td><td>62nd Annual GRAMMY Awards  (2019)</td><td>Record Of The Year</td><td>Old Town Road</td><td>Lil Nas X Featuring Billy Ray Cyrus</td><td>True</td><td>20 ContributorsOld Town Road (Lil Wayne Remix) Lyrics[Intro: Billy Ray Cyrus]\n",
       "Oh, oh-oh\n",
       "Oh\n",
       "\n",
       "[Refrain: Billy Ray Cyrus]\n",
       "Yeah, I'm gonna take my horse to the old town road\n",
       "I'm gonna ride 'til I can't no more\n",
       "I'm gonna take my horse to the old town road\n",
       "I'm gonna ride 'til I can't no more\n",
       "(Kio, Kio)\n",
       "\n",
       "[Verse 1: Lil Nas X]\n",
       "I got the horses in the back\n",
       "Horse tack is attached\n",
       "Hat is matte black\n",
       "Got the boots that's black to match\n",
       "Ridin' on a horse, ha\n",
       "You can whip your Porsche\n",
       "I been in the valley\n",
       "You ain't been up off that porch, now\n",
       "\n",
       "[Chorus: Lil Nas X]\n",
       "Can't nobody tell me nothin'\n",
       "You can't tell me nothin'\n",
       "Can't nobody tell me nothin'\n",
       "You can't tell me nothin'\n",
       "You might also like[Refrain: Lil Nas X]\n",
       "Yeah, I'm gonna take my horse to the old town road\n",
       "I'm gonna ride 'til I can't no more\n",
       "I'm gonna take my horse to the old town road\n",
       "I'm gonna ride 'til I can't no more\n",
       "\n",
       "[Verse 2: Lil Wayne]\n",
       "Uh, uh, I got the horses in the back, and she twerk it for a pony\n",
       "Ooh, she got that honky-tonky, I met her on Farmers Only\n",
       "I'm a Young Money cowboy, sitting on my high horse\n",
       "Gucci cowboy boots, the snakeskin, ooh, the pythons\n",
       "Pull up on a tractor, lean and Jolly Ranchers\n",
       "Pop a couple perkies, chew 'em like beef jerky\n",
       "Sticky weed is like a cactus\n",
       "Aw man, quit jumblin' grown man\n",
       "She ride me say, \"Yeehaw\", man\n",
       "Call me Lil Jon Wayne\n",
       "\n",
       "[Refrain: Lil Nas X & Billy Ray Cyrus, Lil Wayne]\n",
       "(Remix baby) Yeah, I'm gonna take my horse to the old town road\n",
       "(Yeah, yeah, yeah, yeah) I'm gonna ride 'til I can't no more\n",
       "(Remix baby) I'm gonna take my horse to the old town road\n",
       "(Yeah, yeah, yeah, yeah) I'm gonna ride 'til I can't no more2Embed</td></tr><tr><td>2019</td><td>62nd Annual GRAMMY Awards  (2019)</td><td>Record Of The Year</td><td>Truth Hurts</td><td>Lizzo</td><td>True</td><td>136 ContributorsTruth Hurts Lyrics[Intro]\n",
       "Why men great 'til they gotta be great?\n",
       "Woo!\n",
       "\n",
       "[Verse 1]\n",
       "I just took a DNA test, turns out I'm 100% that bitch\n",
       "Even when I'm crying crazy\n",
       "Yeah, I got boy problems, that's the human in me\n",
       "Bling bling, then I solve 'em, that's the goddess in me\n",
       "You coulda had a bad bitch, non-committal\n",
       "Help you with your career just a little\n",
       "You're 'posed to hold me down, but you're holding me back\n",
       "And that's the sound of me not calling you back\n",
       "\n",
       "[Chorus]\n",
       "Why men great 'til they gotta be great? ('Til they gotta be great)\n",
       "Don't text me, tell it straight to my face (Tell it straight to my face)\n",
       "Best friend sat me down in the salon chair (Down in the salon chair)\n",
       "Shampoo press, get you out of my hair\n",
       "Fresh photos with the bomb lighting (With the bomb lighting)\n",
       "New man on the Minnesota Vikings (Minnesota Vikings)\n",
       "Truth hurts, needed something more exciting (Yee)\n",
       "Bom bom bi dom bi dum bum bay (Eh, yeah, yeah, yeah)\n",
       "\n",
       "[Verse 2]\n",
       "You tried to break my heart?\n",
       "Oh, that breaks my heart\n",
       "That you thought you ever had it\n",
       "No, you ain't from the start\n",
       "Hey, I'm glad you're back with your bitch\n",
       "I mean, who would wanna hide this?\n",
       "I will never, ever, ever, ever, ever be your side chick\n",
       "I put the sing in single\n",
       "Ain't worried 'bout a ring on my finger\n",
       "So you can tell your friend, \"Shoot your shot\" when you see him\n",
       "It's okay, he already in my DMs\n",
       "You might also like[Chorus]\n",
       "Why men great 'til they gotta be great? ('Til they gotta be great)\n",
       "Don't text me, tell it straight to my face (Tell it straight to my face)\n",
       "Best friend sat me down in the salon chair (Down in the salon chair)\n",
       "Shampoo press, get you out of my hair\n",
       "Fresh photos with the bomb lighting (With the bomb lighting)\n",
       "New man on the Minnesota Vikings (Minnesota Vikings)\n",
       "Truth hurts, needed something more exciting (Yee)\n",
       "Bom bom bi dom bi dum bum bay (Eh, yeah, yeah, yeah)\n",
       "\n",
       "[Bridge]\n",
       "I'ma hit you back in a minute (Yeah, yeah)\n",
       "I don't play tag, bitch, I been it (One time)\n",
       "We don't fuck with lies (Two times), we don't do goodbyes (Woo)\n",
       "We just keep it pushing like ay-ay-ay\n",
       "I'ma hit you back in a minute (Yeah, yeah)\n",
       "I don't play tag, bitch, I been it (One time)\n",
       "We don't fuck with lies (Two times), we don't do goodbyes (Woo)\n",
       "We just keep it pushing like ay-ay-ay (Woo)\n",
       "\n",
       "[Chorus]\n",
       "Why men great 'til they gotta be great? ('Til they gotta be great)\n",
       "Don't text me, tell it straight to my face (Tell it straight to my face)\n",
       "Best friend sat me down in the salon chair (Down in the salon chair)\n",
       "Shampoo press, get you out of my hair\n",
       "Fresh photos with the bomb lighting (With the bomb lighting)\n",
       "New man on the Minnesota Vikings (Minnesota Vikings)\n",
       "Truth hurts, needed something more exciting (Yee)\n",
       "Bom bom bi dom bi dum bum bay (Eh, yeah, yeah, yeah)\n",
       "[Outro]\n",
       "With the bomb lighting\n",
       "Minnesota Vikings\n",
       "Yee, eh, yeah, yeah, yeah66Embed</td></tr><tr><td>2019</td><td>62nd Annual GRAMMY Awards  (2019)</td><td>Record Of The Year</td><td>Sunflower</td><td>Post Malone & Swae Lee</td><td>True</td><td>282 ContributorsTranslationsTürkçeEspañolРусскийFrançaisNederlandsSunflower Lyrics[Intro: Swae Lee]\n",
       "Ayy, ayy, ayy, ayy (Ooh)\n",
       "Ooh, ooh, ooh, ooh (Ooh)\n",
       "Ayy, ayy\n",
       "Ooh, ooh, ooh, ooh\n",
       "\n",
       "[Verse 1: Swae Lee]\n",
       "Needless to say, I keep in check\n",
       "She was a bad-bad, nevertheless (Yeah)\n",
       "Callin' it quits now, baby, I'm a wreck (Wreck)\n",
       "Crash at my place, baby, you're a wreck (Wreck)\n",
       "Needless to say, I'm keeping in check\n",
       "She was a bad-bad, nevertheless\n",
       "Callin' it quits now, baby, I'm a wreck\n",
       "Crash at my place, baby, you're a wreck\n",
       "Thinkin' in a bad way, losin' your grip\n",
       "Screamin' at my face, baby, don't trip\n",
       "Someone took a big L, don't know how that felt\n",
       "Lookin' at you sideways, party on tilt\n",
       "Ooh-ooh, some things you just can't refuse\n",
       "She wanna ride me like a cruise and I'm not tryna lose\n",
       "\n",
       "[Chorus: Swae Lee]\n",
       "Then you're left in the dust, unless I stuck by ya\n",
       "You're a sunflower, I think your love would be too much\n",
       "Or you'll be left in the dust, unless I stuck by ya\n",
       "You're the sunflower, you're the sunflower\n",
       "You might also like[Verse 2: Post Malone]\n",
       "Every time I'm leavin' on ya (Ooh)\n",
       "You don't make it easy, no (No, no)\n",
       "Wish I could be there for ya (Ooh)\n",
       "Give me a reason to, oh (Oh)\n",
       "Every time I'm walkin' out (Oh)\n",
       "I can hear you tellin' me to turn around (Oh, oh)\n",
       "Fightin' for my trust and you won't back down (No)\n",
       "Even if we gotta risk it all right now, oh (Now)\n",
       "I know you're scared of the unknown (Known)\n",
       "You don't wanna be alone (Alone)\n",
       "I know I always come and go (And go)\n",
       "But it's out of my control\n",
       "\n",
       "[Chorus: Post Malone]\n",
       "And you'll be left in the dust, unless I stuck by ya\n",
       "You're the sunflower, I think your love would be too much\n",
       "Or you'll be left in the dust, unless I stuck by ya\n",
       "You're the sunflower, you're the sunflower (Yeah)348Embed</td></tr><tr><td>2018</td><td>61st Annual GRAMMY Awards  (2018)</td><td>Record Of The Year</td><td>This Is America</td><td>Childish Gambino</td><td>True</td><td>585 ContributorsTranslationsไทย / Phasa ThaiEspañolРусскийPortuguêsDeutschFrançaisNederlandsThis Is America Lyrics[Intro: Choir]\n",
       "Yeah, yeah, yeah, yeah, yeah\n",
       "Yeah, yeah, yeah, go, go away\n",
       "Yeah, yeah, yeah, yeah, yeah\n",
       "Yeah, yeah, yeah, go, go away\n",
       "Yeah, yeah, yeah, yeah, yeah\n",
       "Yeah, yeah, yeah, go, go away\n",
       "Yeah, yeah, yeah, yeah, yeah\n",
       "Yeah, yeah, yeah, go, go away\n",
       "\n",
       "[Bridge: Childish Gambino & Young Thug]\n",
       "We just wanna party\n",
       "Party just for you\n",
       "We just want the money\n",
       "Money just for you (Yeah)\n",
       "I know you wanna party\n",
       "Party just for free\n",
       "Girl, you got me dancin' (Girl, you got me dancin')\n",
       "Dance and shake the frame (Yeah)\n",
       "We just wanna party (Yeah)\n",
       "Party just for you (Yeah)\n",
       "We just want the money (Yeah)\n",
       "Money just for you (You)\n",
       "I know you wanna party (Yeah)\n",
       "Party just for free (Yeah)\n",
       "Girl, you got me dancin' (Girl, you got me dancin', yeah)\n",
       "Dance and shake the frame (Ooh)\n",
       "You might also like[Chorus: Childish Gambino]\n",
       "This is America\n",
       "Don't catch you slippin' now\n",
       "Don't catch you slippin' now\n",
       "Look what I'm whippin' now\n",
       "This is America (Woo)\n",
       "Don't catch you slippin' now\n",
       "Don't catch you slippin' now\n",
       "Look what I'm whippin' now\n",
       "\n",
       "[Verse 1: Childish Gambino, Young Thug, Blocboy JB & 21 Savage]\n",
       "This is America (Skrrt, skrrt, woo)\n",
       "Don't catch you slippin' now (Ayy)\n",
       "Look how I'm livin' now\n",
       "Police be trippin' now (Woo)\n",
       "Yeah, this is America (Woo, ayy)\n",
       "Guns in my area (Word, my area)\n",
       "I got the strap (Ayy, ayy)\n",
       "I gotta carry 'em\n",
       "Yeah, yeah, I'ma go into this (Ugh)\n",
       "Yeah, yeah, this is guerilla (Woo)\n",
       "Yeah, yeah, I'ma go get the bag\n",
       "Yeah, yeah, or I'ma get the pad\n",
       "Yeah, yeah, I'm so cold like, yeah (Yeah)\n",
       "I'm so dope like, yeah (Woo)\n",
       "We gon' blow like, yeah (Straight up, uh)\n",
       "[Refrain: Choir & Childish Gambino]\n",
       "Ooh-ooh-ooh-ooh-ooh, tell somebody\n",
       "You go tell somebody\n",
       "Grandma told me\n",
       "Get your money, Black man (Get your— Black man)\n",
       "Get your money, Black man (Get your—Black man)\n",
       "Get your money, Black man (Get your—Black man)\n",
       "Get your money, Black man (Get your—Black man)\n",
       "Black man\n",
       "\n",
       "[Chorus: Childish Gambino, Young Thug, Slim Jxmmi & Quavo]\n",
       "This is America (Woo, ayy)\n",
       "Don't catch you slippin' now (Woo, woo, don't catch you slippin' now)\n",
       "Don't catch you slippin' now (Ayy, woah)\n",
       "Look what I'm whippin' now (Slime!)\n",
       "This is America (Yeah, yeah)\n",
       "Don't catch you slippin' now (Woah, ayy)\n",
       "Don't catch you slippin' now (Ayy, woo)\n",
       "Look what I'm whippin' now (Ayy)\n",
       "[Verse 2: Childish Gambino, Quavo, Young Thug, 21 Savage & BlocBoy JB]\n",
       "Look how I'm geekin' out (Hey)\n",
       "I'm so fitted (I'm so fitted, woo)\n",
       "I'm on Gucci (I'm on Gucci)\n",
       "I'm so pretty (Yeah, yeah, woo)\n",
       "I'm gon' get it (Ayy, I'm gon' get it)\n",
       "Watch me move (Blaow)\n",
       "This a celly (Ha)\n",
       "That's a tool (Yeah)\n",
       "On my Kodak (Woo) Black\n",
       "Ooh, know that (Yeah, know that, hold on)\n",
       "Get it (Woo, get it, get it)\n",
       "Ooh, work it (21)\n",
       "Hunnid bands, hunnid bands, hunnid bands (Hunnid bands)\n",
       "Contraband, contraband, contraband (Contraband)\n",
       "I got the plug in Oaxaca (Woah)\n",
       "They gonna find you like \"blocka\" (Blaow)\n",
       "[Refrain: Choir, Childish Gambino, & Young Thug]\n",
       "Ooh-ooh-ooh-ooh-ooh, tell somebody\n",
       "America, I just checked my following list, and\n",
       "You go tell somebody\n",
       "You mothafuckas owe me\n",
       "Grandma told me\n",
       "Get your money, Black man (Black man)\n",
       "Get your money, Black man (Black man)\n",
       "Get your money, Black man (Black man)\n",
       "Get your money, Black man (Black man)\n",
       "Black man\n",
       "(1, 2, 3—get down)\n",
       "Ooh-ooh-ooh-ooh-ooh, tell somebody\n",
       "You go tell somebody\n",
       "Grandma told me, \"Get your money\"\n",
       "Get your money, Black man (Black man)\n",
       "Get your money, Black man (Black man)\n",
       "Get your money, Black man (Black man)\n",
       "Get your money, Black man (Black man)\n",
       "Black man\n",
       "\n",
       "[Outro: Young Thug]\n",
       "You just a black man in this world\n",
       "You just a barcode, ayy\n",
       "You just a black man in this world\n",
       "Drivin' expensive foreigns, ayy\n",
       "You just a big dawg, yeah\n",
       "I kenneled him in the backyard\n",
       "No, probably ain't life to a dog\n",
       "For a big dog457Embed</td></tr><tr><td>2017</td><td>60th Annual GRAMMY Awards  (2017)</td><td>Record Of The Year</td><td>24K Magic</td><td>Bruno Mars</td><td>True</td><td>160 ContributorsTranslationsPortuguêsEspañol24K Magic Lyrics[Intro]\n",
       "Tonight\n",
       "I just wanna take you higher\n",
       "Throw your hands up in the sky\n",
       "Let's set this party off right\n",
       "Players\n",
       "\n",
       "[Chorus]\n",
       "Put your pinky rings up to the moon\n",
       "Girls, what y'all tryna do?\n",
       "24-karat magic in the air\n",
       "Head to toe so player\n",
       "Look out, uh\n",
       "\n",
       "[Verse 1]\n",
       "Pop-pop, it's show time (Show time), show time (Show time)\n",
       "Guess who's back again? (Brrah)\n",
       "Oh, they don't know? (Go on, tell 'em) Oh, they don't know? (Go on, tell 'em)\n",
       "I bet they know as soon as we walk in (Showin' up)\n",
       "Wearin' Cuban links (Yeah), designer minks (Yeah)\n",
       "Inglewood's finest shoes (Woop, woop)\n",
       "Don't look too hard, might hurt yourself\n",
       "Known to give the color red the blues\n",
       "Woo, shit\n",
       "\n",
       "[Pre-Chorus]\n",
       "I'm a dangerous man with some money in my pocket (Keep up)\n",
       "So many pretty girls around me and they wakin' up the rocket (Keep up)\n",
       "Why you mad? Fix your face, ain't my fault they all be jockin' (Keep up)\n",
       "Players only, come on\n",
       "See Bruno Mars LiveGet tickets as low as $84You might also like[Chorus]\n",
       "Put your pinky rings up to the moon\n",
       "Girls, what y'all tryna do?\n",
       "24-karat magic in the air\n",
       "Head to toe so player\n",
       "Look out, uh\n",
       "\n",
       "[Verse 2]\n",
       "Second verse for the hustlers (Hustlers), gangsters (Gangsters)\n",
       "Bad bitches and your ugly ass friends (Haha)\n",
       "Can I preach? (Uh-oh) Can I preach? (Uh-oh)\n",
       "I gotta show 'em how a pimp get it in\n",
       "First, take your sip (Sip), do your dip (Dip)\n",
       "Spend your money like money ain't shit\n",
       "Ooh-ooh (We too fresh)\n",
       "Got to blame it on Jesus (Hashtag blessed)\n",
       "They ain't ready for me, uh\n",
       "\n",
       "[Pre-Chorus]\n",
       "I'm a dangerous man with some money in my pocket (Keep up)\n",
       "So many pretty girls around me and they wakin' up the rocket (Keep up)\n",
       "Why you mad? Fix your face, ain't my fault they all be jockin' (Keep up)\n",
       "Players only, come on\n",
       "\n",
       "[Chorus]\n",
       "Put your pinky rings up to the moon (Woo, hey, girls)\n",
       "What y'all tryna do? (What you tryna do?)\n",
       "24-karat magic in the air (Air, air)\n",
       "Head to toe so player (Ooh)\n",
       "Look out, uh\n",
       "[Bridge]\n",
       "(Woo) Everywhere I go, they be like (Ooh, so player)\n",
       "(Woo) Everywhere I go, they be like (Ooh, so player; ah)\n",
       "(Woo) Everywhere I go, they be like (Ooh, so player, ooh)\n",
       "Now, now, now\n",
       "Now watch me break it down like, ugh\n",
       "24-karat (Woo), 24-karat magic (What's that sound?)\n",
       "24-karat, 24-karat magic (Come on now)\n",
       "24-karat, 24-karat magic\n",
       "Don't fight the feelin', invite the feelin', just\n",
       "\n",
       "[Chorus]\n",
       "Put your pinky rings up to the moon (Ooh)\n",
       "Girls, what y'all tryna do? (Tell me what you're tryna do)\n",
       "24-karat magic in the air (Yeah, get up)\n",
       "Head to toe so player (Hands up)\n",
       "Put your pinky rings up to the moon (24-karat, 24-karat magic)\n",
       "Girls, what y'all tryna do? (24-karat, 24-karat magic; do)\n",
       "24-karat magic in the air (24-karat, 24-karat magic)\n",
       "Head to toe so player (24-karat)\n",
       "Look out, uh (24-karat magic)78Embed</td></tr><tr><td>2016</td><td>59th Annual GRAMMY Awards  (2016)</td><td>Record Of The Year</td><td>Hello</td><td>Adele</td><td>True</td><td>221 ContributorsTranslationsTürkçePortuguêsPortuguêsEspañolFrançaisBahasa IndonesiaالعربيةHello Lyrics[Verse 1]\n",
       "Hello, it's me\n",
       "I was wondering if after all these years you'd like to meet\n",
       "To go over everything\n",
       "They say that time's supposed to heal ya, but I ain't done much healing\n",
       "Hello, can you hear me?\n",
       "I'm in California dreaming about who we used to be\n",
       "When we were younger and free\n",
       "I've forgotten how it felt before the world fell at our feet\n",
       "\n",
       "[Pre-Chorus]\n",
       "There's such a difference between us\n",
       "And a million miles\n",
       "[Chorus]\n",
       "Hello from the other side\n",
       "I must've called a thousand times\n",
       "To tell you I'm sorry for everything that I've done\n",
       "But when I call, you never seem to be home\n",
       "Hello from the outside\n",
       "At least, I can say that I've tried\n",
       "To tell you I'm sorry for breaking your heart\n",
       "But it don't matter, it clearly doesn't tear you apart anymore\n",
       "\n",
       "[Verse 2]\n",
       "Hello, how are you?\n",
       "It's so typical of me to talk about myself, I'm sorry\n",
       "I hope that you're well\n",
       "Did you ever make it out of that town where nothing ever happened?\n",
       "You might also like[Pre-Chorus]\n",
       "It's no secret that the both of us\n",
       "Are running out of time\n",
       "[Chorus]\n",
       "So hello from the other side (Other side)\n",
       "I must've called a thousand times (Thousand times)\n",
       "To tell you I'm sorry for everything that I've done\n",
       "But when I call, you never seem to be home\n",
       "Hello from the outside (Outside)\n",
       "At least, I can say that I've tried (I've tried)\n",
       "To tell you I'm sorry for breaking your heart\n",
       "But it don't matter, it clearly doesn't tear you apart anymore\n",
       "\n",
       "[Bridge]\n",
       "(Highs, highs, highs, highs, lows, lows, lows, lows)\n",
       "Ooh, anymore\n",
       "(Highs, highs, highs, highs, lows, lows, lows, lows)\n",
       "Ooh, anymore\n",
       "(Highs, highs, highs, highs, lows, lows, lows, lows)\n",
       "Ooh, anymore\n",
       "(Highs, highs, highs, highs, lows, lows, lows, lows)\n",
       "Anymore\n",
       "[Chorus]\n",
       "Hello from the other side (Other side)\n",
       "I must've called a thousand times (Thousand times)\n",
       "To tell you I'm sorry for everything that I've done\n",
       "But when I call, you never seem to be home\n",
       "Hello from the outside (Outside)\n",
       "At least, I can say that I've tried (I've tried)\n",
       "To tell you I'm sorry for breaking your heart\n",
       "But it don't matter, it clearly doesn't tear you apart anymore\n",
       "[Produced by Greg Kurstin]\n",
       "[Music Video]260Embed</td></tr><tr><td>2015</td><td>58th Annual GRAMMY Awards  (2015)</td><td>Record Of The Year</td><td>Uptown Funk</td><td>Mark Ronson Featuring Bruno Mars</td><td>True</td><td>3 Contributors2015 Winners & Nominees LyricsAll winners in bold\n",
       "\n",
       "Best Newcomer\n",
       "\n",
       "In association with Virgin Trains East Coast\n",
       "Bugzy Malone\n",
       "Section Boyz\n",
       "Nao\n",
       "Bonkaz\n",
       "Nick Brewer\n",
       "George The Poet\n",
       "J Hus\n",
       "Snakehips\n",
       "Sinead Harnett\n",
       "Yungen\n",
       "\n",
       "Best Video\n",
       "\n",
       "Stormzy - \"Know Me From\" (directed by Serious Black)\n",
       "FKA twigs - \"Pendulum\" (directed by FKA twigs & Paula Harrowing)\n",
       "FKA twigs - \"Glass & Patron\" (directed by FKA twigs)\n",
       "Rita Ora featuring Chris Brown - \"Body On Me\" (directed by Colin Tilley)\n",
       "Lethal Bizzle featuring Diztortion - \"Fester Skank\" (directed by Ludovic & Zotto)\n",
       "\n",
       "Best Female Act\n",
       "You might also likeFKA twigs\n",
       "Little Simz\n",
       "Ella Eyre\n",
       "Lianne La Havas\n",
       "Jess Glynne\n",
       "\n",
       "Best Male Act\n",
       "\n",
       "Skepta\n",
       "Mark Ronson\n",
       "Krept & Konan\n",
       "Jme\n",
       "Stormzy\n",
       "\n",
       "Best Song\n",
       "\n",
       "In association with First Direct\n",
       "Mark Ronson featuring Bruno Mars - \"Uptown Funk\"\n",
       "Skepta - \"Shutdown\"\n",
       "Tinie Tempah featuring Jess Glynne - \"Not Letting Go\"\n",
       "Jme featuring Giggs - \"Man Don't Care\"\n",
       "Krept & Konan featuring Jeremih - \"Freak of the Week\"\n",
       "\n",
       "Best Album\n",
       "\n",
       "Krept & Konan - The Long Way Home\n",
       "Jme - Integrity>\n",
       "Lianne La Havas - Blood\n",
       "Wiley - Snakes & Ladders\n",
       "Jamie xx - In Colour\n",
       "Best Grime Act\n",
       "\n",
       "In association with BBC Radio 1Xtra\n",
       "Bugzy Malone\n",
       "Jme\n",
       "Lethal Bizzle\n",
       "Skepta\n",
       "Stormzy\n",
       "\n",
       "Best R&B/Soul Act\n",
       "\n",
       "Kwabs\n",
       "Shakka\n",
       "Lianne La Havas\n",
       "Andreya Triana\n",
       "Joss Stone\n",
       "\n",
       "Best Hip Hop Act\n",
       "\n",
       "Akala\n",
       "Krept & Konan\n",
       "Little Simz\n",
       "Lady Leshurr\n",
       "Nines\n",
       "\n",
       "Best International Album\n",
       "Drake - If You're Reading This It's Too Late\n",
       "J. Cole - 2014 Forest Hill Drive\n",
       "Kendrick Lamar - To Pimp a Butterfly\n",
       "Dr. Dre - Compton: A Soundtrack By Dr. Dre\n",
       "The Weeknd – Beauty Behind the Madness\n",
       "D’Angelo and The Vanguard – Black Messiah\n",
       "Jazmine Sullivan – Reality Show\n",
       "The Internet – Ego Death\n",
       "Tyrese – Black Rose\n",
       "A$AP Rocky – At.Long.Last.ASAP\n",
       "\n",
       "Best African Act\n",
       "\n",
       "Wizkid\n",
       "Fuse ODG\n",
       "Silvastone\n",
       "Davido\n",
       "Patoranking\n",
       "Moelogo\n",
       "Yemi Alade\n",
       "AKA\n",
       "Mista Silva\n",
       "Shatta Wale\n",
       "\n",
       "Best Reggae Act\n",
       "\n",
       "Stylo G\n",
       "Chronixx\n",
       "OMI\n",
       "Popcaan\n",
       "Protoje\n",
       "\n",
       "Best Jazz\n",
       "\n",
       "Binker and Moses\n",
       "Julia Biel\n",
       "Courtney Pine\n",
       "David Little\n",
       "Polar Bear\n",
       "\n",
       "Best Gospel\n",
       "\n",
       "Chos3n\n",
       "Olaedo Ibe\n",
       "Leroy Johnson\n",
       "Ni-Cola\n",
       "Faith Child\n",
       "\n",
       "Paving The Way Awards\n",
       "\n",
       "Wiley\n",
       "Lenny Henry1Embed</td></tr><tr><td>2014</td><td>57th Annual GRAMMY Awards  (2014)</td><td>Record Of The Year</td><td>Stay With Me (Darkchild Version)</td><td>Sam Smith</td><td>True</td><td>147 Contributors2015 Nominees LyricsSong of the YearMeghan Trainor – All About That Bass\n",
       "Hozier – Take Me To Church\n",
       "Taylor Swift – Shake It Off\n",
       "Sia – Chandelier\n",
       "Sam Smith – Stay With Me (Darkchild Version) WINNERAlbum of the YearBeck - Morning Phase WINNER\n",
       "Beyoncé - Beyoncé\n",
       "Ed Sheeran - X\n",
       "Sam Smith - In The Lonely Hour\n",
       "Pharrell Williams - GirlBest Rap AlbumIggy Azalea – The New Classic\n",
       "Childish Gambino  – Because The Internet\n",
       "Eminem – The Marshall Mathers LP 2 WINNER\n",
       "Schoolboy Q – Oxymoron\n",
       "Wiz Khalifa – Blacc Hollywood\n",
       "Common – Nobody’s SmilingBest Rap PerformanceChildish Gambino - 3005\n",
       "Drake – 0 to 100/The Catch Up\n",
       "Eminem – Rap God\n",
       "Kendrick Lamar – i WINNER\n",
       "Lecrae – All I Need Is YouBest Rap SongNicki Minaj – Anaconda\n",
       "Kanye West – Bound 2\n",
       "Kendrick Lamar – i WINNER\n",
       "Wiz Khalifa  – We Dem Boyz\n",
       "Drake – 0 to 100/The Catch UpRap/Sung CollaborationCommon feat. Jhene Aiko – Blak Majik\n",
       "Eminem feat. Rihanna – The Monster WINNER\n",
       "ILoveMakonnen feat. Drake – Tuesday\n",
       "Schoolboy Q feat. BJ The Chicago Kid – Studio\n",
       "Kanye West feat. Charlie Wilson – Bound 2Best Music VideoArcade Fire – We Exist\n",
       "DJ Snake & Lil Jon – Turn Down For What\n",
       "Sia – Chandelier\n",
       "Pharrell Williams – Happy WINNER\n",
       "Woodkid feat. Max Richter – The Golden AgeBest Country AlbumDierks Bentley - Riser\n",
       "Eric Church - The Outsiders\n",
       "Brandy Clark - 12 Stories\n",
       "Miranda Lambert - Platinum WINNER\n",
       "Lee Ann Womack - The Way I'm Livin'Best Country Duo/GroupThe Band Perry – Gentle On My Mind WINNER\n",
       "Miranda Lambert feat. Carrie Underwood  – Somethin’ Bad\n",
       "Little Big Town – Day Drinking\n",
       "Tim McGraw feat. Faith Hill – Meanwhile Back at Mama’s\n",
       "Keith Urban feat. Eric Church – Raise ‘em UpBest Country Solo PerformanceEric Church – Give Me Back My Hometown\n",
       "Hunter Hayes  – Invisible\n",
       "Miranda Lambert – Automatic\n",
       "Carrie Underwood – Something in the Water WINNER\n",
       "Keith Urban – Cop CarBest Country SongMiranda Lambert – Automatic\n",
       "Kenny Chesney – American Kids\n",
       "Eric Church – Give Me Back My Hometown\n",
       "Glen Campbell – I’m Not Gonna Miss You WINNER\n",
       "Tim McGraw – Meanwhile Back At Mama’sBest Pop Duo/Group PerformanceIggy Azalea feat. Charli XCX – Fancy\n",
       "Coldplay – A Sky Full of Stars\n",
       "A Great Big World feat. Christina Aguilera – Say Something WINNER\n",
       "Jessie J feat. Ariana Grande & Nicki Minaj – Bang Bang\n",
       "Katy Perry feat. Juicy J – Dark HorseBest Pop Vocal AlbumColdplay - Ghost Stories\n",
       "Miley Cyrus - Bangerz\n",
       "Ariana Grande - My Everything\n",
       "Katy Perry - Prism\n",
       "Ed Sheeran - ×\n",
       "Sam Smith - In the Lonely Hour WINNERBest Urban Contemporary AlbumJhene Aiko - Sail Out\n",
       "Beyoncé - Beyoncé\n",
       "Chris Brown - X\n",
       "Mali Music - Mali Is...\n",
       "Pharrell Williams - Girl WINNERRecord of the YearIggy Azalea ft. Charli XCX - Fancy\n",
       "Sia - Chandelier\n",
       "Sam Smith - Stay With Me WINNER\n",
       "Taylor Swift - Shake It Off\n",
       "Meghan Trainor - All About That BassBest Pop Solo PerformanceJohn Legend - All of Me\n",
       "Sia - Chandelier\n",
       "Sam Smith - Stay With Me\n",
       "Taylor Swift - Shake It Off\n",
       "Pharrell - Happy WINNERBest Rock SongParamore - Ain't it Fun WINNER\n",
       "Beck - Blue Moon\n",
       "The Black Keys - Fever\n",
       "Ryan Adams - Gimme Something Good\n",
       "Jack White - LazarettoBest Rock AlbumRyan Adams - Ryan Adams\n",
       "Beck - Morning Phase WINNER\n",
       "The Black Keys - Turn Blue\n",
       "Tom Petty and the Heartbreakers - Hypnotic Eye\n",
       "U2 - Songs of InnocenceBest Rock PerformanceRyan Adams - Gimme Something Good\n",
       "Arctic Monkeys - Do I Wanna Know?\n",
       "Beck - Blue Moon\n",
       "The Black Keys - Fever\n",
       "Jack White - Lazaretto WINNERBest Metal PerformanceNeon Knights – Anthrax\n",
       "High Road – Mastodon\n",
       "Heartbreaker – Motörhead\n",
       "The Negative One – Slipknot\n",
       "The Last In Line – Tenacious D WINNERBest R&B AlbumBernhoft - Islander\n",
       "Aloe Blacc - Lift Your Spirit\n",
       "Toni Braxton & Babyface - Love, Marriage & Divorce WINNER\n",
       "Robert Glasper Experiment - Black Radio 2\n",
       "Sharon Jones & The Dap-Kings - Give The People What They WantBest R&B PerformanceBeyoncé feat. Jay Z - Drunk In Love WINNER\n",
       "Chris Brown feat. Usher & Rick Ross - New Flame\n",
       "Jennifer Hudson feat. R. Kelly - It's Your World\n",
       "Ledisi - Like This\n",
       "Usher - Good KisserBest R&B SongBeyoncé feat. Jay Z - Drunk In Love WINNER\n",
       "Usher - Good Kisser\n",
       "Chris Brown feat. Usher & Rick Ross - New Flame\n",
       "Luke James - Options (Wolfjames Version)\n",
       "Jhené Aiko - The WorstBest New ArtistBastille\n",
       "Iggy Azalea\n",
       "Brandy Clark\n",
       "HAIM\n",
       "Sam Smith WINNERBest Reggae AlbumZiggy Marley – Fly Rasta WINNER\n",
       "Lee ‘Scratch’ Perry – Back on the Controls\n",
       "Sean Paul – Full Frequency\n",
       "Shaggy – Out of Many, One Music\n",
       "Sly & Robbie & Spicy Chocolate – The Reggae Power\n",
       "Soja – Amid the Noise and the HasteBest Soundtrack For Visual MediaAmerican Hustle\n",
       "Frozen WINNER\n",
       "Get On Up\n",
       "Guardians of the Galaxy\n",
       "Wolf of Wall StreetBest Song Written For Visual MediaTegan And Sara feat. The Lonely Island - Everything Is Awesome!!!\n",
       "Ed Sheeran - I See Fire\n",
       "Glen Campbell - I'm Not Gonna Miss You\n",
       "Idina Menzel - Let It Go WINNER\n",
       "Scarlett Johansson & Joaquin Phoenix - The Moon SongBest Alternative AlbumArcade Fire – Reflektor\n",
       "Alt-J – This is All Yours\n",
       "Cage the Elephant – Melophobia\n",
       "St. Vincent – St. Vincent WINNER\n",
       "Jack White – LazarettoBest Traditional Pop Vocal AlbumLady Gaga & Tony Bennett - Cheek to Cheek WINNER\n",
       "Johnny Mathis - Sending You a Little Christmas\n",
       "Annie Lennox - Nostalgia\n",
       "Barbra Streisand - Partners\n",
       "Barry Manilow - Night SongsBest Dance RecordingBasement Jaxx – Never Say Never\n",
       "Clean Bandit feat. Jess Glynne  – Rather Be WINNER\n",
       "Disclosure feat. Mary J. Blige - F For You\n",
       "Duke Dumont feat Jax Jones – I Got U\n",
       "Zhu – Faded30Embed</td></tr><tr><td>2013</td><td>56th Annual GRAMMY Awards  (2013)</td><td>Record Of The Year</td><td>Get Lucky</td><td>Daft Punk Featuring Pharrell Williams & Nile Rodgers</td><td>True</td><td>4 ContributorsGet Lucky (Mixed) Lyrics[Verse: Pharrell Williams]\n",
       "Like the legend of the phoenix, huh\n",
       "All ends with beginnings\n",
       "What keeps the planet spinning, uh-huh\n",
       "The force from the beginning\n",
       "Look\n",
       "\n",
       "[Pre-Chorus: Pharrell Williams]\n",
       "We've come too far\n",
       "To give up who we are\n",
       "So let's raise the bar\n",
       "And our cups to the stars\n",
       "\n",
       "[Chorus: Pharrell Williams]\n",
       "She's up all night 'til the sun\n",
       "I'm up all night to get some\n",
       "She's up all night for good fun\n",
       "I'm up all night to get lucky\n",
       "We're up all night 'til the sun\n",
       "We're up all night to get some\n",
       "We're up all night for good fun\n",
       "We're up all night to get lucky\n",
       "Wе're up all night to get lucky\n",
       "We'rе up all night to get lucky\n",
       "We're up all night to get lucky\n",
       "We're up all night to get lucky\n",
       "You might also like[Outro: Pharrell Williams]\n",
       "She's up all night 'til the sun\n",
       "I'm up all night to get some\n",
       "She's up all night for good fun\n",
       "I'm up all night to get lucky\n",
       "She's up all night 'til the sun\n",
       "I'm up all night to get some\n",
       "She's up all night for good fun (Fun)\n",
       "Hi, BarbieEmbed</td></tr><tr><td>2012</td><td>55th Annual GRAMMY Awards  (2012)</td><td>Record Of The Year</td><td>Somebody That I Used To Know</td><td>Gotye Featuring Kimbra</td><td>True</td><td>3 ContributorsTranslationsEnglishEspañolРусскийGotye ft. Kimbra - Somebody That I Used to Know (Türkçe Çeviri) Lyrics[Bölüm 1: Gotye]\n",
       "Şu sıralar beraber olduğumuz zamanları düşünüyorum\n",
       "Mesela çok mutlu olduğunu hatta mutluluktan ölebileceğini söylediğin zamanları\n",
       "Kendime senin benim için doğru olan kişi olduğunu söyledim\n",
       "Ama seninle birlikteliğimde çok yalnız hissettim\n",
       "Ama bu aşktı ve hala hatırladığım bir acıydı\n",
       "\n",
       "[Bölüm 2: Gotye]\n",
       "Üzüntünün belli bir haline bağımlı olabilirsin\n",
       "Mesela sona boyun eğmek her zaman sonu getirir\n",
       "O yüzden beraber bir anlama gelmediğimizi anladığımızda\n",
       "Yani, hala arkadaş kalabileceğimizi söylemiştin\n",
       "Ama itiraf edeyim, bittiğine çok sevinmiştim\n",
       "\n",
       "[Nakarat: Gotye]\n",
       "Ama beni kesip atmana gerеk yoktu\n",
       "Bunlar hiç yaşanmamış ve hiçbir şey değilmişiz gibi davranmana gеrek yoktu\n",
       "Ve aşkına ihtiyacım bile yok\n",
       "Ama bana sanki bir yabancıymışım gibi davranıyorsun ve bu bana çok koyuyor\n",
       "Hayır, kendini bu kadar alçaltmana gerek yoktu\n",
       "Arkadaşlarına bendeki eşyalarını toplattırıp sonra da numaranı değiştirdin\n",
       "Ve sanırım buna da ihtiyacım yok\n",
       "Şimdi sen benim sadece eskiden tanıdığım birisin\n",
       "Şimdi sen benim sadece eskiden tanıdığım birisin\n",
       "Şimdi sen benim sadece eskiden tanıdığım birisin\n",
       "You might also like[Bölüm 3: Kimbra]\n",
       "Şu aralar beni mahvettiğin tüm o anları düşünüyorum\n",
       "Ama beni, bunu her zaman benim yaptığım bir şey olduğuna inandırdın\n",
       "Ama ben bu şekilde yaşamak istemiyorum\n",
       "Söylediğin her sözün altında bir anlam aramak\n",
       "Bunu boş verebileceğini söyledin\n",
       "Ve ben de seni eskiden tanıdığın birine kafayı takmış halde yakalamazdım\n",
       "\n",
       "[Nakarat: Gotye & Kimbra]\n",
       "Ama beni kesip atmana gerek yoktu\n",
       "Bunlar hiç yaşanmamış ve hiçbir şey değilmişiz gibi davranmana gerek yoktu (Ahhh)\n",
       "Ve aşkına ihtiyacım bile yok (Ohhh)\n",
       "Ama bana sanki bir yabancıymışım gibi davranıyorsun ve bu bana çok koyuyor (Ahhh)\n",
       "Hayır, kendini bu kadar alçaltmana gerek yoktu (Ohhh)\n",
       "Arkadaşlarına bendeki eşyalarını toplattırıp sonra da numaranı değiştirdin (Ahhh)\n",
       "Ve sanırım buna da ihtiyacım yok (Ohhh)\n",
       "Şimdi sen benim sadece eskiden tanıdığım birisin\n",
       "\n",
       "[Çıkış: Gotye]\n",
       "Biri (Eskiden tanıdığım)\n",
       "Biri (Şimdi sen benim sadece eskiden tanıdığım birisin)\n",
       "Biri (Eskiden tanıdığım)\n",
       "Biri (Şimdi sen benim sadece eskiden tanıdığım birisin)\n",
       "(Eskiden tanıdığım)\n",
       "(Eskiden tanıdığım)\n",
       "(Eskiden tanıdığım)\n",
       "BiriEmbed</td></tr><tr><td>2011</td><td>54th Annual GRAMMY Awards  (2011)</td><td>Record Of The Year</td><td>Rolling In The Deep</td><td>Adele</td><td>True</td><td>99 ContributorsTranslationsFrançaisEspañolPortuguêsΕλληνικάفارسیالعربيةRolling in the Deep Lyrics[Verse 1]\n",
       "There's a fire starting in my heart\n",
       "Reaching a fever pitch and it's bringing me out the dark\n",
       "Finally, I can see you crystal clear\n",
       "Go ahead and sell me out and I'll lay your shit bare\n",
       "See how I'll leave with every piece of you\n",
       "Don't underestimate the things that I will do\n",
       "There's a fire starting in my heart\n",
       "Reaching a fever pitch, and it's bringing me out the dark\n",
       "[Pre-Chorus]\n",
       "The scars of your love remind me of us\n",
       "They keep me thinkin' that we almost had it all\n",
       "The scars of your love, they leave me breathless\n",
       "I can't help feeling\n",
       "\n",
       "[Chorus]\n",
       "We could've had it all (You're gonna wish you never had met me)\n",
       "Rolling in the deep (Tears are gonna fall, rolling in the deep)\n",
       "You had my heart inside of your hand (You're gonna wish you never had met me)\n",
       "And you played it to the beat (Tears are gonna fall, rolling in the deep)\n",
       "\n",
       "[Verse 2]\n",
       "Baby, I have no story to be told\n",
       "But I've heard one on you, now I'm gonna make your head burn\n",
       "Think of me in the depths of your despair\n",
       "Make a home down there, as mine sure won't be shared\n",
       "You might also like[Pre-Chorus]\n",
       "(You're gonna wish you never had met me) The scars of your love remind me of us\n",
       "(Tears are gonna fall, rolling in the deep) They keep me thinkin' that we almost had it all\n",
       "(You're gonna wish you never had met me) The scars of your love, they leave me breathless\n",
       "(Tears are gonna fall, rolling in the deep) I can't help feeling\n",
       "[Chorus]\n",
       "We could've had it all (You're gonna wish you never had met me)\n",
       "Rolling in the deep (Tears are gonna fall, rolling in the deep)\n",
       "You had my heart inside of your hand (You're gonna wish you never had met me)\n",
       "And you played it to the beat (Tears are gonna fall, rolling in the deep)\n",
       "Could've had it all\n",
       "Rolling in the deep\n",
       "You had my heart inside of your hand\n",
       "But you played it with a beating\n",
       "\n",
       "[Bridge]\n",
       "Throw your soul through every open door (Ooh woah, oh)\n",
       "Count your blessings to find what you look for (Woah)\n",
       "Turn my sorrow into treasured gold (Ooh woah, oh)\n",
       "You'll pay me back in kind and reap just what you sow\n",
       "\n",
       "[Breakdown]\n",
       "(You're gonna wish you never had met me)\n",
       "We could've had it all (Tears are gonna fall, rolling in the deep)\n",
       "We could've had it all, yeah (You're gonna wish you never had met me)\n",
       "It all, it all, it all (Tears are gonna fall, rolling in the deep)\n",
       "[Chorus]\n",
       "We could've had it all (You're gonna wish you never had met me)\n",
       "Rolling in the deep (Tears are gonna fall, rolling in the deep)\n",
       "You had my heart inside of your hand (You're gonna wish you never had met me)\n",
       "And you played it to the beat (Tears are gonna fall, rolling in the deep)\n",
       "Could've had it all (You're gonna wish you never had met me)\n",
       "Rolling in the deep (Tears are gonna fall, rolling in the deep)\n",
       "You had my heart inside of your hand (You're gonna wish you never had met me)\n",
       "But you played it, you played it, you played it\n",
       "You played it to the beat154Embed</td></tr><tr><td>2010</td><td>53rd Annual GRAMMY Awards  (2010)</td><td>Record Of The Year</td><td>Need You Now</td><td>Lady Antebellum</td><td>True</td><td>39 ContributorsTranslationsEspañolNeed You Now Lyrics[Intro: Hillary Scott & Charles Kelley]\n",
       "\"Hey, sorry I missed your call, just leave a message after the beep\"\n",
       "\"Hey, yeah, it's me, just been thinking about everything tonight\n",
       "And I don't know, I just miss you so much\n",
       "Give me a call back if you can?\"\n",
       "\n",
       "[Verse 1: Hillary Scott]\n",
       "Picture perfect memories\n",
       "Scattered all around the floor\n",
       "Reachin' for the phone 'cause I can't fight it anymore\n",
       "\n",
       "[Pre-Chorus: Hillary Scott & Charles Kelley]\n",
       "And I wonder if I ever cross your mind\n",
       "For me, it happens all the time\n",
       "\n",
       "[Chorus: Lady A]\n",
       "It's a quarter after one, I'm all alone and I need you now\n",
       "Said I wouldn't call, but I've lost all control and I need you now\n",
       "And I don't know how I can do without\n",
       "I just need you now\n",
       "\n",
       "[Verse 2: Charles Kelley]\n",
       "Another shot of whiskey\n",
       "Can't stop lookin' at the door\n",
       "Wishing you'd come sweeping in the way you did before\n",
       "You might also like[Pre-Chorus: Lady A & Charles Kelley]\n",
       "And I wonder if I ever cross your mind\n",
       "For me, it happens all the time\n",
       "\n",
       "[Chorus: Lady A]\n",
       "It's a quarter after one, I'm a little drunk and I need you now\n",
       "Said I wouldn't call, but I've lost all control and I need you now\n",
       "And I don't know how I can do without\n",
       "I just need you now\n",
       "Whoa, oh\n",
       "\n",
       "[Bridge: Hillary Scott & Charles Kelley]\n",
       "I guess I'd rather hurt than feel nothin' at all\n",
       "\n",
       "[Chorus: Hillary Scott, Charles Kelley & Lady A]\n",
       "It's a quarter after one, I'm all alone and I need you now\n",
       "And I said I wouldn't call, but I'm a little drunk and I need you now\n",
       "And I don't know how I can do without\n",
       "I just need you now\n",
       "\n",
       "[Outro: Lady A & Hillary Scott]\n",
       "I just need you now\n",
       "Oh baby, I need you now39Embed</td></tr><tr><td>2009</td><td>52nd Annual GRAMMY Awards  (2009)</td><td>Record Of The Year</td><td>Use Somebody</td><td>Kings Of Leon</td><td>True</td><td>75 ContributorsUse Somebody Lyrics[Verse 1]\n",
       "I've been roamin' around, always lookin' down at all I see\n",
       "Painted faces fill the places I can't reach\n",
       "You know that I could use somebody\n",
       "You know that I could use somebody\n",
       "Someone like you and all you know and how you speak\n",
       "Countless lovers under cover of the street\n",
       "You know that I could use somebody\n",
       "You know that I could use somebody\n",
       "\n",
       "[Chorus]\n",
       "Someone like you\n",
       "\n",
       "[Verse 2]\n",
       "Off in the night, while you live it up, I'm off to sleep\n",
       "Wagin' wars to shape the poet and the beat\n",
       "I hope it's gonna make you notice\n",
       "I hope it's gonna make you notice\n",
       "\n",
       "[Chorus]\n",
       "Someone like me\n",
       "Someone like me\n",
       "Someone like me\n",
       "Somebody\n",
       "\n",
       "[Bridge]\n",
       "Don't let it out\n",
       "Don't let it out\n",
       "Don't let it out\n",
       "Don't let it out\n",
       "Don't let it out\n",
       "Don't let it out\n",
       "Don't let it out\n",
       "You might also like[Guitar Solo]\n",
       "\n",
       "[Chorus]\n",
       "Someone like you\n",
       "Somebody\n",
       "Someone like you\n",
       "Somebody\n",
       "Someone like you\n",
       "Somebody\n",
       "\n",
       "[Outro]\n",
       "I've been roamin' around, always lookin' down at all I see51Embed</td></tr><tr><td>2008</td><td>51st Annual GRAMMY Awards  (2008)</td><td>Record Of The Year</td><td>Please Read The Letter</td><td>Robert Plant & Alison Krauss</td><td>True</td><td>10 ContributorsPlease Read the Letter LyricsCaught out running with just a little too much to hide\n",
       "Maybe, baby, everything's gonna turn out fine\n",
       "\n",
       "Please read the letter\n",
       "I nailed it to your door\n",
       "It's crazy how it all turned out\n",
       "We needed so much more\n",
       "\n",
       "Too late, too late, a fool could read the signs\n",
       "Maybe, baby, you'd better check between the lines\n",
       "\n",
       "Please read the letter\n",
       "I wrote it in my sleep\n",
       "With help and consultation\n",
       "From the angels of the deep\n",
       "\n",
       "Ah, ahah, ahah\n",
       "Please read the letter that I wrote\n",
       "Please read the letter that I wrote\n",
       "\n",
       "Once I stood beside a well of many words\n",
       "My house was full of rings and charms and pretty birds\n",
       "\n",
       "Please understand me\n",
       "My walls came falling down\n",
       "There's nothing here that's left for you\n",
       "But check with lost and found\n",
       "You might also likeAh, ahah, ahah\n",
       "Please read the letter that I wrote\n",
       "Please read the letter that I wrote\n",
       "Please read the letter that I wrote\n",
       "Oh\n",
       "\n",
       "[Solo]\n",
       "\n",
       "One more song just before we go\n",
       "Remember, baby, you gotta reap just what you sow\n",
       "\n",
       "Please read my letter\n",
       "And promise me you'll keep\n",
       "The secrets and the memories\n",
       "We cherish in the deep\n",
       "\n",
       "Please read the letter\n",
       "I nailed it to your door\n",
       "It's crazy how it all turned out\n",
       "We needed so much more\n",
       "\n",
       "Please read the letter that I wrote\n",
       "Please read the letter that I wrote\n",
       "Please read the letter that I wrote\n",
       "Please read the letter that I wrote\n",
       "Oh, oh, oh\n",
       "Please read the letter\n",
       "Please read the letter\n",
       "Please read the letter\n",
       "Oh, yeah, oh, oh, oh, oh\n",
       "Oh, oh, oh, oh, yeah\n",
       "Oh, oh, oh...Embed</td></tr><tr><td>2007</td><td>50th Annual GRAMMY Awards  (2007)</td><td>Record Of The Year</td><td>Rehab</td><td>Amy Winehouse</td><td>True</td><td>111 ContributorsTranslationsFrançaisRehab Lyrics[Produced by Mark Ronson]\n",
       "[Chorus]\n",
       "They tried to make me go to rehab, but I said, \"No, no, no\"\n",
       "Yes, I've been black, but when I come back, you'll know, know, know\n",
       "I ain't got the time and if my daddy thinks I'm fine\n",
       "He's tried to make me go to rehab, but I won't go, go, go\n",
       "\n",
       "[Verse 1]\n",
       "I'd rather be at home with Ray\n",
       "I ain't got seventy days\n",
       "'Cause there's nothing, there's nothing you can teach me\n",
       "That I can't learn from Mr. Hathaway\n",
       "\n",
       "[Pre-Chorus]\n",
       "I didn't get a lot in class\n",
       "But I know it don't come in a shot glass\n",
       "\n",
       "[Chorus]\n",
       "They tried to make me go to rehab, but I said, \"No, no, no\"\n",
       "Yes, I've been black, but when I come back, you'll know, know, know\n",
       "I ain't got the time and if my daddy thinks I'm fine\n",
       "He's tried to make me go to rehab, but I won't go, go, go\n",
       "\n",
       "[Verse 2]\n",
       "The man said \"Why do you think you here?\"\n",
       "I said, \"I got no idea\"\n",
       "I'm gonna, I'm gonna lose my baby\n",
       "So I always keep a bottle near\n",
       "You might also like[Pre-Chorus]\n",
       "He said, \"I just think you're depressed\"\n",
       "This, me: \"Yeah, baby, and the rest\"\n",
       "\n",
       "[Chorus]\n",
       "They tried to make me go to rehab but I said, \"No, no, no\"\n",
       "Yes, I've been black, but when I come back, you'll know, know, know\n",
       "\n",
       "[Verse 3]\n",
       "I don't ever wanna drink again\n",
       "I just, ooh, I just need a friend\n",
       "I'm not gonna spend ten weeks\n",
       "Have everyone think I'm on the mend\n",
       "\n",
       "[Pre-Chorus]\n",
       "It's not just my pride\n",
       "It's just till these tears have dried\n",
       "[Chorus]\n",
       "They tried to make me go to rehab, but I said, \"No, no, no\"\n",
       "Yes, I've been black, but when I come back, you'll know, know, know\n",
       "I ain't got the time and if my daddy thinks I'm fine\n",
       "He's tried to make me go to rehab, but I won't go, go, go53Embed</td></tr><tr><td>2006</td><td>49th Annual GRAMMY Awards  (2006)</td><td>Record Of The Year</td><td>Not Ready To Make Nice</td><td>Dixie Chicks</td><td>True</td><td>28 ContributorsTranslationsFrançaisNot Ready to Make Nice Lyrics[Verse 1]\n",
       "Forgive? Sounds good\n",
       "Forget? I'm not sure I could\n",
       "They say time heals everything\n",
       "But I'm still waiting\n",
       "\n",
       "[Verse 2]\n",
       "I'm through with doubt\n",
       "There's nothin' left for me to figure out\n",
       "I've paid a price\n",
       "And I'll keep payin'\n",
       "\n",
       "[Chorus]\n",
       "I'm not ready to make nice\n",
       "I'm not ready to back down\n",
       "I'm still mad as hell and I don't have time\n",
       "To go 'round and 'round and 'round\n",
       "It's too late to make it right\n",
       "I probably wouldn't if I could\n",
       "'Cause I'm mad as hell, can't bring myself\n",
       "To do what it is you think I should\n",
       "\n",
       "[Verse 3]\n",
       "I know you've said\n",
       "\"Can't you just get over it?\"\n",
       "It turned my whole world around\n",
       "And I kinda like it\n",
       "You might also like[Bridge]\n",
       "I made my bed and I sleep like a baby\n",
       "With no regrets and I don't mind sayin'\n",
       "It's a sad, sad story when a mother will teach her\n",
       "Daughter that she ought to hate a perfect stranger\n",
       "And how in the world can the words that I said\n",
       "Send somebody so over the edge\n",
       "That they'd write me a letter, sayin' that I better\n",
       "Shut up and sing or my life will be over\n",
       "\n",
       "[Chorus]\n",
       "I'm not ready to make nice\n",
       "I'm not ready to back down\n",
       "I'm still mad as hell and I don't have time\n",
       "To go 'round and 'round and 'round\n",
       "It's too late to make it right\n",
       "I probably wouldn't if I could\n",
       "'Cause I'm mad as hell, can't bring myself\n",
       "To do what it is you think I should\n",
       "I'm not ready to make nice\n",
       "I'm not ready to back down\n",
       "I'm still mad as hell and I don't have time\n",
       "To go 'round and 'round and 'round\n",
       "It's too late to make it right\n",
       "I probably wouldn't if I could\n",
       "'Cause I'm mad as hell, can't bring myself\n",
       "To do what it is you think I should\n",
       "What it is you think I should\n",
       "[Outro]\n",
       "Forgive, sounds good\n",
       "Forget, I'm not sure I could\n",
       "They say time heals everything\n",
       "But I'm still waiting\n",
       "[Produced by Rick Rubin]7Embed</td></tr><tr><td>2005</td><td>48th Annual GRAMMY Awards  (2005)</td><td>Record Of The Year</td><td>Boulevard Of Broken Dreams</td><td>Green Day</td><td>True</td><td>147 ContributorsTranslationsItalianoFrançaisBoulevard of Broken Dreams Lyrics[Verse 1]\n",
       "I walk a lonely road\n",
       "The only one that I have ever known\n",
       "Don't know where it goes\n",
       "But it's home to me, and I walk alone\n",
       "I walk this empty street\n",
       "On the Boulevard of Broken Dreams\n",
       "Where the city sleeps\n",
       "And I'm the only one, and I walk alone\n",
       "\n",
       "[Pre-Chorus]\n",
       "I walk alone, I walk alone\n",
       "I walk alone, I walk a—\n",
       "\n",
       "[Chorus]\n",
       "My shadow's the only one that walks beside me\n",
       "My shallow heart's the only thing that's beatin'\n",
       "Sometimes, I wish someone out there will find me\n",
       "'Til then, I walk alone\n",
       "\n",
       "[Post-Chorus]\n",
       "Ah-ah, ah-ah, ah-ah, ah-ah\n",
       "Ah-ah, ah-ah, ah-ah\n",
       "\n",
       "[Verse 2]\n",
       "I'm walkin' down the line\n",
       "That divides me somewhere in my mind\n",
       "On the borderline\n",
       "Of the edge and where I walk alone\n",
       "Read between the lines\n",
       "What's fucked up, and everything's all right\n",
       "Check my vital signs\n",
       "To know I'm still alive, and I walk alone\n",
       "See Green Day LiveGet tickets as low as $45You might also like[Pre-Chorus]\n",
       "I walk alone, I walk alone\n",
       "I walk alone, I walk a—\n",
       "\n",
       "[Chorus]\n",
       "My shadow's the only one that walks beside me\n",
       "My shallow heart's the only thing that's beatin'\n",
       "Sometimes, I wish someone out there will find me\n",
       "'Til then, I walk alone\n",
       "\n",
       "[Post-Chorus]\n",
       "Ah-ah, ah-ah, ah-ah, ah-ah\n",
       "Ah-ah, ah-ah\n",
       "I walk alone, I walk a—\n",
       "\n",
       "[Guitar Solo]\n",
       "\n",
       "[Bridge]\n",
       "I walk this empty street\n",
       "On the Boulevard of Broken Dreams\n",
       "Where the city sleeps\n",
       "And I'm the only one, and I walk a—\n",
       "\n",
       "[Chorus]\n",
       "My shadow's the only one that walks beside me\n",
       "My shallow heart's the only thing that's beatin'\n",
       "Sometimes, I wish someone out there will find me\n",
       "'Til then, I walk alone\n",
       "[Instrumental Outro]165Embed</td></tr><tr><td>2004</td><td>47th Annual GRAMMY Awards  (2004)</td><td>Record Of The Year</td><td>Here We Go Again</td><td>Ray Charles & Norah Jones</td><td>True</td><td>10 ContributorsHere We Go Again (Duet Version) Lyrics[Norah]\n",
       "Here we go again\n",
       "He's back in town again\n",
       "I'll take him back again\n",
       "One more time\n",
       "\n",
       "[Ray]\n",
       "Here we go again\n",
       "The phone will ring again\n",
       "I'll be her fool again (I will...)\n",
       "One more time\n",
       "\n",
       "[Norah]\n",
       "I've been there before\n",
       "And I will try it again\n",
       "But any fool, any fool knows\n",
       "That there's no, no way to win\n",
       "\n",
       "[Ray]\n",
       "Here we go again\n",
       "She'll break my heart again\n",
       "I'll play the part again\n",
       "One more time\n",
       "(Alright, Mr. Preston!)\n",
       "\n",
       "I've been there before (and you know what?)\n",
       "I will try it again\n",
       "You might also like[Norah]\n",
       "But any fool, any fool knows\n",
       "That there's no, no way to win\n",
       "\n",
       "[Ray & Norah]\n",
       "Here we go again\n",
       "She'll/He'll break my heart again\n",
       "I'll play the part again\n",
       "One more time\n",
       "\n",
       "I'll take her/him back again\n",
       "One more time\n",
       "\n",
       "[Ray]\n",
       "(I will)Embed</td></tr><tr><td>2003</td><td>46th Annual GRAMMY Awards  (2003)</td><td>Record Of The Year</td><td>Clocks</td><td>Coldplay</td><td>True</td><td>89 ContributorsTranslationsفارسیEnglishClocks Lyrics[Verse 1]\n",
       "The lights go out, and I can't be saved\n",
       "Tides that I tried to swim against\n",
       "Have brought me down upon my knees\n",
       "Oh, I beg, I beg and plead, singin'\n",
       "Come out of things unsaid\n",
       "Shoot an apple off my head, and a\n",
       "Trouble that can't be named\n",
       "A tiger's waitin' to be tamed, singin'\n",
       "\n",
       "[Chorus]\n",
       "You are\n",
       "You are\n",
       "\n",
       "[Verse 2]\n",
       "Confusion never stops\n",
       "Closin' walls and tickin' clocks, gonna\n",
       "Come back and take you home\n",
       "I could not stop, that you now know, singin'\n",
       "Come out upon my seas\n",
       "Cursed missed opportunities, am I\n",
       "A part of the cure?\n",
       "Or am I part of the disease? Singin'\n",
       "\n",
       "[Chorus]\n",
       "You are\n",
       "You are\n",
       "You are\n",
       "You are\n",
       "See Coldplay LiveGet tickets as low as $75You might also like[Chorus]\n",
       "You are\n",
       "You are\n",
       "\n",
       "[Bridge]\n",
       "And nothin' else compares\n",
       "Oh, nothin' else compares\n",
       "And nothin' else compares\n",
       "\n",
       "[Chorus]\n",
       "You are\n",
       "You are\n",
       "\n",
       "[Outro]\n",
       "Home, home, where I wanted to go\n",
       "Home, home, where I wanted to go\n",
       "Home (You are) home, where I wanted to go\n",
       "Home (You are) home, where I wanted to go82Embed</td></tr><tr><td>2002</td><td>45th Annual GRAMMY Awards  (2002)</td><td>Record Of The Year</td><td>Don't Know Why</td><td>Norah Jones</td><td>True</td><td>37 ContributorsDon’t Know Why Lyrics[Verse 1]\n",
       "I waited 'til I saw the sun\n",
       "I don't know why I didn't come\n",
       "I left you by the house of fun\n",
       "I don't know why I didn't come\n",
       "I don't know why I didn't come\n",
       "\n",
       "[Verse 2]\n",
       "When I saw the break of day\n",
       "I wished that I could fly away\n",
       "Instead of kneeling in the sand\n",
       "Catching teardrops in my hand\n",
       "\n",
       "[Refrain]\n",
       "My heart is drenched in wine\n",
       "But you'll be on my mind forever\n",
       "\n",
       "[Verse 3]\n",
       "Out across the endless sea\n",
       "I will die in ecstasy\n",
       "But I'll be a bag of bones\n",
       "Driving down the road alone\n",
       "\n",
       "[Refrain]\n",
       "My heart is drenched in wine\n",
       "But you'll be on my mind forever\n",
       "You might also like[Instrumental Break]\n",
       "\n",
       "[Verse 4]\n",
       "Something has to make you run\n",
       "I don't know why I didn't come\n",
       "I feel as empty as a drum\n",
       "\n",
       "[Outro]\n",
       "I don't know why I didn't come\n",
       "I don't know why I didn't come\n",
       "I don't know why I didn't come13Embed</td></tr><tr><td>2001</td><td>44th Annual GRAMMY Awards  (2001)</td><td>Record Of The Year</td><td>Walk On</td><td>U2</td><td>True</td><td>31 ContributorsWalk On Lyrics[Intro]\n",
       "And love is not the easy thing\n",
       "The only baggage that you can bring\n",
       "Love is not the easy thing\n",
       "The only baggage you can bring\n",
       "Is all that you can't leave behind\n",
       "\n",
       "[Verse 1]\n",
       "And if the darkness is to keep us apart\n",
       "And if the daylight feels like it's a long way off\n",
       "And if your glass heart should crack\n",
       "And for a second you turn back\n",
       "Oh no, be strong\n",
       "\n",
       "[Chorus]\n",
       "Oh, oh, walk on, walk on\n",
       "What you got they can't steal it\n",
       "No, they can't even feel it\n",
       "Walk on, walk on\n",
       "Stay safe tonight\n",
       "\n",
       "[Verse 2]\n",
       "You're packing a suitcase for a place none of us has been\n",
       "A place that has to be believed to be seen\n",
       "You could have flown away\n",
       "A singing bird in an open cage\n",
       "Who will only fly, only fly for freedom\n",
       "See U2 LiveGet tickets as low as $400You might also like[Chorus]\n",
       "Oh, oh, walk on, walk on\n",
       "What you've got they can't deny it\n",
       "Can't sell it or buy it\n",
       "Walk on, walk on\n",
       "Stay safe tonight\n",
       "And I know it aches\n",
       "And your heart it breaks\n",
       "And you can only take so much\n",
       "Walk on\n",
       "Walk on\n",
       "\n",
       "[Bridge]\n",
       "Home, hard to know what it is if you've never had one\n",
       "Home, I can't say where it is but I know I'm going home\n",
       "That's where the heart is\n",
       "\n",
       "[Chorus]\n",
       "And I know it aches\n",
       "And your heart it breaks\n",
       "And you can only take so much\n",
       "Walk on (Ooh)\n",
       "Leave it behind\n",
       "You've got to leave it behind\n",
       "\n",
       "[Outro]\n",
       "All that you fashion\n",
       "All that you make\n",
       "All that you build\n",
       "All that you break\n",
       "All that you measure\n",
       "All that you feel\n",
       "All this you can leave behind\n",
       "All that you reason\n",
       "All that you care\n",
       "It's only time\n",
       "And I'll never fill up all my mind\n",
       "All that you sense\n",
       "All that you speak\n",
       "All you dress up\n",
       "And all that you scheme\n",
       "All you create\n",
       "All that you wreck\n",
       "All that you hate5Embed</td></tr><tr><td>2000</td><td>43rd Annual GRAMMY Awards  (2000)</td><td>Record Of The Year</td><td>Beautiful Day</td><td>U2</td><td>True</td><td>72 ContributorsTranslationsPortuguêsBeautiful Day Lyrics[Verse 1]\n",
       "The heart is a bloom, shoots up through the stony ground\n",
       "There's no room, no space to rent in this town\n",
       "You're out of luck, and the reason that you had to care\n",
       "The traffic is stuck, and you're not moving anywhere\n",
       "You thought you'd found a friend to take you out of this place\n",
       "Someone you could lend a hand in return for grace\n",
       "\n",
       "[Chorus]\n",
       "It's a beautiful day\n",
       "Sky falls, you feel like\n",
       "It's a beautiful day\n",
       "Don't let it get away\n",
       "\n",
       "[Verse 2]\n",
       "You're on the road, but you've got no destination\n",
       "You're in the mud, in the maze of her imagination\n",
       "You love this town even if that doesn't ring true\n",
       "You've been all over, and it's been all over you\n",
       "\n",
       "[Chorus]\n",
       "It's a beautiful day\n",
       "Don't let it get away\n",
       "It's a beautiful day\n",
       "Ooh-hoo-hoo\n",
       "See U2 LiveGet tickets as low as $400You might also like[Post-Chorus]\n",
       "Touch me\n",
       "Take me to that other place\n",
       "Teach me\n",
       "I know I'm not a hopeless case\n",
       "\n",
       "[Bridge]\n",
       "See the world in green and blue\n",
       "See China right in front of you\n",
       "See the canyons broken by cloud\n",
       "See the tuna fleets clearing the sea out\n",
       "See the Bedouin fires at night\n",
       "See the oil fields at first light\n",
       "And see the bird with a leaf in her mouth\n",
       "After the flood all the colours came out\n",
       "\n",
       "[Chorus]\n",
       "It was a beautiful day\n",
       "Don't let it get away\n",
       "Beautiful day\n",
       "\n",
       "[Post-Chorus]\n",
       "Touch me\n",
       "Take me to that other place\n",
       "Reach me\n",
       "I know I'm not a hopeless case\n",
       "[Outro]\n",
       "What you don't have you don't need it now\n",
       "What you don't know you can feel it somehow\n",
       "What you don't have you don't need it now\n",
       "Don't need it now\n",
       "Was a beautiful day27Embed</td></tr></tbody></table></div>"
      ]
     },
     "metadata": {
      "application/vnd.databricks.v1+output": {
       "addedWidgets": {},
       "aggData": [],
       "aggError": "",
       "aggOverflow": false,
       "aggSchema": [],
       "aggSeriesLimitReached": false,
       "aggType": "",
       "arguments": {},
       "columnCustomDisplayInfos": {},
       "data": [
        [
         "2019",
         "62nd Annual GRAMMY Awards  (2019)",
         "Record Of The Year",
         "Bad Guy",
         "Billie Eilish",
         "True",
         "344 ContributorsTranslationsHrvatskiTürkçeSvenskaEspañolРусскийRomânăPortuguêsPolskiItalianoHebrewDeutschFrançaisفارسیNederlandsDanskChinese TraditionalΕλληνικάالعربيةไทย / Phasa Thai​bad guy Lyrics[Verse 1]\nWhite shirt now red, my bloody nose\nSleepin', you're on your tippy toes\nCreepin' around like no one knows\nThink you're so criminal\nBruises on both my knees for you\nDon't say thank you or please\nI do what I want when I'm wanting to\nMy soul? So cynical\n\n[Chorus]\nSo you're a tough guy\nLike it really rough guy\nJust can't get enough guy\nChest always so puffed guy\nI'm that bad type\nMake your mama sad type\nMake your girlfriend mad tight\nMight seduce your dad type\nI'm the bad guy\nDuh\n\n[Post-Chorus]\nI'm the bad guy\n\n[Verse 2]\nI like it when you take control\nEven if you know that you don't\nOwn me, I'll let you play the role\nI'll be your animal\nMy mommy likes to sing along with me\nBut she won't sing this song\nIf she reads all the lyrics\nShe'll pity the men I know\nYou might also like[Chorus]\nSo you're a tough guy\nLike it really rough guy\nJust can't get enough guy\nChest always so puffed guy\nI'm that bad type\nMake your mama sad type\nMake your girlfriend mad tight\nMight seduce your dad type\nI'm the bad guy\nDuh\n\n[Post-Chorus]\nI'm the bad guy, duh\nI'm only good at bein' bad, bad\n\n[Bridge]\nI like when you get mad\nI guess I'm pretty glad that you're alone\nYou said she's scared of me?\nI mean, I don't see what she sees\nBut maybe it's 'cause I'm wearing your cologne\n\n[Outro]\nI'm a bad guy\nI'm, I'm a bad guy\nBad guy, bad guy\nI'm a bad345Embed"
        ],
        [
         "2019",
         "62nd Annual GRAMMY Awards  (2019)",
         "Record Of The Year",
         "Hey, Ma",
         "Bon Iver",
         "True",
         "57 ContributorsHey, Ma Lyrics[Verse 1]\nI waited outside\nI took it remote\nI wanted a bath\n\"Tell the story or he goes\"\n\"Tell the story or he goes\"\n\n[Chorus]\nFull time, you talk your money up\nWhile it's living in a coal mine\nTall time to call your Ma\nHey Ma, hey Ma\nTall vote, you know you mope it up\nWell, you wanted it your whole life\nYou're back and forth with light\n\n[Verse 2]\nI waited outside\nI was tokin' on dope\nI hoped it all wunt go in a minute\nWith the past that you know\nI wanted all that mind sugar\nI want it all mine\nI had a heavy mind, sugar\nI took it, it was right\nYou might also like[Chorus]\nFull time, you talk your money up\nWhile it's living in a coal mine\nTall time to call your Ma\nHey Ma, hey Ma\nTall vote, you know you mope it up\nWell, you wanted it your whole life\nYou're back and forth with light\n\n[Interlude]\nYou're back and forth\nYou're back and forth\nYou go back and forth\nAnd then you're back and forth\nAnd back and forth\n\n[Verse 3]\nI waited outside\nThen you took me in the room\nAnd you offered up the truth\nMy eyes crawling up the window to the wall\nFrom dusk 'til dawn\nLet me talk to 'em\nLet me talk to 'em all\n\n[Chorus]\nFull time, you talk your money up\nWhile it's living in a coal mine\nTall time to call your Ma\nHey Ma, hey Ma\nTall vote, you know you mope it up\nWell, you wanted it your whole life\nYou're back and forth with light12Embed"
        ],
        [
         "2019",
         "62nd Annual GRAMMY Awards  (2019)",
         "Record Of The Year",
         "7 rings",
         "Ariana Grande",
         "True",
         "474 ContributorsTranslationsTürkçeEspañolRomânăPortuguêsPolskiItalianoHebrewΕλληνικάDeutschFrançaisNederlandsDanskفارسی7 rings Lyrics[Verse 1]\nYeah, breakfast at Tiffany's and bottles of bubbles\nGirls with tattoos who like getting in trouble\nLashes and diamonds, ATM machines\nBuy myself all of my favorite things (Yeah)\nBeen through some bad shit, I should be a sad bitch\nWho woulda thought it'd turn me to a savage?\nRather be tied up with calls and not strings\nWrite my own checks like I write what I sing, yeah (Yeah)\n\n[Pre-Chorus]\nMy wrist, stop watchin', my neck is flossy\nMake big deposits, my gloss is poppin'\nYou like my hair? Gee, thanks, just bought it\nI see it, I like it, I want it, I got it (Yeah)\n\n[Chorus]\nI want it, I got it, I want it, I got it\nI want it, I got it, I want it, I got it\nYou like my hair? Gee, thanks, just bought it\nI see it, I like it, I want it, I got it (Yep)\n[Verse 2]\nWearing a ring, but ain't gon' be no \"Mrs.\"\nBought matching diamonds for six of my bitches\nI'd rather spoil all my friends with my riches\nThink retail therapy my new addiction\nWhoever said money can't solve your problems\nMust not have had enough money to solve 'em\nThey say, \"Which one?\" I say, \"Nah, I want all of 'em\"\nHappiness is the same price as red-bottoms\nYou might also like[Pre-Chorus]\nMy smile is beamin' (Yeah), my skin is gleamin' (Is gleamin')\nThe way it shine, I know you've seen it (You've seen it)\nI bought a crib just for (Just for) the closet (Closet)\nBoth his and hers, I want it, I got it, yeah\n\n[Chorus]\nI want it, I got it, I want it, I got it\nI want it, I got it, I want it, I got it (Baby)\nYou like my hair? Gee, thanks, just bought it (Oh yeah)\nI see it, I like it, I want it, I got it (Yep)\n\n[Verse 3]\nYeah, my receipts be lookin' like phone numbers\nIf it ain't money, then wrong number\nBlack card is my business card\nThe way it be settin' the tone for me\nI don't mean to brag, but I be like, \"Put it in the bag,\" yeah\nWhen you see them racks, they stacked up like my ass, yeah\nShoot, go from the store to the booth\nMake it all back in one loop, gimme the loot\nNever mind, I got the juice\nNothing but net when we shoot\nLook at my neck, look at my jet\nAin't got enough money to pay me respect\nAin't no budget when I'm on the set\nIf I like it, then that's what I get, yeah\n[Chorus]\nI want it, I got it, I want it, I got it (Oh yeah)\nI want it, I got it, I want it, I got it (Oh yeah, yeah)\nYou like my hair? Gee, thanks, just bought it\nI see it, I like it, I want it, I got it (I see, yep)470Embed"
        ],
        [
         "2019",
         "62nd Annual GRAMMY Awards  (2019)",
         "Record Of The Year",
         "Hard Place",
         "H.E.R.",
         "True",
         "40 ContributorsHard Place Lyrics[Intro]\nMmm, mmm-hmm, mmm-hmm, mmm, eh\n\n[Verse 1]\nWanna believe what you say\nBut I hate you on most days\nYou've been testing my faith and my patience, yeah\nAnd you know that I be head strong\nBut you know that you be dead wrong\nTelling me to relax when I'm reacting\n\n[Pre-Chorus]\nBut I, I'd rather fight\nThan lose sleep at night\nAt least you're all mine\nAnd if I have to choose\nMy heart or you\nI'm gonna lose, yeah\n\n[Chorus]\nWhat if nothing ever will change?\nOh, I'm caught between your love and a hard place\nOh, I wish there was a right way\nI'm caught between your love and a hard place, oh\nWoah, oh oh woah, oh oh woah, oh oh woah\nYou might also like[Verse 2]\nDo I even have a choice when-\nI'm gonna have to pick my poison\nYeah, you hurt me so good, it's so good\nAnd even when you cause tears\nYou're the one who wiped them away\nMaybe that's the reason I stay, I stay\n\n[Pre-Chorus]\nBut I, I'd rather fight\nThan lose sleep at night\nAt least you're all mine\nAnd if I have to choose\nMy heart or you\nI'm gonna lose\n\n[Chorus]\nWhat if nothing ever will change?\nOh, I'm caught between your love and a hard place\nOh, I wish there was a right way\nI'm caught between your love and a hard place, oh\nWoah, oh oh woah, oh oh woah, oh oh woah\n\nWhat if nothing ever will change?\nI'm caught between your love and a hard place\nOoh, I wish there was a right way, yeah\nI'm caught between your love and a hard place, ooh woah ooh\nWoah, oh oh woah, oh oh woah, oh oh woah\nOh, I'm caught between your love and a hard place\nWoah, oh oh woah, oh oh woah, oh oh woah\nOh, I wish there was a right way\nWoah, oh oh woah, oh oh woah, oh oh woah\nI'm caught between your love and a hard place, oh\nWoah, oh oh woah, oh oh woah, oh oh woah\n\n[Outro]\nI'm caught between your love and a hard place\nWhat if nothing will ever change?\nI'm caught between your love and a hard place7Embed"
        ],
        [
         "2019",
         "62nd Annual GRAMMY Awards  (2019)",
         "Record Of The Year",
         "Talk",
         "Khalid",
         "True",
         "83 ContributorsTranslationsفارسیEspañolTalk Lyrics[Chorus]\nCan we just talk? Can we just talk?\nTalk about where we're goin'\nBefore we get lost, lend me your thoughts\nCan't get what we want without knowin'\nI've never felt like this before\nI apologize if I'm movin' too far\nCan we just talk? Can we just talk?\nFigure out where we're goin'\n\n[Verse 1]\nYeah, started off right\nI can see it in your eyes\nI can tell that you're wantin' more\nWhat's been on your mind?\nThere's no reason we should hide\nTell me somethin' I ain't heard before\n\n[Pre-Chorus]\nOh, I've been dreamin' 'bout it\nAnd it's you I'm on\nSo stop thinkin' 'bout it\n\n[Chorus]\nCan we just talk? Can we just talk?\nTalk about where we're goin'\nBefore we get lost, lend me your thoughts (Yeah)\nCan't get what we want without knowin' (No)\nI've never felt like this before\nI apologize if I'm movin' too far\nCan we just talk? Can we just talk?\nFigure out where we're goin'\nSee Khalid LiveGet tickets as low as $119You might also like[Verse 2]\nOh, nah\nPenthouse view, left some flowers in the room\nI'll make sure I leave the door unlocked\nNow I'm on the way, swear I won't be late\nI'll be there by five o'clock\n\n[Pre-Chorus]\nOh, you've been dreamin' 'bout it\nAnd I'm what you want\nSo stop thinkin' 'bout it\n\n[Chorus]\nCan we just talk? (Oh) Can we just talk?\nTalk about where we're goin'\nBefore we get lost, lend me your thoughts\nCan't get what we want without knowin'\nI've never felt like this before\nI apologize if I'm movin' too far\nCan we just talk? Can we just talk?\nFigure out where we're goin'\n\n[Outro]\nFigure out where we're goin'45Embed"
        ],
        [
         "2019",
         "62nd Annual GRAMMY Awards  (2019)",
         "Record Of The Year",
         "Old Town Road",
         "Lil Nas X Featuring Billy Ray Cyrus",
         "True",
         "20 ContributorsOld Town Road (Lil Wayne Remix) Lyrics[Intro: Billy Ray Cyrus]\nOh, oh-oh\nOh\n\n[Refrain: Billy Ray Cyrus]\nYeah, I'm gonna take my horse to the old town road\nI'm gonna ride 'til I can't no more\nI'm gonna take my horse to the old town road\nI'm gonna ride 'til I can't no more\n(Kio, Kio)\n\n[Verse 1: Lil Nas X]\nI got the horses in the back\nHorse tack is attached\nHat is matte black\nGot the boots that's black to match\nRidin' on a horse, ha\nYou can whip your Porsche\nI been in the valley\nYou ain't been up off that porch, now\n\n[Chorus: Lil Nas X]\nCan't nobody tell me nothin'\nYou can't tell me nothin'\nCan't nobody tell me nothin'\nYou can't tell me nothin'\nYou might also like[Refrain: Lil Nas X]\nYeah, I'm gonna take my horse to the old town road\nI'm gonna ride 'til I can't no more\nI'm gonna take my horse to the old town road\nI'm gonna ride 'til I can't no more\n\n[Verse 2: Lil Wayne]\nUh, uh, I got the horses in the back, and she twerk it for a pony\nOoh, she got that honky-tonky, I met her on Farmers Only\nI'm a Young Money cowboy, sitting on my high horse\nGucci cowboy boots, the snakeskin, ooh, the pythons\nPull up on a tractor, lean and Jolly Ranchers\nPop a couple perkies, chew 'em like beef jerky\nSticky weed is like a cactus\nAw man, quit jumblin' grown man\nShe ride me say, \"Yeehaw\", man\nCall me Lil Jon Wayne\n\n[Refrain: Lil Nas X & Billy Ray Cyrus, Lil Wayne]\n(Remix baby) Yeah, I'm gonna take my horse to the old town road\n(Yeah, yeah, yeah, yeah) I'm gonna ride 'til I can't no more\n(Remix baby) I'm gonna take my horse to the old town road\n(Yeah, yeah, yeah, yeah) I'm gonna ride 'til I can't no more2Embed"
        ],
        [
         "2019",
         "62nd Annual GRAMMY Awards  (2019)",
         "Record Of The Year",
         "Truth Hurts",
         "Lizzo",
         "True",
         "136 ContributorsTruth Hurts Lyrics[Intro]\nWhy men great 'til they gotta be great?\nWoo!\n\n[Verse 1]\nI just took a DNA test, turns out I'm 100% that bitch\nEven when I'm crying crazy\nYeah, I got boy problems, that's the human in me\nBling bling, then I solve 'em, that's the goddess in me\nYou coulda had a bad bitch, non-committal\nHelp you with your career just a little\nYou're 'posed to hold me down, but you're holding me back\nAnd that's the sound of me not calling you back\n\n[Chorus]\nWhy men great 'til they gotta be great? ('Til they gotta be great)\nDon't text me, tell it straight to my face (Tell it straight to my face)\nBest friend sat me down in the salon chair (Down in the salon chair)\nShampoo press, get you out of my hair\nFresh photos with the bomb lighting (With the bomb lighting)\nNew man on the Minnesota Vikings (Minnesota Vikings)\nTruth hurts, needed something more exciting (Yee)\nBom bom bi dom bi dum bum bay (Eh, yeah, yeah, yeah)\n\n[Verse 2]\nYou tried to break my heart?\nOh, that breaks my heart\nThat you thought you ever had it\nNo, you ain't from the start\nHey, I'm glad you're back with your bitch\nI mean, who would wanna hide this?\nI will never, ever, ever, ever, ever be your side chick\nI put the sing in single\nAin't worried 'bout a ring on my finger\nSo you can tell your friend, \"Shoot your shot\" when you see him\nIt's okay, he already in my DMs\nYou might also like[Chorus]\nWhy men great 'til they gotta be great? ('Til they gotta be great)\nDon't text me, tell it straight to my face (Tell it straight to my face)\nBest friend sat me down in the salon chair (Down in the salon chair)\nShampoo press, get you out of my hair\nFresh photos with the bomb lighting (With the bomb lighting)\nNew man on the Minnesota Vikings (Minnesota Vikings)\nTruth hurts, needed something more exciting (Yee)\nBom bom bi dom bi dum bum bay (Eh, yeah, yeah, yeah)\n\n[Bridge]\nI'ma hit you back in a minute (Yeah, yeah)\nI don't play tag, bitch, I been it (One time)\nWe don't fuck with lies (Two times), we don't do goodbyes (Woo)\nWe just keep it pushing like ay-ay-ay\nI'ma hit you back in a minute (Yeah, yeah)\nI don't play tag, bitch, I been it (One time)\nWe don't fuck with lies (Two times), we don't do goodbyes (Woo)\nWe just keep it pushing like ay-ay-ay (Woo)\n\n[Chorus]\nWhy men great 'til they gotta be great? ('Til they gotta be great)\nDon't text me, tell it straight to my face (Tell it straight to my face)\nBest friend sat me down in the salon chair (Down in the salon chair)\nShampoo press, get you out of my hair\nFresh photos with the bomb lighting (With the bomb lighting)\nNew man on the Minnesota Vikings (Minnesota Vikings)\nTruth hurts, needed something more exciting (Yee)\nBom bom bi dom bi dum bum bay (Eh, yeah, yeah, yeah)\n[Outro]\nWith the bomb lighting\nMinnesota Vikings\nYee, eh, yeah, yeah, yeah66Embed"
        ],
        [
         "2019",
         "62nd Annual GRAMMY Awards  (2019)",
         "Record Of The Year",
         "Sunflower",
         "Post Malone & Swae Lee",
         "True",
         "282 ContributorsTranslationsTürkçeEspañolРусскийFrançaisNederlandsSunflower Lyrics[Intro: Swae Lee]\nAyy, ayy, ayy, ayy (Ooh)\nOoh, ooh, ooh, ooh (Ooh)\nAyy, ayy\nOoh, ooh, ooh, ooh\n\n[Verse 1: Swae Lee]\nNeedless to say, I keep in check\nShe was a bad-bad, nevertheless (Yeah)\nCallin' it quits now, baby, I'm a wreck (Wreck)\nCrash at my place, baby, you're a wreck (Wreck)\nNeedless to say, I'm keeping in check\nShe was a bad-bad, nevertheless\nCallin' it quits now, baby, I'm a wreck\nCrash at my place, baby, you're a wreck\nThinkin' in a bad way, losin' your grip\nScreamin' at my face, baby, don't trip\nSomeone took a big L, don't know how that felt\nLookin' at you sideways, party on tilt\nOoh-ooh, some things you just can't refuse\nShe wanna ride me like a cruise and I'm not tryna lose\n\n[Chorus: Swae Lee]\nThen you're left in the dust, unless I stuck by ya\nYou're a sunflower, I think your love would be too much\nOr you'll be left in the dust, unless I stuck by ya\nYou're the sunflower, you're the sunflower\nYou might also like[Verse 2: Post Malone]\nEvery time I'm leavin' on ya (Ooh)\nYou don't make it easy, no (No, no)\nWish I could be there for ya (Ooh)\nGive me a reason to, oh (Oh)\nEvery time I'm walkin' out (Oh)\nI can hear you tellin' me to turn around (Oh, oh)\nFightin' for my trust and you won't back down (No)\nEven if we gotta risk it all right now, oh (Now)\nI know you're scared of the unknown (Known)\nYou don't wanna be alone (Alone)\nI know I always come and go (And go)\nBut it's out of my control\n\n[Chorus: Post Malone]\nAnd you'll be left in the dust, unless I stuck by ya\nYou're the sunflower, I think your love would be too much\nOr you'll be left in the dust, unless I stuck by ya\nYou're the sunflower, you're the sunflower (Yeah)348Embed"
        ],
        [
         "2018",
         "61st Annual GRAMMY Awards  (2018)",
         "Record Of The Year",
         "This Is America",
         "Childish Gambino",
         "True",
         "585 ContributorsTranslationsไทย / Phasa ThaiEspañolРусскийPortuguêsDeutschFrançaisNederlandsThis Is America Lyrics[Intro: Choir]\nYeah, yeah, yeah, yeah, yeah\nYeah, yeah, yeah, go, go away\nYeah, yeah, yeah, yeah, yeah\nYeah, yeah, yeah, go, go away\nYeah, yeah, yeah, yeah, yeah\nYeah, yeah, yeah, go, go away\nYeah, yeah, yeah, yeah, yeah\nYeah, yeah, yeah, go, go away\n\n[Bridge: Childish Gambino & Young Thug]\nWe just wanna party\nParty just for you\nWe just want the money\nMoney just for you (Yeah)\nI know you wanna party\nParty just for free\nGirl, you got me dancin' (Girl, you got me dancin')\nDance and shake the frame (Yeah)\nWe just wanna party (Yeah)\nParty just for you (Yeah)\nWe just want the money (Yeah)\nMoney just for you (You)\nI know you wanna party (Yeah)\nParty just for free (Yeah)\nGirl, you got me dancin' (Girl, you got me dancin', yeah)\nDance and shake the frame (Ooh)\nYou might also like[Chorus: Childish Gambino]\nThis is America\nDon't catch you slippin' now\nDon't catch you slippin' now\nLook what I'm whippin' now\nThis is America (Woo)\nDon't catch you slippin' now\nDon't catch you slippin' now\nLook what I'm whippin' now\n\n[Verse 1: Childish Gambino, Young Thug, Blocboy JB & 21 Savage]\nThis is America (Skrrt, skrrt, woo)\nDon't catch you slippin' now (Ayy)\nLook how I'm livin' now\nPolice be trippin' now (Woo)\nYeah, this is America (Woo, ayy)\nGuns in my area (Word, my area)\nI got the strap (Ayy, ayy)\nI gotta carry 'em\nYeah, yeah, I'ma go into this (Ugh)\nYeah, yeah, this is guerilla (Woo)\nYeah, yeah, I'ma go get the bag\nYeah, yeah, or I'ma get the pad\nYeah, yeah, I'm so cold like, yeah (Yeah)\nI'm so dope like, yeah (Woo)\nWe gon' blow like, yeah (Straight up, uh)\n[Refrain: Choir & Childish Gambino]\nOoh-ooh-ooh-ooh-ooh, tell somebody\nYou go tell somebody\nGrandma told me\nGet your money, Black man (Get your— Black man)\nGet your money, Black man (Get your—Black man)\nGet your money, Black man (Get your—Black man)\nGet your money, Black man (Get your—Black man)\nBlack man\n\n[Chorus: Childish Gambino, Young Thug, Slim Jxmmi & Quavo]\nThis is America (Woo, ayy)\nDon't catch you slippin' now (Woo, woo, don't catch you slippin' now)\nDon't catch you slippin' now (Ayy, woah)\nLook what I'm whippin' now (Slime!)\nThis is America (Yeah, yeah)\nDon't catch you slippin' now (Woah, ayy)\nDon't catch you slippin' now (Ayy, woo)\nLook what I'm whippin' now (Ayy)\n[Verse 2: Childish Gambino, Quavo, Young Thug, 21 Savage & BlocBoy JB]\nLook how I'm geekin' out (Hey)\nI'm so fitted (I'm so fitted, woo)\nI'm on Gucci (I'm on Gucci)\nI'm so pretty (Yeah, yeah, woo)\nI'm gon' get it (Ayy, I'm gon' get it)\nWatch me move (Blaow)\nThis a celly (Ha)\nThat's a tool (Yeah)\nOn my Kodak (Woo) Black\nOoh, know that (Yeah, know that, hold on)\nGet it (Woo, get it, get it)\nOoh, work it (21)\nHunnid bands, hunnid bands, hunnid bands (Hunnid bands)\nContraband, contraband, contraband (Contraband)\nI got the plug in Oaxaca (Woah)\nThey gonna find you like \"blocka\" (Blaow)\n[Refrain: Choir, Childish Gambino, & Young Thug]\nOoh-ooh-ooh-ooh-ooh, tell somebody\nAmerica, I just checked my following list, and\nYou go tell somebody\nYou mothafuckas owe me\nGrandma told me\nGet your money, Black man (Black man)\nGet your money, Black man (Black man)\nGet your money, Black man (Black man)\nGet your money, Black man (Black man)\nBlack man\n(1, 2, 3—get down)\nOoh-ooh-ooh-ooh-ooh, tell somebody\nYou go tell somebody\nGrandma told me, \"Get your money\"\nGet your money, Black man (Black man)\nGet your money, Black man (Black man)\nGet your money, Black man (Black man)\nGet your money, Black man (Black man)\nBlack man\n\n[Outro: Young Thug]\nYou just a black man in this world\nYou just a barcode, ayy\nYou just a black man in this world\nDrivin' expensive foreigns, ayy\nYou just a big dawg, yeah\nI kenneled him in the backyard\nNo, probably ain't life to a dog\nFor a big dog457Embed"
        ],
        [
         "2017",
         "60th Annual GRAMMY Awards  (2017)",
         "Record Of The Year",
         "24K Magic",
         "Bruno Mars",
         "True",
         "160 ContributorsTranslationsPortuguêsEspañol24K Magic Lyrics[Intro]\nTonight\nI just wanna take you higher\nThrow your hands up in the sky\nLet's set this party off right\nPlayers\n\n[Chorus]\nPut your pinky rings up to the moon\nGirls, what y'all tryna do?\n24-karat magic in the air\nHead to toe so player\nLook out, uh\n\n[Verse 1]\nPop-pop, it's show time (Show time), show time (Show time)\nGuess who's back again? (Brrah)\nOh, they don't know? (Go on, tell 'em) Oh, they don't know? (Go on, tell 'em)\nI bet they know as soon as we walk in (Showin' up)\nWearin' Cuban links (Yeah), designer minks (Yeah)\nInglewood's finest shoes (Woop, woop)\nDon't look too hard, might hurt yourself\nKnown to give the color red the blues\nWoo, shit\n\n[Pre-Chorus]\nI'm a dangerous man with some money in my pocket (Keep up)\nSo many pretty girls around me and they wakin' up the rocket (Keep up)\nWhy you mad? Fix your face, ain't my fault they all be jockin' (Keep up)\nPlayers only, come on\nSee Bruno Mars LiveGet tickets as low as $84You might also like[Chorus]\nPut your pinky rings up to the moon\nGirls, what y'all tryna do?\n24-karat magic in the air\nHead to toe so player\nLook out, uh\n\n[Verse 2]\nSecond verse for the hustlers (Hustlers), gangsters (Gangsters)\nBad bitches and your ugly ass friends (Haha)\nCan I preach? (Uh-oh) Can I preach? (Uh-oh)\nI gotta show 'em how a pimp get it in\nFirst, take your sip (Sip), do your dip (Dip)\nSpend your money like money ain't shit\nOoh-ooh (We too fresh)\nGot to blame it on Jesus (Hashtag blessed)\nThey ain't ready for me, uh\n\n[Pre-Chorus]\nI'm a dangerous man with some money in my pocket (Keep up)\nSo many pretty girls around me and they wakin' up the rocket (Keep up)\nWhy you mad? Fix your face, ain't my fault they all be jockin' (Keep up)\nPlayers only, come on\n\n[Chorus]\nPut your pinky rings up to the moon (Woo, hey, girls)\nWhat y'all tryna do? (What you tryna do?)\n24-karat magic in the air (Air, air)\nHead to toe so player (Ooh)\nLook out, uh\n[Bridge]\n(Woo) Everywhere I go, they be like (Ooh, so player)\n(Woo) Everywhere I go, they be like (Ooh, so player; ah)\n(Woo) Everywhere I go, they be like (Ooh, so player, ooh)\nNow, now, now\nNow watch me break it down like, ugh\n24-karat (Woo), 24-karat magic (What's that sound?)\n24-karat, 24-karat magic (Come on now)\n24-karat, 24-karat magic\nDon't fight the feelin', invite the feelin', just\n\n[Chorus]\nPut your pinky rings up to the moon (Ooh)\nGirls, what y'all tryna do? (Tell me what you're tryna do)\n24-karat magic in the air (Yeah, get up)\nHead to toe so player (Hands up)\nPut your pinky rings up to the moon (24-karat, 24-karat magic)\nGirls, what y'all tryna do? (24-karat, 24-karat magic; do)\n24-karat magic in the air (24-karat, 24-karat magic)\nHead to toe so player (24-karat)\nLook out, uh (24-karat magic)78Embed"
        ],
        [
         "2016",
         "59th Annual GRAMMY Awards  (2016)",
         "Record Of The Year",
         "Hello",
         "Adele",
         "True",
         "221 ContributorsTranslationsTürkçePortuguêsPortuguêsEspañolFrançaisBahasa IndonesiaالعربيةHello Lyrics[Verse 1]\nHello, it's me\nI was wondering if after all these years you'd like to meet\nTo go over everything\nThey say that time's supposed to heal ya, but I ain't done much healing\nHello, can you hear me?\nI'm in California dreaming about who we used to be\nWhen we were younger and free\nI've forgotten how it felt before the world fell at our feet\n\n[Pre-Chorus]\nThere's such a difference between us\nAnd a million miles\n[Chorus]\nHello from the other side\nI must've called a thousand times\nTo tell you I'm sorry for everything that I've done\nBut when I call, you never seem to be home\nHello from the outside\nAt least, I can say that I've tried\nTo tell you I'm sorry for breaking your heart\nBut it don't matter, it clearly doesn't tear you apart anymore\n\n[Verse 2]\nHello, how are you?\nIt's so typical of me to talk about myself, I'm sorry\nI hope that you're well\nDid you ever make it out of that town where nothing ever happened?\nYou might also like[Pre-Chorus]\nIt's no secret that the both of us\nAre running out of time\n[Chorus]\nSo hello from the other side (Other side)\nI must've called a thousand times (Thousand times)\nTo tell you I'm sorry for everything that I've done\nBut when I call, you never seem to be home\nHello from the outside (Outside)\nAt least, I can say that I've tried (I've tried)\nTo tell you I'm sorry for breaking your heart\nBut it don't matter, it clearly doesn't tear you apart anymore\n\n[Bridge]\n(Highs, highs, highs, highs, lows, lows, lows, lows)\nOoh, anymore\n(Highs, highs, highs, highs, lows, lows, lows, lows)\nOoh, anymore\n(Highs, highs, highs, highs, lows, lows, lows, lows)\nOoh, anymore\n(Highs, highs, highs, highs, lows, lows, lows, lows)\nAnymore\n[Chorus]\nHello from the other side (Other side)\nI must've called a thousand times (Thousand times)\nTo tell you I'm sorry for everything that I've done\nBut when I call, you never seem to be home\nHello from the outside (Outside)\nAt least, I can say that I've tried (I've tried)\nTo tell you I'm sorry for breaking your heart\nBut it don't matter, it clearly doesn't tear you apart anymore\n[Produced by Greg Kurstin]\n[Music Video]260Embed"
        ],
        [
         "2015",
         "58th Annual GRAMMY Awards  (2015)",
         "Record Of The Year",
         "Uptown Funk",
         "Mark Ronson Featuring Bruno Mars",
         "True",
         "3 Contributors2015 Winners & Nominees LyricsAll winners in bold\n\nBest Newcomer\n\nIn association with Virgin Trains East Coast\nBugzy Malone\nSection Boyz\nNao\nBonkaz\nNick Brewer\nGeorge The Poet\nJ Hus\nSnakehips\nSinead Harnett\nYungen\n\nBest Video\n\nStormzy - \"Know Me From\" (directed by Serious Black)\nFKA twigs - \"Pendulum\" (directed by FKA twigs & Paula Harrowing)\nFKA twigs - \"Glass & Patron\" (directed by FKA twigs)\nRita Ora featuring Chris Brown - \"Body On Me\" (directed by Colin Tilley)\nLethal Bizzle featuring Diztortion - \"Fester Skank\" (directed by Ludovic & Zotto)\n\nBest Female Act\nYou might also likeFKA twigs\nLittle Simz\nElla Eyre\nLianne La Havas\nJess Glynne\n\nBest Male Act\n\nSkepta\nMark Ronson\nKrept & Konan\nJme\nStormzy\n\nBest Song\n\nIn association with First Direct\nMark Ronson featuring Bruno Mars - \"Uptown Funk\"\nSkepta - \"Shutdown\"\nTinie Tempah featuring Jess Glynne - \"Not Letting Go\"\nJme featuring Giggs - \"Man Don't Care\"\nKrept & Konan featuring Jeremih - \"Freak of the Week\"\n\nBest Album\n\nKrept & Konan - The Long Way Home\nJme - Integrity>\nLianne La Havas - Blood\nWiley - Snakes & Ladders\nJamie xx - In Colour\nBest Grime Act\n\nIn association with BBC Radio 1Xtra\nBugzy Malone\nJme\nLethal Bizzle\nSkepta\nStormzy\n\nBest R&B/Soul Act\n\nKwabs\nShakka\nLianne La Havas\nAndreya Triana\nJoss Stone\n\nBest Hip Hop Act\n\nAkala\nKrept & Konan\nLittle Simz\nLady Leshurr\nNines\n\nBest International Album\nDrake - If You're Reading This It's Too Late\nJ. Cole - 2014 Forest Hill Drive\nKendrick Lamar - To Pimp a Butterfly\nDr. Dre - Compton: A Soundtrack By Dr. Dre\nThe Weeknd – Beauty Behind the Madness\nD’Angelo and The Vanguard – Black Messiah\nJazmine Sullivan – Reality Show\nThe Internet – Ego Death\nTyrese – Black Rose\nA$AP Rocky – At.Long.Last.ASAP\n\nBest African Act\n\nWizkid\nFuse ODG\nSilvastone\nDavido\nPatoranking\nMoelogo\nYemi Alade\nAKA\nMista Silva\nShatta Wale\n\nBest Reggae Act\n\nStylo G\nChronixx\nOMI\nPopcaan\nProtoje\n\nBest Jazz\n\nBinker and Moses\nJulia Biel\nCourtney Pine\nDavid Little\nPolar Bear\n\nBest Gospel\n\nChos3n\nOlaedo Ibe\nLeroy Johnson\nNi-Cola\nFaith Child\n\nPaving The Way Awards\n\nWiley\nLenny Henry1Embed"
        ],
        [
         "2014",
         "57th Annual GRAMMY Awards  (2014)",
         "Record Of The Year",
         "Stay With Me (Darkchild Version)",
         "Sam Smith",
         "True",
         "147 Contributors2015 Nominees LyricsSong of the YearMeghan Trainor – All About That Bass\nHozier – Take Me To Church\nTaylor Swift – Shake It Off\nSia – Chandelier\nSam Smith – Stay With Me (Darkchild Version) WINNERAlbum of the YearBeck - Morning Phase WINNER\nBeyoncé - Beyoncé\nEd Sheeran - X\nSam Smith - In The Lonely Hour\nPharrell Williams - GirlBest Rap AlbumIggy Azalea – The New Classic\nChildish Gambino  – Because The Internet\nEminem – The Marshall Mathers LP 2 WINNER\nSchoolboy Q – Oxymoron\nWiz Khalifa – Blacc Hollywood\nCommon – Nobody’s SmilingBest Rap PerformanceChildish Gambino - 3005\nDrake – 0 to 100/The Catch Up\nEminem – Rap God\nKendrick Lamar – i WINNER\nLecrae – All I Need Is YouBest Rap SongNicki Minaj – Anaconda\nKanye West – Bound 2\nKendrick Lamar – i WINNER\nWiz Khalifa  – We Dem Boyz\nDrake – 0 to 100/The Catch UpRap/Sung CollaborationCommon feat. Jhene Aiko – Blak Majik\nEminem feat. Rihanna – The Monster WINNER\nILoveMakonnen feat. Drake – Tuesday\nSchoolboy Q feat. BJ The Chicago Kid – Studio\nKanye West feat. Charlie Wilson – Bound 2Best Music VideoArcade Fire – We Exist\nDJ Snake & Lil Jon – Turn Down For What\nSia – Chandelier\nPharrell Williams – Happy WINNER\nWoodkid feat. Max Richter – The Golden AgeBest Country AlbumDierks Bentley - Riser\nEric Church - The Outsiders\nBrandy Clark - 12 Stories\nMiranda Lambert - Platinum WINNER\nLee Ann Womack - The Way I'm Livin'Best Country Duo/GroupThe Band Perry – Gentle On My Mind WINNER\nMiranda Lambert feat. Carrie Underwood  – Somethin’ Bad\nLittle Big Town – Day Drinking\nTim McGraw feat. Faith Hill – Meanwhile Back at Mama’s\nKeith Urban feat. Eric Church – Raise ‘em UpBest Country Solo PerformanceEric Church – Give Me Back My Hometown\nHunter Hayes  – Invisible\nMiranda Lambert – Automatic\nCarrie Underwood – Something in the Water WINNER\nKeith Urban – Cop CarBest Country SongMiranda Lambert – Automatic\nKenny Chesney – American Kids\nEric Church – Give Me Back My Hometown\nGlen Campbell – I’m Not Gonna Miss You WINNER\nTim McGraw – Meanwhile Back At Mama’sBest Pop Duo/Group PerformanceIggy Azalea feat. Charli XCX – Fancy\nColdplay – A Sky Full of Stars\nA Great Big World feat. Christina Aguilera – Say Something WINNER\nJessie J feat. Ariana Grande & Nicki Minaj – Bang Bang\nKaty Perry feat. Juicy J – Dark HorseBest Pop Vocal AlbumColdplay - Ghost Stories\nMiley Cyrus - Bangerz\nAriana Grande - My Everything\nKaty Perry - Prism\nEd Sheeran - ×\nSam Smith - In the Lonely Hour WINNERBest Urban Contemporary AlbumJhene Aiko - Sail Out\nBeyoncé - Beyoncé\nChris Brown - X\nMali Music - Mali Is...\nPharrell Williams - Girl WINNERRecord of the YearIggy Azalea ft. Charli XCX - Fancy\nSia - Chandelier\nSam Smith - Stay With Me WINNER\nTaylor Swift - Shake It Off\nMeghan Trainor - All About That BassBest Pop Solo PerformanceJohn Legend - All of Me\nSia - Chandelier\nSam Smith - Stay With Me\nTaylor Swift - Shake It Off\nPharrell - Happy WINNERBest Rock SongParamore - Ain't it Fun WINNER\nBeck - Blue Moon\nThe Black Keys - Fever\nRyan Adams - Gimme Something Good\nJack White - LazarettoBest Rock AlbumRyan Adams - Ryan Adams\nBeck - Morning Phase WINNER\nThe Black Keys - Turn Blue\nTom Petty and the Heartbreakers - Hypnotic Eye\nU2 - Songs of InnocenceBest Rock PerformanceRyan Adams - Gimme Something Good\nArctic Monkeys - Do I Wanna Know?\nBeck - Blue Moon\nThe Black Keys - Fever\nJack White - Lazaretto WINNERBest Metal PerformanceNeon Knights – Anthrax\nHigh Road – Mastodon\nHeartbreaker – Motörhead\nThe Negative One – Slipknot\nThe Last In Line – Tenacious D WINNERBest R&B AlbumBernhoft - Islander\nAloe Blacc - Lift Your Spirit\nToni Braxton & Babyface - Love, Marriage & Divorce WINNER\nRobert Glasper Experiment - Black Radio 2\nSharon Jones & The Dap-Kings - Give The People What They WantBest R&B PerformanceBeyoncé feat. Jay Z - Drunk In Love WINNER\nChris Brown feat. Usher & Rick Ross - New Flame\nJennifer Hudson feat. R. Kelly - It's Your World\nLedisi - Like This\nUsher - Good KisserBest R&B SongBeyoncé feat. Jay Z - Drunk In Love WINNER\nUsher - Good Kisser\nChris Brown feat. Usher & Rick Ross - New Flame\nLuke James - Options (Wolfjames Version)\nJhené Aiko - The WorstBest New ArtistBastille\nIggy Azalea\nBrandy Clark\nHAIM\nSam Smith WINNERBest Reggae AlbumZiggy Marley – Fly Rasta WINNER\nLee ‘Scratch’ Perry – Back on the Controls\nSean Paul – Full Frequency\nShaggy – Out of Many, One Music\nSly & Robbie & Spicy Chocolate – The Reggae Power\nSoja – Amid the Noise and the HasteBest Soundtrack For Visual MediaAmerican Hustle\nFrozen WINNER\nGet On Up\nGuardians of the Galaxy\nWolf of Wall StreetBest Song Written For Visual MediaTegan And Sara feat. The Lonely Island - Everything Is Awesome!!!\nEd Sheeran - I See Fire\nGlen Campbell - I'm Not Gonna Miss You\nIdina Menzel - Let It Go WINNER\nScarlett Johansson & Joaquin Phoenix - The Moon SongBest Alternative AlbumArcade Fire – Reflektor\nAlt-J – This is All Yours\nCage the Elephant – Melophobia\nSt. Vincent – St. Vincent WINNER\nJack White – LazarettoBest Traditional Pop Vocal AlbumLady Gaga & Tony Bennett - Cheek to Cheek WINNER\nJohnny Mathis - Sending You a Little Christmas\nAnnie Lennox - Nostalgia\nBarbra Streisand - Partners\nBarry Manilow - Night SongsBest Dance RecordingBasement Jaxx – Never Say Never\nClean Bandit feat. Jess Glynne  – Rather Be WINNER\nDisclosure feat. Mary J. Blige - F For You\nDuke Dumont feat Jax Jones – I Got U\nZhu – Faded30Embed"
        ],
        [
         "2013",
         "56th Annual GRAMMY Awards  (2013)",
         "Record Of The Year",
         "Get Lucky",
         "Daft Punk Featuring Pharrell Williams & Nile Rodgers",
         "True",
         "4 ContributorsGet Lucky (Mixed) Lyrics[Verse: Pharrell Williams]\nLike the legend of the phoenix, huh\nAll ends with beginnings\nWhat keeps the planet spinning, uh-huh\nThe force from the beginning\nLook\n\n[Pre-Chorus: Pharrell Williams]\nWe've come too far\nTo give up who we are\nSo let's raise the bar\nAnd our cups to the stars\n\n[Chorus: Pharrell Williams]\nShe's up all night 'til the sun\nI'm up all night to get some\nShe's up all night for good fun\nI'm up all night to get lucky\nWe're up all night 'til the sun\nWe're up all night to get some\nWe're up all night for good fun\nWe're up all night to get lucky\nWе're up all night to get lucky\nWe'rе up all night to get lucky\nWe're up all night to get lucky\nWe're up all night to get lucky\nYou might also like[Outro: Pharrell Williams]\nShe's up all night 'til the sun\nI'm up all night to get some\nShe's up all night for good fun\nI'm up all night to get lucky\nShe's up all night 'til the sun\nI'm up all night to get some\nShe's up all night for good fun (Fun)\nHi, BarbieEmbed"
        ],
        [
         "2012",
         "55th Annual GRAMMY Awards  (2012)",
         "Record Of The Year",
         "Somebody That I Used To Know",
         "Gotye Featuring Kimbra",
         "True",
         "3 ContributorsTranslationsEnglishEspañolРусскийGotye ft. Kimbra - Somebody That I Used to Know (Türkçe Çeviri) Lyrics[Bölüm 1: Gotye]\nŞu sıralar beraber olduğumuz zamanları düşünüyorum\nMesela çok mutlu olduğunu hatta mutluluktan ölebileceğini söylediğin zamanları\nKendime senin benim için doğru olan kişi olduğunu söyledim\nAma seninle birlikteliğimde çok yalnız hissettim\nAma bu aşktı ve hala hatırladığım bir acıydı\n\n[Bölüm 2: Gotye]\nÜzüntünün belli bir haline bağımlı olabilirsin\nMesela sona boyun eğmek her zaman sonu getirir\nO yüzden beraber bir anlama gelmediğimizi anladığımızda\nYani, hala arkadaş kalabileceğimizi söylemiştin\nAma itiraf edeyim, bittiğine çok sevinmiştim\n\n[Nakarat: Gotye]\nAma beni kesip atmana gerеk yoktu\nBunlar hiç yaşanmamış ve hiçbir şey değilmişiz gibi davranmana gеrek yoktu\nVe aşkına ihtiyacım bile yok\nAma bana sanki bir yabancıymışım gibi davranıyorsun ve bu bana çok koyuyor\nHayır, kendini bu kadar alçaltmana gerek yoktu\nArkadaşlarına bendeki eşyalarını toplattırıp sonra da numaranı değiştirdin\nVe sanırım buna da ihtiyacım yok\nŞimdi sen benim sadece eskiden tanıdığım birisin\nŞimdi sen benim sadece eskiden tanıdığım birisin\nŞimdi sen benim sadece eskiden tanıdığım birisin\nYou might also like[Bölüm 3: Kimbra]\nŞu aralar beni mahvettiğin tüm o anları düşünüyorum\nAma beni, bunu her zaman benim yaptığım bir şey olduğuna inandırdın\nAma ben bu şekilde yaşamak istemiyorum\nSöylediğin her sözün altında bir anlam aramak\nBunu boş verebileceğini söyledin\nVe ben de seni eskiden tanıdığın birine kafayı takmış halde yakalamazdım\n\n[Nakarat: Gotye & Kimbra]\nAma beni kesip atmana gerek yoktu\nBunlar hiç yaşanmamış ve hiçbir şey değilmişiz gibi davranmana gerek yoktu (Ahhh)\nVe aşkına ihtiyacım bile yok (Ohhh)\nAma bana sanki bir yabancıymışım gibi davranıyorsun ve bu bana çok koyuyor (Ahhh)\nHayır, kendini bu kadar alçaltmana gerek yoktu (Ohhh)\nArkadaşlarına bendeki eşyalarını toplattırıp sonra da numaranı değiştirdin (Ahhh)\nVe sanırım buna da ihtiyacım yok (Ohhh)\nŞimdi sen benim sadece eskiden tanıdığım birisin\n\n[Çıkış: Gotye]\nBiri (Eskiden tanıdığım)\nBiri (Şimdi sen benim sadece eskiden tanıdığım birisin)\nBiri (Eskiden tanıdığım)\nBiri (Şimdi sen benim sadece eskiden tanıdığım birisin)\n(Eskiden tanıdığım)\n(Eskiden tanıdığım)\n(Eskiden tanıdığım)\nBiriEmbed"
        ],
        [
         "2011",
         "54th Annual GRAMMY Awards  (2011)",
         "Record Of The Year",
         "Rolling In The Deep",
         "Adele",
         "True",
         "99 ContributorsTranslationsFrançaisEspañolPortuguêsΕλληνικάفارسیالعربيةRolling in the Deep Lyrics[Verse 1]\nThere's a fire starting in my heart\nReaching a fever pitch and it's bringing me out the dark\nFinally, I can see you crystal clear\nGo ahead and sell me out and I'll lay your shit bare\nSee how I'll leave with every piece of you\nDon't underestimate the things that I will do\nThere's a fire starting in my heart\nReaching a fever pitch, and it's bringing me out the dark\n[Pre-Chorus]\nThe scars of your love remind me of us\nThey keep me thinkin' that we almost had it all\nThe scars of your love, they leave me breathless\nI can't help feeling\n\n[Chorus]\nWe could've had it all (You're gonna wish you never had met me)\nRolling in the deep (Tears are gonna fall, rolling in the deep)\nYou had my heart inside of your hand (You're gonna wish you never had met me)\nAnd you played it to the beat (Tears are gonna fall, rolling in the deep)\n\n[Verse 2]\nBaby, I have no story to be told\nBut I've heard one on you, now I'm gonna make your head burn\nThink of me in the depths of your despair\nMake a home down there, as mine sure won't be shared\nYou might also like[Pre-Chorus]\n(You're gonna wish you never had met me) The scars of your love remind me of us\n(Tears are gonna fall, rolling in the deep) They keep me thinkin' that we almost had it all\n(You're gonna wish you never had met me) The scars of your love, they leave me breathless\n(Tears are gonna fall, rolling in the deep) I can't help feeling\n[Chorus]\nWe could've had it all (You're gonna wish you never had met me)\nRolling in the deep (Tears are gonna fall, rolling in the deep)\nYou had my heart inside of your hand (You're gonna wish you never had met me)\nAnd you played it to the beat (Tears are gonna fall, rolling in the deep)\nCould've had it all\nRolling in the deep\nYou had my heart inside of your hand\nBut you played it with a beating\n\n[Bridge]\nThrow your soul through every open door (Ooh woah, oh)\nCount your blessings to find what you look for (Woah)\nTurn my sorrow into treasured gold (Ooh woah, oh)\nYou'll pay me back in kind and reap just what you sow\n\n[Breakdown]\n(You're gonna wish you never had met me)\nWe could've had it all (Tears are gonna fall, rolling in the deep)\nWe could've had it all, yeah (You're gonna wish you never had met me)\nIt all, it all, it all (Tears are gonna fall, rolling in the deep)\n[Chorus]\nWe could've had it all (You're gonna wish you never had met me)\nRolling in the deep (Tears are gonna fall, rolling in the deep)\nYou had my heart inside of your hand (You're gonna wish you never had met me)\nAnd you played it to the beat (Tears are gonna fall, rolling in the deep)\nCould've had it all (You're gonna wish you never had met me)\nRolling in the deep (Tears are gonna fall, rolling in the deep)\nYou had my heart inside of your hand (You're gonna wish you never had met me)\nBut you played it, you played it, you played it\nYou played it to the beat154Embed"
        ],
        [
         "2010",
         "53rd Annual GRAMMY Awards  (2010)",
         "Record Of The Year",
         "Need You Now",
         "Lady Antebellum",
         "True",
         "39 ContributorsTranslationsEspañolNeed You Now Lyrics[Intro: Hillary Scott & Charles Kelley]\n\"Hey, sorry I missed your call, just leave a message after the beep\"\n\"Hey, yeah, it's me, just been thinking about everything tonight\nAnd I don't know, I just miss you so much\nGive me a call back if you can?\"\n\n[Verse 1: Hillary Scott]\nPicture perfect memories\nScattered all around the floor\nReachin' for the phone 'cause I can't fight it anymore\n\n[Pre-Chorus: Hillary Scott & Charles Kelley]\nAnd I wonder if I ever cross your mind\nFor me, it happens all the time\n\n[Chorus: Lady A]\nIt's a quarter after one, I'm all alone and I need you now\nSaid I wouldn't call, but I've lost all control and I need you now\nAnd I don't know how I can do without\nI just need you now\n\n[Verse 2: Charles Kelley]\nAnother shot of whiskey\nCan't stop lookin' at the door\nWishing you'd come sweeping in the way you did before\nYou might also like[Pre-Chorus: Lady A & Charles Kelley]\nAnd I wonder if I ever cross your mind\nFor me, it happens all the time\n\n[Chorus: Lady A]\nIt's a quarter after one, I'm a little drunk and I need you now\nSaid I wouldn't call, but I've lost all control and I need you now\nAnd I don't know how I can do without\nI just need you now\nWhoa, oh\n\n[Bridge: Hillary Scott & Charles Kelley]\nI guess I'd rather hurt than feel nothin' at all\n\n[Chorus: Hillary Scott, Charles Kelley & Lady A]\nIt's a quarter after one, I'm all alone and I need you now\nAnd I said I wouldn't call, but I'm a little drunk and I need you now\nAnd I don't know how I can do without\nI just need you now\n\n[Outro: Lady A & Hillary Scott]\nI just need you now\nOh baby, I need you now39Embed"
        ],
        [
         "2009",
         "52nd Annual GRAMMY Awards  (2009)",
         "Record Of The Year",
         "Use Somebody",
         "Kings Of Leon",
         "True",
         "75 ContributorsUse Somebody Lyrics[Verse 1]\nI've been roamin' around, always lookin' down at all I see\nPainted faces fill the places I can't reach\nYou know that I could use somebody\nYou know that I could use somebody\nSomeone like you and all you know and how you speak\nCountless lovers under cover of the street\nYou know that I could use somebody\nYou know that I could use somebody\n\n[Chorus]\nSomeone like you\n\n[Verse 2]\nOff in the night, while you live it up, I'm off to sleep\nWagin' wars to shape the poet and the beat\nI hope it's gonna make you notice\nI hope it's gonna make you notice\n\n[Chorus]\nSomeone like me\nSomeone like me\nSomeone like me\nSomebody\n\n[Bridge]\nDon't let it out\nDon't let it out\nDon't let it out\nDon't let it out\nDon't let it out\nDon't let it out\nDon't let it out\nYou might also like[Guitar Solo]\n\n[Chorus]\nSomeone like you\nSomebody\nSomeone like you\nSomebody\nSomeone like you\nSomebody\n\n[Outro]\nI've been roamin' around, always lookin' down at all I see51Embed"
        ],
        [
         "2008",
         "51st Annual GRAMMY Awards  (2008)",
         "Record Of The Year",
         "Please Read The Letter",
         "Robert Plant & Alison Krauss",
         "True",
         "10 ContributorsPlease Read the Letter LyricsCaught out running with just a little too much to hide\nMaybe, baby, everything's gonna turn out fine\n\nPlease read the letter\nI nailed it to your door\nIt's crazy how it all turned out\nWe needed so much more\n\nToo late, too late, a fool could read the signs\nMaybe, baby, you'd better check between the lines\n\nPlease read the letter\nI wrote it in my sleep\nWith help and consultation\nFrom the angels of the deep\n\nAh, ahah, ahah\nPlease read the letter that I wrote\nPlease read the letter that I wrote\n\nOnce I stood beside a well of many words\nMy house was full of rings and charms and pretty birds\n\nPlease understand me\nMy walls came falling down\nThere's nothing here that's left for you\nBut check with lost and found\nYou might also likeAh, ahah, ahah\nPlease read the letter that I wrote\nPlease read the letter that I wrote\nPlease read the letter that I wrote\nOh\n\n[Solo]\n\nOne more song just before we go\nRemember, baby, you gotta reap just what you sow\n\nPlease read my letter\nAnd promise me you'll keep\nThe secrets and the memories\nWe cherish in the deep\n\nPlease read the letter\nI nailed it to your door\nIt's crazy how it all turned out\nWe needed so much more\n\nPlease read the letter that I wrote\nPlease read the letter that I wrote\nPlease read the letter that I wrote\nPlease read the letter that I wrote\nOh, oh, oh\nPlease read the letter\nPlease read the letter\nPlease read the letter\nOh, yeah, oh, oh, oh, oh\nOh, oh, oh, oh, yeah\nOh, oh, oh...Embed"
        ],
        [
         "2007",
         "50th Annual GRAMMY Awards  (2007)",
         "Record Of The Year",
         "Rehab",
         "Amy Winehouse",
         "True",
         "111 ContributorsTranslationsFrançaisRehab Lyrics[Produced by Mark Ronson]\n[Chorus]\nThey tried to make me go to rehab, but I said, \"No, no, no\"\nYes, I've been black, but when I come back, you'll know, know, know\nI ain't got the time and if my daddy thinks I'm fine\nHe's tried to make me go to rehab, but I won't go, go, go\n\n[Verse 1]\nI'd rather be at home with Ray\nI ain't got seventy days\n'Cause there's nothing, there's nothing you can teach me\nThat I can't learn from Mr. Hathaway\n\n[Pre-Chorus]\nI didn't get a lot in class\nBut I know it don't come in a shot glass\n\n[Chorus]\nThey tried to make me go to rehab, but I said, \"No, no, no\"\nYes, I've been black, but when I come back, you'll know, know, know\nI ain't got the time and if my daddy thinks I'm fine\nHe's tried to make me go to rehab, but I won't go, go, go\n\n[Verse 2]\nThe man said \"Why do you think you here?\"\nI said, \"I got no idea\"\nI'm gonna, I'm gonna lose my baby\nSo I always keep a bottle near\nYou might also like[Pre-Chorus]\nHe said, \"I just think you're depressed\"\nThis, me: \"Yeah, baby, and the rest\"\n\n[Chorus]\nThey tried to make me go to rehab but I said, \"No, no, no\"\nYes, I've been black, but when I come back, you'll know, know, know\n\n[Verse 3]\nI don't ever wanna drink again\nI just, ooh, I just need a friend\nI'm not gonna spend ten weeks\nHave everyone think I'm on the mend\n\n[Pre-Chorus]\nIt's not just my pride\nIt's just till these tears have dried\n[Chorus]\nThey tried to make me go to rehab, but I said, \"No, no, no\"\nYes, I've been black, but when I come back, you'll know, know, know\nI ain't got the time and if my daddy thinks I'm fine\nHe's tried to make me go to rehab, but I won't go, go, go53Embed"
        ],
        [
         "2006",
         "49th Annual GRAMMY Awards  (2006)",
         "Record Of The Year",
         "Not Ready To Make Nice",
         "Dixie Chicks",
         "True",
         "28 ContributorsTranslationsFrançaisNot Ready to Make Nice Lyrics[Verse 1]\nForgive? Sounds good\nForget? I'm not sure I could\nThey say time heals everything\nBut I'm still waiting\n\n[Verse 2]\nI'm through with doubt\nThere's nothin' left for me to figure out\nI've paid a price\nAnd I'll keep payin'\n\n[Chorus]\nI'm not ready to make nice\nI'm not ready to back down\nI'm still mad as hell and I don't have time\nTo go 'round and 'round and 'round\nIt's too late to make it right\nI probably wouldn't if I could\n'Cause I'm mad as hell, can't bring myself\nTo do what it is you think I should\n\n[Verse 3]\nI know you've said\n\"Can't you just get over it?\"\nIt turned my whole world around\nAnd I kinda like it\nYou might also like[Bridge]\nI made my bed and I sleep like a baby\nWith no regrets and I don't mind sayin'\nIt's a sad, sad story when a mother will teach her\nDaughter that she ought to hate a perfect stranger\nAnd how in the world can the words that I said\nSend somebody so over the edge\nThat they'd write me a letter, sayin' that I better\nShut up and sing or my life will be over\n\n[Chorus]\nI'm not ready to make nice\nI'm not ready to back down\nI'm still mad as hell and I don't have time\nTo go 'round and 'round and 'round\nIt's too late to make it right\nI probably wouldn't if I could\n'Cause I'm mad as hell, can't bring myself\nTo do what it is you think I should\nI'm not ready to make nice\nI'm not ready to back down\nI'm still mad as hell and I don't have time\nTo go 'round and 'round and 'round\nIt's too late to make it right\nI probably wouldn't if I could\n'Cause I'm mad as hell, can't bring myself\nTo do what it is you think I should\nWhat it is you think I should\n[Outro]\nForgive, sounds good\nForget, I'm not sure I could\nThey say time heals everything\nBut I'm still waiting\n[Produced by Rick Rubin]7Embed"
        ],
        [
         "2005",
         "48th Annual GRAMMY Awards  (2005)",
         "Record Of The Year",
         "Boulevard Of Broken Dreams",
         "Green Day",
         "True",
         "147 ContributorsTranslationsItalianoFrançaisBoulevard of Broken Dreams Lyrics[Verse 1]\nI walk a lonely road\nThe only one that I have ever known\nDon't know where it goes\nBut it's home to me, and I walk alone\nI walk this empty street\nOn the Boulevard of Broken Dreams\nWhere the city sleeps\nAnd I'm the only one, and I walk alone\n\n[Pre-Chorus]\nI walk alone, I walk alone\nI walk alone, I walk a—\n\n[Chorus]\nMy shadow's the only one that walks beside me\nMy shallow heart's the only thing that's beatin'\nSometimes, I wish someone out there will find me\n'Til then, I walk alone\n\n[Post-Chorus]\nAh-ah, ah-ah, ah-ah, ah-ah\nAh-ah, ah-ah, ah-ah\n\n[Verse 2]\nI'm walkin' down the line\nThat divides me somewhere in my mind\nOn the borderline\nOf the edge and where I walk alone\nRead between the lines\nWhat's fucked up, and everything's all right\nCheck my vital signs\nTo know I'm still alive, and I walk alone\nSee Green Day LiveGet tickets as low as $45You might also like[Pre-Chorus]\nI walk alone, I walk alone\nI walk alone, I walk a—\n\n[Chorus]\nMy shadow's the only one that walks beside me\nMy shallow heart's the only thing that's beatin'\nSometimes, I wish someone out there will find me\n'Til then, I walk alone\n\n[Post-Chorus]\nAh-ah, ah-ah, ah-ah, ah-ah\nAh-ah, ah-ah\nI walk alone, I walk a—\n\n[Guitar Solo]\n\n[Bridge]\nI walk this empty street\nOn the Boulevard of Broken Dreams\nWhere the city sleeps\nAnd I'm the only one, and I walk a—\n\n[Chorus]\nMy shadow's the only one that walks beside me\nMy shallow heart's the only thing that's beatin'\nSometimes, I wish someone out there will find me\n'Til then, I walk alone\n[Instrumental Outro]165Embed"
        ],
        [
         "2004",
         "47th Annual GRAMMY Awards  (2004)",
         "Record Of The Year",
         "Here We Go Again",
         "Ray Charles & Norah Jones",
         "True",
         "10 ContributorsHere We Go Again (Duet Version) Lyrics[Norah]\nHere we go again\nHe's back in town again\nI'll take him back again\nOne more time\n\n[Ray]\nHere we go again\nThe phone will ring again\nI'll be her fool again (I will...)\nOne more time\n\n[Norah]\nI've been there before\nAnd I will try it again\nBut any fool, any fool knows\nThat there's no, no way to win\n\n[Ray]\nHere we go again\nShe'll break my heart again\nI'll play the part again\nOne more time\n(Alright, Mr. Preston!)\n\nI've been there before (and you know what?)\nI will try it again\nYou might also like[Norah]\nBut any fool, any fool knows\nThat there's no, no way to win\n\n[Ray & Norah]\nHere we go again\nShe'll/He'll break my heart again\nI'll play the part again\nOne more time\n\nI'll take her/him back again\nOne more time\n\n[Ray]\n(I will)Embed"
        ],
        [
         "2003",
         "46th Annual GRAMMY Awards  (2003)",
         "Record Of The Year",
         "Clocks",
         "Coldplay",
         "True",
         "89 ContributorsTranslationsفارسیEnglishClocks Lyrics[Verse 1]\nThe lights go out, and I can't be saved\nTides that I tried to swim against\nHave brought me down upon my knees\nOh, I beg, I beg and plead, singin'\nCome out of things unsaid\nShoot an apple off my head, and a\nTrouble that can't be named\nA tiger's waitin' to be tamed, singin'\n\n[Chorus]\nYou are\nYou are\n\n[Verse 2]\nConfusion never stops\nClosin' walls and tickin' clocks, gonna\nCome back and take you home\nI could not stop, that you now know, singin'\nCome out upon my seas\nCursed missed opportunities, am I\nA part of the cure?\nOr am I part of the disease? Singin'\n\n[Chorus]\nYou are\nYou are\nYou are\nYou are\nSee Coldplay LiveGet tickets as low as $75You might also like[Chorus]\nYou are\nYou are\n\n[Bridge]\nAnd nothin' else compares\nOh, nothin' else compares\nAnd nothin' else compares\n\n[Chorus]\nYou are\nYou are\n\n[Outro]\nHome, home, where I wanted to go\nHome, home, where I wanted to go\nHome (You are) home, where I wanted to go\nHome (You are) home, where I wanted to go82Embed"
        ],
        [
         "2002",
         "45th Annual GRAMMY Awards  (2002)",
         "Record Of The Year",
         "Don't Know Why",
         "Norah Jones",
         "True",
         "37 ContributorsDon’t Know Why Lyrics[Verse 1]\nI waited 'til I saw the sun\nI don't know why I didn't come\nI left you by the house of fun\nI don't know why I didn't come\nI don't know why I didn't come\n\n[Verse 2]\nWhen I saw the break of day\nI wished that I could fly away\nInstead of kneeling in the sand\nCatching teardrops in my hand\n\n[Refrain]\nMy heart is drenched in wine\nBut you'll be on my mind forever\n\n[Verse 3]\nOut across the endless sea\nI will die in ecstasy\nBut I'll be a bag of bones\nDriving down the road alone\n\n[Refrain]\nMy heart is drenched in wine\nBut you'll be on my mind forever\nYou might also like[Instrumental Break]\n\n[Verse 4]\nSomething has to make you run\nI don't know why I didn't come\nI feel as empty as a drum\n\n[Outro]\nI don't know why I didn't come\nI don't know why I didn't come\nI don't know why I didn't come13Embed"
        ],
        [
         "2001",
         "44th Annual GRAMMY Awards  (2001)",
         "Record Of The Year",
         "Walk On",
         "U2",
         "True",
         "31 ContributorsWalk On Lyrics[Intro]\nAnd love is not the easy thing\nThe only baggage that you can bring\nLove is not the easy thing\nThe only baggage you can bring\nIs all that you can't leave behind\n\n[Verse 1]\nAnd if the darkness is to keep us apart\nAnd if the daylight feels like it's a long way off\nAnd if your glass heart should crack\nAnd for a second you turn back\nOh no, be strong\n\n[Chorus]\nOh, oh, walk on, walk on\nWhat you got they can't steal it\nNo, they can't even feel it\nWalk on, walk on\nStay safe tonight\n\n[Verse 2]\nYou're packing a suitcase for a place none of us has been\nA place that has to be believed to be seen\nYou could have flown away\nA singing bird in an open cage\nWho will only fly, only fly for freedom\nSee U2 LiveGet tickets as low as $400You might also like[Chorus]\nOh, oh, walk on, walk on\nWhat you've got they can't deny it\nCan't sell it or buy it\nWalk on, walk on\nStay safe tonight\nAnd I know it aches\nAnd your heart it breaks\nAnd you can only take so much\nWalk on\nWalk on\n\n[Bridge]\nHome, hard to know what it is if you've never had one\nHome, I can't say where it is but I know I'm going home\nThat's where the heart is\n\n[Chorus]\nAnd I know it aches\nAnd your heart it breaks\nAnd you can only take so much\nWalk on (Ooh)\nLeave it behind\nYou've got to leave it behind\n\n[Outro]\nAll that you fashion\nAll that you make\nAll that you build\nAll that you break\nAll that you measure\nAll that you feel\nAll this you can leave behind\nAll that you reason\nAll that you care\nIt's only time\nAnd I'll never fill up all my mind\nAll that you sense\nAll that you speak\nAll you dress up\nAnd all that you scheme\nAll you create\nAll that you wreck\nAll that you hate5Embed"
        ],
        [
         "2000",
         "43rd Annual GRAMMY Awards  (2000)",
         "Record Of The Year",
         "Beautiful Day",
         "U2",
         "True",
         "72 ContributorsTranslationsPortuguêsBeautiful Day Lyrics[Verse 1]\nThe heart is a bloom, shoots up through the stony ground\nThere's no room, no space to rent in this town\nYou're out of luck, and the reason that you had to care\nThe traffic is stuck, and you're not moving anywhere\nYou thought you'd found a friend to take you out of this place\nSomeone you could lend a hand in return for grace\n\n[Chorus]\nIt's a beautiful day\nSky falls, you feel like\nIt's a beautiful day\nDon't let it get away\n\n[Verse 2]\nYou're on the road, but you've got no destination\nYou're in the mud, in the maze of her imagination\nYou love this town even if that doesn't ring true\nYou've been all over, and it's been all over you\n\n[Chorus]\nIt's a beautiful day\nDon't let it get away\nIt's a beautiful day\nOoh-hoo-hoo\nSee U2 LiveGet tickets as low as $400You might also like[Post-Chorus]\nTouch me\nTake me to that other place\nTeach me\nI know I'm not a hopeless case\n\n[Bridge]\nSee the world in green and blue\nSee China right in front of you\nSee the canyons broken by cloud\nSee the tuna fleets clearing the sea out\nSee the Bedouin fires at night\nSee the oil fields at first light\nAnd see the bird with a leaf in her mouth\nAfter the flood all the colours came out\n\n[Chorus]\nIt was a beautiful day\nDon't let it get away\nBeautiful day\n\n[Post-Chorus]\nTouch me\nTake me to that other place\nReach me\nI know I'm not a hopeless case\n[Outro]\nWhat you don't have you don't need it now\nWhat you don't know you can feel it somehow\nWhat you don't have you don't need it now\nDon't need it now\nWas a beautiful day27Embed"
        ]
       ],
       "datasetInfos": [],
       "dbfsResultPath": null,
       "isJsonSchema": true,
       "metadata": {},
       "overflow": false,
       "plotOptions": {
        "customPlotOptions": {},
        "displayType": "table",
        "pivotAggregation": null,
        "pivotColumns": null,
        "xColumns": null,
        "yColumns": null
       },
       "removedWidgets": [],
       "schema": [
        {
         "metadata": "{}",
         "name": "year",
         "type": "\"string\""
        },
        {
         "metadata": "{}",
         "name": "title",
         "type": "\"string\""
        },
        {
         "metadata": "{}",
         "name": "category",
         "type": "\"string\""
        },
        {
         "metadata": "{}",
         "name": "nominee",
         "type": "\"string\""
        },
        {
         "metadata": "{}",
         "name": "artist",
         "type": "\"string\""
        },
        {
         "metadata": "{}",
         "name": "winner",
         "type": "\"string\""
        },
        {
         "metadata": "{}",
         "name": "lyrics",
         "type": "\"string\""
        }
       ],
       "type": "table"
      }
     },
     "output_type": "display_data"
    }
   ],
   "source": [
    "pd_new = pd.concat([rslt_df, rslt_df_2, rslt_df_3])\n",
    "display(pd_new)"
   ]
  },
  {
   "cell_type": "code",
   "execution_count": 0,
   "metadata": {
    "application/vnd.databricks.v1+cell": {
     "cellMetadata": {
      "byteLimit": 2048000,
      "rowLimit": 10000
     },
     "inputWidgets": {},
     "nuid": "a993748f-5ec7-4571-a1b7-f3aab6faf45b",
     "showTitle": false,
     "title": ""
    }
   },
   "outputs": [],
   "source": [
    "# data['BMI'] = data.apply(lambda x: calc_bmi(x['Weight'], x['Height']), axis=1)\n",
    "# df_record_new['lyrics'] = df_record_new.apply(lambda x: get_lyrics(x['artist'], x['nominee']), axis=1)"
   ]
  },
  {
   "cell_type": "code",
   "execution_count": 0,
   "metadata": {
    "application/vnd.databricks.v1+cell": {
     "cellMetadata": {
      "byteLimit": 2048000,
      "rowLimit": 10000
     },
     "inputWidgets": {},
     "nuid": "a0cdb6d6-8e99-4b3f-a5ba-c7f5da1059a9",
     "showTitle": false,
     "title": ""
    }
   },
   "outputs": [
    {
     "output_type": "display_data",
     "data": {
      "text/html": [
       "<style scoped>\n",
       "  .table-result-container {\n",
       "    max-height: 300px;\n",
       "    overflow: auto;\n",
       "  }\n",
       "  table, th, td {\n",
       "    border: 1px solid black;\n",
       "    border-collapse: collapse;\n",
       "  }\n",
       "  th, td {\n",
       "    padding: 5px;\n",
       "  }\n",
       "  th {\n",
       "    text-align: left;\n",
       "  }\n",
       "</style><div class='table-result-container'><table class='table-result'><thead style='background-color: white'><tr><th>year</th><th>title</th><th>category</th><th>nominee</th><th>artist</th><th>winner</th></tr></thead><tbody><tr><td>2019</td><td>62nd Annual GRAMMY Awards  (2019)</td><td>Record Of The Year</td><td>Bad Guy</td><td>Billie Eilish</td><td>True</td></tr><tr><td>2019</td><td>62nd Annual GRAMMY Awards  (2019)</td><td>Record Of The Year</td><td>Hey, Ma</td><td>Bon Iver</td><td>True</td></tr><tr><td>2019</td><td>62nd Annual GRAMMY Awards  (2019)</td><td>Record Of The Year</td><td>7 rings</td><td>Ariana Grande</td><td>True</td></tr><tr><td>2019</td><td>62nd Annual GRAMMY Awards  (2019)</td><td>Record Of The Year</td><td>Hard Place</td><td>H.E.R.</td><td>True</td></tr><tr><td>2019</td><td>62nd Annual GRAMMY Awards  (2019)</td><td>Record Of The Year</td><td>Talk</td><td>Khalid</td><td>True</td></tr><tr><td>2019</td><td>62nd Annual GRAMMY Awards  (2019)</td><td>Record Of The Year</td><td>Old Town Road</td><td>Lil Nas X Featuring Billy Ray Cyrus</td><td>True</td></tr><tr><td>2019</td><td>62nd Annual GRAMMY Awards  (2019)</td><td>Record Of The Year</td><td>Truth Hurts</td><td>Lizzo</td><td>True</td></tr><tr><td>2019</td><td>62nd Annual GRAMMY Awards  (2019)</td><td>Record Of The Year</td><td>Sunflower</td><td>Post Malone & Swae Lee</td><td>True</td></tr><tr><td>2018</td><td>61st Annual GRAMMY Awards  (2018)</td><td>Record Of The Year</td><td>This Is America</td><td>Childish Gambino</td><td>True</td></tr><tr><td>2017</td><td>60th Annual GRAMMY Awards  (2017)</td><td>Record Of The Year</td><td>24K Magic</td><td>Bruno Mars</td><td>True</td></tr><tr><td>2016</td><td>59th Annual GRAMMY Awards  (2016)</td><td>Record Of The Year</td><td>Hello</td><td>Adele</td><td>True</td></tr><tr><td>2015</td><td>58th Annual GRAMMY Awards  (2015)</td><td>Record Of The Year</td><td>Uptown Funk</td><td>Mark Ronson Featuring Bruno Mars</td><td>True</td></tr><tr><td>2014</td><td>57th Annual GRAMMY Awards  (2014)</td><td>Record Of The Year</td><td>Stay With Me (Darkchild Version)</td><td>Sam Smith</td><td>True</td></tr><tr><td>2013</td><td>56th Annual GRAMMY Awards  (2013)</td><td>Record Of The Year</td><td>Get Lucky</td><td>Daft Punk Featuring Pharrell Williams & Nile Rodgers</td><td>True</td></tr><tr><td>2012</td><td>55th Annual GRAMMY Awards  (2012)</td><td>Record Of The Year</td><td>Somebody That I Used To Know</td><td>Gotye Featuring Kimbra</td><td>True</td></tr><tr><td>2011</td><td>54th Annual GRAMMY Awards  (2011)</td><td>Record Of The Year</td><td>Rolling In The Deep</td><td>Adele</td><td>True</td></tr><tr><td>2010</td><td>53rd Annual GRAMMY Awards  (2010)</td><td>Record Of The Year</td><td>Need You Now</td><td>Lady Antebellum</td><td>True</td></tr><tr><td>2009</td><td>52nd Annual GRAMMY Awards  (2009)</td><td>Record Of The Year</td><td>Use Somebody</td><td>Kings Of Leon</td><td>True</td></tr><tr><td>2008</td><td>51st Annual GRAMMY Awards  (2008)</td><td>Record Of The Year</td><td>Please Read The Letter</td><td>Robert Plant & Alison Krauss</td><td>True</td></tr><tr><td>2007</td><td>50th Annual GRAMMY Awards  (2007)</td><td>Record Of The Year</td><td>Rehab</td><td>Amy Winehouse</td><td>True</td></tr><tr><td>2006</td><td>49th Annual GRAMMY Awards  (2006)</td><td>Record Of The Year</td><td>Not Ready To Make Nice</td><td>Dixie Chicks</td><td>True</td></tr><tr><td>2005</td><td>48th Annual GRAMMY Awards  (2005)</td><td>Record Of The Year</td><td>Boulevard Of Broken Dreams</td><td>Green Day</td><td>True</td></tr><tr><td>2004</td><td>47th Annual GRAMMY Awards  (2004)</td><td>Record Of The Year</td><td>Here We Go Again</td><td>Ray Charles & Norah Jones</td><td>True</td></tr><tr><td>2003</td><td>46th Annual GRAMMY Awards  (2003)</td><td>Record Of The Year</td><td>Clocks</td><td>Coldplay</td><td>True</td></tr><tr><td>2002</td><td>45th Annual GRAMMY Awards  (2002)</td><td>Record Of The Year</td><td>Don't Know Why</td><td>Norah Jones</td><td>True</td></tr><tr><td>2001</td><td>44th Annual GRAMMY Awards  (2001)</td><td>Record Of The Year</td><td>Walk On</td><td>U2</td><td>True</td></tr><tr><td>2000</td><td>43rd Annual GRAMMY Awards  (2000)</td><td>Record Of The Year</td><td>Beautiful Day</td><td>U2</td><td>True</td></tr><tr><td>1999</td><td>42nd Annual GRAMMY Awards  (1999)</td><td>Record Of The Year</td><td>Smooth</td><td>Santana Featuring Rob Thomas</td><td>True</td></tr><tr><td>1998</td><td>41st Annual GRAMMY Awards  (1998)</td><td>Record Of The Year</td><td>My Heart Will Go On (Love Theme From Titanic)</td><td>Celine Dion</td><td>True</td></tr><tr><td>1997</td><td>40th Annual GRAMMY Awards  (1997)</td><td>Record Of The Year</td><td>Sunny Came Home</td><td>Shawn Colvin</td><td>True</td></tr><tr><td>1996</td><td>39th Annual GRAMMY Awards  (1996)</td><td>Record Of The Year</td><td>Change The World</td><td>Eric Clapton</td><td>True</td></tr><tr><td>1995</td><td>38th Annual GRAMMY Awards  (1995)</td><td>Record Of The Year</td><td>Kiss From A Rose</td><td>Seal</td><td>True</td></tr><tr><td>1994</td><td>37th Annual GRAMMY Awards  (1994)</td><td>Record Of The Year</td><td>All I Wanna Do</td><td>Sheryl Crow</td><td>True</td></tr><tr><td>1993</td><td>36th Annual GRAMMY Awards  (1993)</td><td>Record Of The Year</td><td>I Will Always Love You</td><td>Whitney Houston</td><td>True</td></tr><tr><td>1992</td><td>35th Annual GRAMMY Awards  (1992)</td><td>Record Of The Year</td><td>Tears In Heaven</td><td>Eric Clapton</td><td>True</td></tr><tr><td>1991</td><td>34th Annual GRAMMY Awards  (1991)</td><td>Record Of The Year</td><td>Unforgettable</td><td>Natalie Cole (With Nat \"King\" Cole)</td><td>True</td></tr><tr><td>1990</td><td>33rd Annual GRAMMY Awards  (1990)</td><td>Record Of The Year</td><td>Another Day In Paradise</td><td>Phil Collins</td><td>True</td></tr><tr><td>1989</td><td>32nd Annual GRAMMY Awards  (1989)</td><td>Record Of The Year</td><td>Wind Beneath My Wings</td><td>Bette Midler</td><td>True</td></tr><tr><td>1988</td><td>31st Annual GRAMMY Awards  (1988)</td><td>Record Of The Year</td><td>Don't Worry Be Happy</td><td>Bobby McFerrin</td><td>True</td></tr><tr><td>1987</td><td>30th Annual GRAMMY Awards  (1987)</td><td>Record Of The Year</td><td>Graceland</td><td>Paul Simon</td><td>True</td></tr><tr><td>1986</td><td>29th Annual GRAMMY Awards  (1986)</td><td>Record Of The Year</td><td>Higher Love</td><td>Steve Winwood</td><td>True</td></tr><tr><td>1985</td><td>28th Annual GRAMMY Awards  (1985)</td><td>Record Of The Year</td><td>We Are The World</td><td>USA For Africa (Various Artists)</td><td>True</td></tr><tr><td>1984</td><td>27th Annual GRAMMY Awards  (1984)</td><td>Record Of The Year</td><td>What's Love Got To Do With It</td><td>Tina Turner</td><td>True</td></tr><tr><td>1983</td><td>26th Annual GRAMMY Awards  (1983)</td><td>Record Of The Year</td><td>Beat It</td><td>Michael Jackson</td><td>True</td></tr><tr><td>1982</td><td>25th Annual GRAMMY Awards  (1982)</td><td>Record Of The Year</td><td>Rosanna</td><td>Toto</td><td>True</td></tr><tr><td>1981</td><td>24th Annual GRAMMY Awards  (1981)</td><td>Record Of The Year</td><td>Bette Davis Eyes</td><td>Kim Carnes</td><td>True</td></tr><tr><td>1980</td><td>23rd Annual GRAMMY Awards  (1980)</td><td>Record Of The Year</td><td>Sailing</td><td>Christopher Cross</td><td>True</td></tr><tr><td>1979</td><td>22nd Annual GRAMMY Awards  (1979)</td><td>Record Of The Year</td><td>What A Fool Believes</td><td>The Doobie Brothers</td><td>True</td></tr><tr><td>1978</td><td>21st Annual GRAMMY Awards  (1978)</td><td>Record Of The Year</td><td>Just The Way You Are</td><td>Billy Joel</td><td>True</td></tr><tr><td>1977</td><td>20th Annual GRAMMY Awards  (1977)</td><td>Record Of The Year</td><td>Hotel California</td><td>Eagles</td><td>True</td></tr><tr><td>1976</td><td>19th Annual GRAMMY Awards  (1976)</td><td>Record Of The Year</td><td>This Masquerade</td><td>George Benson</td><td>True</td></tr><tr><td>1975</td><td>18th Annual GRAMMY Awards  (1975)</td><td>Record Of The Year</td><td>Love Will Keep Us Together</td><td>Captain & Tennille</td><td>True</td></tr><tr><td>1974</td><td>17th Annual GRAMMY Awards  (1974)</td><td>Record Of The Year</td><td>I Honestly Love You</td><td>Olivia Newton-John</td><td>True</td></tr><tr><td>1973</td><td>16th Annual GRAMMY Awards  (1973)</td><td>Record Of The Year</td><td>Killing Me Softly With His Song</td><td>Roberta Flack</td><td>True</td></tr><tr><td>1972</td><td>15th Annual GRAMMY Awards  (1972)</td><td>Record Of The Year</td><td>The First Time Ever I Saw Your Face</td><td>Roberta Flack</td><td>True</td></tr><tr><td>1971</td><td>14th Annual GRAMMY Awards  (1971)</td><td>Record Of The Year</td><td>It's Too Late</td><td>Carole King</td><td>True</td></tr><tr><td>1970</td><td>13th Annual GRAMMY Awards  (1970)</td><td>Record Of The Year</td><td>Bridge Over Troubled Water</td><td>Simon And Garfunkel</td><td>True</td></tr><tr><td>1969</td><td>12th Annual GRAMMY Awards  (1969)</td><td>Record Of The Year</td><td>Aquarius/Let The Sunshine In (The Flesh Failures)</td><td>5th Dimension</td><td>True</td></tr><tr><td>1968</td><td>11th Annual GRAMMY Awards  (1968)</td><td>Record Of The Year</td><td>Mrs. Robinson</td><td>Simon And Garfunkel</td><td>True</td></tr><tr><td>1967</td><td>10th Annual GRAMMY Awards  (1967)</td><td>Record Of The Year</td><td>Up, Up And Away</td><td>5th Dimension</td><td>True</td></tr><tr><td>1966</td><td>9th Annual GRAMMY Awards  (1966)</td><td>Record Of The Year</td><td>Strangers In The Night</td><td>Frank Sinatra</td><td>True</td></tr><tr><td>1965</td><td>8th Annual GRAMMY Awards  (1965)</td><td>Record Of The Year</td><td>A Taste Of Honey</td><td>Herb Alpert And The Tijuana Brass</td><td>True</td></tr><tr><td>1964</td><td>7th Annual GRAMMY Awards  (1964)</td><td>Record Of The Year</td><td>The Girl From Ipanema</td><td>Stan Getz & Astrud Gilberto</td><td>True</td></tr><tr><td>1963</td><td>6th Annual GRAMMY Awards  (1963)</td><td>Record Of The Year</td><td>Days Of Wine And Roses</td><td>Henry Mancini</td><td>True</td></tr><tr><td>1962</td><td>5th Annual GRAMMY Awards  (1962)</td><td>Record Of The Year</td><td>I Left My Heart In San Francisco</td><td>Tony Bennett</td><td>True</td></tr><tr><td>1961</td><td>4th Annual GRAMMY Awards  (1961)</td><td>Record Of The Year</td><td>Moon River</td><td>Henry Mancini</td><td>True</td></tr><tr><td>1960</td><td>3rd Annual GRAMMY Awards  (1960)</td><td>Record Of The Year</td><td>The Theme From A Summer Place</td><td>Percy Faith & His Orchestra</td><td>True</td></tr><tr><td>1959</td><td>2nd Annual GRAMMY Awards  (1959)</td><td>Record Of The Year</td><td>Mack The Knife</td><td>Bobby Darin</td><td>True</td></tr><tr><td>1958</td><td>1st Annual GRAMMY Awards  (1958)</td><td>Record Of The Year</td><td>Nel Blu Dipinto Di Blu (Volare)</td><td>Domenico Modugno</td><td>True</td></tr></tbody></table></div>"
      ]
     },
     "metadata": {
      "application/vnd.databricks.v1+output": {
       "addedWidgets": {},
       "aggData": [],
       "aggError": "",
       "aggOverflow": false,
       "aggSchema": [],
       "aggSeriesLimitReached": false,
       "aggType": "",
       "arguments": {},
       "columnCustomDisplayInfos": {},
       "data": [
        [
         "2019",
         "62nd Annual GRAMMY Awards  (2019)",
         "Record Of The Year",
         "Bad Guy",
         "Billie Eilish",
         "True"
        ],
        [
         "2019",
         "62nd Annual GRAMMY Awards  (2019)",
         "Record Of The Year",
         "Hey, Ma",
         "Bon Iver",
         "True"
        ],
        [
         "2019",
         "62nd Annual GRAMMY Awards  (2019)",
         "Record Of The Year",
         "7 rings",
         "Ariana Grande",
         "True"
        ],
        [
         "2019",
         "62nd Annual GRAMMY Awards  (2019)",
         "Record Of The Year",
         "Hard Place",
         "H.E.R.",
         "True"
        ],
        [
         "2019",
         "62nd Annual GRAMMY Awards  (2019)",
         "Record Of The Year",
         "Talk",
         "Khalid",
         "True"
        ],
        [
         "2019",
         "62nd Annual GRAMMY Awards  (2019)",
         "Record Of The Year",
         "Old Town Road",
         "Lil Nas X Featuring Billy Ray Cyrus",
         "True"
        ],
        [
         "2019",
         "62nd Annual GRAMMY Awards  (2019)",
         "Record Of The Year",
         "Truth Hurts",
         "Lizzo",
         "True"
        ],
        [
         "2019",
         "62nd Annual GRAMMY Awards  (2019)",
         "Record Of The Year",
         "Sunflower",
         "Post Malone & Swae Lee",
         "True"
        ],
        [
         "2018",
         "61st Annual GRAMMY Awards  (2018)",
         "Record Of The Year",
         "This Is America",
         "Childish Gambino",
         "True"
        ],
        [
         "2017",
         "60th Annual GRAMMY Awards  (2017)",
         "Record Of The Year",
         "24K Magic",
         "Bruno Mars",
         "True"
        ],
        [
         "2016",
         "59th Annual GRAMMY Awards  (2016)",
         "Record Of The Year",
         "Hello",
         "Adele",
         "True"
        ],
        [
         "2015",
         "58th Annual GRAMMY Awards  (2015)",
         "Record Of The Year",
         "Uptown Funk",
         "Mark Ronson Featuring Bruno Mars",
         "True"
        ],
        [
         "2014",
         "57th Annual GRAMMY Awards  (2014)",
         "Record Of The Year",
         "Stay With Me (Darkchild Version)",
         "Sam Smith",
         "True"
        ],
        [
         "2013",
         "56th Annual GRAMMY Awards  (2013)",
         "Record Of The Year",
         "Get Lucky",
         "Daft Punk Featuring Pharrell Williams & Nile Rodgers",
         "True"
        ],
        [
         "2012",
         "55th Annual GRAMMY Awards  (2012)",
         "Record Of The Year",
         "Somebody That I Used To Know",
         "Gotye Featuring Kimbra",
         "True"
        ],
        [
         "2011",
         "54th Annual GRAMMY Awards  (2011)",
         "Record Of The Year",
         "Rolling In The Deep",
         "Adele",
         "True"
        ],
        [
         "2010",
         "53rd Annual GRAMMY Awards  (2010)",
         "Record Of The Year",
         "Need You Now",
         "Lady Antebellum",
         "True"
        ],
        [
         "2009",
         "52nd Annual GRAMMY Awards  (2009)",
         "Record Of The Year",
         "Use Somebody",
         "Kings Of Leon",
         "True"
        ],
        [
         "2008",
         "51st Annual GRAMMY Awards  (2008)",
         "Record Of The Year",
         "Please Read The Letter",
         "Robert Plant & Alison Krauss",
         "True"
        ],
        [
         "2007",
         "50th Annual GRAMMY Awards  (2007)",
         "Record Of The Year",
         "Rehab",
         "Amy Winehouse",
         "True"
        ],
        [
         "2006",
         "49th Annual GRAMMY Awards  (2006)",
         "Record Of The Year",
         "Not Ready To Make Nice",
         "Dixie Chicks",
         "True"
        ],
        [
         "2005",
         "48th Annual GRAMMY Awards  (2005)",
         "Record Of The Year",
         "Boulevard Of Broken Dreams",
         "Green Day",
         "True"
        ],
        [
         "2004",
         "47th Annual GRAMMY Awards  (2004)",
         "Record Of The Year",
         "Here We Go Again",
         "Ray Charles & Norah Jones",
         "True"
        ],
        [
         "2003",
         "46th Annual GRAMMY Awards  (2003)",
         "Record Of The Year",
         "Clocks",
         "Coldplay",
         "True"
        ],
        [
         "2002",
         "45th Annual GRAMMY Awards  (2002)",
         "Record Of The Year",
         "Don't Know Why",
         "Norah Jones",
         "True"
        ],
        [
         "2001",
         "44th Annual GRAMMY Awards  (2001)",
         "Record Of The Year",
         "Walk On",
         "U2",
         "True"
        ],
        [
         "2000",
         "43rd Annual GRAMMY Awards  (2000)",
         "Record Of The Year",
         "Beautiful Day",
         "U2",
         "True"
        ],
        [
         "1999",
         "42nd Annual GRAMMY Awards  (1999)",
         "Record Of The Year",
         "Smooth",
         "Santana Featuring Rob Thomas",
         "True"
        ],
        [
         "1998",
         "41st Annual GRAMMY Awards  (1998)",
         "Record Of The Year",
         "My Heart Will Go On (Love Theme From Titanic)",
         "Celine Dion",
         "True"
        ],
        [
         "1997",
         "40th Annual GRAMMY Awards  (1997)",
         "Record Of The Year",
         "Sunny Came Home",
         "Shawn Colvin",
         "True"
        ],
        [
         "1996",
         "39th Annual GRAMMY Awards  (1996)",
         "Record Of The Year",
         "Change The World",
         "Eric Clapton",
         "True"
        ],
        [
         "1995",
         "38th Annual GRAMMY Awards  (1995)",
         "Record Of The Year",
         "Kiss From A Rose",
         "Seal",
         "True"
        ],
        [
         "1994",
         "37th Annual GRAMMY Awards  (1994)",
         "Record Of The Year",
         "All I Wanna Do",
         "Sheryl Crow",
         "True"
        ],
        [
         "1993",
         "36th Annual GRAMMY Awards  (1993)",
         "Record Of The Year",
         "I Will Always Love You",
         "Whitney Houston",
         "True"
        ],
        [
         "1992",
         "35th Annual GRAMMY Awards  (1992)",
         "Record Of The Year",
         "Tears In Heaven",
         "Eric Clapton",
         "True"
        ],
        [
         "1991",
         "34th Annual GRAMMY Awards  (1991)",
         "Record Of The Year",
         "Unforgettable",
         "Natalie Cole (With Nat \"King\" Cole)",
         "True"
        ],
        [
         "1990",
         "33rd Annual GRAMMY Awards  (1990)",
         "Record Of The Year",
         "Another Day In Paradise",
         "Phil Collins",
         "True"
        ],
        [
         "1989",
         "32nd Annual GRAMMY Awards  (1989)",
         "Record Of The Year",
         "Wind Beneath My Wings",
         "Bette Midler",
         "True"
        ],
        [
         "1988",
         "31st Annual GRAMMY Awards  (1988)",
         "Record Of The Year",
         "Don't Worry Be Happy",
         "Bobby McFerrin",
         "True"
        ],
        [
         "1987",
         "30th Annual GRAMMY Awards  (1987)",
         "Record Of The Year",
         "Graceland",
         "Paul Simon",
         "True"
        ],
        [
         "1986",
         "29th Annual GRAMMY Awards  (1986)",
         "Record Of The Year",
         "Higher Love",
         "Steve Winwood",
         "True"
        ],
        [
         "1985",
         "28th Annual GRAMMY Awards  (1985)",
         "Record Of The Year",
         "We Are The World",
         "USA For Africa (Various Artists)",
         "True"
        ],
        [
         "1984",
         "27th Annual GRAMMY Awards  (1984)",
         "Record Of The Year",
         "What's Love Got To Do With It",
         "Tina Turner",
         "True"
        ],
        [
         "1983",
         "26th Annual GRAMMY Awards  (1983)",
         "Record Of The Year",
         "Beat It",
         "Michael Jackson",
         "True"
        ],
        [
         "1982",
         "25th Annual GRAMMY Awards  (1982)",
         "Record Of The Year",
         "Rosanna",
         "Toto",
         "True"
        ],
        [
         "1981",
         "24th Annual GRAMMY Awards  (1981)",
         "Record Of The Year",
         "Bette Davis Eyes",
         "Kim Carnes",
         "True"
        ],
        [
         "1980",
         "23rd Annual GRAMMY Awards  (1980)",
         "Record Of The Year",
         "Sailing",
         "Christopher Cross",
         "True"
        ],
        [
         "1979",
         "22nd Annual GRAMMY Awards  (1979)",
         "Record Of The Year",
         "What A Fool Believes",
         "The Doobie Brothers",
         "True"
        ],
        [
         "1978",
         "21st Annual GRAMMY Awards  (1978)",
         "Record Of The Year",
         "Just The Way You Are",
         "Billy Joel",
         "True"
        ],
        [
         "1977",
         "20th Annual GRAMMY Awards  (1977)",
         "Record Of The Year",
         "Hotel California",
         "Eagles",
         "True"
        ],
        [
         "1976",
         "19th Annual GRAMMY Awards  (1976)",
         "Record Of The Year",
         "This Masquerade",
         "George Benson",
         "True"
        ],
        [
         "1975",
         "18th Annual GRAMMY Awards  (1975)",
         "Record Of The Year",
         "Love Will Keep Us Together",
         "Captain & Tennille",
         "True"
        ],
        [
         "1974",
         "17th Annual GRAMMY Awards  (1974)",
         "Record Of The Year",
         "I Honestly Love You",
         "Olivia Newton-John",
         "True"
        ],
        [
         "1973",
         "16th Annual GRAMMY Awards  (1973)",
         "Record Of The Year",
         "Killing Me Softly With His Song",
         "Roberta Flack",
         "True"
        ],
        [
         "1972",
         "15th Annual GRAMMY Awards  (1972)",
         "Record Of The Year",
         "The First Time Ever I Saw Your Face",
         "Roberta Flack",
         "True"
        ],
        [
         "1971",
         "14th Annual GRAMMY Awards  (1971)",
         "Record Of The Year",
         "It's Too Late",
         "Carole King",
         "True"
        ],
        [
         "1970",
         "13th Annual GRAMMY Awards  (1970)",
         "Record Of The Year",
         "Bridge Over Troubled Water",
         "Simon And Garfunkel",
         "True"
        ],
        [
         "1969",
         "12th Annual GRAMMY Awards  (1969)",
         "Record Of The Year",
         "Aquarius/Let The Sunshine In (The Flesh Failures)",
         "5th Dimension",
         "True"
        ],
        [
         "1968",
         "11th Annual GRAMMY Awards  (1968)",
         "Record Of The Year",
         "Mrs. Robinson",
         "Simon And Garfunkel",
         "True"
        ],
        [
         "1967",
         "10th Annual GRAMMY Awards  (1967)",
         "Record Of The Year",
         "Up, Up And Away",
         "5th Dimension",
         "True"
        ],
        [
         "1966",
         "9th Annual GRAMMY Awards  (1966)",
         "Record Of The Year",
         "Strangers In The Night",
         "Frank Sinatra",
         "True"
        ],
        [
         "1965",
         "8th Annual GRAMMY Awards  (1965)",
         "Record Of The Year",
         "A Taste Of Honey",
         "Herb Alpert And The Tijuana Brass",
         "True"
        ],
        [
         "1964",
         "7th Annual GRAMMY Awards  (1964)",
         "Record Of The Year",
         "The Girl From Ipanema",
         "Stan Getz & Astrud Gilberto",
         "True"
        ],
        [
         "1963",
         "6th Annual GRAMMY Awards  (1963)",
         "Record Of The Year",
         "Days Of Wine And Roses",
         "Henry Mancini",
         "True"
        ],
        [
         "1962",
         "5th Annual GRAMMY Awards  (1962)",
         "Record Of The Year",
         "I Left My Heart In San Francisco",
         "Tony Bennett",
         "True"
        ],
        [
         "1961",
         "4th Annual GRAMMY Awards  (1961)",
         "Record Of The Year",
         "Moon River",
         "Henry Mancini",
         "True"
        ],
        [
         "1960",
         "3rd Annual GRAMMY Awards  (1960)",
         "Record Of The Year",
         "The Theme From A Summer Place",
         "Percy Faith & His Orchestra",
         "True"
        ],
        [
         "1959",
         "2nd Annual GRAMMY Awards  (1959)",
         "Record Of The Year",
         "Mack The Knife",
         "Bobby Darin",
         "True"
        ],
        [
         "1958",
         "1st Annual GRAMMY Awards  (1958)",
         "Record Of The Year",
         "Nel Blu Dipinto Di Blu (Volare)",
         "Domenico Modugno",
         "True"
        ]
       ],
       "datasetInfos": [],
       "dbfsResultPath": null,
       "isJsonSchema": true,
       "metadata": {},
       "overflow": false,
       "plotOptions": {
        "customPlotOptions": {},
        "displayType": "table",
        "pivotAggregation": null,
        "pivotColumns": null,
        "xColumns": null,
        "yColumns": null
       },
       "removedWidgets": [],
       "schema": [
        {
         "metadata": "{}",
         "name": "year",
         "type": "\"string\""
        },
        {
         "metadata": "{}",
         "name": "title",
         "type": "\"string\""
        },
        {
         "metadata": "{}",
         "name": "category",
         "type": "\"string\""
        },
        {
         "metadata": "{}",
         "name": "nominee",
         "type": "\"string\""
        },
        {
         "metadata": "{}",
         "name": "artist",
         "type": "\"string\""
        },
        {
         "metadata": "{}",
         "name": "winner",
         "type": "\"string\""
        }
       ],
       "type": "table"
      }
     },
     "output_type": "display_data"
    }
   ],
   "source": [
    "# display(df_record_new)"
   ]
  }
 ],
 "metadata": {
  "application/vnd.databricks.v1+notebook": {
   "dashboards": [],
   "language": "python",
   "notebookMetadata": {
    "mostRecentlyExecutedCommandWithImplicitDF": {
     "commandId": 2844503137327618,
     "dataframes": [
      "_sqldf"
     ]
    },
    "pythonIndentUnit": 4
   },
   "notebookName": "Group F - Data Project",
   "widgets": {}
  }
 },
 "nbformat": 4,
 "nbformat_minor": 0
}
