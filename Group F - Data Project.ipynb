{
 "cells": [
  {
   "cell_type": "code",
   "execution_count": 0,
   "metadata": {
    "application/vnd.databricks.v1+cell": {
     "cellMetadata": {
      "byteLimit": 2048000,
      "rowLimit": 10000
     },
     "inputWidgets": {},
     "nuid": "cebfee2f-d2b0-465e-8950-8899405766c8",
     "showTitle": false,
     "title": ""
    }
   },
   "outputs": [
    {
     "output_type": "stream",
     "name": "stdout",
     "output_type": "stream",
     "text": [
      "Python interpreter will be restarted.\nCollecting lyricsgenius\n  Downloading lyricsgenius-3.0.1-py3-none-any.whl (59 kB)\nRequirement already satisfied: requests>=2.20.0 in /databricks/python3/lib/python3.9/site-packages (from lyricsgenius) (2.27.1)\nRequirement already satisfied: beautifulsoup4>=4.6.0 in /databricks/python3/lib/python3.9/site-packages (from lyricsgenius) (4.11.1)\nRequirement already satisfied: soupsieve>1.2 in /databricks/python3/lib/python3.9/site-packages (from beautifulsoup4>=4.6.0->lyricsgenius) (2.3.1)\nRequirement already satisfied: idna<4,>=2.5 in /databricks/python3/lib/python3.9/site-packages (from requests>=2.20.0->lyricsgenius) (3.3)\nRequirement already satisfied: charset-normalizer~=2.0.0 in /databricks/python3/lib/python3.9/site-packages (from requests>=2.20.0->lyricsgenius) (2.0.4)\nRequirement already satisfied: urllib3<1.27,>=1.21.1 in /databricks/python3/lib/python3.9/site-packages (from requests>=2.20.0->lyricsgenius) (1.26.9)\nRequirement already satisfied: certifi>=2017.4.17 in /databricks/python3/lib/python3.9/site-packages (from requests>=2.20.0->lyricsgenius) (2021.10.8)\nInstalling collected packages: lyricsgenius\nSuccessfully installed lyricsgenius-3.0.1\nPython interpreter will be restarted.\n"
     ]
    }
   ],
   "source": [
    "%pip install lyricsgenius"
   ]
  },
  {
   "cell_type": "code",
   "execution_count": 0,
   "metadata": {
    "application/vnd.databricks.v1+cell": {
     "cellMetadata": {
      "byteLimit": 2048000,
      "rowLimit": 10000
     },
     "inputWidgets": {},
     "nuid": "bbcaba83-da0d-47e0-9000-d49143951002",
     "showTitle": false,
     "title": ""
    }
   },
   "outputs": [],
   "source": [
    "import pyspark\n",
    "from pyspark.sql import SparkSession\n",
    "from pyspark.sql.types import StructType,StructField, StringType, IntegerType, FloatType, BooleanType\n",
    "from pyspark import SparkFiles"
   ]
  },
  {
   "cell_type": "code",
   "execution_count": 0,
   "metadata": {
    "application/vnd.databricks.v1+cell": {
     "cellMetadata": {
      "byteLimit": 2048000,
      "rowLimit": 10000
     },
     "inputWidgets": {},
     "nuid": "52e6effc-92c3-4f96-a5c0-101f282f62bb",
     "showTitle": false,
     "title": ""
    }
   },
   "outputs": [],
   "source": [
    "# Access token to access the Genius API\n",
    "genius_access_token = \"_uAHk5SWEsiQ-m07ZfEkAINUaD8Qlu497ipRp3MUD-fDVw1MpfEPeY5nx3kg08pB\"\n",
    "\n",
    "from lyricsgenius import Genius\n",
    "\n",
    "# Re-usable object to search and save lyrics.\n",
    "genius = Genius(genius_access_token)\n"
   ]
  },
  {
   "cell_type": "code",
   "execution_count": 0,
   "metadata": {
    "application/vnd.databricks.v1+cell": {
     "cellMetadata": {
      "byteLimit": 2048000,
      "rowLimit": 10000
     },
     "inputWidgets": {},
     "nuid": "420078cc-ca77-4e4f-a5fb-48ded4183219",
     "showTitle": false,
     "title": ""
    }
   },
   "outputs": [
    {
     "output_type": "stream",
     "name": "stdout",
     "output_type": "stream",
     "text": [
      "Searching for \"Hey, Ma\" by Bon Iver...\nDone.\n57 ContributorsHey, Ma Lyrics[Verse 1]\nI waited outside\nI took it remote\nI wanted a bath\n\"Tell the story or he goes\"\n\"Tell the story or he goes\"\n\n[Chorus]\nFull time, you talk your money up\nWhile it's living in a coal mine\nTall time to call your Ma\nHey Ma, hey Ma\nTall vote, you know you mope it up\nWell, you wanted it your whole life\nYou're back and forth with light\n\n[Verse 2]\nI waited outside\nI was tokin' on dope\nI hoped it all wunt go in a minute\nWith the past that you know\nI wanted all that mind sugar\nI want it all mine\nI had a heavy mind, sugar\nI took it, it was right\nYou might also like[Chorus]\nFull time, you talk your money up\nWhile it's living in a coal mine\nTall time to call your Ma\nHey Ma, hey Ma\nTall vote, you know you mope it up\nWell, you wanted it your whole life\nYou're back and forth with light\n\n[Interlude]\nYou're back and forth\nYou're back and forth\nYou go back and forth\nAnd then you're back and forth\nAnd back and forth\n\n[Verse 3]\nI waited outside\nThen you took me in the room\nAnd you offered up the truth\nMy eyes crawling up the window to the wall\nFrom dusk 'til dawn\nLet me talk to 'em\nLet me talk to 'em all\n\n[Chorus]\nFull time, you talk your money up\nWhile it's living in a coal mine\nTall time to call your Ma\nHey Ma, hey Ma\nTall vote, you know you mope it up\nWell, you wanted it your whole life\nYou're back and forth with light12Embed\n"
     ]
    }
   ],
   "source": [
    "# Let's try the Genius API to see if it works as expected:\n",
    "song = genius.search_song('Hey, Ma', 'Bon Iver')\n",
    "print(song.lyrics)"
   ]
  },
  {
   "cell_type": "code",
   "execution_count": 0,
   "metadata": {
    "application/vnd.databricks.v1+cell": {
     "cellMetadata": {
      "byteLimit": 2048000,
      "rowLimit": 10000
     },
     "inputWidgets": {},
     "nuid": "27a01b61-a29a-44a9-949c-adeb5a82823f",
     "showTitle": false,
     "title": ""
    }
   },
   "outputs": [],
   "source": [
    "# Let's store the file in dbfs, if it's not there, fetch it and save it to dbfs\n",
    "def getGrammyData():\n",
    "    file_location = \"/FileStore/tables/the_grammy_awards.csv\"\n",
    "\n",
    "    try:\n",
    "        f = dbutils.fs.ls(file_location)\n",
    "    except:\n",
    "        url = \"https://raw.githubusercontent.com/mackrauss/3252-BigData-Group-F/main/the_grammy_awards.csv\"\n",
    "        spark.sparkContext.addFile(url)\n",
    "        dbutils.fs.cp('file://'+SparkFiles.get('the_grammy_awards.csv'), file_location)\n",
    "        print('Moved file to tables')\n",
    "    \n",
    "    return file_location"
   ]
  },
  {
   "cell_type": "code",
   "execution_count": 0,
   "metadata": {
    "application/vnd.databricks.v1+cell": {
     "cellMetadata": {
      "byteLimit": 2048000,
      "rowLimit": 10000
     },
     "inputWidgets": {},
     "nuid": "41f3504a-6b5e-4d3d-98a6-e513990e368b",
     "showTitle": false,
     "title": ""
    }
   },
   "outputs": [],
   "source": [
    "file_location = getGrammyData()\n",
    "\n",
    "file_type = \"csv\"\n",
    "\n",
    "# CSV options\n",
    "infer_schema = \"false\"\n",
    "first_row_is_header = \"true\"\n",
    "delimiter = \",\"\n",
    "\n",
    "df = spark.read.format(file_type) \\\n",
    "  .option(\"inferSchema\", infer_schema) \\\n",
    "  .option(\"header\", first_row_is_header) \\\n",
    "  .option(\"sep\", delimiter) \\\n",
    "  .load(file_location)"
   ]
  },
  {
   "cell_type": "code",
   "execution_count": 0,
   "metadata": {
    "application/vnd.databricks.v1+cell": {
     "cellMetadata": {
      "byteLimit": 2048000,
      "rowLimit": 10000
     },
     "inputWidgets": {},
     "nuid": "e9a7f2ff-cd96-44c8-9cbe-0df201f62b26",
     "showTitle": false,
     "title": ""
    }
   },
   "outputs": [],
   "source": [
    "# pull file via HTTP/S using Spark tools\n",
    "# from pyspark import SparkFiles\n",
    "\n",
    "# url = \"https://raw.githubusercontent.com/mackrauss/3252-BigData-Group-F/main/the_grammy_awards.csv\"\n",
    "# spark.sparkContext.addFile(url)\n",
    "\n",
    "# df = spark.read.csv(\"file://\"+SparkFiles.get(\"the_grammy_awards.csv\"), header=True, inferSchema= True)\n"
   ]
  },
  {
   "cell_type": "code",
   "execution_count": 0,
   "metadata": {
    "application/vnd.databricks.v1+cell": {
     "cellMetadata": {
      "byteLimit": 2048000,
      "rowLimit": 10000
     },
     "inputWidgets": {},
     "nuid": "4ea4f8ae-13f8-40d7-ae4b-cd472fa13378",
     "showTitle": false,
     "title": ""
    }
   },
   "outputs": [
    {
     "output_type": "display_data",
     "data": {
      "text/html": [
       "<style scoped>\n",
       "  .table-result-container {\n",
       "    max-height: 300px;\n",
       "    overflow: auto;\n",
       "  }\n",
       "  table, th, td {\n",
       "    border: 1px solid black;\n",
       "    border-collapse: collapse;\n",
       "  }\n",
       "  th, td {\n",
       "    padding: 5px;\n",
       "  }\n",
       "  th {\n",
       "    text-align: left;\n",
       "  }\n",
       "</style><div class='table-result-container'><table class='table-result'><thead style='background-color: white'><tr><th>year</th><th>title</th><th>published_at</th><th>updated_at</th><th>category</th><th>nominee</th><th>artist</th><th>workers</th><th>img</th><th>winner</th></tr></thead><tbody><tr><td>2019</td><td>62nd Annual GRAMMY Awards  (2019)</td><td>2020-05-19T05:10:28-07:00</td><td>2020-05-19T05:10:28-07:00</td><td>Record Of The Year</td><td>Bad Guy</td><td>Billie Eilish</td><td>Finneas O'Connell, producer; Rob Kinelski & Finneas O'Connell, engineers/mixers; John Greenham, mastering engineer</td><td>https://www.grammy.com/sites/com/files/styles/artist_circle/public/muzooka/Billie%2BEilish/Billie%2520Eilish_1_1_1594138954.jpg?itok=3-71Dfxh</td><td>True</td></tr><tr><td>2019</td><td>62nd Annual GRAMMY Awards  (2019)</td><td>2020-05-19T05:10:28-07:00</td><td>2020-05-19T05:10:28-07:00</td><td>Record Of The Year</td><td>Hey, Ma</td><td>Bon Iver</td><td>BJ Burton, Brad Cook, Chris Messina & Justin Vernon, producers; BJ Burton, Zach Hanson & Chris Messina, engineers/mixers; Greg Calbi, mastering engineer</td><td>https://www.grammy.com/sites/com/files/styles/artist_circle/public/muzooka/Bon%2BIver/Bon%2520Iver_1_1_1578385181.jpg?itok=_M1hc5Ux</td><td>True</td></tr><tr><td>2019</td><td>62nd Annual GRAMMY Awards  (2019)</td><td>2020-05-19T05:10:28-07:00</td><td>2020-05-19T05:10:28-07:00</td><td>Record Of The Year</td><td>7 rings</td><td>Ariana Grande</td><td>Charles Anderson, Tommy Brown, Michael Foster & Victoria Monet, producers; Serban Ghenea, John Hanes, Billy Hickey & Brendan Morawski, engineers/mixers; Randy Merrill, mastering engineer</td><td>https://www.grammy.com/sites/com/files/styles/artist_circle/public/muzooka/Ariana%2BGrande/Ariana%2520Grande_1_1_1578384678.jpg?itok=Amj90j13</td><td>True</td></tr><tr><td>2019</td><td>62nd Annual GRAMMY Awards  (2019)</td><td>2020-05-19T05:10:28-07:00</td><td>2020-05-19T05:10:28-07:00</td><td>Record Of The Year</td><td>Hard Place</td><td>H.E.R.</td><td>Rodney “Darkchild” Jerkins, producer; Joseph Hurtado, Jaycen Joshua, Derek Keota & Miki Tsutsumi, engineers/mixers; Colin Leonard, mastering engineer</td><td>https://www.grammy.com/sites/com/files/styles/artist_circle/public/muzooka/H.E.R./H.E.R._1_1_1594631035.jpg?itok=ClJe-2MN</td><td>True</td></tr><tr><td>2019</td><td>62nd Annual GRAMMY Awards  (2019)</td><td>2020-05-19T05:10:28-07:00</td><td>2020-05-19T05:10:28-07:00</td><td>Record Of The Year</td><td>Talk</td><td>Khalid</td><td>Disclosure & Denis Kosiak, producers; Ingmar Carlson, Jon Castelli, Josh Deguzman, John Kercy, Denis Kosiak, Guy Lawrence & Michael Romero, engineers/mixers; Dale Becker, mastering engineer</td><td>https://www.grammy.com/sites/com/files/styles/artist_circle/public/muzooka/Khalid/Khalid_1_1_1594578772.jpg?itok=2HxjAT-X</td><td>True</td></tr></tbody></table></div>"
      ]
     },
     "metadata": {
      "application/vnd.databricks.v1+output": {
       "addedWidgets": {},
       "aggData": [],
       "aggError": "",
       "aggOverflow": false,
       "aggSchema": [],
       "aggSeriesLimitReached": false,
       "aggType": "",
       "arguments": {},
       "columnCustomDisplayInfos": {},
       "data": [
        [
         "2019",
         "62nd Annual GRAMMY Awards  (2019)",
         "2020-05-19T05:10:28-07:00",
         "2020-05-19T05:10:28-07:00",
         "Record Of The Year",
         "Bad Guy",
         "Billie Eilish",
         "Finneas O'Connell, producer; Rob Kinelski & Finneas O'Connell, engineers/mixers; John Greenham, mastering engineer",
         "https://www.grammy.com/sites/com/files/styles/artist_circle/public/muzooka/Billie%2BEilish/Billie%2520Eilish_1_1_1594138954.jpg?itok=3-71Dfxh",
         "True"
        ],
        [
         "2019",
         "62nd Annual GRAMMY Awards  (2019)",
         "2020-05-19T05:10:28-07:00",
         "2020-05-19T05:10:28-07:00",
         "Record Of The Year",
         "Hey, Ma",
         "Bon Iver",
         "BJ Burton, Brad Cook, Chris Messina & Justin Vernon, producers; BJ Burton, Zach Hanson & Chris Messina, engineers/mixers; Greg Calbi, mastering engineer",
         "https://www.grammy.com/sites/com/files/styles/artist_circle/public/muzooka/Bon%2BIver/Bon%2520Iver_1_1_1578385181.jpg?itok=_M1hc5Ux",
         "True"
        ],
        [
         "2019",
         "62nd Annual GRAMMY Awards  (2019)",
         "2020-05-19T05:10:28-07:00",
         "2020-05-19T05:10:28-07:00",
         "Record Of The Year",
         "7 rings",
         "Ariana Grande",
         "Charles Anderson, Tommy Brown, Michael Foster & Victoria Monet, producers; Serban Ghenea, John Hanes, Billy Hickey & Brendan Morawski, engineers/mixers; Randy Merrill, mastering engineer",
         "https://www.grammy.com/sites/com/files/styles/artist_circle/public/muzooka/Ariana%2BGrande/Ariana%2520Grande_1_1_1578384678.jpg?itok=Amj90j13",
         "True"
        ],
        [
         "2019",
         "62nd Annual GRAMMY Awards  (2019)",
         "2020-05-19T05:10:28-07:00",
         "2020-05-19T05:10:28-07:00",
         "Record Of The Year",
         "Hard Place",
         "H.E.R.",
         "Rodney “Darkchild” Jerkins, producer; Joseph Hurtado, Jaycen Joshua, Derek Keota & Miki Tsutsumi, engineers/mixers; Colin Leonard, mastering engineer",
         "https://www.grammy.com/sites/com/files/styles/artist_circle/public/muzooka/H.E.R./H.E.R._1_1_1594631035.jpg?itok=ClJe-2MN",
         "True"
        ],
        [
         "2019",
         "62nd Annual GRAMMY Awards  (2019)",
         "2020-05-19T05:10:28-07:00",
         "2020-05-19T05:10:28-07:00",
         "Record Of The Year",
         "Talk",
         "Khalid",
         "Disclosure & Denis Kosiak, producers; Ingmar Carlson, Jon Castelli, Josh Deguzman, John Kercy, Denis Kosiak, Guy Lawrence & Michael Romero, engineers/mixers; Dale Becker, mastering engineer",
         "https://www.grammy.com/sites/com/files/styles/artist_circle/public/muzooka/Khalid/Khalid_1_1_1594578772.jpg?itok=2HxjAT-X",
         "True"
        ]
       ],
       "datasetInfos": [],
       "dbfsResultPath": null,
       "isJsonSchema": true,
       "metadata": {},
       "overflow": false,
       "plotOptions": {
        "customPlotOptions": {},
        "displayType": "table",
        "pivotAggregation": null,
        "pivotColumns": null,
        "xColumns": null,
        "yColumns": null
       },
       "removedWidgets": [],
       "schema": [
        {
         "metadata": "{}",
         "name": "year",
         "type": "\"string\""
        },
        {
         "metadata": "{}",
         "name": "title",
         "type": "\"string\""
        },
        {
         "metadata": "{}",
         "name": "published_at",
         "type": "\"string\""
        },
        {
         "metadata": "{}",
         "name": "updated_at",
         "type": "\"string\""
        },
        {
         "metadata": "{}",
         "name": "category",
         "type": "\"string\""
        },
        {
         "metadata": "{}",
         "name": "nominee",
         "type": "\"string\""
        },
        {
         "metadata": "{}",
         "name": "artist",
         "type": "\"string\""
        },
        {
         "metadata": "{}",
         "name": "workers",
         "type": "\"string\""
        },
        {
         "metadata": "{}",
         "name": "img",
         "type": "\"string\""
        },
        {
         "metadata": "{}",
         "name": "winner",
         "type": "\"string\""
        }
       ],
       "type": "table"
      }
     },
     "output_type": "display_data"
    }
   ],
   "source": [
    "display(df.head(5))"
   ]
  },
  {
   "cell_type": "code",
   "execution_count": 0,
   "metadata": {
    "application/vnd.databricks.v1+cell": {
     "cellMetadata": {
      "byteLimit": 2048000,
      "rowLimit": 10000
     },
     "inputWidgets": {},
     "nuid": "d6dfa6f4-582c-43c6-8f0d-dd56d1f8437f",
     "showTitle": false,
     "title": ""
    }
   },
   "outputs": [],
   "source": [
    "# Create a view or table to allow SQL usage\n",
    "\n",
    "temp_table_name = \"grammy_awards\"\n",
    "\n",
    "df.createOrReplaceTempView(temp_table_name)"
   ]
  },
  {
   "cell_type": "code",
   "execution_count": 0,
   "metadata": {
    "application/vnd.databricks.v1+cell": {
     "cellMetadata": {
      "byteLimit": 2048000,
      "implicitDf": true,
      "rowLimit": 10000
     },
     "inputWidgets": {},
     "nuid": "2ff98e88-502c-4d2e-8751-991890558b94",
     "showTitle": false,
     "title": ""
    }
   },
   "outputs": [
    {
     "output_type": "stream",
     "name": "stdout",
     "output_type": "stream",
     "text": [
      "+----+\n|year|\n+----+\n|2019|\n|2018|\n|2017|\n|2016|\n|2015|\n|2014|\n|2013|\n|2012|\n|2011|\n|2010|\n|2009|\n|2008|\n|2007|\n|2006|\n|2005|\n|2004|\n|2003|\n|2002|\n|2001|\n|2000|\n+----+\nonly showing top 20 rows\n\n"
     ]
    }
   ],
   "source": [
    "# Show all years in the record\n",
    "df.select(\"year\").distinct().orderBy(df.year.desc()).show() "
   ]
  },
  {
   "cell_type": "code",
   "execution_count": 0,
   "metadata": {
    "application/vnd.databricks.v1+cell": {
     "cellMetadata": {
      "byteLimit": 2048000,
      "rowLimit": 10000
     },
     "inputWidgets": {},
     "nuid": "5b61aae2-17a3-48e3-aaf2-4e25ce28451e",
     "showTitle": false,
     "title": ""
    }
   },
   "outputs": [
    {
     "output_type": "stream",
     "name": "stdout",
     "output_type": "stream",
     "text": [
      "Out[8]: 62"
     ]
    }
   ],
   "source": [
    "# Count number of years recorded\n",
    "df.select(\"year\").distinct().count()"
   ]
  },
  {
   "cell_type": "code",
   "execution_count": 0,
   "metadata": {
    "application/vnd.databricks.v1+cell": {
     "cellMetadata": {
      "byteLimit": 2048000,
      "implicitDf": true,
      "rowLimit": 10000
     },
     "inputWidgets": {},
     "nuid": "16afc600-ca80-475f-ba80-dca44fd34b78",
     "showTitle": false,
     "title": ""
    }
   },
   "outputs": [
    {
     "output_type": "display_data",
     "data": {
      "text/html": [
       "<style scoped>\n",
       "  .table-result-container {\n",
       "    max-height: 300px;\n",
       "    overflow: auto;\n",
       "  }\n",
       "  table, th, td {\n",
       "    border: 1px solid black;\n",
       "    border-collapse: collapse;\n",
       "  }\n",
       "  th, td {\n",
       "    padding: 5px;\n",
       "  }\n",
       "  th {\n",
       "    text-align: left;\n",
       "  }\n",
       "</style><div class='table-result-container'><table class='table-result'><thead style='background-color: white'><tr><th># years recorded</th></tr></thead><tbody><tr><td>62</td></tr></tbody></table></div>"
      ]
     },
     "metadata": {
      "application/vnd.databricks.v1+output": {
       "addedWidgets": {},
       "aggData": [],
       "aggError": "",
       "aggOverflow": false,
       "aggSchema": [],
       "aggSeriesLimitReached": false,
       "aggType": "",
       "arguments": {},
       "columnCustomDisplayInfos": {},
       "data": [
        [
         62
        ]
       ],
       "datasetInfos": [],
       "dbfsResultPath": null,
       "isJsonSchema": true,
       "metadata": {},
       "overflow": false,
       "plotOptions": {
        "customPlotOptions": {},
        "displayType": "table",
        "pivotAggregation": null,
        "pivotColumns": null,
        "xColumns": null,
        "yColumns": null
       },
       "removedWidgets": [],
       "schema": [
        {
         "metadata": "{}",
         "name": "# years recorded",
         "type": "\"long\""
        }
       ],
       "type": "table"
      }
     },
     "output_type": "display_data"
    }
   ],
   "source": [
    "%sql\n",
    "-- count number of years\n",
    "select count(distinct year) AS `# years recorded`\n",
    "from `grammy_awards`"
   ]
  },
  {
   "cell_type": "code",
   "execution_count": 0,
   "metadata": {
    "application/vnd.databricks.v1+cell": {
     "cellMetadata": {
      "byteLimit": 2048000,
      "implicitDf": true,
      "rowLimit": 10000
     },
     "inputWidgets": {},
     "nuid": "59432ecc-0f7d-4886-8514-5738b433dd6e",
     "showTitle": false,
     "title": ""
    }
   },
   "outputs": [
    {
     "output_type": "display_data",
     "data": {
      "text/html": [
       "<style scoped>\n",
       "  .table-result-container {\n",
       "    max-height: 300px;\n",
       "    overflow: auto;\n",
       "  }\n",
       "  table, th, td {\n",
       "    border: 1px solid black;\n",
       "    border-collapse: collapse;\n",
       "  }\n",
       "  th, td {\n",
       "    padding: 5px;\n",
       "  }\n",
       "  th {\n",
       "    text-align: left;\n",
       "  }\n",
       "</style><div class='table-result-container'><table class='table-result'><thead style='background-color: white'><tr><th># of categories</th></tr></thead><tbody><tr><td>638</td></tr></tbody></table></div>"
      ]
     },
     "metadata": {
      "application/vnd.databricks.v1+output": {
       "addedWidgets": {},
       "aggData": [],
       "aggError": "",
       "aggOverflow": false,
       "aggSchema": [],
       "aggSeriesLimitReached": false,
       "aggType": "",
       "arguments": {},
       "columnCustomDisplayInfos": {},
       "data": [
        [
         638
        ]
       ],
       "datasetInfos": [],
       "dbfsResultPath": null,
       "isJsonSchema": true,
       "metadata": {},
       "overflow": false,
       "plotOptions": {
        "customPlotOptions": {},
        "displayType": "table",
        "pivotAggregation": null,
        "pivotColumns": null,
        "xColumns": null,
        "yColumns": null
       },
       "removedWidgets": [],
       "schema": [
        {
         "metadata": "{}",
         "name": "# of categories",
         "type": "\"long\""
        }
       ],
       "type": "table"
      }
     },
     "output_type": "display_data"
    }
   ],
   "source": [
    "%sql\n",
    "-- count number of categories\n",
    "select count(distinct category) `# of categories`\n",
    "from `grammy_awards`"
   ]
  },
  {
   "cell_type": "code",
   "execution_count": 0,
   "metadata": {
    "application/vnd.databricks.v1+cell": {
     "cellMetadata": {
      "byteLimit": 2048000,
      "implicitDf": true,
      "rowLimit": 10000
     },
     "inputWidgets": {},
     "nuid": "948b07d8-84b4-4e85-868c-7a2ecd0f2e59",
     "showTitle": false,
     "title": ""
    }
   },
   "outputs": [
    {
     "output_type": "display_data",
     "data": {
      "text/html": [
       "<style scoped>\n",
       "  .table-result-container {\n",
       "    max-height: 300px;\n",
       "    overflow: auto;\n",
       "  }\n",
       "  table, th, td {\n",
       "    border: 1px solid black;\n",
       "    border-collapse: collapse;\n",
       "  }\n",
       "  th, td {\n",
       "    padding: 5px;\n",
       "  }\n",
       "  th {\n",
       "    text-align: left;\n",
       "  }\n",
       "</style><div class='table-result-container'><table class='table-result'><thead style='background-color: white'><tr><th>Years with Record of the Year recorded</th></tr></thead><tbody><tr><td>62</td></tr></tbody></table></div>"
      ]
     },
     "metadata": {
      "application/vnd.databricks.v1+output": {
       "addedWidgets": {},
       "aggData": [],
       "aggError": "",
       "aggOverflow": false,
       "aggSchema": [],
       "aggSeriesLimitReached": false,
       "aggType": "",
       "arguments": {},
       "columnCustomDisplayInfos": {},
       "data": [
        [
         62
        ]
       ],
       "datasetInfos": [],
       "dbfsResultPath": null,
       "isJsonSchema": true,
       "metadata": {},
       "overflow": false,
       "plotOptions": {
        "customPlotOptions": {},
        "displayType": "table",
        "pivotAggregation": null,
        "pivotColumns": null,
        "xColumns": null,
        "yColumns": null
       },
       "removedWidgets": [],
       "schema": [
        {
         "metadata": "{}",
         "name": "Years with Record of the Year recorded",
         "type": "\"long\""
        }
       ],
       "type": "table"
      }
     },
     "output_type": "display_data"
    }
   ],
   "source": [
    "%sql\n",
    "-- ensure we have 'Record Of The Year' data for each year\n",
    "select count(distinct year) as `Years with Record of the Year recorded`\n",
    "from `grammy_awards`\n",
    "where category like 'Record Of The Year'\n"
   ]
  },
  {
   "cell_type": "code",
   "execution_count": 0,
   "metadata": {
    "application/vnd.databricks.v1+cell": {
     "cellMetadata": {
      "byteLimit": 2048000,
      "rowLimit": 10000
     },
     "inputWidgets": {},
     "nuid": "a133109f-96b0-4ab6-a0c0-adb148c4ccfc",
     "showTitle": false,
     "title": ""
    }
   },
   "outputs": [
    {
     "output_type": "display_data",
     "data": {
      "text/html": [
       "<style scoped>\n",
       "  .table-result-container {\n",
       "    max-height: 300px;\n",
       "    overflow: auto;\n",
       "  }\n",
       "  table, th, td {\n",
       "    border: 1px solid black;\n",
       "    border-collapse: collapse;\n",
       "  }\n",
       "  th, td {\n",
       "    padding: 5px;\n",
       "  }\n",
       "  th {\n",
       "    text-align: left;\n",
       "  }\n",
       "</style><div class='table-result-container'><table class='table-result'><thead style='background-color: white'><tr><th>year</th><th>title</th><th>category</th><th>nominee</th><th>artist</th><th>workers</th><th>img</th><th>winner</th></tr></thead><tbody><tr><td>2019</td><td>62nd Annual GRAMMY Awards  (2019)</td><td>Record Of The Year</td><td>Bad Guy</td><td>Billie Eilish</td><td>Finneas O'Connell, producer; Rob Kinelski & Finneas O'Connell, engineers/mixers; John Greenham, mastering engineer</td><td>https://www.grammy.com/sites/com/files/styles/artist_circle/public/muzooka/Billie%2BEilish/Billie%2520Eilish_1_1_1594138954.jpg?itok=3-71Dfxh</td><td>True</td></tr><tr><td>2019</td><td>62nd Annual GRAMMY Awards  (2019)</td><td>Record Of The Year</td><td>Hey, Ma</td><td>Bon Iver</td><td>BJ Burton, Brad Cook, Chris Messina & Justin Vernon, producers; BJ Burton, Zach Hanson & Chris Messina, engineers/mixers; Greg Calbi, mastering engineer</td><td>https://www.grammy.com/sites/com/files/styles/artist_circle/public/muzooka/Bon%2BIver/Bon%2520Iver_1_1_1578385181.jpg?itok=_M1hc5Ux</td><td>True</td></tr><tr><td>2019</td><td>62nd Annual GRAMMY Awards  (2019)</td><td>Record Of The Year</td><td>7 rings</td><td>Ariana Grande</td><td>Charles Anderson, Tommy Brown, Michael Foster & Victoria Monet, producers; Serban Ghenea, John Hanes, Billy Hickey & Brendan Morawski, engineers/mixers; Randy Merrill, mastering engineer</td><td>https://www.grammy.com/sites/com/files/styles/artist_circle/public/muzooka/Ariana%2BGrande/Ariana%2520Grande_1_1_1578384678.jpg?itok=Amj90j13</td><td>True</td></tr><tr><td>2019</td><td>62nd Annual GRAMMY Awards  (2019)</td><td>Record Of The Year</td><td>Hard Place</td><td>H.E.R.</td><td>Rodney “Darkchild” Jerkins, producer; Joseph Hurtado, Jaycen Joshua, Derek Keota & Miki Tsutsumi, engineers/mixers; Colin Leonard, mastering engineer</td><td>https://www.grammy.com/sites/com/files/styles/artist_circle/public/muzooka/H.E.R./H.E.R._1_1_1594631035.jpg?itok=ClJe-2MN</td><td>True</td></tr><tr><td>2019</td><td>62nd Annual GRAMMY Awards  (2019)</td><td>Record Of The Year</td><td>Talk</td><td>Khalid</td><td>Disclosure & Denis Kosiak, producers; Ingmar Carlson, Jon Castelli, Josh Deguzman, John Kercy, Denis Kosiak, Guy Lawrence & Michael Romero, engineers/mixers; Dale Becker, mastering engineer</td><td>https://www.grammy.com/sites/com/files/styles/artist_circle/public/muzooka/Khalid/Khalid_1_1_1594578772.jpg?itok=2HxjAT-X</td><td>True</td></tr></tbody></table></div>"
      ]
     },
     "metadata": {
      "application/vnd.databricks.v1+output": {
       "addedWidgets": {},
       "aggData": [],
       "aggError": "",
       "aggOverflow": false,
       "aggSchema": [],
       "aggSeriesLimitReached": false,
       "aggType": "",
       "arguments": {},
       "columnCustomDisplayInfos": {},
       "data": [
        [
         "2019",
         "62nd Annual GRAMMY Awards  (2019)",
         "Record Of The Year",
         "Bad Guy",
         "Billie Eilish",
         "Finneas O'Connell, producer; Rob Kinelski & Finneas O'Connell, engineers/mixers; John Greenham, mastering engineer",
         "https://www.grammy.com/sites/com/files/styles/artist_circle/public/muzooka/Billie%2BEilish/Billie%2520Eilish_1_1_1594138954.jpg?itok=3-71Dfxh",
         "True"
        ],
        [
         "2019",
         "62nd Annual GRAMMY Awards  (2019)",
         "Record Of The Year",
         "Hey, Ma",
         "Bon Iver",
         "BJ Burton, Brad Cook, Chris Messina & Justin Vernon, producers; BJ Burton, Zach Hanson & Chris Messina, engineers/mixers; Greg Calbi, mastering engineer",
         "https://www.grammy.com/sites/com/files/styles/artist_circle/public/muzooka/Bon%2BIver/Bon%2520Iver_1_1_1578385181.jpg?itok=_M1hc5Ux",
         "True"
        ],
        [
         "2019",
         "62nd Annual GRAMMY Awards  (2019)",
         "Record Of The Year",
         "7 rings",
         "Ariana Grande",
         "Charles Anderson, Tommy Brown, Michael Foster & Victoria Monet, producers; Serban Ghenea, John Hanes, Billy Hickey & Brendan Morawski, engineers/mixers; Randy Merrill, mastering engineer",
         "https://www.grammy.com/sites/com/files/styles/artist_circle/public/muzooka/Ariana%2BGrande/Ariana%2520Grande_1_1_1578384678.jpg?itok=Amj90j13",
         "True"
        ],
        [
         "2019",
         "62nd Annual GRAMMY Awards  (2019)",
         "Record Of The Year",
         "Hard Place",
         "H.E.R.",
         "Rodney “Darkchild” Jerkins, producer; Joseph Hurtado, Jaycen Joshua, Derek Keota & Miki Tsutsumi, engineers/mixers; Colin Leonard, mastering engineer",
         "https://www.grammy.com/sites/com/files/styles/artist_circle/public/muzooka/H.E.R./H.E.R._1_1_1594631035.jpg?itok=ClJe-2MN",
         "True"
        ],
        [
         "2019",
         "62nd Annual GRAMMY Awards  (2019)",
         "Record Of The Year",
         "Talk",
         "Khalid",
         "Disclosure & Denis Kosiak, producers; Ingmar Carlson, Jon Castelli, Josh Deguzman, John Kercy, Denis Kosiak, Guy Lawrence & Michael Romero, engineers/mixers; Dale Becker, mastering engineer",
         "https://www.grammy.com/sites/com/files/styles/artist_circle/public/muzooka/Khalid/Khalid_1_1_1594578772.jpg?itok=2HxjAT-X",
         "True"
        ]
       ],
       "datasetInfos": [],
       "dbfsResultPath": null,
       "isJsonSchema": true,
       "metadata": {},
       "overflow": false,
       "plotOptions": {
        "customPlotOptions": {},
        "displayType": "table",
        "pivotAggregation": null,
        "pivotColumns": null,
        "xColumns": null,
        "yColumns": null
       },
       "removedWidgets": [],
       "schema": [
        {
         "metadata": "{}",
         "name": "year",
         "type": "\"string\""
        },
        {
         "metadata": "{}",
         "name": "title",
         "type": "\"string\""
        },
        {
         "metadata": "{}",
         "name": "category",
         "type": "\"string\""
        },
        {
         "metadata": "{}",
         "name": "nominee",
         "type": "\"string\""
        },
        {
         "metadata": "{}",
         "name": "artist",
         "type": "\"string\""
        },
        {
         "metadata": "{}",
         "name": "workers",
         "type": "\"string\""
        },
        {
         "metadata": "{}",
         "name": "img",
         "type": "\"string\""
        },
        {
         "metadata": "{}",
         "name": "winner",
         "type": "\"string\""
        }
       ],
       "type": "table"
      }
     },
     "output_type": "display_data"
    }
   ],
   "source": [
    "# Create a new DataFrame that only contains the 'Record Of The Year' category data\n",
    "df_record = df.select('year','title','category','nominee','artist','workers','img','winner').where(df.category == \"Record Of The Year\")\n",
    "display(df_record.head(5))"
   ]
  },
  {
   "cell_type": "code",
   "execution_count": 0,
   "metadata": {
    "application/vnd.databricks.v1+cell": {
     "cellMetadata": {
      "byteLimit": 2048000,
      "rowLimit": 10000
     },
     "inputWidgets": {},
     "nuid": "7be510f8-e016-46ca-8aae-7d4c9e2ca2d3",
     "showTitle": false,
     "title": ""
    }
   },
   "outputs": [],
   "source": [
    "# Create a view or table for Record Of the Year data\n",
    "\n",
    "temp_table_name = \"record_of_the_year\"\n",
    "\n",
    "df_record.createOrReplaceTempView(temp_table_name)"
   ]
  },
  {
   "cell_type": "code",
   "execution_count": 0,
   "metadata": {
    "application/vnd.databricks.v1+cell": {
     "cellMetadata": {
      "byteLimit": 2048000,
      "implicitDf": true,
      "rowLimit": 10000
     },
     "inputWidgets": {},
     "nuid": "971db7c1-58d8-480b-b2d0-54de75444bc9",
     "showTitle": false,
     "title": ""
    }
   },
   "outputs": [
    {
     "output_type": "display_data",
     "data": {
      "text/html": [
       "<style scoped>\n",
       "  .table-result-container {\n",
       "    max-height: 300px;\n",
       "    overflow: auto;\n",
       "  }\n",
       "  table, th, td {\n",
       "    border: 1px solid black;\n",
       "    border-collapse: collapse;\n",
       "  }\n",
       "  th, td {\n",
       "    padding: 5px;\n",
       "  }\n",
       "  th {\n",
       "    text-align: left;\n",
       "  }\n",
       "</style><div class='table-result-container'><table class='table-result'><thead style='background-color: white'><tr><th>year</th><th>title</th><th>category</th><th>nominee</th><th>artist</th><th>workers</th><th>img</th><th>winner</th></tr></thead><tbody><tr><td>2019</td><td>62nd Annual GRAMMY Awards  (2019)</td><td>Record Of The Year</td><td>Bad Guy</td><td>Billie Eilish</td><td>Finneas O'Connell, producer; Rob Kinelski & Finneas O'Connell, engineers/mixers; John Greenham, mastering engineer</td><td>https://www.grammy.com/sites/com/files/styles/artist_circle/public/muzooka/Billie%2BEilish/Billie%2520Eilish_1_1_1594138954.jpg?itok=3-71Dfxh</td><td>True</td></tr><tr><td>2019</td><td>62nd Annual GRAMMY Awards  (2019)</td><td>Record Of The Year</td><td>Hey, Ma</td><td>Bon Iver</td><td>BJ Burton, Brad Cook, Chris Messina & Justin Vernon, producers; BJ Burton, Zach Hanson & Chris Messina, engineers/mixers; Greg Calbi, mastering engineer</td><td>https://www.grammy.com/sites/com/files/styles/artist_circle/public/muzooka/Bon%2BIver/Bon%2520Iver_1_1_1578385181.jpg?itok=_M1hc5Ux</td><td>True</td></tr><tr><td>2019</td><td>62nd Annual GRAMMY Awards  (2019)</td><td>Record Of The Year</td><td>7 rings</td><td>Ariana Grande</td><td>Charles Anderson, Tommy Brown, Michael Foster & Victoria Monet, producers; Serban Ghenea, John Hanes, Billy Hickey & Brendan Morawski, engineers/mixers; Randy Merrill, mastering engineer</td><td>https://www.grammy.com/sites/com/files/styles/artist_circle/public/muzooka/Ariana%2BGrande/Ariana%2520Grande_1_1_1578384678.jpg?itok=Amj90j13</td><td>True</td></tr><tr><td>2019</td><td>62nd Annual GRAMMY Awards  (2019)</td><td>Record Of The Year</td><td>Hard Place</td><td>H.E.R.</td><td>Rodney “Darkchild” Jerkins, producer; Joseph Hurtado, Jaycen Joshua, Derek Keota & Miki Tsutsumi, engineers/mixers; Colin Leonard, mastering engineer</td><td>https://www.grammy.com/sites/com/files/styles/artist_circle/public/muzooka/H.E.R./H.E.R._1_1_1594631035.jpg?itok=ClJe-2MN</td><td>True</td></tr><tr><td>2019</td><td>62nd Annual GRAMMY Awards  (2019)</td><td>Record Of The Year</td><td>Talk</td><td>Khalid</td><td>Disclosure & Denis Kosiak, producers; Ingmar Carlson, Jon Castelli, Josh Deguzman, John Kercy, Denis Kosiak, Guy Lawrence & Michael Romero, engineers/mixers; Dale Becker, mastering engineer</td><td>https://www.grammy.com/sites/com/files/styles/artist_circle/public/muzooka/Khalid/Khalid_1_1_1594578772.jpg?itok=2HxjAT-X</td><td>True</td></tr><tr><td>2019</td><td>62nd Annual GRAMMY Awards  (2019)</td><td>Record Of The Year</td><td>Old Town Road</td><td>Lil Nas X Featuring Billy Ray Cyrus</td><td>\"Andrew \"\"VoxGod\"\" Bolooki</td><td> Jocelyn “Jozzy” Donald & YoungKio</td><td> producers; Andrew \"\"VoxGod\"\" Bolooki</td></tr><tr><td>2019</td><td>62nd Annual GRAMMY Awards  (2019)</td><td>Record Of The Year</td><td>Truth Hurts</td><td>Lizzo</td><td>Ricky Reed & Tele, producers; Chris Galland, Manny Marroquin & Ethan Shumaker, engineers/mixers; Chris Gehringer, mastering engineer</td><td>https://www.grammy.com/sites/com/files/styles/artist_circle/public/muzooka/Lizzo/Lizzo_1_1_1583931631.jpg?itok=Gm2FQx4s</td><td>True</td></tr><tr><td>2019</td><td>62nd Annual GRAMMY Awards  (2019)</td><td>Record Of The Year</td><td>Sunflower</td><td>Post Malone & Swae Lee</td><td>Louis Bell & Carter Lang, producers; Louis Bell & Manny Marroquin, engineers/mixers; Mike Bozzi, mastering engineer</td><td>https://www.grammy.com/sites/com/files/styles/artist_circle/public/muzooka/Post%2BMalone/Post%2520Malone_1_1_1594910341.jpg?itok=HCyRm13g</td><td>True</td></tr><tr><td>2018</td><td>61st Annual GRAMMY Awards  (2018)</td><td>Record Of The Year</td><td>This Is America</td><td>Childish Gambino</td><td>\"Donald Glover & Ludwig Göransson, producers; Derek \"\"MixedByAli\"\" Ali</td><td> Kesha Lee</td><td> Riley Mackin</td></tr><tr><td>2017</td><td>60th Annual GRAMMY Awards  (2017)</td><td>Record Of The Year</td><td>24K Magic</td><td>Bruno Mars</td><td>Shampoo Press & Curl (Christopher Brody Brown, Philip Lawrence & Bruno Mars), producers; Serban Ghenea, John Hanes & Charles Moniz, engineers/mixers; Tom Coyne, mastering engineer</td><td>https://www.grammy.com/sites/com/files/styles/artist_circle/public/muzooka/Bruno%2BMars/Bruno%2520Mars_1_1_1578385368.jpg?itok=KhxnacRR</td><td>True</td></tr><tr><td>2016</td><td>59th Annual GRAMMY Awards  (2016)</td><td>Record Of The Year</td><td>Hello</td><td>Adele</td><td>Greg Kurstin, producer; Julian Burg, Tom Elmhirst, Emile Haynie, Greg Kurstin, Liam Nolan, Alex Pasco & Joe Visciano, engineers/mixers; Tom Coyne & Randy Merrill, mastering engineers</td><td>https://www.grammy.com/sites/com/files/styles/artist_circle/public/muzooka/Adele/Adele_1_1_1584090130.jpg?itok=xlwW6t3a</td><td>True</td></tr><tr><td>2015</td><td>58th Annual GRAMMY Awards  (2015)</td><td>Record Of The Year</td><td>Uptown Funk</td><td>Mark Ronson Featuring Bruno Mars</td><td>Jeff Bhasker, Philip Lawrence, Bruno Mars & Mark Ronson, producers; Josh Blair, Riccardo Damian, Serban Ghenea, Wayne Gordon, John Hanes, Inaam Haq, Boo Mitchell, Charles Moniz & Mark Ronson, engineers/mixers; Tom Coyne, mastering engineer</td><td>https://www.grammy.com/sites/com/files/styles/artist_circle/public/muzooka/Mark%2BRonson/Mark%2520Ronson_1_1_1596790481.jpg?itok=s-dqiJed</td><td>True</td></tr><tr><td>2014</td><td>57th Annual GRAMMY Awards  (2014)</td><td>Record Of The Year</td><td>Stay With Me (Darkchild Version)</td><td>Sam Smith</td><td>Steve Fitzmaurice, Rodney Jerkins & Jimmy Napes, producers; Matthew Champlin, Steve Fitzmaurice, Jimmy Napes & Steve Price, engineers/mixers; Tom Coyne, mastering engineer</td><td>https://www.grammy.com/sites/com/files/styles/artist_circle/public/sam_smithrotycrop.jpg?itok=CbuVXG4s</td><td>True</td></tr><tr><td>2013</td><td>56th Annual GRAMMY Awards  (2013)</td><td>Record Of The Year</td><td>Get Lucky</td><td>Daft Punk Featuring Pharrell Williams & Nile Rodgers</td><td>Thomas Bangalter & Guy-Manuel de Homem-Christo, producers; Peter Franco, Mick Guzauski, Florian Lagatta & Daniel Lerner, engineers/mixers; Antoine Chabert & Bob Ludwig, mastering engineers</td><td>https://www.grammy.com/sites/com/files/styles/artist_circle/public/465384097_daft_punk_pharrell.jpg?itok=tZ0IzKSI</td><td>True</td></tr><tr><td>2012</td><td>55th Annual GRAMMY Awards  (2012)</td><td>Record Of The Year</td><td>Somebody That I Used To Know</td><td>Gotye Featuring Kimbra</td><td>Wally De Backer, producer; Wally De Backer & Francois Tetaz, engineers/mixers; William Bowden, mastering engineer</td><td>https://www.grammy.com/sites/com/files/styles/artist_circle/public/161396233_gotye_kimbra.jpg?itok=4_A2Llji</td><td>True</td></tr><tr><td>2011</td><td>54th Annual GRAMMY Awards  (2011)</td><td>Record Of The Year</td><td>Rolling In The Deep</td><td>Adele</td><td>Paul Epworth, producer; Tom Elmhirst & Mark Rankin, engineers/mixers</td><td>https://www.grammy.com/sites/com/files/styles/artist_circle/public/138850365_adele.jpg?itok=X8mml-Wk</td><td>True</td></tr><tr><td>2010</td><td>53rd Annual GRAMMY Awards  (2010)</td><td>Record Of The Year</td><td>Need You Now</td><td>Lady Antebellum</td><td>Lady Antebellum (Dave Haywood, Charles Kelley & Hillary Scott) & Paul N. Worley, producers; L Clarke Schleicher, engineer/mixer</td><td>https://www.grammy.com/sites/com/files/styles/artist_circle/public/109066913_lady_antebellum.jpg?itok=iFnOLjld</td><td>True</td></tr><tr><td>2009</td><td>52nd Annual GRAMMY Awards  (2009)</td><td>Record Of The Year</td><td>Use Somebody</td><td>Kings Of Leon</td><td>Jacquire King & Angelo Petraglia, producers; Jacquire King, engineer/mixer</td><td>https://www.grammy.com/sites/com/files/styles/artist_circle/public/96337451_kings_of_leon.jpg?itok=mjt6_DjR</td><td>True</td></tr><tr><td>2008</td><td>51st Annual GRAMMY Awards  (2008)</td><td>Record Of The Year</td><td>Please Read The Letter</td><td>Robert Plant & Alison Krauss</td><td>T Bone Burnett, producer; Mike Piersante, engineer/mixer</td><td>https://www.grammy.com/sites/com/files/styles/artist_circle/public/muzooka/Robert%2BPlant/Robert%2520Plant_1_1_1591112980.jpg?itok=6LLLbn4I</td><td>True</td></tr><tr><td>2007</td><td>50th Annual GRAMMY Awards  (2007)</td><td>Record Of The Year</td><td>Rehab</td><td>Amy Winehouse</td><td>\"Mark Ronson, producer; Tom Elmhirst, Samuel \"\"Vaughan\"\" Merrick</td><td> Dom Morley</td><td> Mark Ronson & Gabriel Roth</td></tr><tr><td>2006</td><td>49th Annual GRAMMY Awards  (2006)</td><td>Record Of The Year</td><td>Not Ready To Make Nice</td><td>Dixie Chicks</td><td>Rick Rubin, producer; Richard Dodd, Jim Scott & Chris Testa, engineers/mixers</td><td>https://www.grammy.com/sites/com/files/styles/artist_circle/public/muzooka/Dixie%2BChicks/Dixie%2520Chicks_1_1_1598343738.jpg?itok=YXj33PAV</td><td>True</td></tr><tr><td>2005</td><td>48th Annual GRAMMY Awards  (2005)</td><td>Record Of The Year</td><td>Boulevard Of Broken Dreams</td><td>Green Day</td><td>Rob Cavallo & Green Day, producers; Chris Lord-Alge & Doug McKean, engineers/mixers</td><td>https://www.grammy.com/sites/com/files/styles/artist_circle/public/muzooka/Green%2BDay/Green%2520Day_1_1_1578385279.jpg?itok=wr16YloS</td><td>True</td></tr><tr><td>2004</td><td>47th Annual GRAMMY Awards  (2004)</td><td>Record Of The Year</td><td>Here We Go Again</td><td>Ray Charles & Norah Jones</td><td>John R. Burk, producer; Mark Fleming, Terry Howard & Al Schmitt, engineers/mixers</td><td>https://www.grammy.com/sites/com/files/styles/artist_circle/public/ray_charles_spotlight_107293349.png?itok=57kc2vwB</td><td>True</td></tr><tr><td>2003</td><td>46th Annual GRAMMY Awards  (2003)</td><td>Record Of The Year</td><td>Clocks</td><td>Coldplay</td><td>Coldplay & Ken Nelson, producers; Coldplay (Guy Berryman, Jon Buckland, Will Champion, Phil Harvey & Chris Martin), Ken Nelson & Mark Phythian, engineers/mixers</td><td>https://www.grammy.com/sites/com/files/styles/artist_circle/public/muzooka/Coldplay/Coldplay_1_1_1591112967.jpg?itok=lLCPutNO</td><td>True</td></tr><tr><td>2002</td><td>45th Annual GRAMMY Awards  (2002)</td><td>Record Of The Year</td><td>Don't Know Why</td><td>Norah Jones</td><td>Norah Jones, Arif Mardin & Jay Newland, producers; Jay Newland, engineer/mixer</td><td>https://www.grammy.com/sites/com/files/styles/artist_circle/public/muzooka/Norah%2BJones/Norah%2520Jones_1_1_1588264654.jpg?itok=tpWJ31fa</td><td>True</td></tr><tr><td>2001</td><td>44th Annual GRAMMY Awards  (2001)</td><td>Record Of The Year</td><td>Walk On</td><td>U2</td><td>Brian Eno & Daniel Lanois, producers; Steve Lillywhite & Richard Rainey, engineers/mixers</td><td>https://www.grammy.com/sites/com/files/styles/artist_circle/public/muzooka/U2/U2_1_1_1578385236.jpg?itok=rQVhxxhL</td><td>True</td></tr><tr><td>2000</td><td>43rd Annual GRAMMY Awards  (2000)</td><td>Record Of The Year</td><td>Beautiful Day</td><td>U2</td><td>Brian Eno & Daniel Lanois, producers; Steve Lillywhite & Richard Rainey, engineers/mixers</td><td>https://www.grammy.com/sites/com/files/styles/artist_circle/public/muzooka/U2/U2_1_1_1578385236.jpg?itok=rQVhxxhL</td><td>True</td></tr><tr><td>1999</td><td>42nd Annual GRAMMY Awards  (1999)</td><td>Record Of The Year</td><td>Smooth</td><td>Santana Featuring Rob Thomas</td><td>Matt Serletic, producer; David Thoener, engineer/mixer</td><td>https://www.grammy.com/sites/com/files/styles/artist_circle/public/muzooka/Rob%2BThomas/Rob%2520Thomas_1_1_1575361007.jpg?itok=5bqO3DlV</td><td>True</td></tr><tr><td>1998</td><td>41st Annual GRAMMY Awards  (1998)</td><td>Record Of The Year</td><td>My Heart Will Go On (Love Theme From Titanic)</td><td>Celine Dion</td><td>Walter Afanasieff, Simon Franglen & James Horner, producers; Simon Franglen, Humberto Gatica & David Gleeson, engineers/mixers</td><td>https://www.grammy.com/sites/com/files/styles/artist_circle/public/muzooka/Celine%2BDion/C%25C3%25A9line%2520Dion_1_1_1579163253.jpg?itok=7lpsetr2</td><td>True</td></tr><tr><td>1997</td><td>40th Annual GRAMMY Awards  (1997)</td><td>Record Of The Year</td><td>Sunny Came Home</td><td>Shawn Colvin</td><td>John Leventhal, producer</td><td>https://www.grammy.com/sites/com/files/styles/artist_circle/public/muzooka/Shawn%2BColvin/Shawn%2520Colvin_1_1_1581551750.jpg?itok=1w7xoEU4</td><td>True</td></tr><tr><td>1996</td><td>39th Annual GRAMMY Awards  (1996)</td><td>Record Of The Year</td><td>Change The World</td><td>Eric Clapton</td><td>Babyface, producer</td><td>https://www.grammy.com/sites/com/files/styles/artist_circle/public/muzooka/Eric%2BClapton/Eric%2520Clapton_1_1_1581552257.jpg?itok=VS2OFNyf</td><td>True</td></tr><tr><td>1995</td><td>38th Annual GRAMMY Awards  (1995)</td><td>Record Of The Year</td><td>Kiss From A Rose</td><td>Seal</td><td>Trevor Horn, producer</td><td>https://www.grammy.com/sites/com/files/styles/artist_circle/public/muzooka/Seal/Seal_1_1_1575369703.jpg?itok=Vj2q-xvH</td><td>True</td></tr><tr><td>1994</td><td>37th Annual GRAMMY Awards  (1994)</td><td>Record Of The Year</td><td>All I Wanna Do</td><td>Sheryl Crow</td><td>Bill Bottrell, producer</td><td>https://www.grammy.com/sites/com/files/styles/artist_circle/public/muzooka/Sheryl%2BCrow/Sheryl%2520Crow_1_1_1597145423.jpg?itok=tvxHkBTZ</td><td>True</td></tr><tr><td>1993</td><td>36th Annual GRAMMY Awards  (1993)</td><td>Record Of The Year</td><td>I Will Always Love You</td><td>Whitney Houston</td><td>David Foster, producer</td><td>https://www.grammy.com/sites/com/files/styles/artist_circle/public/muzooka/Whitney%2BHouston/Whitney%2520Houston_1_1_1594980040.jpg?itok=LS4iD1jw</td><td>True</td></tr><tr><td>1992</td><td>35th Annual GRAMMY Awards  (1992)</td><td>Record Of The Year</td><td>Tears In Heaven</td><td>Eric Clapton</td><td>Russ Titelman, producer</td><td>https://www.grammy.com/sites/com/files/styles/artist_circle/public/muzooka/Eric%2BClapton/Eric%2520Clapton_1_1_1581552257.jpg?itok=VS2OFNyf</td><td>True</td></tr><tr><td>1991</td><td>34th Annual GRAMMY Awards  (1991)</td><td>Record Of The Year</td><td>Unforgettable</td><td>\"Natalie Cole (With Nat \"\"King\"\" Cole)\"</td><td>David Foster, producer</td><td>https://www.grammy.com/sites/com/files/styles/artist_circle/public/muzooka/Natalie%2BCole/Natalie%2520Cole_1_1_1591112950.jpg?itok=A9t_I3Ba</td><td>True</td></tr><tr><td>1990</td><td>33rd Annual GRAMMY Awards  (1990)</td><td>Record Of The Year</td><td>Another Day In Paradise</td><td>Phil Collins</td><td>Phil Collins & Hugh Padgham, producers</td><td>https://www.grammy.com/sites/com/files/styles/artist_circle/public/muzooka/Phil%2BCollins/Phil%2520Collins_1_1_1596706545.jpg?itok=MQR7SHdv</td><td>True</td></tr><tr><td>1989</td><td>32nd Annual GRAMMY Awards  (1989)</td><td>Record Of The Year</td><td>Wind Beneath My Wings</td><td>Bette Midler</td><td>Arif Mardin, producer</td><td>https://www.grammy.com/sites/com/files/styles/artist_circle/public/muzooka/Bette%2BMidler/Bette%2520Midler_1_1_1575359591.jpg?itok=7Wx-nTh_</td><td>True</td></tr><tr><td>1988</td><td>31st Annual GRAMMY Awards  (1988)</td><td>Record Of The Year</td><td>Don't Worry Be Happy</td><td>Bobby McFerrin</td><td>Linda Goldstein, producer</td><td>https://www.grammy.com/sites/com/files/styles/artist_circle/public/muzooka/Bobby%2BMcFerrin/Bobby%2520McFerrin_1_1_1575365223.jpg?itok=KTGGWtEl</td><td>True</td></tr><tr><td>1987</td><td>30th Annual GRAMMY Awards  (1987)</td><td>Record Of The Year</td><td>Graceland</td><td>Paul Simon</td><td>Paul Simon, producer</td><td>https://www.grammy.com/sites/com/files/styles/artist_circle/public/muzooka/Paul%2BSimon/Paul%2520Simon_1_1_1578385319.jpg?itok=H2xb3gsd</td><td>True</td></tr><tr><td>1986</td><td>29th Annual GRAMMY Awards  (1986)</td><td>Record Of The Year</td><td>Higher Love</td><td>Steve Winwood</td><td>Russ Titelman & Steve Winwood, producers</td><td>https://www.grammy.com/sites/com/files/styles/artist_circle/public/muzooka/Steve%2BWinwood/Steve%2520Winwood_1_1_1596799256.jpg?itok=Xc1PcPBM</td><td>True</td></tr><tr><td>1985</td><td>28th Annual GRAMMY Awards  (1985)</td><td>Record Of The Year</td><td>We Are The World</td><td>USA For Africa (Various Artists)</td><td>Quincy Jones, producer</td><td>https://www.grammy.com/sites/com/files/styles/artist_circle/public/muzooka/Quincy%2BJones/Quincy%2520Jones_1_1_1596789836.jpg?itok=54PdILuC</td><td>True</td></tr><tr><td>1984</td><td>27th Annual GRAMMY Awards  (1984)</td><td>Record Of The Year</td><td>What's Love Got To Do With It</td><td>Tina Turner</td><td>Terry Britten, producer</td><td>https://www.grammy.com/sites/com/files/styles/artist_circle/public/muzooka/Tina%2BTurner/Tina%2520Turner_1_1_1579278403.jpg?itok=vJ-mW-L4</td><td>True</td></tr><tr><td>1983</td><td>26th Annual GRAMMY Awards  (1983)</td><td>Record Of The Year</td><td>Beat It</td><td>Michael Jackson</td><td>Michael Jackson & Quincy Jones, producers</td><td>https://www.grammy.com/sites/com/files/styles/artist_circle/public/muzooka/Michael%2BJackson/Michael%2520Jackson_1_1_1584089273.jpg?itok=8N4Ineev</td><td>True</td></tr><tr><td>1982</td><td>25th Annual GRAMMY Awards  (1982)</td><td>Record Of The Year</td><td>Rosanna</td><td>Toto</td><td>Toto (Bobby Kimball, Steve Lukather, David Paich, Jeff Porcaro, Michael Porcaro & Steve Porcaro), producers</td><td>https://www.grammy.com/sites/com/files/styles/artist_circle/public/muzooka/Toto/Toto_1_1_1581552180.jpg?itok=zeWhOeO_</td><td>True</td></tr><tr><td>1981</td><td>24th Annual GRAMMY Awards  (1981)</td><td>Record Of The Year</td><td>Bette Davis Eyes</td><td>Kim Carnes</td><td>Val Garay, producer</td><td>https://www.grammy.com/sites/com/files/styles/artist_circle/public/muzooka/Kim%2BCarnes/Kim%2520Carnes_1_1_1596100249.jpg?itok=XJ1LYIra</td><td>True</td></tr><tr><td>1980</td><td>23rd Annual GRAMMY Awards  (1980)</td><td>Record Of The Year</td><td>Sailing</td><td>Christopher Cross</td><td>Michael Omartian, producer</td><td>https://www.grammy.com/sites/com/files/styles/artist_circle/public/muzooka/Christopher%2BCross/Christopher%2520Cross_1_1_1581554585.jpg?itok=sDilUxBw</td><td>True</td></tr><tr><td>1979</td><td>22nd Annual GRAMMY Awards  (1979)</td><td>Record Of The Year</td><td>What A Fool Believes</td><td>The Doobie Brothers</td><td>Ted Templeman, producer</td><td>null</td><td>True</td></tr><tr><td>1978</td><td>21st Annual GRAMMY Awards  (1978)</td><td>Record Of The Year</td><td>Just The Way You Are</td><td>Billy Joel</td><td>Phil Ramone, producer</td><td>https://www.grammy.com/sites/com/files/styles/artist_circle/public/muzooka/Billy%2BJoel/Billy%2520Joel_1_1_1578384978.jpg?itok=QtM7Q8fq</td><td>True</td></tr><tr><td>1977</td><td>20th Annual GRAMMY Awards  (1977)</td><td>Record Of The Year</td><td>Hotel California</td><td>Eagles</td><td>Bill Szymczyk, producer</td><td>https://www.grammy.com/sites/com/files/styles/artist_circle/public/muzooka/Eagles/Eagles_1_1_1581552244.jpg?itok=0GyT6tV3</td><td>True</td></tr><tr><td>1976</td><td>19th Annual GRAMMY Awards  (1976)</td><td>Record Of The Year</td><td>This Masquerade</td><td>George Benson</td><td>Tommy LiPuma, producer</td><td>https://www.grammy.com/sites/com/files/styles/artist_circle/public/muzooka/George%2BBenson/George%2520Benson_1_1_1578385429.jpg?itok=bzpUiUCb</td><td>True</td></tr><tr><td>1975</td><td>18th Annual GRAMMY Awards  (1975)</td><td>Record Of The Year</td><td>Love Will Keep Us Together</td><td>Captain & Tennille</td><td>Daryl Dragon, producer</td><td>null</td><td>True</td></tr><tr><td>1974</td><td>17th Annual GRAMMY Awards  (1974)</td><td>Record Of The Year</td><td>I Honestly Love You</td><td>Olivia Newton-John</td><td>John Farrar, producer</td><td>https://www.grammy.com/sites/com/files/styles/artist_circle/public/muzooka/Olivia%2BNewton-John/Olivia%2520Newton-John_1_1_1575370845.jpg?itok=SO4aU4ch</td><td>True</td></tr><tr><td>1973</td><td>16th Annual GRAMMY Awards  (1973)</td><td>Record Of The Year</td><td>Killing Me Softly With His Song</td><td>Roberta Flack</td><td>Joel Dorn, producer</td><td>https://www.grammy.com/sites/com/files/styles/artist_circle/public/muzooka/Roberta%2BFlack/Roberta%2520Flack_1_1_1575365614.jpg?itok=xIenBn49</td><td>True</td></tr><tr><td>1972</td><td>15th Annual GRAMMY Awards  (1972)</td><td>Record Of The Year</td><td>The First Time Ever I Saw Your Face</td><td>Roberta Flack</td><td>Joel Dorn, producer</td><td>https://www.grammy.com/sites/com/files/styles/artist_circle/public/muzooka/Roberta%2BFlack/Roberta%2520Flack_1_1_1575365614.jpg?itok=xIenBn49</td><td>True</td></tr><tr><td>1971</td><td>14th Annual GRAMMY Awards  (1971)</td><td>Record Of The Year</td><td>It's Too Late</td><td>Carole King</td><td>Lou Adler, producer</td><td>https://www.grammy.com/sites/com/files/styles/artist_circle/public/muzooka/Carole%2BKing/Carole%2520King_1_1_1578385473.jpg?itok=W5y3jRey</td><td>True</td></tr><tr><td>1970</td><td>13th Annual GRAMMY Awards  (1970)</td><td>Record Of The Year</td><td>Bridge Over Troubled Water</td><td>Simon And Garfunkel</td><td>Roy Halee & Simon And Garfunkel (Art Garfunkel & Paul Simon), producers</td><td>null</td><td>True</td></tr><tr><td>1969</td><td>12th Annual GRAMMY Awards  (1969)</td><td>Record Of The Year</td><td>Aquarius/Let The Sunshine In (The Flesh Failures)</td><td>5th Dimension</td><td>Bones Howe, producer</td><td>null</td><td>True</td></tr><tr><td>1968</td><td>11th Annual GRAMMY Awards  (1968)</td><td>Record Of The Year</td><td>Mrs. Robinson</td><td>Simon And Garfunkel</td><td>Roy Halee & Simon And Garfunkel (Art Garfunkel & Paul Simon), producers</td><td>null</td><td>True</td></tr><tr><td>1967</td><td>10th Annual GRAMMY Awards  (1967)</td><td>Record Of The Year</td><td>Up, Up And Away</td><td>5th Dimension</td><td>Marc Gordon & Johnny Rivers, producers</td><td>https://www.grammy.com/sites/com/files/styles/artist_circle/public/muzooka/Marc%2BGordon/Marc%2520Gordon_1_1_1581629305.jpg?itok=4IiRmFSP</td><td>True</td></tr><tr><td>1966</td><td>9th Annual GRAMMY Awards  (1966)</td><td>Record Of The Year</td><td>Strangers In The Night</td><td>Frank Sinatra</td><td>Jimmy Bowen, producer</td><td>https://www.grammy.com/sites/com/files/styles/artist_circle/public/muzooka/Frank%2BSinatra/Frank%2520Sinatra_1_1_1581552147.jpg?itok=-iX5YZhY</td><td>True</td></tr><tr><td>1965</td><td>8th Annual GRAMMY Awards  (1965)</td><td>Record Of The Year</td><td>A Taste Of Honey</td><td>Herb Alpert And The Tijuana Brass</td><td>Herb Alpert & Jerry Moss, producers</td><td>https://www.grammy.com/sites/com/files/styles/artist_circle/public/muzooka/Herb%2BAlpert/Herb%2520Alpert_1_1_1581628867.jpg?itok=45UhbQPe</td><td>True</td></tr><tr><td>1964</td><td>7th Annual GRAMMY Awards  (1964)</td><td>Record Of The Year</td><td>The Girl From Ipanema</td><td>Stan Getz & Astrud Gilberto</td><td>null</td><td>https://www.grammy.com/sites/com/files/styles/artist_circle/public/muzooka/Stan%2BGetz/Stan%2520Getz_1_1_1581618079.jpg?itok=1uHIRekD</td><td>True</td></tr><tr><td>1963</td><td>6th Annual GRAMMY Awards  (1963)</td><td>Record Of The Year</td><td>Days Of Wine And Roses</td><td>Henry Mancini</td><td>null</td><td>https://www.grammy.com/sites/com/files/styles/artist_circle/public/muzooka/Henry%2BMancini/Henry%2520Mancini_1_1_1581553583.jpg?itok=oMIyl-mj</td><td>True</td></tr><tr><td>1962</td><td>5th Annual GRAMMY Awards  (1962)</td><td>Record Of The Year</td><td>I Left My Heart In San Francisco</td><td>Tony Bennett</td><td>null</td><td>https://www.grammy.com/sites/com/files/styles/artist_circle/public/muzooka/Tony%2BBennett/Tony%2520Bennett_1_1_1584465343.jpg?itok=Zk2PcPhY</td><td>True</td></tr><tr><td>1961</td><td>4th Annual GRAMMY Awards  (1961)</td><td>Record Of The Year</td><td>Moon River</td><td>Henry Mancini</td><td>null</td><td>https://www.grammy.com/sites/com/files/styles/artist_circle/public/muzooka/Henry%2BMancini/Henry%2520Mancini_1_1_1581553583.jpg?itok=oMIyl-mj</td><td>True</td></tr><tr><td>1960</td><td>3rd Annual GRAMMY Awards  (1960)</td><td>Record Of The Year</td><td>The Theme From A Summer Place</td><td>Percy Faith & His Orchestra</td><td>null</td><td>https://www.grammy.com/sites/com/files/styles/artist_circle/public/muzooka/Percy%2BFaith/Percy%2520Faith_1_1_1597165242.jpg?itok=dFp-KK5i</td><td>True</td></tr><tr><td>1959</td><td>2nd Annual GRAMMY Awards  (1959)</td><td>Record Of The Year</td><td>Mack The Knife</td><td>Bobby Darin</td><td>null</td><td>https://www.grammy.com/sites/com/files/styles/artist_circle/public/muzooka/Bobby%2BDarin/Bobby%2520Darin_1_1_1581560302.jpg?itok=wKmA3kxT</td><td>True</td></tr><tr><td>1958</td><td>1st Annual GRAMMY Awards  (1958)</td><td>Record Of The Year</td><td>Nel Blu Dipinto Di Blu (Volare)</td><td>Domenico Modugno</td><td>null</td><td>https://www.grammy.com/sites/com/files/styles/artist_circle/public/muzooka/Domenico%2BModugno/Domenico%2520Modugno_1_1_1581618128.jpg?itok=1HYG0_R2</td><td>True</td></tr></tbody></table></div>"
      ]
     },
     "metadata": {
      "application/vnd.databricks.v1+output": {
       "addedWidgets": {},
       "aggData": [],
       "aggError": "",
       "aggOverflow": false,
       "aggSchema": [],
       "aggSeriesLimitReached": false,
       "aggType": "",
       "arguments": {},
       "columnCustomDisplayInfos": {},
       "data": [
        [
         2019,
         "62nd Annual GRAMMY Awards  (2019)",
         "Record Of The Year",
         "Bad Guy",
         "Billie Eilish",
         "Finneas O'Connell, producer; Rob Kinelski & Finneas O'Connell, engineers/mixers; John Greenham, mastering engineer",
         "https://www.grammy.com/sites/com/files/styles/artist_circle/public/muzooka/Billie%2BEilish/Billie%2520Eilish_1_1_1594138954.jpg?itok=3-71Dfxh",
         "True"
        ],
        [
         2019,
         "62nd Annual GRAMMY Awards  (2019)",
         "Record Of The Year",
         "Hey, Ma",
         "Bon Iver",
         "BJ Burton, Brad Cook, Chris Messina & Justin Vernon, producers; BJ Burton, Zach Hanson & Chris Messina, engineers/mixers; Greg Calbi, mastering engineer",
         "https://www.grammy.com/sites/com/files/styles/artist_circle/public/muzooka/Bon%2BIver/Bon%2520Iver_1_1_1578385181.jpg?itok=_M1hc5Ux",
         "True"
        ],
        [
         2019,
         "62nd Annual GRAMMY Awards  (2019)",
         "Record Of The Year",
         "7 rings",
         "Ariana Grande",
         "Charles Anderson, Tommy Brown, Michael Foster & Victoria Monet, producers; Serban Ghenea, John Hanes, Billy Hickey & Brendan Morawski, engineers/mixers; Randy Merrill, mastering engineer",
         "https://www.grammy.com/sites/com/files/styles/artist_circle/public/muzooka/Ariana%2BGrande/Ariana%2520Grande_1_1_1578384678.jpg?itok=Amj90j13",
         "True"
        ],
        [
         2019,
         "62nd Annual GRAMMY Awards  (2019)",
         "Record Of The Year",
         "Hard Place",
         "H.E.R.",
         "Rodney “Darkchild” Jerkins, producer; Joseph Hurtado, Jaycen Joshua, Derek Keota & Miki Tsutsumi, engineers/mixers; Colin Leonard, mastering engineer",
         "https://www.grammy.com/sites/com/files/styles/artist_circle/public/muzooka/H.E.R./H.E.R._1_1_1594631035.jpg?itok=ClJe-2MN",
         "True"
        ],
        [
         2019,
         "62nd Annual GRAMMY Awards  (2019)",
         "Record Of The Year",
         "Talk",
         "Khalid",
         "Disclosure & Denis Kosiak, producers; Ingmar Carlson, Jon Castelli, Josh Deguzman, John Kercy, Denis Kosiak, Guy Lawrence & Michael Romero, engineers/mixers; Dale Becker, mastering engineer",
         "https://www.grammy.com/sites/com/files/styles/artist_circle/public/muzooka/Khalid/Khalid_1_1_1594578772.jpg?itok=2HxjAT-X",
         "True"
        ],
        [
         2019,
         "62nd Annual GRAMMY Awards  (2019)",
         "Record Of The Year",
         "Old Town Road",
         "Lil Nas X Featuring Billy Ray Cyrus",
         "\"Andrew \"\"VoxGod\"\" Bolooki",
         " Jocelyn “Jozzy” Donald & YoungKio",
         " producers; Andrew \"\"VoxGod\"\" Bolooki"
        ],
        [
         2019,
         "62nd Annual GRAMMY Awards  (2019)",
         "Record Of The Year",
         "Truth Hurts",
         "Lizzo",
         "Ricky Reed & Tele, producers; Chris Galland, Manny Marroquin & Ethan Shumaker, engineers/mixers; Chris Gehringer, mastering engineer",
         "https://www.grammy.com/sites/com/files/styles/artist_circle/public/muzooka/Lizzo/Lizzo_1_1_1583931631.jpg?itok=Gm2FQx4s",
         "True"
        ],
        [
         2019,
         "62nd Annual GRAMMY Awards  (2019)",
         "Record Of The Year",
         "Sunflower",
         "Post Malone & Swae Lee",
         "Louis Bell & Carter Lang, producers; Louis Bell & Manny Marroquin, engineers/mixers; Mike Bozzi, mastering engineer",
         "https://www.grammy.com/sites/com/files/styles/artist_circle/public/muzooka/Post%2BMalone/Post%2520Malone_1_1_1594910341.jpg?itok=HCyRm13g",
         "True"
        ],
        [
         2018,
         "61st Annual GRAMMY Awards  (2018)",
         "Record Of The Year",
         "This Is America",
         "Childish Gambino",
         "\"Donald Glover & Ludwig Göransson, producers; Derek \"\"MixedByAli\"\" Ali",
         " Kesha Lee",
         " Riley Mackin"
        ],
        [
         2017,
         "60th Annual GRAMMY Awards  (2017)",
         "Record Of The Year",
         "24K Magic",
         "Bruno Mars",
         "Shampoo Press & Curl (Christopher Brody Brown, Philip Lawrence & Bruno Mars), producers; Serban Ghenea, John Hanes & Charles Moniz, engineers/mixers; Tom Coyne, mastering engineer",
         "https://www.grammy.com/sites/com/files/styles/artist_circle/public/muzooka/Bruno%2BMars/Bruno%2520Mars_1_1_1578385368.jpg?itok=KhxnacRR",
         "True"
        ],
        [
         2016,
         "59th Annual GRAMMY Awards  (2016)",
         "Record Of The Year",
         "Hello",
         "Adele",
         "Greg Kurstin, producer; Julian Burg, Tom Elmhirst, Emile Haynie, Greg Kurstin, Liam Nolan, Alex Pasco & Joe Visciano, engineers/mixers; Tom Coyne & Randy Merrill, mastering engineers",
         "https://www.grammy.com/sites/com/files/styles/artist_circle/public/muzooka/Adele/Adele_1_1_1584090130.jpg?itok=xlwW6t3a",
         "True"
        ],
        [
         2015,
         "58th Annual GRAMMY Awards  (2015)",
         "Record Of The Year",
         "Uptown Funk",
         "Mark Ronson Featuring Bruno Mars",
         "Jeff Bhasker, Philip Lawrence, Bruno Mars & Mark Ronson, producers; Josh Blair, Riccardo Damian, Serban Ghenea, Wayne Gordon, John Hanes, Inaam Haq, Boo Mitchell, Charles Moniz & Mark Ronson, engineers/mixers; Tom Coyne, mastering engineer",
         "https://www.grammy.com/sites/com/files/styles/artist_circle/public/muzooka/Mark%2BRonson/Mark%2520Ronson_1_1_1596790481.jpg?itok=s-dqiJed",
         "True"
        ],
        [
         2014,
         "57th Annual GRAMMY Awards  (2014)",
         "Record Of The Year",
         "Stay With Me (Darkchild Version)",
         "Sam Smith",
         "Steve Fitzmaurice, Rodney Jerkins & Jimmy Napes, producers; Matthew Champlin, Steve Fitzmaurice, Jimmy Napes & Steve Price, engineers/mixers; Tom Coyne, mastering engineer",
         "https://www.grammy.com/sites/com/files/styles/artist_circle/public/sam_smithrotycrop.jpg?itok=CbuVXG4s",
         "True"
        ],
        [
         2013,
         "56th Annual GRAMMY Awards  (2013)",
         "Record Of The Year",
         "Get Lucky",
         "Daft Punk Featuring Pharrell Williams & Nile Rodgers",
         "Thomas Bangalter & Guy-Manuel de Homem-Christo, producers; Peter Franco, Mick Guzauski, Florian Lagatta & Daniel Lerner, engineers/mixers; Antoine Chabert & Bob Ludwig, mastering engineers",
         "https://www.grammy.com/sites/com/files/styles/artist_circle/public/465384097_daft_punk_pharrell.jpg?itok=tZ0IzKSI",
         "True"
        ],
        [
         2012,
         "55th Annual GRAMMY Awards  (2012)",
         "Record Of The Year",
         "Somebody That I Used To Know",
         "Gotye Featuring Kimbra",
         "Wally De Backer, producer; Wally De Backer & Francois Tetaz, engineers/mixers; William Bowden, mastering engineer",
         "https://www.grammy.com/sites/com/files/styles/artist_circle/public/161396233_gotye_kimbra.jpg?itok=4_A2Llji",
         "True"
        ],
        [
         2011,
         "54th Annual GRAMMY Awards  (2011)",
         "Record Of The Year",
         "Rolling In The Deep",
         "Adele",
         "Paul Epworth, producer; Tom Elmhirst & Mark Rankin, engineers/mixers",
         "https://www.grammy.com/sites/com/files/styles/artist_circle/public/138850365_adele.jpg?itok=X8mml-Wk",
         "True"
        ],
        [
         2010,
         "53rd Annual GRAMMY Awards  (2010)",
         "Record Of The Year",
         "Need You Now",
         "Lady Antebellum",
         "Lady Antebellum (Dave Haywood, Charles Kelley & Hillary Scott) & Paul N. Worley, producers; L Clarke Schleicher, engineer/mixer",
         "https://www.grammy.com/sites/com/files/styles/artist_circle/public/109066913_lady_antebellum.jpg?itok=iFnOLjld",
         "True"
        ],
        [
         2009,
         "52nd Annual GRAMMY Awards  (2009)",
         "Record Of The Year",
         "Use Somebody",
         "Kings Of Leon",
         "Jacquire King & Angelo Petraglia, producers; Jacquire King, engineer/mixer",
         "https://www.grammy.com/sites/com/files/styles/artist_circle/public/96337451_kings_of_leon.jpg?itok=mjt6_DjR",
         "True"
        ],
        [
         2008,
         "51st Annual GRAMMY Awards  (2008)",
         "Record Of The Year",
         "Please Read The Letter",
         "Robert Plant & Alison Krauss",
         "T Bone Burnett, producer; Mike Piersante, engineer/mixer",
         "https://www.grammy.com/sites/com/files/styles/artist_circle/public/muzooka/Robert%2BPlant/Robert%2520Plant_1_1_1591112980.jpg?itok=6LLLbn4I",
         "True"
        ],
        [
         2007,
         "50th Annual GRAMMY Awards  (2007)",
         "Record Of The Year",
         "Rehab",
         "Amy Winehouse",
         "\"Mark Ronson, producer; Tom Elmhirst, Samuel \"\"Vaughan\"\" Merrick",
         " Dom Morley",
         " Mark Ronson & Gabriel Roth"
        ],
        [
         2006,
         "49th Annual GRAMMY Awards  (2006)",
         "Record Of The Year",
         "Not Ready To Make Nice",
         "Dixie Chicks",
         "Rick Rubin, producer; Richard Dodd, Jim Scott & Chris Testa, engineers/mixers",
         "https://www.grammy.com/sites/com/files/styles/artist_circle/public/muzooka/Dixie%2BChicks/Dixie%2520Chicks_1_1_1598343738.jpg?itok=YXj33PAV",
         "True"
        ],
        [
         2005,
         "48th Annual GRAMMY Awards  (2005)",
         "Record Of The Year",
         "Boulevard Of Broken Dreams",
         "Green Day",
         "Rob Cavallo & Green Day, producers; Chris Lord-Alge & Doug McKean, engineers/mixers",
         "https://www.grammy.com/sites/com/files/styles/artist_circle/public/muzooka/Green%2BDay/Green%2520Day_1_1_1578385279.jpg?itok=wr16YloS",
         "True"
        ],
        [
         2004,
         "47th Annual GRAMMY Awards  (2004)",
         "Record Of The Year",
         "Here We Go Again",
         "Ray Charles & Norah Jones",
         "John R. Burk, producer; Mark Fleming, Terry Howard & Al Schmitt, engineers/mixers",
         "https://www.grammy.com/sites/com/files/styles/artist_circle/public/ray_charles_spotlight_107293349.png?itok=57kc2vwB",
         "True"
        ],
        [
         2003,
         "46th Annual GRAMMY Awards  (2003)",
         "Record Of The Year",
         "Clocks",
         "Coldplay",
         "Coldplay & Ken Nelson, producers; Coldplay (Guy Berryman, Jon Buckland, Will Champion, Phil Harvey & Chris Martin), Ken Nelson & Mark Phythian, engineers/mixers",
         "https://www.grammy.com/sites/com/files/styles/artist_circle/public/muzooka/Coldplay/Coldplay_1_1_1591112967.jpg?itok=lLCPutNO",
         "True"
        ],
        [
         2002,
         "45th Annual GRAMMY Awards  (2002)",
         "Record Of The Year",
         "Don't Know Why",
         "Norah Jones",
         "Norah Jones, Arif Mardin & Jay Newland, producers; Jay Newland, engineer/mixer",
         "https://www.grammy.com/sites/com/files/styles/artist_circle/public/muzooka/Norah%2BJones/Norah%2520Jones_1_1_1588264654.jpg?itok=tpWJ31fa",
         "True"
        ],
        [
         2001,
         "44th Annual GRAMMY Awards  (2001)",
         "Record Of The Year",
         "Walk On",
         "U2",
         "Brian Eno & Daniel Lanois, producers; Steve Lillywhite & Richard Rainey, engineers/mixers",
         "https://www.grammy.com/sites/com/files/styles/artist_circle/public/muzooka/U2/U2_1_1_1578385236.jpg?itok=rQVhxxhL",
         "True"
        ],
        [
         2000,
         "43rd Annual GRAMMY Awards  (2000)",
         "Record Of The Year",
         "Beautiful Day",
         "U2",
         "Brian Eno & Daniel Lanois, producers; Steve Lillywhite & Richard Rainey, engineers/mixers",
         "https://www.grammy.com/sites/com/files/styles/artist_circle/public/muzooka/U2/U2_1_1_1578385236.jpg?itok=rQVhxxhL",
         "True"
        ],
        [
         1999,
         "42nd Annual GRAMMY Awards  (1999)",
         "Record Of The Year",
         "Smooth",
         "Santana Featuring Rob Thomas",
         "Matt Serletic, producer; David Thoener, engineer/mixer",
         "https://www.grammy.com/sites/com/files/styles/artist_circle/public/muzooka/Rob%2BThomas/Rob%2520Thomas_1_1_1575361007.jpg?itok=5bqO3DlV",
         "True"
        ],
        [
         1998,
         "41st Annual GRAMMY Awards  (1998)",
         "Record Of The Year",
         "My Heart Will Go On (Love Theme From Titanic)",
         "Celine Dion",
         "Walter Afanasieff, Simon Franglen & James Horner, producers; Simon Franglen, Humberto Gatica & David Gleeson, engineers/mixers",
         "https://www.grammy.com/sites/com/files/styles/artist_circle/public/muzooka/Celine%2BDion/C%25C3%25A9line%2520Dion_1_1_1579163253.jpg?itok=7lpsetr2",
         "True"
        ],
        [
         1997,
         "40th Annual GRAMMY Awards  (1997)",
         "Record Of The Year",
         "Sunny Came Home",
         "Shawn Colvin",
         "John Leventhal, producer",
         "https://www.grammy.com/sites/com/files/styles/artist_circle/public/muzooka/Shawn%2BColvin/Shawn%2520Colvin_1_1_1581551750.jpg?itok=1w7xoEU4",
         "True"
        ],
        [
         1996,
         "39th Annual GRAMMY Awards  (1996)",
         "Record Of The Year",
         "Change The World",
         "Eric Clapton",
         "Babyface, producer",
         "https://www.grammy.com/sites/com/files/styles/artist_circle/public/muzooka/Eric%2BClapton/Eric%2520Clapton_1_1_1581552257.jpg?itok=VS2OFNyf",
         "True"
        ],
        [
         1995,
         "38th Annual GRAMMY Awards  (1995)",
         "Record Of The Year",
         "Kiss From A Rose",
         "Seal",
         "Trevor Horn, producer",
         "https://www.grammy.com/sites/com/files/styles/artist_circle/public/muzooka/Seal/Seal_1_1_1575369703.jpg?itok=Vj2q-xvH",
         "True"
        ],
        [
         1994,
         "37th Annual GRAMMY Awards  (1994)",
         "Record Of The Year",
         "All I Wanna Do",
         "Sheryl Crow",
         "Bill Bottrell, producer",
         "https://www.grammy.com/sites/com/files/styles/artist_circle/public/muzooka/Sheryl%2BCrow/Sheryl%2520Crow_1_1_1597145423.jpg?itok=tvxHkBTZ",
         "True"
        ],
        [
         1993,
         "36th Annual GRAMMY Awards  (1993)",
         "Record Of The Year",
         "I Will Always Love You",
         "Whitney Houston",
         "David Foster, producer",
         "https://www.grammy.com/sites/com/files/styles/artist_circle/public/muzooka/Whitney%2BHouston/Whitney%2520Houston_1_1_1594980040.jpg?itok=LS4iD1jw",
         "True"
        ],
        [
         1992,
         "35th Annual GRAMMY Awards  (1992)",
         "Record Of The Year",
         "Tears In Heaven",
         "Eric Clapton",
         "Russ Titelman, producer",
         "https://www.grammy.com/sites/com/files/styles/artist_circle/public/muzooka/Eric%2BClapton/Eric%2520Clapton_1_1_1581552257.jpg?itok=VS2OFNyf",
         "True"
        ],
        [
         1991,
         "34th Annual GRAMMY Awards  (1991)",
         "Record Of The Year",
         "Unforgettable",
         "\"Natalie Cole (With Nat \"\"King\"\" Cole)\"",
         "David Foster, producer",
         "https://www.grammy.com/sites/com/files/styles/artist_circle/public/muzooka/Natalie%2BCole/Natalie%2520Cole_1_1_1591112950.jpg?itok=A9t_I3Ba",
         "True"
        ],
        [
         1990,
         "33rd Annual GRAMMY Awards  (1990)",
         "Record Of The Year",
         "Another Day In Paradise",
         "Phil Collins",
         "Phil Collins & Hugh Padgham, producers",
         "https://www.grammy.com/sites/com/files/styles/artist_circle/public/muzooka/Phil%2BCollins/Phil%2520Collins_1_1_1596706545.jpg?itok=MQR7SHdv",
         "True"
        ],
        [
         1989,
         "32nd Annual GRAMMY Awards  (1989)",
         "Record Of The Year",
         "Wind Beneath My Wings",
         "Bette Midler",
         "Arif Mardin, producer",
         "https://www.grammy.com/sites/com/files/styles/artist_circle/public/muzooka/Bette%2BMidler/Bette%2520Midler_1_1_1575359591.jpg?itok=7Wx-nTh_",
         "True"
        ],
        [
         1988,
         "31st Annual GRAMMY Awards  (1988)",
         "Record Of The Year",
         "Don't Worry Be Happy",
         "Bobby McFerrin",
         "Linda Goldstein, producer",
         "https://www.grammy.com/sites/com/files/styles/artist_circle/public/muzooka/Bobby%2BMcFerrin/Bobby%2520McFerrin_1_1_1575365223.jpg?itok=KTGGWtEl",
         "True"
        ],
        [
         1987,
         "30th Annual GRAMMY Awards  (1987)",
         "Record Of The Year",
         "Graceland",
         "Paul Simon",
         "Paul Simon, producer",
         "https://www.grammy.com/sites/com/files/styles/artist_circle/public/muzooka/Paul%2BSimon/Paul%2520Simon_1_1_1578385319.jpg?itok=H2xb3gsd",
         "True"
        ],
        [
         1986,
         "29th Annual GRAMMY Awards  (1986)",
         "Record Of The Year",
         "Higher Love",
         "Steve Winwood",
         "Russ Titelman & Steve Winwood, producers",
         "https://www.grammy.com/sites/com/files/styles/artist_circle/public/muzooka/Steve%2BWinwood/Steve%2520Winwood_1_1_1596799256.jpg?itok=Xc1PcPBM",
         "True"
        ],
        [
         1985,
         "28th Annual GRAMMY Awards  (1985)",
         "Record Of The Year",
         "We Are The World",
         "USA For Africa (Various Artists)",
         "Quincy Jones, producer",
         "https://www.grammy.com/sites/com/files/styles/artist_circle/public/muzooka/Quincy%2BJones/Quincy%2520Jones_1_1_1596789836.jpg?itok=54PdILuC",
         "True"
        ],
        [
         1984,
         "27th Annual GRAMMY Awards  (1984)",
         "Record Of The Year",
         "What's Love Got To Do With It",
         "Tina Turner",
         "Terry Britten, producer",
         "https://www.grammy.com/sites/com/files/styles/artist_circle/public/muzooka/Tina%2BTurner/Tina%2520Turner_1_1_1579278403.jpg?itok=vJ-mW-L4",
         "True"
        ],
        [
         1983,
         "26th Annual GRAMMY Awards  (1983)",
         "Record Of The Year",
         "Beat It",
         "Michael Jackson",
         "Michael Jackson & Quincy Jones, producers",
         "https://www.grammy.com/sites/com/files/styles/artist_circle/public/muzooka/Michael%2BJackson/Michael%2520Jackson_1_1_1584089273.jpg?itok=8N4Ineev",
         "True"
        ],
        [
         1982,
         "25th Annual GRAMMY Awards  (1982)",
         "Record Of The Year",
         "Rosanna",
         "Toto",
         "Toto (Bobby Kimball, Steve Lukather, David Paich, Jeff Porcaro, Michael Porcaro & Steve Porcaro), producers",
         "https://www.grammy.com/sites/com/files/styles/artist_circle/public/muzooka/Toto/Toto_1_1_1581552180.jpg?itok=zeWhOeO_",
         "True"
        ],
        [
         1981,
         "24th Annual GRAMMY Awards  (1981)",
         "Record Of The Year",
         "Bette Davis Eyes",
         "Kim Carnes",
         "Val Garay, producer",
         "https://www.grammy.com/sites/com/files/styles/artist_circle/public/muzooka/Kim%2BCarnes/Kim%2520Carnes_1_1_1596100249.jpg?itok=XJ1LYIra",
         "True"
        ],
        [
         1980,
         "23rd Annual GRAMMY Awards  (1980)",
         "Record Of The Year",
         "Sailing",
         "Christopher Cross",
         "Michael Omartian, producer",
         "https://www.grammy.com/sites/com/files/styles/artist_circle/public/muzooka/Christopher%2BCross/Christopher%2520Cross_1_1_1581554585.jpg?itok=sDilUxBw",
         "True"
        ],
        [
         1979,
         "22nd Annual GRAMMY Awards  (1979)",
         "Record Of The Year",
         "What A Fool Believes",
         "The Doobie Brothers",
         "Ted Templeman, producer",
         null,
         "True"
        ],
        [
         1978,
         "21st Annual GRAMMY Awards  (1978)",
         "Record Of The Year",
         "Just The Way You Are",
         "Billy Joel",
         "Phil Ramone, producer",
         "https://www.grammy.com/sites/com/files/styles/artist_circle/public/muzooka/Billy%2BJoel/Billy%2520Joel_1_1_1578384978.jpg?itok=QtM7Q8fq",
         "True"
        ],
        [
         1977,
         "20th Annual GRAMMY Awards  (1977)",
         "Record Of The Year",
         "Hotel California",
         "Eagles",
         "Bill Szymczyk, producer",
         "https://www.grammy.com/sites/com/files/styles/artist_circle/public/muzooka/Eagles/Eagles_1_1_1581552244.jpg?itok=0GyT6tV3",
         "True"
        ],
        [
         1976,
         "19th Annual GRAMMY Awards  (1976)",
         "Record Of The Year",
         "This Masquerade",
         "George Benson",
         "Tommy LiPuma, producer",
         "https://www.grammy.com/sites/com/files/styles/artist_circle/public/muzooka/George%2BBenson/George%2520Benson_1_1_1578385429.jpg?itok=bzpUiUCb",
         "True"
        ],
        [
         1975,
         "18th Annual GRAMMY Awards  (1975)",
         "Record Of The Year",
         "Love Will Keep Us Together",
         "Captain & Tennille",
         "Daryl Dragon, producer",
         null,
         "True"
        ],
        [
         1974,
         "17th Annual GRAMMY Awards  (1974)",
         "Record Of The Year",
         "I Honestly Love You",
         "Olivia Newton-John",
         "John Farrar, producer",
         "https://www.grammy.com/sites/com/files/styles/artist_circle/public/muzooka/Olivia%2BNewton-John/Olivia%2520Newton-John_1_1_1575370845.jpg?itok=SO4aU4ch",
         "True"
        ],
        [
         1973,
         "16th Annual GRAMMY Awards  (1973)",
         "Record Of The Year",
         "Killing Me Softly With His Song",
         "Roberta Flack",
         "Joel Dorn, producer",
         "https://www.grammy.com/sites/com/files/styles/artist_circle/public/muzooka/Roberta%2BFlack/Roberta%2520Flack_1_1_1575365614.jpg?itok=xIenBn49",
         "True"
        ],
        [
         1972,
         "15th Annual GRAMMY Awards  (1972)",
         "Record Of The Year",
         "The First Time Ever I Saw Your Face",
         "Roberta Flack",
         "Joel Dorn, producer",
         "https://www.grammy.com/sites/com/files/styles/artist_circle/public/muzooka/Roberta%2BFlack/Roberta%2520Flack_1_1_1575365614.jpg?itok=xIenBn49",
         "True"
        ],
        [
         1971,
         "14th Annual GRAMMY Awards  (1971)",
         "Record Of The Year",
         "It's Too Late",
         "Carole King",
         "Lou Adler, producer",
         "https://www.grammy.com/sites/com/files/styles/artist_circle/public/muzooka/Carole%2BKing/Carole%2520King_1_1_1578385473.jpg?itok=W5y3jRey",
         "True"
        ],
        [
         1970,
         "13th Annual GRAMMY Awards  (1970)",
         "Record Of The Year",
         "Bridge Over Troubled Water",
         "Simon And Garfunkel",
         "Roy Halee & Simon And Garfunkel (Art Garfunkel & Paul Simon), producers",
         null,
         "True"
        ],
        [
         1969,
         "12th Annual GRAMMY Awards  (1969)",
         "Record Of The Year",
         "Aquarius/Let The Sunshine In (The Flesh Failures)",
         "5th Dimension",
         "Bones Howe, producer",
         null,
         "True"
        ],
        [
         1968,
         "11th Annual GRAMMY Awards  (1968)",
         "Record Of The Year",
         "Mrs. Robinson",
         "Simon And Garfunkel",
         "Roy Halee & Simon And Garfunkel (Art Garfunkel & Paul Simon), producers",
         null,
         "True"
        ],
        [
         1967,
         "10th Annual GRAMMY Awards  (1967)",
         "Record Of The Year",
         "Up, Up And Away",
         "5th Dimension",
         "Marc Gordon & Johnny Rivers, producers",
         "https://www.grammy.com/sites/com/files/styles/artist_circle/public/muzooka/Marc%2BGordon/Marc%2520Gordon_1_1_1581629305.jpg?itok=4IiRmFSP",
         "True"
        ],
        [
         1966,
         "9th Annual GRAMMY Awards  (1966)",
         "Record Of The Year",
         "Strangers In The Night",
         "Frank Sinatra",
         "Jimmy Bowen, producer",
         "https://www.grammy.com/sites/com/files/styles/artist_circle/public/muzooka/Frank%2BSinatra/Frank%2520Sinatra_1_1_1581552147.jpg?itok=-iX5YZhY",
         "True"
        ],
        [
         1965,
         "8th Annual GRAMMY Awards  (1965)",
         "Record Of The Year",
         "A Taste Of Honey",
         "Herb Alpert And The Tijuana Brass",
         "Herb Alpert & Jerry Moss, producers",
         "https://www.grammy.com/sites/com/files/styles/artist_circle/public/muzooka/Herb%2BAlpert/Herb%2520Alpert_1_1_1581628867.jpg?itok=45UhbQPe",
         "True"
        ],
        [
         1964,
         "7th Annual GRAMMY Awards  (1964)",
         "Record Of The Year",
         "The Girl From Ipanema",
         "Stan Getz & Astrud Gilberto",
         null,
         "https://www.grammy.com/sites/com/files/styles/artist_circle/public/muzooka/Stan%2BGetz/Stan%2520Getz_1_1_1581618079.jpg?itok=1uHIRekD",
         "True"
        ],
        [
         1963,
         "6th Annual GRAMMY Awards  (1963)",
         "Record Of The Year",
         "Days Of Wine And Roses",
         "Henry Mancini",
         null,
         "https://www.grammy.com/sites/com/files/styles/artist_circle/public/muzooka/Henry%2BMancini/Henry%2520Mancini_1_1_1581553583.jpg?itok=oMIyl-mj",
         "True"
        ],
        [
         1962,
         "5th Annual GRAMMY Awards  (1962)",
         "Record Of The Year",
         "I Left My Heart In San Francisco",
         "Tony Bennett",
         null,
         "https://www.grammy.com/sites/com/files/styles/artist_circle/public/muzooka/Tony%2BBennett/Tony%2520Bennett_1_1_1584465343.jpg?itok=Zk2PcPhY",
         "True"
        ],
        [
         1961,
         "4th Annual GRAMMY Awards  (1961)",
         "Record Of The Year",
         "Moon River",
         "Henry Mancini",
         null,
         "https://www.grammy.com/sites/com/files/styles/artist_circle/public/muzooka/Henry%2BMancini/Henry%2520Mancini_1_1_1581553583.jpg?itok=oMIyl-mj",
         "True"
        ],
        [
         1960,
         "3rd Annual GRAMMY Awards  (1960)",
         "Record Of The Year",
         "The Theme From A Summer Place",
         "Percy Faith & His Orchestra",
         null,
         "https://www.grammy.com/sites/com/files/styles/artist_circle/public/muzooka/Percy%2BFaith/Percy%2520Faith_1_1_1597165242.jpg?itok=dFp-KK5i",
         "True"
        ],
        [
         1959,
         "2nd Annual GRAMMY Awards  (1959)",
         "Record Of The Year",
         "Mack The Knife",
         "Bobby Darin",
         null,
         "https://www.grammy.com/sites/com/files/styles/artist_circle/public/muzooka/Bobby%2BDarin/Bobby%2520Darin_1_1_1581560302.jpg?itok=wKmA3kxT",
         "True"
        ],
        [
         1958,
         "1st Annual GRAMMY Awards  (1958)",
         "Record Of The Year",
         "Nel Blu Dipinto Di Blu (Volare)",
         "Domenico Modugno",
         null,
         "https://www.grammy.com/sites/com/files/styles/artist_circle/public/muzooka/Domenico%2BModugno/Domenico%2520Modugno_1_1_1581618128.jpg?itok=1HYG0_R2",
         "True"
        ]
       ],
       "datasetInfos": [],
       "dbfsResultPath": null,
       "isJsonSchema": true,
       "metadata": {},
       "overflow": false,
       "plotOptions": {
        "customPlotOptions": {},
        "displayType": "table",
        "pivotAggregation": null,
        "pivotColumns": null,
        "xColumns": null,
        "yColumns": null
       },
       "removedWidgets": [],
       "schema": [
        {
         "metadata": "{}",
         "name": "year",
         "type": "\"integer\""
        },
        {
         "metadata": "{}",
         "name": "title",
         "type": "\"string\""
        },
        {
         "metadata": "{}",
         "name": "category",
         "type": "\"string\""
        },
        {
         "metadata": "{}",
         "name": "nominee",
         "type": "\"string\""
        },
        {
         "metadata": "{}",
         "name": "artist",
         "type": "\"string\""
        },
        {
         "metadata": "{}",
         "name": "workers",
         "type": "\"string\""
        },
        {
         "metadata": "{}",
         "name": "img",
         "type": "\"string\""
        },
        {
         "metadata": "{}",
         "name": "winner",
         "type": "\"string\""
        }
       ],
       "type": "table"
      }
     },
     "output_type": "display_data"
    }
   ],
   "source": [
    "%sql\n",
    "select *\n",
    "from `record_of_the_year`\n",
    "\n",
    "-- order by year"
   ]
  },
  {
   "cell_type": "code",
   "execution_count": 0,
   "metadata": {
    "application/vnd.databricks.v1+cell": {
     "cellMetadata": {
      "byteLimit": 2048000,
      "rowLimit": 10000
     },
     "inputWidgets": {},
     "nuid": "c186c588-0b74-41da-a39f-73e750e78e17",
     "showTitle": false,
     "title": ""
    }
   },
   "outputs": [
    {
     "output_type": "display_data",
     "data": {
      "text/html": [
       "<style scoped>\n",
       "  .table-result-container {\n",
       "    max-height: 300px;\n",
       "    overflow: auto;\n",
       "  }\n",
       "  table, th, td {\n",
       "    border: 1px solid black;\n",
       "    border-collapse: collapse;\n",
       "  }\n",
       "  th, td {\n",
       "    padding: 5px;\n",
       "  }\n",
       "  th {\n",
       "    text-align: left;\n",
       "  }\n",
       "</style><div class='table-result-container'><table class='table-result'><thead style='background-color: white'><tr><th>year</th><th>title</th><th>category</th><th>nominee</th><th>artist</th><th>winner</th></tr></thead><tbody><tr><td>2019</td><td>62nd Annual GRAMMY Awards  (2019)</td><td>Record Of The Year</td><td>Bad Guy</td><td>Billie Eilish</td><td>True</td></tr><tr><td>2019</td><td>62nd Annual GRAMMY Awards  (2019)</td><td>Record Of The Year</td><td>Hey, Ma</td><td>Bon Iver</td><td>True</td></tr><tr><td>2019</td><td>62nd Annual GRAMMY Awards  (2019)</td><td>Record Of The Year</td><td>7 rings</td><td>Ariana Grande</td><td>True</td></tr><tr><td>2019</td><td>62nd Annual GRAMMY Awards  (2019)</td><td>Record Of The Year</td><td>Hard Place</td><td>H.E.R.</td><td>True</td></tr><tr><td>2019</td><td>62nd Annual GRAMMY Awards  (2019)</td><td>Record Of The Year</td><td>Talk</td><td>Khalid</td><td>True</td></tr></tbody></table></div>"
      ]
     },
     "metadata": {
      "application/vnd.databricks.v1+output": {
       "addedWidgets": {},
       "aggData": [],
       "aggError": "",
       "aggOverflow": false,
       "aggSchema": [],
       "aggSeriesLimitReached": false,
       "aggType": "",
       "arguments": {},
       "columnCustomDisplayInfos": {},
       "data": [
        [
         "2019",
         "62nd Annual GRAMMY Awards  (2019)",
         "Record Of The Year",
         "Bad Guy",
         "Billie Eilish",
         "True"
        ],
        [
         "2019",
         "62nd Annual GRAMMY Awards  (2019)",
         "Record Of The Year",
         "Hey, Ma",
         "Bon Iver",
         "True"
        ],
        [
         "2019",
         "62nd Annual GRAMMY Awards  (2019)",
         "Record Of The Year",
         "7 rings",
         "Ariana Grande",
         "True"
        ],
        [
         "2019",
         "62nd Annual GRAMMY Awards  (2019)",
         "Record Of The Year",
         "Hard Place",
         "H.E.R.",
         "True"
        ],
        [
         "2019",
         "62nd Annual GRAMMY Awards  (2019)",
         "Record Of The Year",
         "Talk",
         "Khalid",
         "True"
        ]
       ],
       "datasetInfos": [],
       "dbfsResultPath": null,
       "isJsonSchema": true,
       "metadata": {},
       "overflow": false,
       "plotOptions": {
        "customPlotOptions": {},
        "displayType": "table",
        "pivotAggregation": null,
        "pivotColumns": null,
        "xColumns": null,
        "yColumns": null
       },
       "removedWidgets": [],
       "schema": [
        {
         "metadata": "{}",
         "name": "year",
         "type": "\"string\""
        },
        {
         "metadata": "{}",
         "name": "title",
         "type": "\"string\""
        },
        {
         "metadata": "{}",
         "name": "category",
         "type": "\"string\""
        },
        {
         "metadata": "{}",
         "name": "nominee",
         "type": "\"string\""
        },
        {
         "metadata": "{}",
         "name": "artist",
         "type": "\"string\""
        },
        {
         "metadata": "{}",
         "name": "winner",
         "type": "\"string\""
        }
       ],
       "type": "table"
      }
     },
     "output_type": "display_data"
    }
   ],
   "source": [
    "df_record = df.select('year','title','category','nominee','artist','winner').where(df.category == \"Record Of The Year\")\n",
    "display(df_record.head(5))\n",
    "\n",
    "## Why are all of the records winners?"
   ]
  },
  {
   "cell_type": "code",
   "execution_count": 0,
   "metadata": {
    "application/vnd.databricks.v1+cell": {
     "cellMetadata": {
      "byteLimit": 2048000,
      "rowLimit": 10000
     },
     "inputWidgets": {},
     "nuid": "44d4ae55-c65f-4e0e-960a-711b1158774b",
     "showTitle": false,
     "title": ""
    }
   },
   "outputs": [
    {
     "output_type": "stream",
     "name": "stdout",
     "output_type": "stream",
     "text": [
      "4810"
     ]
    }
   ],
   "source": [
    "# Size of the data set?\n",
    "display(df.count())"
   ]
  },
  {
   "cell_type": "code",
   "execution_count": 0,
   "metadata": {
    "application/vnd.databricks.v1+cell": {
     "cellMetadata": {},
     "inputWidgets": {},
     "nuid": "fcd9f56d-cb47-47ff-9bac-9c94b5b3a029",
     "showTitle": false,
     "title": ""
    }
   },
   "outputs": [],
   "source": [
    "# Let's try to get one of the lyrics to see if the Genius API works"
   ]
  }
 ],
 "metadata": {
  "application/vnd.databricks.v1+notebook": {
   "dashboards": [],
   "language": "python",
   "notebookMetadata": {
    "mostRecentlyExecutedCommandWithImplicitDF": {
     "commandId": 3774284500739446,
     "dataframes": [
      "_sqldf"
     ]
    },
    "pythonIndentUnit": 4
   },
   "notebookName": "Group F - Data Project",
   "widgets": {}
  }
 },
 "nbformat": 4,
 "nbformat_minor": 0
}
